{
 "cells": [
  {
   "cell_type": "code",
   "execution_count": 23,
   "id": "a20b9a19",
   "metadata": {},
   "outputs": [],
   "source": [
    "import pandas as pd \n",
    "import numpy as np \n",
    "import matplotlib.pyplot as plt \n",
    "import seaborn as sns \n",
    "import plotly.express as px"
   ]
  },
  {
   "cell_type": "code",
   "execution_count": 2,
   "id": "c6f4c2f6",
   "metadata": {},
   "outputs": [],
   "source": [
    "df1=pd.read_csv(\"Data 1.csv\")"
   ]
  },
  {
   "cell_type": "code",
   "execution_count": 6,
   "id": "081382f6",
   "metadata": {},
   "outputs": [
    {
     "data": {
      "text/html": [
       "<div>\n",
       "<style scoped>\n",
       "    .dataframe tbody tr th:only-of-type {\n",
       "        vertical-align: middle;\n",
       "    }\n",
       "\n",
       "    .dataframe tbody tr th {\n",
       "        vertical-align: top;\n",
       "    }\n",
       "\n",
       "    .dataframe thead th {\n",
       "        text-align: right;\n",
       "    }\n",
       "</style>\n",
       "<table border=\"1\" class=\"dataframe\">\n",
       "  <thead>\n",
       "    <tr style=\"text-align: right;\">\n",
       "      <th></th>\n",
       "      <th>event_time</th>\n",
       "      <th>event_type</th>\n",
       "      <th>product_id</th>\n",
       "      <th>category_id</th>\n",
       "      <th>category_code</th>\n",
       "      <th>brand</th>\n",
       "      <th>price</th>\n",
       "      <th>user_id</th>\n",
       "      <th>user_session</th>\n",
       "    </tr>\n",
       "  </thead>\n",
       "  <tbody>\n",
       "    <tr>\n",
       "      <th>0</th>\n",
       "      <td>2019-10-01 00:00:00 UTC</td>\n",
       "      <td>cart</td>\n",
       "      <td>5773203</td>\n",
       "      <td>1487580005134238553</td>\n",
       "      <td>NaN</td>\n",
       "      <td>runail</td>\n",
       "      <td>2.62</td>\n",
       "      <td>463240011</td>\n",
       "      <td>26dd6e6e-4dac-4778-8d2c-92e149dab885</td>\n",
       "    </tr>\n",
       "    <tr>\n",
       "      <th>1</th>\n",
       "      <td>2019-10-01 00:00:03 UTC</td>\n",
       "      <td>cart</td>\n",
       "      <td>5773353</td>\n",
       "      <td>1487580005134238553</td>\n",
       "      <td>NaN</td>\n",
       "      <td>runail</td>\n",
       "      <td>2.62</td>\n",
       "      <td>463240011</td>\n",
       "      <td>26dd6e6e-4dac-4778-8d2c-92e149dab885</td>\n",
       "    </tr>\n",
       "    <tr>\n",
       "      <th>2</th>\n",
       "      <td>2019-10-01 00:00:07 UTC</td>\n",
       "      <td>cart</td>\n",
       "      <td>5881589</td>\n",
       "      <td>2151191071051219817</td>\n",
       "      <td>NaN</td>\n",
       "      <td>lovely</td>\n",
       "      <td>13.48</td>\n",
       "      <td>429681830</td>\n",
       "      <td>49e8d843-adf3-428b-a2c3-fe8bc6a307c9</td>\n",
       "    </tr>\n",
       "    <tr>\n",
       "      <th>3</th>\n",
       "      <td>2019-10-01 00:00:07 UTC</td>\n",
       "      <td>cart</td>\n",
       "      <td>5723490</td>\n",
       "      <td>1487580005134238553</td>\n",
       "      <td>NaN</td>\n",
       "      <td>runail</td>\n",
       "      <td>2.62</td>\n",
       "      <td>463240011</td>\n",
       "      <td>26dd6e6e-4dac-4778-8d2c-92e149dab885</td>\n",
       "    </tr>\n",
       "    <tr>\n",
       "      <th>4</th>\n",
       "      <td>2019-10-01 00:00:15 UTC</td>\n",
       "      <td>cart</td>\n",
       "      <td>5881449</td>\n",
       "      <td>1487580013522845895</td>\n",
       "      <td>NaN</td>\n",
       "      <td>lovely</td>\n",
       "      <td>0.56</td>\n",
       "      <td>429681830</td>\n",
       "      <td>49e8d843-adf3-428b-a2c3-fe8bc6a307c9</td>\n",
       "    </tr>\n",
       "  </tbody>\n",
       "</table>\n",
       "</div>"
      ],
      "text/plain": [
       "                event_time event_type  product_id          category_id  \\\n",
       "0  2019-10-01 00:00:00 UTC       cart     5773203  1487580005134238553   \n",
       "1  2019-10-01 00:00:03 UTC       cart     5773353  1487580005134238553   \n",
       "2  2019-10-01 00:00:07 UTC       cart     5881589  2151191071051219817   \n",
       "3  2019-10-01 00:00:07 UTC       cart     5723490  1487580005134238553   \n",
       "4  2019-10-01 00:00:15 UTC       cart     5881449  1487580013522845895   \n",
       "\n",
       "  category_code   brand  price    user_id  \\\n",
       "0           NaN  runail   2.62  463240011   \n",
       "1           NaN  runail   2.62  463240011   \n",
       "2           NaN  lovely  13.48  429681830   \n",
       "3           NaN  runail   2.62  463240011   \n",
       "4           NaN  lovely   0.56  429681830   \n",
       "\n",
       "                           user_session  \n",
       "0  26dd6e6e-4dac-4778-8d2c-92e149dab885  \n",
       "1  26dd6e6e-4dac-4778-8d2c-92e149dab885  \n",
       "2  49e8d843-adf3-428b-a2c3-fe8bc6a307c9  \n",
       "3  26dd6e6e-4dac-4778-8d2c-92e149dab885  \n",
       "4  49e8d843-adf3-428b-a2c3-fe8bc6a307c9  "
      ]
     },
     "execution_count": 6,
     "metadata": {},
     "output_type": "execute_result"
    }
   ],
   "source": [
    "df1.head(5)"
   ]
  },
  {
   "cell_type": "code",
   "execution_count": 12,
   "id": "bde9ab6f",
   "metadata": {},
   "outputs": [],
   "source": [
    "df1.drop_duplicates(inplace=True)"
   ]
  },
  {
   "cell_type": "code",
   "execution_count": 13,
   "id": "bb66a65c",
   "metadata": {},
   "outputs": [
    {
     "data": {
      "text/plain": [
       "550388516    3087\n",
       "510369366    2832\n",
       "541975884    2158\n",
       "494539592    1981\n",
       "480237908    1944\n",
       "             ... \n",
       "557308983       1\n",
       "473199483       1\n",
       "560037667       1\n",
       "386918036       1\n",
       "566280798       1\n",
       "Name: user_id, Length: 399664, dtype: int64"
      ]
     },
     "execution_count": 13,
     "metadata": {},
     "output_type": "execute_result"
    }
   ],
   "source": [
    "df1['user_id'].value_counts()"
   ]
  },
  {
   "cell_type": "code",
   "execution_count": 14,
   "id": "7af950b9",
   "metadata": {},
   "outputs": [],
   "source": [
    "df2.drop_duplicates(inplace=True)"
   ]
  },
  {
   "cell_type": "code",
   "execution_count": 15,
   "id": "65a8f2f0",
   "metadata": {},
   "outputs": [
    {
     "data": {
      "text/plain": [
       "527021202    11458\n",
       "550388516     4181\n",
       "500179293     2732\n",
       "552908674     2637\n",
       "467810091     2572\n",
       "             ...  \n",
       "503772826        1\n",
       "571543707        1\n",
       "515208663        1\n",
       "571544473        1\n",
       "579969854        1\n",
       "Name: user_id, Length: 368232, dtype: int64"
      ]
     },
     "execution_count": 15,
     "metadata": {},
     "output_type": "execute_result"
    }
   ],
   "source": [
    "df2['user_id'].value_counts()"
   ]
  },
  {
   "cell_type": "code",
   "execution_count": 7,
   "id": "063d2c29",
   "metadata": {},
   "outputs": [
    {
     "data": {
      "text/html": [
       "<div>\n",
       "<style scoped>\n",
       "    .dataframe tbody tr th:only-of-type {\n",
       "        vertical-align: middle;\n",
       "    }\n",
       "\n",
       "    .dataframe tbody tr th {\n",
       "        vertical-align: top;\n",
       "    }\n",
       "\n",
       "    .dataframe thead th {\n",
       "        text-align: right;\n",
       "    }\n",
       "</style>\n",
       "<table border=\"1\" class=\"dataframe\">\n",
       "  <thead>\n",
       "    <tr style=\"text-align: right;\">\n",
       "      <th></th>\n",
       "      <th>product_id</th>\n",
       "      <th>category_id</th>\n",
       "      <th>price</th>\n",
       "      <th>user_id</th>\n",
       "    </tr>\n",
       "  </thead>\n",
       "  <tbody>\n",
       "    <tr>\n",
       "      <th>count</th>\n",
       "      <td>4.102283e+06</td>\n",
       "      <td>4.102283e+06</td>\n",
       "      <td>4.102283e+06</td>\n",
       "      <td>4.102283e+06</td>\n",
       "    </tr>\n",
       "    <tr>\n",
       "      <th>mean</th>\n",
       "      <td>5.468464e+06</td>\n",
       "      <td>1.545652e+18</td>\n",
       "      <td>8.534920e+00</td>\n",
       "      <td>5.013416e+08</td>\n",
       "    </tr>\n",
       "    <tr>\n",
       "      <th>std</th>\n",
       "      <td>1.321863e+06</td>\n",
       "      <td>1.563666e+17</td>\n",
       "      <td>1.913315e+01</td>\n",
       "      <td>8.171257e+07</td>\n",
       "    </tr>\n",
       "    <tr>\n",
       "      <th>min</th>\n",
       "      <td>3.752000e+03</td>\n",
       "      <td>1.487580e+18</td>\n",
       "      <td>-7.937000e+01</td>\n",
       "      <td>4.103071e+06</td>\n",
       "    </tr>\n",
       "    <tr>\n",
       "      <th>25%</th>\n",
       "      <td>5.723489e+06</td>\n",
       "      <td>1.487580e+18</td>\n",
       "      <td>2.140000e+00</td>\n",
       "      <td>4.692921e+08</td>\n",
       "    </tr>\n",
       "    <tr>\n",
       "      <th>50%</th>\n",
       "      <td>5.809115e+06</td>\n",
       "      <td>1.487580e+18</td>\n",
       "      <td>4.110000e+00</td>\n",
       "      <td>5.389695e+08</td>\n",
       "    </tr>\n",
       "    <tr>\n",
       "      <th>75%</th>\n",
       "      <td>5.850322e+06</td>\n",
       "      <td>1.487580e+18</td>\n",
       "      <td>7.140000e+00</td>\n",
       "      <td>5.575029e+08</td>\n",
       "    </tr>\n",
       "    <tr>\n",
       "      <th>max</th>\n",
       "      <td>5.900470e+06</td>\n",
       "      <td>2.195085e+18</td>\n",
       "      <td>3.076000e+02</td>\n",
       "      <td>5.662808e+08</td>\n",
       "    </tr>\n",
       "  </tbody>\n",
       "</table>\n",
       "</div>"
      ],
      "text/plain": [
       "         product_id   category_id         price       user_id\n",
       "count  4.102283e+06  4.102283e+06  4.102283e+06  4.102283e+06\n",
       "mean   5.468464e+06  1.545652e+18  8.534920e+00  5.013416e+08\n",
       "std    1.321863e+06  1.563666e+17  1.913315e+01  8.171257e+07\n",
       "min    3.752000e+03  1.487580e+18 -7.937000e+01  4.103071e+06\n",
       "25%    5.723489e+06  1.487580e+18  2.140000e+00  4.692921e+08\n",
       "50%    5.809115e+06  1.487580e+18  4.110000e+00  5.389695e+08\n",
       "75%    5.850322e+06  1.487580e+18  7.140000e+00  5.575029e+08\n",
       "max    5.900470e+06  2.195085e+18  3.076000e+02  5.662808e+08"
      ]
     },
     "execution_count": 7,
     "metadata": {},
     "output_type": "execute_result"
    }
   ],
   "source": [
    "df1.describe()"
   ]
  },
  {
   "cell_type": "code",
   "execution_count": 3,
   "id": "0d6fab4f",
   "metadata": {},
   "outputs": [],
   "source": [
    "df2=pd.read_csv(\"Data 2.csv\")"
   ]
  },
  {
   "cell_type": "code",
   "execution_count": 4,
   "id": "dfa9af7c",
   "metadata": {},
   "outputs": [
    {
     "data": {
      "text/html": [
       "<div>\n",
       "<style scoped>\n",
       "    .dataframe tbody tr th:only-of-type {\n",
       "        vertical-align: middle;\n",
       "    }\n",
       "\n",
       "    .dataframe tbody tr th {\n",
       "        vertical-align: top;\n",
       "    }\n",
       "\n",
       "    .dataframe thead th {\n",
       "        text-align: right;\n",
       "    }\n",
       "</style>\n",
       "<table border=\"1\" class=\"dataframe\">\n",
       "  <thead>\n",
       "    <tr style=\"text-align: right;\">\n",
       "      <th></th>\n",
       "      <th>event_time</th>\n",
       "      <th>event_type</th>\n",
       "      <th>product_id</th>\n",
       "      <th>category_id</th>\n",
       "      <th>category_code</th>\n",
       "      <th>brand</th>\n",
       "      <th>price</th>\n",
       "      <th>user_id</th>\n",
       "      <th>user_session</th>\n",
       "    </tr>\n",
       "  </thead>\n",
       "  <tbody>\n",
       "    <tr>\n",
       "      <th>0</th>\n",
       "      <td>2019-11-01 00:00:02 UTC</td>\n",
       "      <td>view</td>\n",
       "      <td>5802432</td>\n",
       "      <td>1487580009286598681</td>\n",
       "      <td>NaN</td>\n",
       "      <td>NaN</td>\n",
       "      <td>0.32</td>\n",
       "      <td>562076640</td>\n",
       "      <td>09fafd6c-6c99-46b1-834f-33527f4de241</td>\n",
       "    </tr>\n",
       "    <tr>\n",
       "      <th>1</th>\n",
       "      <td>2019-11-01 00:00:09 UTC</td>\n",
       "      <td>cart</td>\n",
       "      <td>5844397</td>\n",
       "      <td>1487580006317032337</td>\n",
       "      <td>NaN</td>\n",
       "      <td>NaN</td>\n",
       "      <td>2.38</td>\n",
       "      <td>553329724</td>\n",
       "      <td>2067216c-31b5-455d-a1cc-af0575a34ffb</td>\n",
       "    </tr>\n",
       "    <tr>\n",
       "      <th>2</th>\n",
       "      <td>2019-11-01 00:00:10 UTC</td>\n",
       "      <td>view</td>\n",
       "      <td>5837166</td>\n",
       "      <td>1783999064103190764</td>\n",
       "      <td>NaN</td>\n",
       "      <td>pnb</td>\n",
       "      <td>22.22</td>\n",
       "      <td>556138645</td>\n",
       "      <td>57ed222e-a54a-4907-9944-5a875c2d7f4f</td>\n",
       "    </tr>\n",
       "    <tr>\n",
       "      <th>3</th>\n",
       "      <td>2019-11-01 00:00:11 UTC</td>\n",
       "      <td>cart</td>\n",
       "      <td>5876812</td>\n",
       "      <td>1487580010100293687</td>\n",
       "      <td>NaN</td>\n",
       "      <td>jessnail</td>\n",
       "      <td>3.16</td>\n",
       "      <td>564506666</td>\n",
       "      <td>186c1951-8052-4b37-adce-dd9644b1d5f7</td>\n",
       "    </tr>\n",
       "    <tr>\n",
       "      <th>4</th>\n",
       "      <td>2019-11-01 00:00:24 UTC</td>\n",
       "      <td>remove_from_cart</td>\n",
       "      <td>5826182</td>\n",
       "      <td>1487580007483048900</td>\n",
       "      <td>NaN</td>\n",
       "      <td>NaN</td>\n",
       "      <td>3.33</td>\n",
       "      <td>553329724</td>\n",
       "      <td>2067216c-31b5-455d-a1cc-af0575a34ffb</td>\n",
       "    </tr>\n",
       "  </tbody>\n",
       "</table>\n",
       "</div>"
      ],
      "text/plain": [
       "                event_time        event_type  product_id          category_id  \\\n",
       "0  2019-11-01 00:00:02 UTC              view     5802432  1487580009286598681   \n",
       "1  2019-11-01 00:00:09 UTC              cart     5844397  1487580006317032337   \n",
       "2  2019-11-01 00:00:10 UTC              view     5837166  1783999064103190764   \n",
       "3  2019-11-01 00:00:11 UTC              cart     5876812  1487580010100293687   \n",
       "4  2019-11-01 00:00:24 UTC  remove_from_cart     5826182  1487580007483048900   \n",
       "\n",
       "  category_code     brand  price    user_id  \\\n",
       "0           NaN       NaN   0.32  562076640   \n",
       "1           NaN       NaN   2.38  553329724   \n",
       "2           NaN       pnb  22.22  556138645   \n",
       "3           NaN  jessnail   3.16  564506666   \n",
       "4           NaN       NaN   3.33  553329724   \n",
       "\n",
       "                           user_session  \n",
       "0  09fafd6c-6c99-46b1-834f-33527f4de241  \n",
       "1  2067216c-31b5-455d-a1cc-af0575a34ffb  \n",
       "2  57ed222e-a54a-4907-9944-5a875c2d7f4f  \n",
       "3  186c1951-8052-4b37-adce-dd9644b1d5f7  \n",
       "4  2067216c-31b5-455d-a1cc-af0575a34ffb  "
      ]
     },
     "execution_count": 4,
     "metadata": {},
     "output_type": "execute_result"
    }
   ],
   "source": [
    "df2.head(5)"
   ]
  },
  {
   "cell_type": "code",
   "execution_count": 7,
   "id": "f9da6daf",
   "metadata": {},
   "outputs": [
    {
     "data": {
      "text/html": [
       "<div>\n",
       "<style scoped>\n",
       "    .dataframe tbody tr th:only-of-type {\n",
       "        vertical-align: middle;\n",
       "    }\n",
       "\n",
       "    .dataframe tbody tr th {\n",
       "        vertical-align: top;\n",
       "    }\n",
       "\n",
       "    .dataframe thead th {\n",
       "        text-align: right;\n",
       "    }\n",
       "</style>\n",
       "<table border=\"1\" class=\"dataframe\">\n",
       "  <thead>\n",
       "    <tr style=\"text-align: right;\">\n",
       "      <th></th>\n",
       "      <th>product_id</th>\n",
       "      <th>category_id</th>\n",
       "      <th>price</th>\n",
       "      <th>user_id</th>\n",
       "    </tr>\n",
       "  </thead>\n",
       "  <tbody>\n",
       "    <tr>\n",
       "      <th>count</th>\n",
       "      <td>4.635837e+06</td>\n",
       "      <td>4.635837e+06</td>\n",
       "      <td>4.635837e+06</td>\n",
       "      <td>4.635837e+06</td>\n",
       "    </tr>\n",
       "    <tr>\n",
       "      <th>mean</th>\n",
       "      <td>5.481406e+06</td>\n",
       "      <td>1.550049e+18</td>\n",
       "      <td>8.120701e+00</td>\n",
       "      <td>5.068070e+08</td>\n",
       "    </tr>\n",
       "    <tr>\n",
       "      <th>std</th>\n",
       "      <td>1.305582e+06</td>\n",
       "      <td>1.642371e+17</td>\n",
       "      <td>1.879197e+01</td>\n",
       "      <td>8.504375e+07</td>\n",
       "    </tr>\n",
       "    <tr>\n",
       "      <th>min</th>\n",
       "      <td>3.752000e+03</td>\n",
       "      <td>1.487580e+18</td>\n",
       "      <td>-7.937000e+01</td>\n",
       "      <td>1.120748e+06</td>\n",
       "    </tr>\n",
       "    <tr>\n",
       "      <th>25%</th>\n",
       "      <td>5.723529e+06</td>\n",
       "      <td>1.487580e+18</td>\n",
       "      <td>1.940000e+00</td>\n",
       "      <td>4.698573e+08</td>\n",
       "    </tr>\n",
       "    <tr>\n",
       "      <th>50%</th>\n",
       "      <td>5.810145e+06</td>\n",
       "      <td>1.487580e+18</td>\n",
       "      <td>3.970000e+00</td>\n",
       "      <td>5.421750e+08</td>\n",
       "    </tr>\n",
       "    <tr>\n",
       "      <th>75%</th>\n",
       "      <td>5.856186e+06</td>\n",
       "      <td>1.487580e+18</td>\n",
       "      <td>6.350000e+00</td>\n",
       "      <td>5.680491e+08</td>\n",
       "    </tr>\n",
       "    <tr>\n",
       "      <th>max</th>\n",
       "      <td>5.909246e+06</td>\n",
       "      <td>2.195085e+18</td>\n",
       "      <td>3.277800e+02</td>\n",
       "      <td>5.799699e+08</td>\n",
       "    </tr>\n",
       "  </tbody>\n",
       "</table>\n",
       "</div>"
      ],
      "text/plain": [
       "         product_id   category_id         price       user_id\n",
       "count  4.635837e+06  4.635837e+06  4.635837e+06  4.635837e+06\n",
       "mean   5.481406e+06  1.550049e+18  8.120701e+00  5.068070e+08\n",
       "std    1.305582e+06  1.642371e+17  1.879197e+01  8.504375e+07\n",
       "min    3.752000e+03  1.487580e+18 -7.937000e+01  1.120748e+06\n",
       "25%    5.723529e+06  1.487580e+18  1.940000e+00  4.698573e+08\n",
       "50%    5.810145e+06  1.487580e+18  3.970000e+00  5.421750e+08\n",
       "75%    5.856186e+06  1.487580e+18  6.350000e+00  5.680491e+08\n",
       "max    5.909246e+06  2.195085e+18  3.277800e+02  5.799699e+08"
      ]
     },
     "execution_count": 7,
     "metadata": {},
     "output_type": "execute_result"
    }
   ],
   "source": [
    "df2.describe()"
   ]
  },
  {
   "cell_type": "code",
   "execution_count": 8,
   "id": "be0d8f4f",
   "metadata": {},
   "outputs": [
    {
     "data": {
      "text/plain": [
       "213155"
      ]
     },
     "execution_count": 8,
     "metadata": {},
     "output_type": "execute_result"
    }
   ],
   "source": [
    "df.duplicated().sum()"
   ]
  },
  {
   "cell_type": "code",
   "execution_count": 9,
   "id": "56f0ab34",
   "metadata": {},
   "outputs": [
    {
     "data": {
      "text/plain": [
       "246693"
      ]
     },
     "execution_count": 9,
     "metadata": {},
     "output_type": "execute_result"
    }
   ],
   "source": [
    "df2.duplicated().sum()"
   ]
  },
  {
   "cell_type": "code",
   "execution_count": 10,
   "id": "e187b404",
   "metadata": {},
   "outputs": [
    {
     "data": {
      "text/plain": [
       "event_time             0\n",
       "event_type             0\n",
       "product_id             0\n",
       "category_id            0\n",
       "category_code    4034806\n",
       "brand            1659261\n",
       "price                  0\n",
       "user_id                0\n",
       "user_session         637\n",
       "dtype: int64"
      ]
     },
     "execution_count": 10,
     "metadata": {},
     "output_type": "execute_result"
    }
   ],
   "source": [
    "df.isna().sum()"
   ]
  },
  {
   "cell_type": "code",
   "execution_count": 11,
   "id": "494731d8",
   "metadata": {},
   "outputs": [
    {
     "data": {
      "text/plain": [
       "event_time       0.000000\n",
       "event_type       0.000000\n",
       "product_id       0.000000\n",
       "category_id      0.000000\n",
       "category_code    0.983551\n",
       "brand            0.404473\n",
       "price            0.000000\n",
       "user_id          0.000000\n",
       "user_session     0.000155\n",
       "dtype: float64"
      ]
     },
     "execution_count": 11,
     "metadata": {},
     "output_type": "execute_result"
    }
   ],
   "source": [
    "df.isna().sum()/len(df)"
   ]
  },
  {
   "cell_type": "code",
   "execution_count": 12,
   "id": "83e129a3",
   "metadata": {},
   "outputs": [
    {
     "data": {
      "text/plain": [
       "event_time             0\n",
       "event_type             0\n",
       "product_id             0\n",
       "category_id            0\n",
       "category_code    4560089\n",
       "brand            1986029\n",
       "price                  0\n",
       "user_id                0\n",
       "user_session         813\n",
       "dtype: int64"
      ]
     },
     "execution_count": 12,
     "metadata": {},
     "output_type": "execute_result"
    }
   ],
   "source": [
    "df2.isna().sum()"
   ]
  },
  {
   "cell_type": "code",
   "execution_count": 13,
   "id": "84bc7f12",
   "metadata": {},
   "outputs": [
    {
     "data": {
      "text/plain": [
       "event_time       0.000000\n",
       "event_type       0.000000\n",
       "product_id       0.000000\n",
       "category_id      0.000000\n",
       "category_code    1.111598\n",
       "brand            0.484128\n",
       "price            0.000000\n",
       "user_id          0.000000\n",
       "user_session     0.000198\n",
       "dtype: float64"
      ]
     },
     "execution_count": 13,
     "metadata": {},
     "output_type": "execute_result"
    }
   ],
   "source": [
    "df2.isna().sum()/len(df)"
   ]
  },
  {
   "cell_type": "code",
   "execution_count": 5,
   "id": "dda8c3b5",
   "metadata": {},
   "outputs": [],
   "source": [
    "merged_df = pd.merge(df1, df2, on=['event_time', 'event_type', 'product_id', 'category_id',\n",
    "                                       'category_code', 'brand', 'price', 'user_id', 'user_session'], how='outer')"
   ]
  },
  {
   "cell_type": "code",
   "execution_count": 6,
   "id": "69c0cc29",
   "metadata": {},
   "outputs": [],
   "source": [
    "df=merged_df.copy()"
   ]
  },
  {
   "cell_type": "code",
   "execution_count": 24,
   "id": "670ada6d",
   "metadata": {},
   "outputs": [
    {
     "data": {
      "text/html": [
       "<div>\n",
       "<style scoped>\n",
       "    .dataframe tbody tr th:only-of-type {\n",
       "        vertical-align: middle;\n",
       "    }\n",
       "\n",
       "    .dataframe tbody tr th {\n",
       "        vertical-align: top;\n",
       "    }\n",
       "\n",
       "    .dataframe thead th {\n",
       "        text-align: right;\n",
       "    }\n",
       "</style>\n",
       "<table border=\"1\" class=\"dataframe\">\n",
       "  <thead>\n",
       "    <tr style=\"text-align: right;\">\n",
       "      <th></th>\n",
       "      <th>event_time</th>\n",
       "      <th>event_type</th>\n",
       "      <th>product_id</th>\n",
       "      <th>category_id</th>\n",
       "      <th>category_code</th>\n",
       "      <th>brand</th>\n",
       "      <th>price</th>\n",
       "      <th>user_id</th>\n",
       "      <th>user_session</th>\n",
       "    </tr>\n",
       "  </thead>\n",
       "  <tbody>\n",
       "    <tr>\n",
       "      <th>0</th>\n",
       "      <td>2019-10-01 00:00:00 UTC</td>\n",
       "      <td>cart</td>\n",
       "      <td>5773203</td>\n",
       "      <td>1487580005134238553</td>\n",
       "      <td>NaN</td>\n",
       "      <td>runail</td>\n",
       "      <td>2.62</td>\n",
       "      <td>463240011</td>\n",
       "      <td>26dd6e6e-4dac-4778-8d2c-92e149dab885</td>\n",
       "    </tr>\n",
       "    <tr>\n",
       "      <th>1</th>\n",
       "      <td>2019-10-01 00:00:03 UTC</td>\n",
       "      <td>cart</td>\n",
       "      <td>5773353</td>\n",
       "      <td>1487580005134238553</td>\n",
       "      <td>NaN</td>\n",
       "      <td>runail</td>\n",
       "      <td>2.62</td>\n",
       "      <td>463240011</td>\n",
       "      <td>26dd6e6e-4dac-4778-8d2c-92e149dab885</td>\n",
       "    </tr>\n",
       "    <tr>\n",
       "      <th>2</th>\n",
       "      <td>2019-10-01 00:00:07 UTC</td>\n",
       "      <td>cart</td>\n",
       "      <td>5881589</td>\n",
       "      <td>2151191071051219817</td>\n",
       "      <td>NaN</td>\n",
       "      <td>lovely</td>\n",
       "      <td>13.48</td>\n",
       "      <td>429681830</td>\n",
       "      <td>49e8d843-adf3-428b-a2c3-fe8bc6a307c9</td>\n",
       "    </tr>\n",
       "    <tr>\n",
       "      <th>3</th>\n",
       "      <td>2019-10-01 00:00:07 UTC</td>\n",
       "      <td>cart</td>\n",
       "      <td>5723490</td>\n",
       "      <td>1487580005134238553</td>\n",
       "      <td>NaN</td>\n",
       "      <td>runail</td>\n",
       "      <td>2.62</td>\n",
       "      <td>463240011</td>\n",
       "      <td>26dd6e6e-4dac-4778-8d2c-92e149dab885</td>\n",
       "    </tr>\n",
       "    <tr>\n",
       "      <th>4</th>\n",
       "      <td>2019-10-01 00:00:15 UTC</td>\n",
       "      <td>cart</td>\n",
       "      <td>5881449</td>\n",
       "      <td>1487580013522845895</td>\n",
       "      <td>NaN</td>\n",
       "      <td>lovely</td>\n",
       "      <td>0.56</td>\n",
       "      <td>429681830</td>\n",
       "      <td>49e8d843-adf3-428b-a2c3-fe8bc6a307c9</td>\n",
       "    </tr>\n",
       "    <tr>\n",
       "      <th>...</th>\n",
       "      <td>...</td>\n",
       "      <td>...</td>\n",
       "      <td>...</td>\n",
       "      <td>...</td>\n",
       "      <td>...</td>\n",
       "      <td>...</td>\n",
       "      <td>...</td>\n",
       "      <td>...</td>\n",
       "      <td>...</td>\n",
       "    </tr>\n",
       "    <tr>\n",
       "      <th>8738115</th>\n",
       "      <td>2019-11-30 23:59:46 UTC</td>\n",
       "      <td>view</td>\n",
       "      <td>5830317</td>\n",
       "      <td>1487580009496313889</td>\n",
       "      <td>NaN</td>\n",
       "      <td>NaN</td>\n",
       "      <td>4.76</td>\n",
       "      <td>457678989</td>\n",
       "      <td>ee50b160-a4db-4722-8751-6812c5b38295</td>\n",
       "    </tr>\n",
       "    <tr>\n",
       "      <th>8738116</th>\n",
       "      <td>2019-11-30 23:59:47 UTC</td>\n",
       "      <td>view</td>\n",
       "      <td>5733064</td>\n",
       "      <td>1487580004832248652</td>\n",
       "      <td>NaN</td>\n",
       "      <td>beautix</td>\n",
       "      <td>9.37</td>\n",
       "      <td>422196217</td>\n",
       "      <td>ab5e6dd5-8700-4ecc-a300-9f1eca5d1a95</td>\n",
       "    </tr>\n",
       "    <tr>\n",
       "      <th>8738117</th>\n",
       "      <td>2019-11-30 23:59:47 UTC</td>\n",
       "      <td>view</td>\n",
       "      <td>5867785</td>\n",
       "      <td>1487580007835370453</td>\n",
       "      <td>NaN</td>\n",
       "      <td>kims</td>\n",
       "      <td>31.10</td>\n",
       "      <td>572579084</td>\n",
       "      <td>d42865b7-7e04-4038-9be0-a59165625f06</td>\n",
       "    </tr>\n",
       "    <tr>\n",
       "      <th>8738118</th>\n",
       "      <td>2019-11-30 23:59:57 UTC</td>\n",
       "      <td>view</td>\n",
       "      <td>5779406</td>\n",
       "      <td>2151191071051219817</td>\n",
       "      <td>NaN</td>\n",
       "      <td>NaN</td>\n",
       "      <td>2.86</td>\n",
       "      <td>540006764</td>\n",
       "      <td>d4b5aa49-d731-40f1-92f1-277416d6e063</td>\n",
       "    </tr>\n",
       "    <tr>\n",
       "      <th>8738119</th>\n",
       "      <td>2019-11-30 23:59:58 UTC</td>\n",
       "      <td>view</td>\n",
       "      <td>5880201</td>\n",
       "      <td>2029731308699124089</td>\n",
       "      <td>NaN</td>\n",
       "      <td>rasyan</td>\n",
       "      <td>3.76</td>\n",
       "      <td>579969854</td>\n",
       "      <td>e9fa2c3e-8c9e-448c-880a-21ca57c18b3b</td>\n",
       "    </tr>\n",
       "  </tbody>\n",
       "</table>\n",
       "<p>8738120 rows × 9 columns</p>\n",
       "</div>"
      ],
      "text/plain": [
       "                      event_time event_type  product_id          category_id  \\\n",
       "0        2019-10-01 00:00:00 UTC       cart     5773203  1487580005134238553   \n",
       "1        2019-10-01 00:00:03 UTC       cart     5773353  1487580005134238553   \n",
       "2        2019-10-01 00:00:07 UTC       cart     5881589  2151191071051219817   \n",
       "3        2019-10-01 00:00:07 UTC       cart     5723490  1487580005134238553   \n",
       "4        2019-10-01 00:00:15 UTC       cart     5881449  1487580013522845895   \n",
       "...                          ...        ...         ...                  ...   \n",
       "8738115  2019-11-30 23:59:46 UTC       view     5830317  1487580009496313889   \n",
       "8738116  2019-11-30 23:59:47 UTC       view     5733064  1487580004832248652   \n",
       "8738117  2019-11-30 23:59:47 UTC       view     5867785  1487580007835370453   \n",
       "8738118  2019-11-30 23:59:57 UTC       view     5779406  2151191071051219817   \n",
       "8738119  2019-11-30 23:59:58 UTC       view     5880201  2029731308699124089   \n",
       "\n",
       "        category_code    brand  price    user_id  \\\n",
       "0                 NaN   runail   2.62  463240011   \n",
       "1                 NaN   runail   2.62  463240011   \n",
       "2                 NaN   lovely  13.48  429681830   \n",
       "3                 NaN   runail   2.62  463240011   \n",
       "4                 NaN   lovely   0.56  429681830   \n",
       "...               ...      ...    ...        ...   \n",
       "8738115           NaN      NaN   4.76  457678989   \n",
       "8738116           NaN  beautix   9.37  422196217   \n",
       "8738117           NaN     kims  31.10  572579084   \n",
       "8738118           NaN      NaN   2.86  540006764   \n",
       "8738119           NaN   rasyan   3.76  579969854   \n",
       "\n",
       "                                 user_session  \n",
       "0        26dd6e6e-4dac-4778-8d2c-92e149dab885  \n",
       "1        26dd6e6e-4dac-4778-8d2c-92e149dab885  \n",
       "2        49e8d843-adf3-428b-a2c3-fe8bc6a307c9  \n",
       "3        26dd6e6e-4dac-4778-8d2c-92e149dab885  \n",
       "4        49e8d843-adf3-428b-a2c3-fe8bc6a307c9  \n",
       "...                                       ...  \n",
       "8738115  ee50b160-a4db-4722-8751-6812c5b38295  \n",
       "8738116  ab5e6dd5-8700-4ecc-a300-9f1eca5d1a95  \n",
       "8738117  d42865b7-7e04-4038-9be0-a59165625f06  \n",
       "8738118  d4b5aa49-d731-40f1-92f1-277416d6e063  \n",
       "8738119  e9fa2c3e-8c9e-448c-880a-21ca57c18b3b  \n",
       "\n",
       "[8738120 rows x 9 columns]"
      ]
     },
     "execution_count": 24,
     "metadata": {},
     "output_type": "execute_result"
    }
   ],
   "source": [
    "df"
   ]
  },
  {
   "cell_type": "code",
   "execution_count": 21,
   "id": "0cb7e9d5",
   "metadata": {},
   "outputs": [
    {
     "data": {
      "text/plain": [
       "event_time       0.000000\n",
       "event_type       0.000000\n",
       "product_id       0.000000\n",
       "category_id      0.000000\n",
       "category_code    0.983609\n",
       "brand            0.417171\n",
       "price            0.000000\n",
       "user_id          0.000000\n",
       "user_session     0.000166\n",
       "dtype: float64"
      ]
     },
     "execution_count": 21,
     "metadata": {},
     "output_type": "execute_result"
    }
   ],
   "source": [
    "df.isna().sum()/len(df)"
   ]
  },
  {
   "cell_type": "code",
   "execution_count": 11,
   "id": "a4b5bb98",
   "metadata": {},
   "outputs": [
    {
     "data": {
      "text/plain": [
       "Text(0, 0.5, 'Number of Missng Values')"
      ]
     },
     "execution_count": 11,
     "metadata": {},
     "output_type": "execute_result"
    },
    {
     "data": {
      "image/png": "[encoded data removed]",
      "text/plain": [
       "<Figure size 640x480 with 1 Axes>"
      ]
     },
     "metadata": {},
     "output_type": "display_data"
    }
   ],
   "source": [
    "df.isna().sum().plot.bar()\n",
    "plt.xlabel(\"Column\")\n",
    "plt.ylabel(\"Number of Missng Values\")"
   ]
  },
  {
   "cell_type": "code",
   "execution_count": 15,
   "id": "525ce97c",
   "metadata": {},
   "outputs": [
    {
     "data": {
      "text/plain": [
       "<Axes: >"
      ]
     },
     "execution_count": 15,
     "metadata": {},
     "output_type": "execute_result"
    },
    {
     "data": {
      "image/png": "[encoded data removed]",
      "text/plain": [
       "<Figure size 640x480 with 1 Axes>"
      ]
     },
     "metadata": {},
     "output_type": "display_data"
    }
   ],
   "source": [
    "df['event_type'].value_counts().plot.bar()\n",
    "\n"
   ]
  },
  {
   "cell_type": "code",
   "execution_count": 22,
   "id": "851f7082",
   "metadata": {},
   "outputs": [
    {
     "data": {
      "text/plain": [
       "459848"
      ]
     },
     "execution_count": 22,
     "metadata": {},
     "output_type": "execute_result"
    }
   ],
   "source": [
    "df.duplicated().sum()"
   ]
  },
  {
   "cell_type": "code",
   "execution_count": 26,
   "id": "7c9b4df9",
   "metadata": {},
   "outputs": [],
   "source": [
    "df.drop_duplicates(inplace=True)"
   ]
  },
  {
   "cell_type": "code",
   "execution_count": 27,
   "id": "9ab9dc93",
   "metadata": {},
   "outputs": [
    {
     "data": {
      "text/plain": [
       "0"
      ]
     },
     "execution_count": 27,
     "metadata": {},
     "output_type": "execute_result"
    }
   ],
   "source": [
    "df.duplicated().sum()"
   ]
  },
  {
   "cell_type": "code",
   "execution_count": 25,
   "id": "b40a7efe",
   "metadata": {},
   "outputs": [
    {
     "data": {
      "text/plain": [
       "appliances.environment.vacuum             59761\n",
       "stationery.cartrige                       26722\n",
       "apparel.glove                             18232\n",
       "furniture.living_room.cabinet             13439\n",
       "accessories.bag                           11681\n",
       "furniture.bathroom.bath                    9857\n",
       "appliances.personal.hair_cutter            1643\n",
       "accessories.cosmetic_bag                   1248\n",
       "appliances.environment.air_conditioner      332\n",
       "furniture.living_room.chair                 308\n",
       "sport.diving                                  2\n",
       "Name: category_code, dtype: int64"
      ]
     },
     "execution_count": 25,
     "metadata": {},
     "output_type": "execute_result"
    }
   ],
   "source": [
    "df['category_code'].value_counts()\n",
    "\n"
   ]
  },
  {
   "cell_type": "code",
   "execution_count": 19,
   "id": "05663e3f",
   "metadata": {},
   "outputs": [],
   "source": [
    "#df['brand'] = df['brand'].fillna(\"seller\")"
   ]
  },
  {
   "cell_type": "code",
   "execution_count": 28,
   "id": "02cd14b8",
   "metadata": {},
   "outputs": [],
   "source": [
    "df = df.drop('category_code', axis=1)"
   ]
  },
  {
   "cell_type": "code",
   "execution_count": 29,
   "id": "95a00b1b",
   "metadata": {},
   "outputs": [
    {
     "data": {
      "text/html": [
       "<div>\n",
       "<style scoped>\n",
       "    .dataframe tbody tr th:only-of-type {\n",
       "        vertical-align: middle;\n",
       "    }\n",
       "\n",
       "    .dataframe tbody tr th {\n",
       "        vertical-align: top;\n",
       "    }\n",
       "\n",
       "    .dataframe thead th {\n",
       "        text-align: right;\n",
       "    }\n",
       "</style>\n",
       "<table border=\"1\" class=\"dataframe\">\n",
       "  <thead>\n",
       "    <tr style=\"text-align: right;\">\n",
       "      <th></th>\n",
       "      <th>event_time</th>\n",
       "      <th>event_type</th>\n",
       "      <th>product_id</th>\n",
       "      <th>category_id</th>\n",
       "      <th>brand</th>\n",
       "      <th>price</th>\n",
       "      <th>user_id</th>\n",
       "      <th>user_session</th>\n",
       "    </tr>\n",
       "  </thead>\n",
       "  <tbody>\n",
       "    <tr>\n",
       "      <th>0</th>\n",
       "      <td>2019-10-01 00:00:00 UTC</td>\n",
       "      <td>cart</td>\n",
       "      <td>5773203</td>\n",
       "      <td>1487580005134238553</td>\n",
       "      <td>runail</td>\n",
       "      <td>2.62</td>\n",
       "      <td>463240011</td>\n",
       "      <td>26dd6e6e-4dac-4778-8d2c-92e149dab885</td>\n",
       "    </tr>\n",
       "    <tr>\n",
       "      <th>1</th>\n",
       "      <td>2019-10-01 00:00:03 UTC</td>\n",
       "      <td>cart</td>\n",
       "      <td>5773353</td>\n",
       "      <td>1487580005134238553</td>\n",
       "      <td>runail</td>\n",
       "      <td>2.62</td>\n",
       "      <td>463240011</td>\n",
       "      <td>26dd6e6e-4dac-4778-8d2c-92e149dab885</td>\n",
       "    </tr>\n",
       "    <tr>\n",
       "      <th>2</th>\n",
       "      <td>2019-10-01 00:00:07 UTC</td>\n",
       "      <td>cart</td>\n",
       "      <td>5881589</td>\n",
       "      <td>2151191071051219817</td>\n",
       "      <td>lovely</td>\n",
       "      <td>13.48</td>\n",
       "      <td>429681830</td>\n",
       "      <td>49e8d843-adf3-428b-a2c3-fe8bc6a307c9</td>\n",
       "    </tr>\n",
       "    <tr>\n",
       "      <th>3</th>\n",
       "      <td>2019-10-01 00:00:07 UTC</td>\n",
       "      <td>cart</td>\n",
       "      <td>5723490</td>\n",
       "      <td>1487580005134238553</td>\n",
       "      <td>runail</td>\n",
       "      <td>2.62</td>\n",
       "      <td>463240011</td>\n",
       "      <td>26dd6e6e-4dac-4778-8d2c-92e149dab885</td>\n",
       "    </tr>\n",
       "    <tr>\n",
       "      <th>4</th>\n",
       "      <td>2019-10-01 00:00:15 UTC</td>\n",
       "      <td>cart</td>\n",
       "      <td>5881449</td>\n",
       "      <td>1487580013522845895</td>\n",
       "      <td>lovely</td>\n",
       "      <td>0.56</td>\n",
       "      <td>429681830</td>\n",
       "      <td>49e8d843-adf3-428b-a2c3-fe8bc6a307c9</td>\n",
       "    </tr>\n",
       "  </tbody>\n",
       "</table>\n",
       "</div>"
      ],
      "text/plain": [
       "                event_time event_type  product_id          category_id  \\\n",
       "0  2019-10-01 00:00:00 UTC       cart     5773203  1487580005134238553   \n",
       "1  2019-10-01 00:00:03 UTC       cart     5773353  1487580005134238553   \n",
       "2  2019-10-01 00:00:07 UTC       cart     5881589  2151191071051219817   \n",
       "3  2019-10-01 00:00:07 UTC       cart     5723490  1487580005134238553   \n",
       "4  2019-10-01 00:00:15 UTC       cart     5881449  1487580013522845895   \n",
       "\n",
       "    brand  price    user_id                          user_session  \n",
       "0  runail   2.62  463240011  26dd6e6e-4dac-4778-8d2c-92e149dab885  \n",
       "1  runail   2.62  463240011  26dd6e6e-4dac-4778-8d2c-92e149dab885  \n",
       "2  lovely  13.48  429681830  49e8d843-adf3-428b-a2c3-fe8bc6a307c9  \n",
       "3  runail   2.62  463240011  26dd6e6e-4dac-4778-8d2c-92e149dab885  \n",
       "4  lovely   0.56  429681830  49e8d843-adf3-428b-a2c3-fe8bc6a307c9  "
      ]
     },
     "execution_count": 29,
     "metadata": {},
     "output_type": "execute_result"
    }
   ],
   "source": [
    "df.head()"
   ]
  },
  {
   "cell_type": "code",
   "execution_count": 30,
   "id": "eb0d66b2",
   "metadata": {},
   "outputs": [],
   "source": [
    "df = df.dropna(subset=['user_session'])"
   ]
  },
  {
   "cell_type": "code",
   "execution_count": 32,
   "id": "5faffedd",
   "metadata": {},
   "outputs": [
    {
     "data": {
      "text/plain": [
       "event_time            0\n",
       "event_type            0\n",
       "product_id            0\n",
       "category_id           0\n",
       "brand           3450792\n",
       "price                 0\n",
       "user_id               0\n",
       "user_session          0\n",
       "dtype: int64"
      ]
     },
     "execution_count": 32,
     "metadata": {},
     "output_type": "execute_result"
    }
   ],
   "source": [
    "df.isnull().sum()"
   ]
  },
  {
   "cell_type": "code",
   "execution_count": 44,
   "id": "243e6979",
   "metadata": {},
   "outputs": [],
   "source": [
    "df_brand_ffil=df[['brand']]"
   ]
  },
  {
   "cell_type": "code",
   "execution_count": 55,
   "id": "6f37e522",
   "metadata": {},
   "outputs": [
    {
     "data": {
      "text/plain": [
       "<Axes: >"
      ]
     },
     "execution_count": 55,
     "metadata": {},
     "output_type": "execute_result"
    },
    {
     "data": {
      "image/png": "[encoded data removed]",
      "text/plain": [
       "<Figure size 640x480 with 1 Axes>"
      ]
     },
     "metadata": {},
     "output_type": "display_data"
    }
   ],
   "source": [
    "df['brand'].value_counts().nlargest(20).plot.bar()"
   ]
  },
  {
   "cell_type": "code",
   "execution_count": 46,
   "id": "6b377827",
   "metadata": {},
   "outputs": [
    {
     "data": {
      "text/html": [
       "<div>\n",
       "<style scoped>\n",
       "    .dataframe tbody tr th:only-of-type {\n",
       "        vertical-align: middle;\n",
       "    }\n",
       "\n",
       "    .dataframe tbody tr th {\n",
       "        vertical-align: top;\n",
       "    }\n",
       "\n",
       "    .dataframe thead th {\n",
       "        text-align: right;\n",
       "    }\n",
       "</style>\n",
       "<table border=\"1\" class=\"dataframe\">\n",
       "  <thead>\n",
       "    <tr style=\"text-align: right;\">\n",
       "      <th></th>\n",
       "      <th>brand</th>\n",
       "    </tr>\n",
       "  </thead>\n",
       "  <tbody>\n",
       "    <tr>\n",
       "      <th>0</th>\n",
       "      <td>runail</td>\n",
       "    </tr>\n",
       "    <tr>\n",
       "      <th>1</th>\n",
       "      <td>runail</td>\n",
       "    </tr>\n",
       "    <tr>\n",
       "      <th>2</th>\n",
       "      <td>lovely</td>\n",
       "    </tr>\n",
       "    <tr>\n",
       "      <th>3</th>\n",
       "      <td>runail</td>\n",
       "    </tr>\n",
       "    <tr>\n",
       "      <th>4</th>\n",
       "      <td>lovely</td>\n",
       "    </tr>\n",
       "    <tr>\n",
       "      <th>...</th>\n",
       "      <td>...</td>\n",
       "    </tr>\n",
       "    <tr>\n",
       "      <th>8738115</th>\n",
       "      <td>NaN</td>\n",
       "    </tr>\n",
       "    <tr>\n",
       "      <th>8738116</th>\n",
       "      <td>beautix</td>\n",
       "    </tr>\n",
       "    <tr>\n",
       "      <th>8738117</th>\n",
       "      <td>kims</td>\n",
       "    </tr>\n",
       "    <tr>\n",
       "      <th>8738118</th>\n",
       "      <td>NaN</td>\n",
       "    </tr>\n",
       "    <tr>\n",
       "      <th>8738119</th>\n",
       "      <td>rasyan</td>\n",
       "    </tr>\n",
       "  </tbody>\n",
       "</table>\n",
       "<p>8276943 rows × 1 columns</p>\n",
       "</div>"
      ],
      "text/plain": [
       "           brand\n",
       "0         runail\n",
       "1         runail\n",
       "2         lovely\n",
       "3         runail\n",
       "4         lovely\n",
       "...          ...\n",
       "8738115      NaN\n",
       "8738116  beautix\n",
       "8738117     kims\n",
       "8738118      NaN\n",
       "8738119   rasyan\n",
       "\n",
       "[8276943 rows x 1 columns]"
      ]
     },
     "execution_count": 46,
     "metadata": {},
     "output_type": "execute_result"
    }
   ],
   "source": [
    "df_brand_ffil[['brand']]"
   ]
  },
  {
   "cell_type": "code",
   "execution_count": 47,
   "id": "5b5a57af",
   "metadata": {},
   "outputs": [],
   "source": [
    "df_brand_ffil=df_brand_ffil.ffill()"
   ]
  },
  {
   "cell_type": "code",
   "execution_count": 56,
   "id": "083d661b",
   "metadata": {},
   "outputs": [
    {
     "data": {
      "text/plain": [
       "<Axes: >"
      ]
     },
     "execution_count": 56,
     "metadata": {},
     "output_type": "execute_result"
    },
    {
     "data": {
      "image/png": "[encoded data removed]",
      "text/plain": [
       "<Figure size 640x480 with 1 Axes>"
      ]
     },
     "metadata": {},
     "output_type": "display_data"
    }
   ],
   "source": [
    "df_brand_ffil['brand'].value_counts().nlargest(30).plot.bar()"
   ]
  },
  {
   "cell_type": "code",
   "execution_count": 57,
   "id": "c5a17fd4",
   "metadata": {},
   "outputs": [],
   "source": [
    "df_brand_backfill=df[['brand']]"
   ]
  },
  {
   "cell_type": "code",
   "execution_count": 58,
   "id": "d4d7b9c5",
   "metadata": {},
   "outputs": [
    {
     "data": {
      "text/plain": [
       "brand    \n",
       "runail       591962\n",
       "irisk        404560\n",
       "masura       356110\n",
       "grattol      318785\n",
       "bpw.style    231240\n",
       "              ...  \n",
       "shifei            4\n",
       "vl-gel            3\n",
       "gena              2\n",
       "pueen             1\n",
       "ibd               1\n",
       "Length: 244, dtype: int64"
      ]
     },
     "execution_count": 58,
     "metadata": {},
     "output_type": "execute_result"
    }
   ],
   "source": [
    "df_brand_backfill.value_counts()"
   ]
  },
  {
   "cell_type": "code",
   "execution_count": 59,
   "id": "42e46dbf",
   "metadata": {},
   "outputs": [
    {
     "name": "stderr",
     "output_type": "stream",
     "text": [
      "C:\\Users\\DELL\\AppData\\Local\\Temp\\ipykernel_2184\\1596520338.py:1: SettingWithCopyWarning: \n",
      "A value is trying to be set on a copy of a slice from a DataFrame.\n",
      "Try using .loc[row_indexer,col_indexer] = value instead\n",
      "\n",
      "See the caveats in the documentation: https://pandas.pydata.org/pandas-docs/stable/user_guide/indexing.html#returning-a-view-versus-a-copy\n",
      "  df_brand_backfill['brand'] = df['brand'].bfill()\n"
     ]
    }
   ],
   "source": [
    "df_brand_backfill['brand'] = df['brand'].bfill()"
   ]
  },
  {
   "cell_type": "code",
   "execution_count": 61,
   "id": "2ccef755",
   "metadata": {},
   "outputs": [
    {
     "data": {
      "text/plain": [
       "brand    \n",
       "runail       1016384\n",
       "irisk         695946\n",
       "masura        596619\n",
       "grattol       549012\n",
       "bpw.style     394722\n",
       "              ...   \n",
       "footlogix          6\n",
       "dessata            4\n",
       "gena               2\n",
       "pueen              2\n",
       "ibd                1\n",
       "Length: 244, dtype: int64"
      ]
     },
     "execution_count": 61,
     "metadata": {},
     "output_type": "execute_result"
    }
   ],
   "source": [
    "df_brand_backfill.value_counts()"
   ]
  },
  {
   "cell_type": "code",
   "execution_count": 60,
   "id": "29a2e6dd",
   "metadata": {},
   "outputs": [
    {
     "data": {
      "text/plain": [
       "<Axes: >"
      ]
     },
     "execution_count": 60,
     "metadata": {},
     "output_type": "execute_result"
    },
    {
     "data": {
      "image/png": "[encoded data removed]",
      "text/plain": [
       "<Figure size 640x480 with 1 Axes>"
      ]
     },
     "metadata": {},
     "output_type": "display_data"
    }
   ],
   "source": [
    "df_brand_backfill['brand'].value_counts().nlargest(30).plot.bar()"
   ]
  },
  {
   "cell_type": "code",
   "execution_count": 62,
   "id": "b2f0a84e",
   "metadata": {},
   "outputs": [],
   "source": [
    "df_brand_pad=df[['brand']]"
   ]
  },
  {
   "cell_type": "code",
   "execution_count": 68,
   "id": "905c85bc",
   "metadata": {},
   "outputs": [
    {
     "data": {
      "text/plain": [
       "brand    \n",
       "runail       1017932\n",
       "irisk         694754\n",
       "masura        596284\n",
       "grattol       548366\n",
       "bpw.style     393682\n",
       "              ...   \n",
       "voesh              6\n",
       "dessata            6\n",
       "gena               3\n",
       "ibd                2\n",
       "pueen              2\n",
       "Length: 244, dtype: int64"
      ]
     },
     "execution_count": 68,
     "metadata": {},
     "output_type": "execute_result"
    }
   ],
   "source": [
    "df_brand_pad.value_counts()"
   ]
  },
  {
   "cell_type": "code",
   "execution_count": 64,
   "id": "1345a099",
   "metadata": {},
   "outputs": [
    {
     "name": "stderr",
     "output_type": "stream",
     "text": [
      "C:\\Users\\DELL\\AppData\\Local\\Temp\\ipykernel_2184\\1753349089.py:1: SettingWithCopyWarning: \n",
      "A value is trying to be set on a copy of a slice from a DataFrame.\n",
      "Try using .loc[row_indexer,col_indexer] = value instead\n",
      "\n",
      "See the caveats in the documentation: https://pandas.pydata.org/pandas-docs/stable/user_guide/indexing.html#returning-a-view-versus-a-copy\n",
      "  df_brand_pad['brand'] = df['brand'].pad()\n"
     ]
    }
   ],
   "source": [
    "df_brand_pad['brand'] = df['brand'].pad()"
   ]
  },
  {
   "cell_type": "code",
   "execution_count": 66,
   "id": "74028bfe",
   "metadata": {},
   "outputs": [
    {
     "data": {
      "text/plain": [
       "<Axes: >"
      ]
     },
     "execution_count": 66,
     "metadata": {},
     "output_type": "execute_result"
    },
    {
     "data": {
      "image/png": "[encoded data removed]",
      "text/plain": [
       "<Figure size 640x480 with 1 Axes>"
      ]
     },
     "metadata": {},
     "output_type": "display_data"
    }
   ],
   "source": [
    "df_brand_pad.value_counts().value_counts().nlargest(30).plot.bar()"
   ]
  },
  {
   "cell_type": "code",
   "execution_count": 70,
   "id": "08e6406d",
   "metadata": {},
   "outputs": [],
   "source": [
    "df_brand_rand_choise=df[['brand']]"
   ]
  },
  {
   "cell_type": "code",
   "execution_count": 71,
   "id": "ac118a26",
   "metadata": {},
   "outputs": [
    {
     "data": {
      "text/plain": [
       "brand    \n",
       "runail       591962\n",
       "irisk        404560\n",
       "masura       356110\n",
       "grattol      318785\n",
       "bpw.style    231240\n",
       "              ...  \n",
       "shifei            4\n",
       "vl-gel            3\n",
       "gena              2\n",
       "pueen             1\n",
       "ibd               1\n",
       "Length: 244, dtype: int64"
      ]
     },
     "execution_count": 71,
     "metadata": {},
     "output_type": "execute_result"
    }
   ],
   "source": [
    "df_brand_rand_choise.value_counts()"
   ]
  },
  {
   "cell_type": "code",
   "execution_count": 75,
   "id": "b5b0056a",
   "metadata": {},
   "outputs": [],
   "source": [
    "import random"
   ]
  },
  {
   "cell_type": "code",
   "execution_count": 77,
   "id": "7cae338d",
   "metadata": {},
   "outputs": [],
   "source": [
    "# get list of valid brands\n",
    "valid_brands = df_brand_rand_choise['brand'].dropna().unique().tolist()"
   ]
  },
  {
   "cell_type": "code",
   "execution_count": 78,
   "id": "364ffb98",
   "metadata": {},
   "outputs": [
    {
     "name": "stderr",
     "output_type": "stream",
     "text": [
      "C:\\Users\\DELL\\AppData\\Local\\Temp\\ipykernel_2184\\2470312538.py:1: SettingWithCopyWarning: \n",
      "A value is trying to be set on a copy of a slice from a DataFrame.\n",
      "Try using .loc[row_indexer,col_indexer] = value instead\n",
      "\n",
      "See the caveats in the documentation: https://pandas.pydata.org/pandas-docs/stable/user_guide/indexing.html#returning-a-view-versus-a-copy\n",
      "  df_brand_rand_choise['brand'] = df_brand_rand_choise['brand'].apply(lambda x: random.choice(valid_brands) if pd.isnull(x) else x)\n"
     ]
    }
   ],
   "source": [
    "# fill missing values in 'brand' column using 'random.choice'\n",
    "df_brand_rand_choise['brand'] = df_brand_rand_choise['brand'].apply(lambda x: random.choice(valid_brands) if pd.isnull(x) else x)"
   ]
  },
  {
   "cell_type": "code",
   "execution_count": 82,
   "id": "5b6a719a",
   "metadata": {},
   "outputs": [
    {
     "data": {
      "text/plain": [
       "brand    \n",
       "runail       606157\n",
       "irisk        418648\n",
       "masura       370192\n",
       "grattol      332786\n",
       "bpw.style    245224\n",
       "              ...  \n",
       "blise         14038\n",
       "nova          14036\n",
       "barbie        14035\n",
       "ibd           14030\n",
       "macadamia     13958\n",
       "Length: 244, dtype: int64"
      ]
     },
     "execution_count": 82,
     "metadata": {},
     "output_type": "execute_result"
    }
   ],
   "source": [
    "df_brand_rand_choise.value_counts()"
   ]
  },
  {
   "cell_type": "code",
   "execution_count": 81,
   "id": "78b37646",
   "metadata": {},
   "outputs": [
    {
     "data": {
      "text/plain": [
       "<Axes: xlabel='brand'>"
      ]
     },
     "execution_count": 81,
     "metadata": {},
     "output_type": "execute_result"
    },
    {
     "data": {
      "image/png": "[encoded data removed]",
      "text/plain": [
       "<Figure size 640x480 with 1 Axes>"
      ]
     },
     "metadata": {},
     "output_type": "display_data"
    }
   ],
   "source": [
    "df_brand_rand_choise.value_counts().nlargest(30).plot.bar()"
   ]
  },
  {
   "cell_type": "code",
   "execution_count": 83,
   "id": "5e8ec724",
   "metadata": {},
   "outputs": [],
   "source": [
    "brand_count = df['brand'].value_counts().to_dict()\n"
   ]
  },
  {
   "cell_type": "code",
   "execution_count": 84,
   "id": "0ce7b36a",
   "metadata": {},
   "outputs": [],
   "source": [
    "df_brand_knn=df[['brand']]"
   ]
  },
  {
   "cell_type": "code",
   "execution_count": 85,
   "id": "6ee7bbf4",
   "metadata": {},
   "outputs": [],
   "source": [
    "df_brand_knn = df_brand_knn['brand'].map(brand_count)"
   ]
  },
  {
   "cell_type": "code",
   "execution_count": 87,
   "id": "2ae378c9",
   "metadata": {},
   "outputs": [
    {
     "data": {
      "text/plain": [
       "203957.5314972532"
      ]
     },
     "execution_count": 87,
     "metadata": {},
     "output_type": "execute_result"
    }
   ],
   "source": [
    "df_brand_knn.mean()"
   ]
  },
  {
   "cell_type": "code",
   "execution_count": 88,
   "id": "0daf667c",
   "metadata": {},
   "outputs": [],
   "source": [
    "from sklearn.impute import KNNImputer\n"
   ]
  },
  {
   "cell_type": "code",
   "execution_count": 92,
   "id": "8d0a8e7e",
   "metadata": {},
   "outputs": [],
   "source": [
    "imputer = KNNImputer(n_neighbors=4, weights=\"uniform\")"
   ]
  },
  {
   "cell_type": "code",
   "execution_count": 93,
   "id": "2fdb450a",
   "metadata": {},
   "outputs": [],
   "source": [
    "#df_brand_knn = imputer.fit_transform(df_brand_knn[['brand']])"
   ]
  },
  {
   "cell_type": "code",
   "execution_count": 94,
   "id": "a8f738c7",
   "metadata": {},
   "outputs": [],
   "source": [
    "# instantiate KNNImputer with 2 nearest neighbors\n",
    "imputer = KNNImputer(n_neighbors=2)"
   ]
  },
  {
   "cell_type": "code",
   "execution_count": 108,
   "id": "449d2039",
   "metadata": {},
   "outputs": [],
   "source": [
    "#if 'brand' in df_brand_knn.columns:\n",
    "    # one-hot encode 'brand' column\n",
    "    #df_k = pd.get_dummies(df_brand_knn, columns=['brand'], prefix='', prefix_sep='')\n",
    "\n",
    "    # instantiate KNNImputer with 2 nearest neighbors\n",
    "    #imputer = KNNImputer(n_neighbors=2)\n",
    "\n",
    "    # fill missing values in DataFrame using KNN imputation\n",
    "    #df_k = pd.DataFrame(imputer.fit_transform(df_k), columns=df_k.columns)\n",
    "\n",
    "    # display the updated DataFrame\n",
    "    #print(df_k)\n",
    "#else:\n",
    "   # print(\"'brand' column not found in DataFrame\")"
   ]
  },
  {
   "cell_type": "code",
   "execution_count": null,
   "id": "457e9806",
   "metadata": {},
   "outputs": [],
   "source": []
  },
  {
   "cell_type": "code",
   "execution_count": 22,
   "id": "5b8230a0",
   "metadata": {},
   "outputs": [],
   "source": [
    "#df = df[df['price'] >= 0]"
   ]
  },
  {
   "cell_type": "code",
   "execution_count": null,
   "id": "304fbed5",
   "metadata": {},
   "outputs": [],
   "source": []
  },
  {
   "cell_type": "code",
   "execution_count": 40,
   "id": "eb9dd707",
   "metadata": {},
   "outputs": [],
   "source": [
    "#df[df['price']==0]"
   ]
  },
  {
   "cell_type": "code",
   "execution_count": 33,
   "id": "0629b706",
   "metadata": {},
   "outputs": [],
   "source": [
    "# Convert the event_time column to a datetime object\n",
    "#df['event_time'] = pd.to_datetime(df['event_time'])\n",
    "\n",
    "# Extract the date from the event_time column\n",
    "#df['date'] = df['event_time'].dt.date\n",
    "# Extract the day of the week  and day from the event_time column\n",
    "#df['day'] = df['event_time'].dt.dayofweek\n",
    "\n",
    "#df['week'] = df['event_time'].dt.week\n",
    "#df['hour'] =df['event_time'].dt.strftime('%I %p')\n",
    "\n",
    "# Display the updated DataFrame\n",
    "#df.head()"
   ]
  },
  {
   "cell_type": "code",
   "execution_count": 34,
   "id": "ba755893",
   "metadata": {},
   "outputs": [],
   "source": [
    "#df['month'] = df['event_time'].dt.month"
   ]
  },
  {
   "cell_type": "code",
   "execution_count": 39,
   "id": "1e733213",
   "metadata": {},
   "outputs": [],
   "source": [
    "#df.describe(include='object')"
   ]
  },
  {
   "cell_type": "code",
   "execution_count": 38,
   "id": "2336657d",
   "metadata": {},
   "outputs": [],
   "source": [
    "#plt.figure(figsize=(20,10))\n",
    "#plt.title(\"price per  month\")\n",
    "#sns.lineplot(data=df,x='month',y='price')\n",
    "#plt.show()"
   ]
  },
  {
   "cell_type": "code",
   "execution_count": 37,
   "id": "a6b72965",
   "metadata": {},
   "outputs": [],
   "source": [
    "# Filter the data for the event_type \"purchase\"\n",
    "#df_purchase = df[df[\"event_type\"] == \"purchase\"]\n",
    "\n",
    "# Count the number of purchases for each product_id\n",
    "#purchase_counts = df_purchase.groupby(\"product_id\").size().reset_index(name=\"count\")\n",
    "\n",
    "# Sort the purchase counts in descending order and select the top 50\n",
    "#top_3_product_ids = purchase_counts.sort_values(by=\"count\", ascending=False).head(3)[\"product_id\"]\n",
    "\n",
    "# Filter the purchase data for the top 50 product_ids\n",
    "#df_top_3 = df_purchase[df_purchase[\"product_id\"].isin(top_3_product_ids)]\n"
   ]
  },
  {
   "cell_type": "code",
   "execution_count": 36,
   "id": "52764659",
   "metadata": {},
   "outputs": [],
   "source": [
    "# Calculate the variance of the price column for each product_id\n",
    "#variances = df_top_3.groupby(\"product_id\")[\"price\"].var()\n",
    "\n",
    "# Filter the data for product_ids with nonzero variance\n",
    "#product_ids = variances[variances != 0].index\n",
    "\n",
    "# Loop through the filtered product_ids and plot the time series of date versus price\n",
    "#for product_id in product_ids:\n",
    "    #df_product = df_top_3[df_top_3[\"product_id\"] == product_id]\n",
    "    #df_product[\"day\"] = pd.to_datetime(df_product[\"day\"])\n",
    "    #df_product.set_index(\"day\", inplace=True)\n",
    "    #plt.plot(df_product[\"price\"], label=\"Product ID {}\".format(product_id))\n",
    "\n",
    "# Customize the plot\n",
    "# set up plot\n",
    "#x=df['day']\n",
    "#y=df['price']\n",
    "#plt.plot(x, y)\n",
    "#plt.xlabel(\"Date\")\n",
    "#plt.ylabel(\"Price\")\n",
    "#plt.title(\"Time series of price for product IDs with nonzero variance\")\n",
    "\n",
    "# set up legend\n",
    "#plt.legend([\"Product ID\"], loc=\"best\")\n",
    "# display plot\n",
    "#plt.show()\n"
   ]
  },
  {
   "cell_type": "code",
   "execution_count": 41,
   "id": "f64cb471",
   "metadata": {},
   "outputs": [],
   "source": [
    "#df_top_3_month10"
   ]
  },
  {
   "cell_type": "code",
   "execution_count": 92,
   "id": "8f17f517",
   "metadata": {},
   "outputs": [
    {
     "data": {
      "text/plain": [
       "product_id  price\n",
       "5854897     0.32     700\n",
       "5751422     10.95    644\n",
       "5809910     5.24     311\n",
       "dtype: int64"
      ]
     },
     "execution_count": 92,
     "metadata": {},
     "output_type": "execute_result"
    }
   ],
   "source": [
    "y_10=df_top_3_month10[['product_id','price']].value_counts()\n",
    "y_10"
   ]
  },
  {
   "cell_type": "code",
   "execution_count": 112,
   "id": "ed1e75cc",
   "metadata": {},
   "outputs": [
    {
     "data": {
      "text/plain": [
       "day  brand    product_id  hour \n",
       "1    irisk    5854897     10 AM    14\n",
       "0    irisk    5854897     08 PM    13\n",
       "3    irisk    5854897     07 PM    13\n",
       "2    uno      5751422     12 PM    12\n",
       "                          07 AM    12\n",
       "                                   ..\n",
       "5    irisk    5854897     01 AM     1\n",
       "2    grattol  5809910     05 AM     1\n",
       "5    grattol  5809910     09 PM     1\n",
       "                          07 AM     1\n",
       "0    grattol  5809910     01 PM     1\n",
       "Length: 415, dtype: int64"
      ]
     },
     "execution_count": 112,
     "metadata": {},
     "output_type": "execute_result"
    }
   ],
   "source": [
    "x_10=df_top_3_month10[['day','brand','product_id','hour']].value_counts()\n",
    "x_10"
   ]
  },
  {
   "cell_type": "code",
   "execution_count": 66,
   "id": "c9bfaa11",
   "metadata": {},
   "outputs": [],
   "source": [
    "df_top_3_month10=df_top_3[df_top_3['month']==10]"
   ]
  },
  {
   "cell_type": "code",
   "execution_count": 67,
   "id": "04417d7b",
   "metadata": {},
   "outputs": [
    {
     "data": {
      "text/html": [
       "<div>\n",
       "<style scoped>\n",
       "    .dataframe tbody tr th:only-of-type {\n",
       "        vertical-align: middle;\n",
       "    }\n",
       "\n",
       "    .dataframe tbody tr th {\n",
       "        vertical-align: top;\n",
       "    }\n",
       "\n",
       "    .dataframe thead th {\n",
       "        text-align: right;\n",
       "    }\n",
       "</style>\n",
       "<table border=\"1\" class=\"dataframe\">\n",
       "  <thead>\n",
       "    <tr style=\"text-align: right;\">\n",
       "      <th></th>\n",
       "      <th>event_time</th>\n",
       "      <th>event_type</th>\n",
       "      <th>product_id</th>\n",
       "      <th>category_id</th>\n",
       "      <th>brand</th>\n",
       "      <th>price</th>\n",
       "      <th>user_id</th>\n",
       "      <th>user_session</th>\n",
       "      <th>date</th>\n",
       "      <th>day</th>\n",
       "      <th>week</th>\n",
       "      <th>hour</th>\n",
       "      <th>month</th>\n",
       "    </tr>\n",
       "  </thead>\n",
       "  <tbody>\n",
       "    <tr>\n",
       "      <th>345</th>\n",
       "      <td>2019-10-01 00:10:30+00:00</td>\n",
       "      <td>purchase</td>\n",
       "      <td>5751422</td>\n",
       "      <td>1487580005268456287</td>\n",
       "      <td>uno</td>\n",
       "      <td>10.95</td>\n",
       "      <td>543446752</td>\n",
       "      <td>4a01cad9-7368-fd9e-d907-d4d85de0b55c</td>\n",
       "      <td>2019-10-01</td>\n",
       "      <td>1</td>\n",
       "      <td>40</td>\n",
       "      <td>12 AM</td>\n",
       "      <td>10</td>\n",
       "    </tr>\n",
       "    <tr>\n",
       "      <th>3116</th>\n",
       "      <td>2019-10-01 03:02:57+00:00</td>\n",
       "      <td>purchase</td>\n",
       "      <td>5751422</td>\n",
       "      <td>1487580005268456287</td>\n",
       "      <td>uno</td>\n",
       "      <td>10.95</td>\n",
       "      <td>382827190</td>\n",
       "      <td>c296c87d-85b8-48ef-8e1d-a8f73b60b3f9</td>\n",
       "      <td>2019-10-01</td>\n",
       "      <td>1</td>\n",
       "      <td>40</td>\n",
       "      <td>03 AM</td>\n",
       "      <td>10</td>\n",
       "    </tr>\n",
       "    <tr>\n",
       "      <th>5618</th>\n",
       "      <td>2019-10-01 04:30:14+00:00</td>\n",
       "      <td>purchase</td>\n",
       "      <td>5751422</td>\n",
       "      <td>1487580005268456287</td>\n",
       "      <td>uno</td>\n",
       "      <td>10.95</td>\n",
       "      <td>526285483</td>\n",
       "      <td>1fa58edc-6d5c-43de-8cfa-7545529d85e9</td>\n",
       "      <td>2019-10-01</td>\n",
       "      <td>1</td>\n",
       "      <td>40</td>\n",
       "      <td>04 AM</td>\n",
       "      <td>10</td>\n",
       "    </tr>\n",
       "    <tr>\n",
       "      <th>7030</th>\n",
       "      <td>2019-10-01 05:02:12+00:00</td>\n",
       "      <td>purchase</td>\n",
       "      <td>5854897</td>\n",
       "      <td>1487580009445982239</td>\n",
       "      <td>irisk</td>\n",
       "      <td>0.32</td>\n",
       "      <td>324679556</td>\n",
       "      <td>a8f4a286-ac68-4134-8d3d-e04bc70a3508</td>\n",
       "      <td>2019-10-01</td>\n",
       "      <td>1</td>\n",
       "      <td>40</td>\n",
       "      <td>05 AM</td>\n",
       "      <td>10</td>\n",
       "    </tr>\n",
       "    <tr>\n",
       "      <th>7566</th>\n",
       "      <td>2019-10-01 05:10:40+00:00</td>\n",
       "      <td>purchase</td>\n",
       "      <td>5854897</td>\n",
       "      <td>1487580009445982239</td>\n",
       "      <td>irisk</td>\n",
       "      <td>0.32</td>\n",
       "      <td>525435677</td>\n",
       "      <td>ed1b2244-9695-4b16-a603-3e2d0fda8388</td>\n",
       "      <td>2019-10-01</td>\n",
       "      <td>1</td>\n",
       "      <td>40</td>\n",
       "      <td>05 AM</td>\n",
       "      <td>10</td>\n",
       "    </tr>\n",
       "  </tbody>\n",
       "</table>\n",
       "</div>"
      ],
      "text/plain": [
       "                    event_time event_type  product_id          category_id  \\\n",
       "345  2019-10-01 00:10:30+00:00   purchase     5751422  1487580005268456287   \n",
       "3116 2019-10-01 03:02:57+00:00   purchase     5751422  1487580005268456287   \n",
       "5618 2019-10-01 04:30:14+00:00   purchase     5751422  1487580005268456287   \n",
       "7030 2019-10-01 05:02:12+00:00   purchase     5854897  1487580009445982239   \n",
       "7566 2019-10-01 05:10:40+00:00   purchase     5854897  1487580009445982239   \n",
       "\n",
       "      brand  price    user_id                          user_session  \\\n",
       "345     uno  10.95  543446752  4a01cad9-7368-fd9e-d907-d4d85de0b55c   \n",
       "3116    uno  10.95  382827190  c296c87d-85b8-48ef-8e1d-a8f73b60b3f9   \n",
       "5618    uno  10.95  526285483  1fa58edc-6d5c-43de-8cfa-7545529d85e9   \n",
       "7030  irisk   0.32  324679556  a8f4a286-ac68-4134-8d3d-e04bc70a3508   \n",
       "7566  irisk   0.32  525435677  ed1b2244-9695-4b16-a603-3e2d0fda8388   \n",
       "\n",
       "            date  day  week   hour  month  \n",
       "345   2019-10-01    1    40  12 AM     10  \n",
       "3116  2019-10-01    1    40  03 AM     10  \n",
       "5618  2019-10-01    1    40  04 AM     10  \n",
       "7030  2019-10-01    1    40  05 AM     10  \n",
       "7566  2019-10-01    1    40  05 AM     10  "
      ]
     },
     "execution_count": 67,
     "metadata": {},
     "output_type": "execute_result"
    }
   ],
   "source": [
    "df_top_3_month10.head()"
   ]
  },
  {
   "cell_type": "code",
   "execution_count": 109,
   "id": "b6e3a82f",
   "metadata": {},
   "outputs": [],
   "source": [
    "df['brand'] = df['brand'].map(brand_count)"
   ]
  },
  {
   "cell_type": "code",
   "execution_count": 137,
   "id": "af097349",
   "metadata": {},
   "outputs": [],
   "source": [
    "df_sample=df.sample(1000)"
   ]
  },
  {
   "cell_type": "code",
   "execution_count": 138,
   "id": "4f8428e3",
   "metadata": {},
   "outputs": [
    {
     "data": {
      "text/html": [
       "<div>\n",
       "<style scoped>\n",
       "    .dataframe tbody tr th:only-of-type {\n",
       "        vertical-align: middle;\n",
       "    }\n",
       "\n",
       "    .dataframe tbody tr th {\n",
       "        vertical-align: top;\n",
       "    }\n",
       "\n",
       "    .dataframe thead th {\n",
       "        text-align: right;\n",
       "    }\n",
       "</style>\n",
       "<table border=\"1\" class=\"dataframe\">\n",
       "  <thead>\n",
       "    <tr style=\"text-align: right;\">\n",
       "      <th></th>\n",
       "      <th>event_time</th>\n",
       "      <th>event_type</th>\n",
       "      <th>product_id</th>\n",
       "      <th>category_id</th>\n",
       "      <th>brand</th>\n",
       "      <th>price</th>\n",
       "      <th>user_id</th>\n",
       "      <th>user_session</th>\n",
       "    </tr>\n",
       "  </thead>\n",
       "  <tbody>\n",
       "    <tr>\n",
       "      <th>6742351</th>\n",
       "      <td>2019-11-20 11:50:54 UTC</td>\n",
       "      <td>remove_from_cart</td>\n",
       "      <td>5809339</td>\n",
       "      <td>1487580007675986893</td>\n",
       "      <td>231240.0</td>\n",
       "      <td>0.79</td>\n",
       "      <td>553421980</td>\n",
       "      <td>2c8e8245-8506-4738-bb13-7fae1b97a31c</td>\n",
       "    </tr>\n",
       "    <tr>\n",
       "      <th>7465158</th>\n",
       "      <td>2019-11-23 18:24:27 UTC</td>\n",
       "      <td>view</td>\n",
       "      <td>5833335</td>\n",
       "      <td>1487580007675986893</td>\n",
       "      <td>231240.0</td>\n",
       "      <td>1.35</td>\n",
       "      <td>557094260</td>\n",
       "      <td>977dcf9c-f031-4cae-bc86-3215963e15c8</td>\n",
       "    </tr>\n",
       "    <tr>\n",
       "      <th>7115466</th>\n",
       "      <td>2019-11-22 09:35:23 UTC</td>\n",
       "      <td>view</td>\n",
       "      <td>5807827</td>\n",
       "      <td>1487580005713052531</td>\n",
       "      <td>181137.0</td>\n",
       "      <td>4.00</td>\n",
       "      <td>529615803</td>\n",
       "      <td>2b465b7c-9d00-4c5e-8fd8-e759c346f48a</td>\n",
       "    </tr>\n",
       "    <tr>\n",
       "      <th>6232713</th>\n",
       "      <td>2019-11-16 18:29:05 UTC</td>\n",
       "      <td>view</td>\n",
       "      <td>5854121</td>\n",
       "      <td>1487580008657454075</td>\n",
       "      <td>NaN</td>\n",
       "      <td>2.86</td>\n",
       "      <td>510973511</td>\n",
       "      <td>60056dbb-93cd-49c9-8df3-e2932216cc4a</td>\n",
       "    </tr>\n",
       "    <tr>\n",
       "      <th>244140</th>\n",
       "      <td>2019-10-02 12:29:57 UTC</td>\n",
       "      <td>remove_from_cart</td>\n",
       "      <td>5597835</td>\n",
       "      <td>1487580005595612013</td>\n",
       "      <td>NaN</td>\n",
       "      <td>6.83</td>\n",
       "      <td>554601187</td>\n",
       "      <td>4ceede63-9b65-45bc-8225-a81e5ac63c23</td>\n",
       "    </tr>\n",
       "    <tr>\n",
       "      <th>...</th>\n",
       "      <td>...</td>\n",
       "      <td>...</td>\n",
       "      <td>...</td>\n",
       "      <td>...</td>\n",
       "      <td>...</td>\n",
       "      <td>...</td>\n",
       "      <td>...</td>\n",
       "      <td>...</td>\n",
       "    </tr>\n",
       "    <tr>\n",
       "      <th>3285707</th>\n",
       "      <td>2019-10-25 11:46:35 UTC</td>\n",
       "      <td>cart</td>\n",
       "      <td>5773609</td>\n",
       "      <td>1487580006317032337</td>\n",
       "      <td>404560.0</td>\n",
       "      <td>1.90</td>\n",
       "      <td>492086980</td>\n",
       "      <td>1acdbf23-679c-4f50-933c-1e18e6813529</td>\n",
       "    </tr>\n",
       "    <tr>\n",
       "      <th>4684904</th>\n",
       "      <td>2019-11-05 14:31:43 UTC</td>\n",
       "      <td>view</td>\n",
       "      <td>5736332</td>\n",
       "      <td>1487580005050352469</td>\n",
       "      <td>84144.0</td>\n",
       "      <td>3.97</td>\n",
       "      <td>566392633</td>\n",
       "      <td>0838693f-3218-4a54-8d90-49ea41564305</td>\n",
       "    </tr>\n",
       "    <tr>\n",
       "      <th>1320317</th>\n",
       "      <td>2019-10-09 18:22:29 UTC</td>\n",
       "      <td>cart</td>\n",
       "      <td>5849033</td>\n",
       "      <td>1487580005092295511</td>\n",
       "      <td>103213.0</td>\n",
       "      <td>10.32</td>\n",
       "      <td>358300469</td>\n",
       "      <td>b452cf28-ff4a-45fb-907d-b4c9b424f8a2</td>\n",
       "    </tr>\n",
       "    <tr>\n",
       "      <th>7696503</th>\n",
       "      <td>2019-11-24 19:58:13 UTC</td>\n",
       "      <td>view</td>\n",
       "      <td>5886763</td>\n",
       "      <td>1487580006317032337</td>\n",
       "      <td>NaN</td>\n",
       "      <td>1.43</td>\n",
       "      <td>323241708</td>\n",
       "      <td>1cb809a2-5e3c-4091-919c-a24ff2ab3dc8</td>\n",
       "    </tr>\n",
       "    <tr>\n",
       "      <th>600167</th>\n",
       "      <td>2019-10-05 07:44:16 UTC</td>\n",
       "      <td>view</td>\n",
       "      <td>5711690</td>\n",
       "      <td>1487580005008409427</td>\n",
       "      <td>49695.0</td>\n",
       "      <td>4.22</td>\n",
       "      <td>555487701</td>\n",
       "      <td>7b7a12e2-59f9-4208-bc8c-b5fae47eceb8</td>\n",
       "    </tr>\n",
       "  </tbody>\n",
       "</table>\n",
       "<p>1000 rows × 8 columns</p>\n",
       "</div>"
      ],
      "text/plain": [
       "                      event_time        event_type  product_id  \\\n",
       "6742351  2019-11-20 11:50:54 UTC  remove_from_cart     5809339   \n",
       "7465158  2019-11-23 18:24:27 UTC              view     5833335   \n",
       "7115466  2019-11-22 09:35:23 UTC              view     5807827   \n",
       "6232713  2019-11-16 18:29:05 UTC              view     5854121   \n",
       "244140   2019-10-02 12:29:57 UTC  remove_from_cart     5597835   \n",
       "...                          ...               ...         ...   \n",
       "3285707  2019-10-25 11:46:35 UTC              cart     5773609   \n",
       "4684904  2019-11-05 14:31:43 UTC              view     5736332   \n",
       "1320317  2019-10-09 18:22:29 UTC              cart     5849033   \n",
       "7696503  2019-11-24 19:58:13 UTC              view     5886763   \n",
       "600167   2019-10-05 07:44:16 UTC              view     5711690   \n",
       "\n",
       "                 category_id     brand  price    user_id  \\\n",
       "6742351  1487580007675986893  231240.0   0.79  553421980   \n",
       "7465158  1487580007675986893  231240.0   1.35  557094260   \n",
       "7115466  1487580005713052531  181137.0   4.00  529615803   \n",
       "6232713  1487580008657454075       NaN   2.86  510973511   \n",
       "244140   1487580005595612013       NaN   6.83  554601187   \n",
       "...                      ...       ...    ...        ...   \n",
       "3285707  1487580006317032337  404560.0   1.90  492086980   \n",
       "4684904  1487580005050352469   84144.0   3.97  566392633   \n",
       "1320317  1487580005092295511  103213.0  10.32  358300469   \n",
       "7696503  1487580006317032337       NaN   1.43  323241708   \n",
       "600167   1487580005008409427   49695.0   4.22  555487701   \n",
       "\n",
       "                                 user_session  \n",
       "6742351  2c8e8245-8506-4738-bb13-7fae1b97a31c  \n",
       "7465158  977dcf9c-f031-4cae-bc86-3215963e15c8  \n",
       "7115466  2b465b7c-9d00-4c5e-8fd8-e759c346f48a  \n",
       "6232713  60056dbb-93cd-49c9-8df3-e2932216cc4a  \n",
       "244140   4ceede63-9b65-45bc-8225-a81e5ac63c23  \n",
       "...                                       ...  \n",
       "3285707  1acdbf23-679c-4f50-933c-1e18e6813529  \n",
       "4684904  0838693f-3218-4a54-8d90-49ea41564305  \n",
       "1320317  b452cf28-ff4a-45fb-907d-b4c9b424f8a2  \n",
       "7696503  1cb809a2-5e3c-4091-919c-a24ff2ab3dc8  \n",
       "600167   7b7a12e2-59f9-4208-bc8c-b5fae47eceb8  \n",
       "\n",
       "[1000 rows x 8 columns]"
      ]
     },
     "execution_count": 138,
     "metadata": {},
     "output_type": "execute_result"
    }
   ],
   "source": [
    "df_sample"
   ]
  },
  {
   "cell_type": "code",
   "execution_count": 139,
   "id": "28ce0b92",
   "metadata": {},
   "outputs": [],
   "source": [
    "brand_count = df_sample['brand'].value_counts().to_dict()"
   ]
  },
  {
   "cell_type": "code",
   "execution_count": 141,
   "id": "89bcf56b",
   "metadata": {},
   "outputs": [],
   "source": [
    "df_sample['brand']=df_sample['brand'].map(brand_count)"
   ]
  },
  {
   "cell_type": "code",
   "execution_count": null,
   "id": "23885134",
   "metadata": {},
   "outputs": [],
   "source": [
    "#df['brand'].mean()"
   ]
  },
  {
   "cell_type": "code",
   "execution_count": null,
   "id": "28b96d87",
   "metadata": {},
   "outputs": [],
   "source": [
    "#from sklearn.impute import KNNImputer\n"
   ]
  },
  {
   "cell_type": "code",
   "execution_count": 142,
   "id": "d30c5984",
   "metadata": {},
   "outputs": [],
   "source": [
    "imputer = KNNImputer(n_neighbors=2, weights=\"uniform\")"
   ]
  },
  {
   "cell_type": "code",
   "execution_count": 143,
   "id": "0619c69f",
   "metadata": {},
   "outputs": [],
   "source": [
    "df_sample['imputed_brand'] = imputer.fit_transform(df_sample[['brand']])"
   ]
  },
  {
   "cell_type": "code",
   "execution_count": 146,
   "id": "d30107fa",
   "metadata": {},
   "outputs": [
    {
     "data": {
      "text/plain": [
       "Series([], Name: brand, dtype: int64)"
      ]
     },
     "execution_count": 146,
     "metadata": {},
     "output_type": "execute_result"
    }
   ],
   "source": [
    "df_sample['brand'].value_counts()"
   ]
  },
  {
   "cell_type": "code",
   "execution_count": null,
   "id": "cf31ae82",
   "metadata": {},
   "outputs": [],
   "source": []
  }
 ],
 "metadata": {
  "kernelspec": {
   "display_name": "Python 3 (ipykernel)",
   "language": "python",
   "name": "python3"
  },
  "language_info": {
   "codemirror_mode": {
    "name": "ipython",
    "version": 3
   },
   "file_extension": ".py",
   "mimetype": "text/x-python",
   "name": "python",
   "nbconvert_exporter": "python",
   "pygments_lexer": "ipython3",
   "version": "3.9.12"
  }
 },
 "nbformat": 4,
 "nbformat_minor": 5
}
