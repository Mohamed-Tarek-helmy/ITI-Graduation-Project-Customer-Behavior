{
 "cells": [
  {
   "cell_type": "markdown",
   "metadata": {},
   "source": [
    "# Data Preparation\n",
    "\n"
   ]
  },
  {
   "cell_type": "code",
   "execution_count": 1,
   "metadata": {},
   "outputs": [],
   "source": [
    "import pandas as pd\n",
    "import matplotlib\n",
    "import matplotlib.pyplot as plt\n",
    "import numpy as np\n",
    "from pandas import Series, DataFrame\n",
    "import time\n",
    "import turicreate as tc\n",
    "from sklearn.model_selection import train_test_split\n",
    "from functools import reduce\n",
    "import random"
   ]
  },
  {
   "cell_type": "code",
   "execution_count": 2,
   "metadata": {},
   "outputs": [],
   "source": [
    "file1 = \"Data1.csv\"\n",
    "file2 = \"Data2.csv\"\n"
   ]
  },
  {
   "cell_type": "code",
   "execution_count": 3,
   "metadata": {},
   "outputs": [],
   "source": [
    "def pre_process_df(filename):\n",
    " \n",
    "    if filename:\n",
    "        df = pd.read_csv(filename)\n",
    "        df = df.drop_duplicates()\n",
    "        df = df[df.brand.notnull()]\n",
    "        return df[df.price > 0]\n",
    "    return None\n",
    "  \n",
    "def cal_purchase_count(files):\n",
    "    df = pd.concat([pre_process_df(f) for f in files])\n",
    "    df = df.loc[:, ['event_type', 'product_id', 'user_id']]\n",
    "    df['purchase_count'] = [1 if e == 'purchase' else 0 for e in df['event_type']]\n",
    "    df = df.drop(['event_type'], axis = 1)\n",
    "    df = df.groupby(['product_id', 'user_id']).sum()\n",
    "    df = df[df.purchase_count != 0]\n",
    "    return df.reset_index()"
   ]
  },
  {
   "cell_type": "code",
   "execution_count": 4,
   "metadata": {},
   "outputs": [],
   "source": [
    "purchase_count = cal_purchase_count([file1, file2])"
   ]
  },
  {
   "cell_type": "code",
   "execution_count": 5,
   "metadata": {},
   "outputs": [],
   "source": [
    "user_id  = np.unique(purchase_count['user_id'])\n",
    "num_product_purchased = np.zeros(len(user_id))\n",
    "for loc, user in enumerate(user_id):\n",
    "    num_product_purchased[loc] = np.sum(purchase_count['user_id'] == user)"
   ]
  },
  {
   "cell_type": "code",
   "execution_count": 6,
   "metadata": {},
   "outputs": [],
   "source": [
    "idx = np.where(num_product_purchased>=10)"
   ]
  },
  {
   "cell_type": "code",
   "execution_count": 7,
   "metadata": {},
   "outputs": [],
   "source": [
    "filitered_user_id = user_id[idx]"
   ]
  },
  {
   "cell_type": "code",
   "execution_count": 8,
   "metadata": {},
   "outputs": [
    {
     "data": {
      "text/plain": [
       "9672"
      ]
     },
     "execution_count": 8,
     "metadata": {},
     "output_type": "execute_result"
    }
   ],
   "source": [
    "len(filitered_user_id)"
   ]
  },
  {
   "cell_type": "code",
   "execution_count": 9,
   "metadata": {},
   "outputs": [],
   "source": [
    "filtered_data = purchase_count.loc[purchase_count['user_id'].isin(filitered_user_id)]"
   ]
  },
  {
   "cell_type": "code",
   "execution_count": 10,
   "metadata": {},
   "outputs": [
    {
     "data": {
      "text/plain": [
       "15813"
      ]
     },
     "execution_count": 10,
     "metadata": {},
     "output_type": "execute_result"
    }
   ],
   "source": [
    "len(np.unique(filtered_data['product_id']))"
   ]
  },
  {
   "cell_type": "code",
   "execution_count": 11,
   "metadata": {},
   "outputs": [
    {
     "data": {
      "text/plain": [
       "181048"
      ]
     },
     "execution_count": 11,
     "metadata": {},
     "output_type": "execute_result"
    }
   ],
   "source": [
    "len(filtered_data)"
   ]
  },
  {
   "cell_type": "code",
   "execution_count": 12,
   "metadata": {},
   "outputs": [],
   "source": [
    "#filtered_data.to_csv('product_user.csv')"
   ]
  },
  {
   "cell_type": "code",
   "execution_count": 13,
   "metadata": {},
   "outputs": [],
   "source": [
    "\n",
    "sf = tc.SFrame(filtered_data)\n",
    "train_data, test = tc.recommender.util.random_split_by_user(sf, user_id = 'user_id', item_id = 'product_id',max_num_users=18366,item_test_proportion= 0.2)\n",
    "train_val, validation = tc.recommender.util.random_split_by_user(train_data, user_id = 'user_id', item_id = 'product_id',max_num_users=18366,item_test_proportion=0.25)"
   ]
  },
  {
   "cell_type": "markdown",
   "metadata": {},
   "source": [
    "# Popularity Model"
   ]
  },
  {
   "cell_type": "code",
   "execution_count": 14,
   "metadata": {},
   "outputs": [
    {
     "data": {
      "text/html": [
       "<pre>Preparing data set.</pre>"
      ],
      "text/plain": [
       "Preparing data set."
      ]
     },
     "metadata": {},
     "output_type": "display_data"
    },
    {
     "data": {
      "text/html": [
       "<pre>    Data has 144830 observations with 9672 users and 15079 items.</pre>"
      ],
      "text/plain": [
       "    Data has 144830 observations with 9672 users and 15079 items."
      ]
     },
     "metadata": {},
     "output_type": "display_data"
    },
    {
     "data": {
      "text/html": [
       "<pre>    Data prepared in: 0.352229s</pre>"
      ],
      "text/plain": [
       "    Data prepared in: 0.352229s"
      ]
     },
     "metadata": {},
     "output_type": "display_data"
    },
    {
     "data": {
      "text/html": [
       "<pre>144830 observations to process; with 15079 unique items.</pre>"
      ],
      "text/plain": [
       "144830 observations to process; with 15079 unique items."
      ]
     },
     "metadata": {},
     "output_type": "display_data"
    }
   ],
   "source": [
    "# constant variables to define field names include:\n",
    "user_id = 'user_id'\n",
    "item_id = 'product_id'\n",
    "target = 'purchase_count'\n",
    "# train model with train_data\n",
    "pop_model = tc.popularity_recommender.create(train_data, user_id=user_id, item_id=item_id, target=target)"
   ]
  },
  {
   "cell_type": "code",
   "execution_count": 15,
   "metadata": {
    "scrolled": true
   },
   "outputs": [
    {
     "data": {
      "text/html": [
       "<pre>recommendations finished on 1000/9255 queries. users per second: 14610.1</pre>"
      ],
      "text/plain": [
       "recommendations finished on 1000/9255 queries. users per second: 14610.1"
      ]
     },
     "metadata": {},
     "output_type": "display_data"
    },
    {
     "data": {
      "text/html": [
       "<pre>recommendations finished on 2000/9255 queries. users per second: 18510.1</pre>"
      ],
      "text/plain": [
       "recommendations finished on 2000/9255 queries. users per second: 18510.1"
      ]
     },
     "metadata": {},
     "output_type": "display_data"
    },
    {
     "data": {
      "text/html": [
       "<pre>recommendations finished on 3000/9255 queries. users per second: 20125.3</pre>"
      ],
      "text/plain": [
       "recommendations finished on 3000/9255 queries. users per second: 20125.3"
      ]
     },
     "metadata": {},
     "output_type": "display_data"
    },
    {
     "data": {
      "text/html": [
       "<pre>recommendations finished on 4000/9255 queries. users per second: 20940.8</pre>"
      ],
      "text/plain": [
       "recommendations finished on 4000/9255 queries. users per second: 20940.8"
      ]
     },
     "metadata": {},
     "output_type": "display_data"
    },
    {
     "data": {
      "text/html": [
       "<pre>recommendations finished on 5000/9255 queries. users per second: 21569.9</pre>"
      ],
      "text/plain": [
       "recommendations finished on 5000/9255 queries. users per second: 21569.9"
      ]
     },
     "metadata": {},
     "output_type": "display_data"
    },
    {
     "data": {
      "text/html": [
       "<pre>recommendations finished on 6000/9255 queries. users per second: 22017.9</pre>"
      ],
      "text/plain": [
       "recommendations finished on 6000/9255 queries. users per second: 22017.9"
      ]
     },
     "metadata": {},
     "output_type": "display_data"
    },
    {
     "data": {
      "text/html": [
       "<pre>recommendations finished on 7000/9255 queries. users per second: 22247.8</pre>"
      ],
      "text/plain": [
       "recommendations finished on 7000/9255 queries. users per second: 22247.8"
      ]
     },
     "metadata": {},
     "output_type": "display_data"
    },
    {
     "data": {
      "text/html": [
       "<pre>recommendations finished on 8000/9255 queries. users per second: 22529.3</pre>"
      ],
      "text/plain": [
       "recommendations finished on 8000/9255 queries. users per second: 22529.3"
      ]
     },
     "metadata": {},
     "output_type": "display_data"
    },
    {
     "data": {
      "text/html": [
       "<pre>recommendations finished on 9000/9255 queries. users per second: 22713.2</pre>"
      ],
      "text/plain": [
       "recommendations finished on 9000/9255 queries. users per second: 22713.2"
      ]
     },
     "metadata": {},
     "output_type": "display_data"
    }
   ],
   "source": [
    "results = pop_model.evaluate_precision_recall(test,cutoffs = list(range(1, 11)))"
   ]
  },
  {
   "cell_type": "code",
   "execution_count": 16,
   "metadata": {},
   "outputs": [],
   "source": [
    "col_names =  ['cutoff', 'precision', 'recall'] \n",
    "popularity_results  = pd.DataFrame(columns = col_names)\n",
    "popularity_results['cutoff'] = np.array(results['precision_recall_overall']['cutoff'])\n",
    "popularity_results['precision'] = np.array(results['precision_recall_overall']['precision'])\n",
    "popularity_results['recall'] = np.array(results['precision_recall_overall']['recall'])"
   ]
  },
  {
   "cell_type": "code",
   "execution_count": 17,
   "metadata": {},
   "outputs": [
    {
     "data": {
      "image/png": "[encoded data removed]",
      "text/plain": [
       "<Figure size 432x288 with 1 Axes>"
      ]
     },
     "metadata": {
      "needs_background": "light"
     },
     "output_type": "display_data"
    }
   ],
   "source": [
    "plt.plot(popularity_results['cutoff'],popularity_results['precision'] )\n",
    "plt.title('precision_at_cutoff_k-Popularity Model For User-Product')\n",
    "plt.xlabel('k')\n",
    "plt.ylabel('precision_at_cutoff_k')\n",
    "plt.show()"
   ]
  },
  {
   "cell_type": "markdown",
   "metadata": {},
   "source": [
    "# Item Based CF - Cosine"
   ]
  },
  {
   "cell_type": "code",
   "execution_count": 18,
   "metadata": {},
   "outputs": [],
   "source": [
    "# constant variables to define field names include:\n",
    "user_id = 'user_id'\n",
    "item_id = 'product_id'\n",
    "target = 'purchase_count'"
   ]
  },
  {
   "cell_type": "code",
   "execution_count": 39,
   "metadata": {},
   "outputs": [],
   "source": [
    "# hyperparameter tuning for S\n",
    "test_s_values = np.arange(1,15,3)\n",
    "def test_s_vals(name):\n",
    "    s_list = []\n",
    "    train = []\n",
    "    val = []\n",
    "    for loc, s in enumerate(test_s_values):\n",
    "        model = tc.item_similarity_recommender.create(train_val,similarity_type=name,user_id=user_id, item_id=item_id,target = target,only_top_k=s)\n",
    "        rmse_train = tc.recommender.util.compare_models(train_val, [model],exclude_known_for_precision_recall=False)\n",
    "        rmse_train = rmse_train[0]['rmse_overall']\n",
    "        s_list.append(s)\n",
    "        train.append(rmse_train)\n",
    "        rmse_val = tc.recommender.util.compare_models(validation, [model], model_names=[\"m1\"], metric='rmse')\n",
    "        rmse_val = rmse_val[0]['rmse_overall']\n",
    "        rec = model.recommend(exclude_known = False)\n",
    "        val.append(rmse_val)\n",
    "    return s_list,train,val"
   ]
  },
  {
   "cell_type": "code",
   "execution_count": 40,
   "metadata": {},
   "outputs": [
    {
     "data": {
      "text/html": [
       "<pre>Preparing data set.</pre>"
      ],
      "text/plain": [
       "Preparing data set."
      ]
     },
     "metadata": {},
     "output_type": "display_data"
    },
    {
     "data": {
      "text/html": [
       "<pre>    Data has 108626 observations with 9672 users and 14105 items.</pre>"
      ],
      "text/plain": [
       "    Data has 108626 observations with 9672 users and 14105 items."
      ]
     },
     "metadata": {},
     "output_type": "display_data"
    },
    {
     "data": {
      "text/html": [
       "<pre>    Data prepared in: 0.112028s</pre>"
      ],
      "text/plain": [
       "    Data prepared in: 0.112028s"
      ]
     },
     "metadata": {},
     "output_type": "display_data"
    },
    {
     "data": {
      "text/html": [
       "<pre>Training model from provided data.</pre>"
      ],
      "text/plain": [
       "Training model from provided data."
      ]
     },
     "metadata": {},
     "output_type": "display_data"
    },
    {
     "data": {
      "text/html": [
       "<pre>Gathering per-item and per-user statistics.</pre>"
      ],
      "text/plain": [
       "Gathering per-item and per-user statistics."
      ]
     },
     "metadata": {},
     "output_type": "display_data"
    },
    {
     "data": {
      "text/html": [
       "<pre>+--------------------------------+------------+</pre>"
      ],
      "text/plain": [
       "+--------------------------------+------------+"
      ]
     },
     "metadata": {},
     "output_type": "display_data"
    },
    {
     "data": {
      "text/html": [
       "<pre>| Elapsed Time (Item Statistics) | % Complete |</pre>"
      ],
      "text/plain": [
       "| Elapsed Time (Item Statistics) | % Complete |"
      ]
     },
     "metadata": {},
     "output_type": "display_data"
    },
    {
     "data": {
      "text/html": [
       "<pre>+--------------------------------+------------+</pre>"
      ],
      "text/plain": [
       "+--------------------------------+------------+"
      ]
     },
     "metadata": {},
     "output_type": "display_data"
    },
    {
     "data": {
      "text/html": [
       "<pre>| 835us                          | 10.25      |</pre>"
      ],
      "text/plain": [
       "| 835us                          | 10.25      |"
      ]
     },
     "metadata": {},
     "output_type": "display_data"
    },
    {
     "data": {
      "text/html": [
       "<pre>| 4.662ms                        | 100        |</pre>"
      ],
      "text/plain": [
       "| 4.662ms                        | 100        |"
      ]
     },
     "metadata": {},
     "output_type": "display_data"
    },
    {
     "data": {
      "text/html": [
       "<pre>+--------------------------------+------------+</pre>"
      ],
      "text/plain": [
       "+--------------------------------+------------+"
      ]
     },
     "metadata": {},
     "output_type": "display_data"
    },
    {
     "data": {
      "text/html": [
       "<pre>Setting up lookup tables.</pre>"
      ],
      "text/plain": [
       "Setting up lookup tables."
      ]
     },
     "metadata": {},
     "output_type": "display_data"
    },
    {
     "data": {
      "text/html": [
       "<pre>Processing data in one pass using dense lookup tables.</pre>"
      ],
      "text/plain": [
       "Processing data in one pass using dense lookup tables."
      ]
     },
     "metadata": {},
     "output_type": "display_data"
    },
    {
     "data": {
      "text/html": [
       "<pre>+-------------------------------------+------------------+-----------------+</pre>"
      ],
      "text/plain": [
       "+-------------------------------------+------------------+-----------------+"
      ]
     },
     "metadata": {},
     "output_type": "display_data"
    },
    {
     "data": {
      "text/html": [
       "<pre>| Elapsed Time (Constructing Lookups) | Total % Complete | Items Processed |</pre>"
      ],
      "text/plain": [
       "| Elapsed Time (Constructing Lookups) | Total % Complete | Items Processed |"
      ]
     },
     "metadata": {},
     "output_type": "display_data"
    },
    {
     "data": {
      "text/html": [
       "<pre>+-------------------------------------+------------------+-----------------+</pre>"
      ],
      "text/plain": [
       "+-------------------------------------+------------------+-----------------+"
      ]
     },
     "metadata": {},
     "output_type": "display_data"
    },
    {
     "data": {
      "text/html": [
       "<pre>| 953.608ms                           | 0                | 3               |</pre>"
      ],
      "text/plain": [
       "| 953.608ms                           | 0                | 3               |"
      ]
     },
     "metadata": {},
     "output_type": "display_data"
    },
    {
     "data": {
      "text/html": [
       "<pre>| 1.67s                               | 100              | 14105           |</pre>"
      ],
      "text/plain": [
       "| 1.67s                               | 100              | 14105           |"
      ]
     },
     "metadata": {},
     "output_type": "display_data"
    },
    {
     "data": {
      "text/html": [
       "<pre>+-------------------------------------+------------------+-----------------+</pre>"
      ],
      "text/plain": [
       "+-------------------------------------+------------------+-----------------+"
      ]
     },
     "metadata": {},
     "output_type": "display_data"
    },
    {
     "data": {
      "text/html": [
       "<pre>Finalizing lookup tables.</pre>"
      ],
      "text/plain": [
       "Finalizing lookup tables."
      ]
     },
     "metadata": {},
     "output_type": "display_data"
    },
    {
     "name": "stdout",
     "output_type": "stream",
     "text": [
      "PROGRESS: Evaluate model M0\n"
     ]
    },
    {
     "data": {
      "text/html": [
       "<pre>Generating candidate set for working with new users.</pre>"
      ],
      "text/plain": [
       "Generating candidate set for working with new users."
      ]
     },
     "metadata": {},
     "output_type": "display_data"
    },
    {
     "data": {
      "text/html": [
       "<pre>Finished training in 1.69166s</pre>"
      ],
      "text/plain": [
       "Finished training in 1.69166s"
      ]
     },
     "metadata": {},
     "output_type": "display_data"
    },
    {
     "data": {
      "text/html": [
       "<pre>recommendations finished on 1000/9672 queries. users per second: 20088</pre>"
      ],
      "text/plain": [
       "recommendations finished on 1000/9672 queries. users per second: 20088"
      ]
     },
     "metadata": {},
     "output_type": "display_data"
    },
    {
     "data": {
      "text/html": [
       "<pre>recommendations finished on 2000/9672 queries. users per second: 19663.7</pre>"
      ],
      "text/plain": [
       "recommendations finished on 2000/9672 queries. users per second: 19663.7"
      ]
     },
     "metadata": {},
     "output_type": "display_data"
    },
    {
     "data": {
      "text/html": [
       "<pre>recommendations finished on 3000/9672 queries. users per second: 18741.3</pre>"
      ],
      "text/plain": [
       "recommendations finished on 3000/9672 queries. users per second: 18741.3"
      ]
     },
     "metadata": {},
     "output_type": "display_data"
    },
    {
     "data": {
      "text/html": [
       "<pre>recommendations finished on 4000/9672 queries. users per second: 17739.7</pre>"
      ],
      "text/plain": [
       "recommendations finished on 4000/9672 queries. users per second: 17739.7"
      ]
     },
     "metadata": {},
     "output_type": "display_data"
    },
    {
     "data": {
      "text/html": [
       "<pre>recommendations finished on 5000/9672 queries. users per second: 16631.6</pre>"
      ],
      "text/plain": [
       "recommendations finished on 5000/9672 queries. users per second: 16631.6"
      ]
     },
     "metadata": {},
     "output_type": "display_data"
    },
    {
     "data": {
      "text/html": [
       "<pre>recommendations finished on 6000/9672 queries. users per second: 15971.8</pre>"
      ],
      "text/plain": [
       "recommendations finished on 6000/9672 queries. users per second: 15971.8"
      ]
     },
     "metadata": {},
     "output_type": "display_data"
    },
    {
     "data": {
      "text/html": [
       "<pre>recommendations finished on 7000/9672 queries. users per second: 16008</pre>"
      ],
      "text/plain": [
       "recommendations finished on 7000/9672 queries. users per second: 16008"
      ]
     },
     "metadata": {},
     "output_type": "display_data"
    },
    {
     "data": {
      "text/html": [
       "<pre>recommendations finished on 8000/9672 queries. users per second: 15987.8</pre>"
      ],
      "text/plain": [
       "recommendations finished on 8000/9672 queries. users per second: 15987.8"
      ]
     },
     "metadata": {},
     "output_type": "display_data"
    },
    {
     "data": {
      "text/html": [
       "<pre>recommendations finished on 9000/9672 queries. users per second: 16029.4</pre>"
      ],
      "text/plain": [
       "recommendations finished on 9000/9672 queries. users per second: 16029.4"
      ]
     },
     "metadata": {},
     "output_type": "display_data"
    },
    {
     "name": "stdout",
     "output_type": "stream",
     "text": [
      "\n",
      "Precision and recall summary statistics by cutoff\n",
      "+--------+---------------------+---------------------+\n",
      "| cutoff |    mean_precision   |     mean_recall     |\n",
      "+--------+---------------------+---------------------+\n",
      "|   1    |  0.2815343258891648 | 0.02590371211498507 |\n",
      "|   2    |  0.2743486352357316 | 0.05218372354603604 |\n",
      "|   3    | 0.22966639095671354 | 0.06566654738786432 |\n",
      "|   4    | 0.20034636062861866 | 0.07652834824972976 |\n",
      "|   5    | 0.17890818858560784 | 0.08516729736562344 |\n",
      "|   6    | 0.16199682933553897 | 0.09203399419992014 |\n",
      "|   7    | 0.14854366064043506 | 0.09766070176824966 |\n",
      "|   8    | 0.13629549214226633 | 0.10136819026108675 |\n",
      "|   9    | 0.12573522654167799 | 0.10411751863772947 |\n",
      "|   10   | 0.11709057071960315 | 0.10654090781273651 |\n",
      "+--------+---------------------+---------------------+\n",
      "[10 rows x 3 columns]\n",
      "\n",
      "\n",
      "Overall RMSE: 1.0559162252439989\n",
      "\n",
      "Per User RMSE (best)\n",
      "+-----------+------+-------+\n",
      "|  user_id  | rmse | count |\n",
      "+-----------+------+-------+\n",
      "| 554542746 | 0.5  |   2   |\n",
      "+-----------+------+-------+\n",
      "[1 rows x 3 columns]\n",
      "\n",
      "\n",
      "Per User RMSE (worst)\n",
      "+-----------+--------------------+-------+\n",
      "|  user_id  |        rmse        | count |\n",
      "+-----------+--------------------+-------+\n",
      "| 475568506 | 2.9934135643567066 |   11  |\n",
      "+-----------+--------------------+-------+\n",
      "[1 rows x 3 columns]\n",
      "\n",
      "\n",
      "Per Item RMSE (best)\n",
      "+------------+----------------------+-------+\n",
      "| product_id |         rmse         | count |\n",
      "+------------+----------------------+-------+\n",
      "|    3776    | 0.048488561596189195 |   1   |\n",
      "+------------+----------------------+-------+\n",
      "[1 rows x 3 columns]\n",
      "\n",
      "\n",
      "Per Item RMSE (worst)\n",
      "+------------+--------------------+-------+\n",
      "| product_id |        rmse        | count |\n",
      "+------------+--------------------+-------+\n",
      "|  5770065   | 2.9154759474226504 |   2   |\n",
      "+------------+--------------------+-------+\n",
      "[1 rows x 3 columns]\n",
      "\n",
      "PROGRESS: Evaluate model m1\n",
      "\n",
      "Overall RMSE: 1.06528813854276\n",
      "\n",
      "Per User RMSE (best)\n",
      "+-----------+--------------------+-------+\n",
      "|  user_id  |        rmse        | count |\n",
      "+-----------+--------------------+-------+\n",
      "| 573139235 | 0.9077865158606763 |   3   |\n",
      "+-----------+--------------------+-------+\n",
      "[1 rows x 3 columns]\n",
      "\n",
      "\n",
      "Per User RMSE (worst)\n",
      "+-----------+------+-------+\n",
      "|  user_id  | rmse | count |\n",
      "+-----------+------+-------+\n",
      "| 475568506 | 6.0  |   1   |\n",
      "+-----------+------+-------+\n",
      "[1 rows x 3 columns]\n",
      "\n",
      "\n",
      "Per Item RMSE (best)\n",
      "+------------+--------------------+-------+\n",
      "| product_id |        rmse        | count |\n",
      "+------------+--------------------+-------+\n",
      "|   13534    | 0.7763932049274445 |   1   |\n",
      "+------------+--------------------+-------+\n",
      "[1 rows x 3 columns]\n",
      "\n",
      "\n",
      "Per Item RMSE (worst)\n",
      "+------------+------+-------+\n",
      "| product_id | rmse | count |\n",
      "+------------+------+-------+\n",
      "|  5739900   | 3.0  |   1   |\n",
      "+------------+------+-------+\n",
      "[1 rows x 3 columns]\n",
      "\n"
     ]
    },
    {
     "data": {
      "text/html": [
       "<pre>recommendations finished on 1000/9672 queries. users per second: 22708.7</pre>"
      ],
      "text/plain": [
       "recommendations finished on 1000/9672 queries. users per second: 22708.7"
      ]
     },
     "metadata": {},
     "output_type": "display_data"
    },
    {
     "data": {
      "text/html": [
       "<pre>recommendations finished on 2000/9672 queries. users per second: 23523.6</pre>"
      ],
      "text/plain": [
       "recommendations finished on 2000/9672 queries. users per second: 23523.6"
      ]
     },
     "metadata": {},
     "output_type": "display_data"
    },
    {
     "data": {
      "text/html": [
       "<pre>recommendations finished on 3000/9672 queries. users per second: 22794.6</pre>"
      ],
      "text/plain": [
       "recommendations finished on 3000/9672 queries. users per second: 22794.6"
      ]
     },
     "metadata": {},
     "output_type": "display_data"
    },
    {
     "data": {
      "text/html": [
       "<pre>recommendations finished on 4000/9672 queries. users per second: 22547.9</pre>"
      ],
      "text/plain": [
       "recommendations finished on 4000/9672 queries. users per second: 22547.9"
      ]
     },
     "metadata": {},
     "output_type": "display_data"
    },
    {
     "data": {
      "text/html": [
       "<pre>recommendations finished on 5000/9672 queries. users per second: 22243.5</pre>"
      ],
      "text/plain": [
       "recommendations finished on 5000/9672 queries. users per second: 22243.5"
      ]
     },
     "metadata": {},
     "output_type": "display_data"
    },
    {
     "data": {
      "text/html": [
       "<pre>recommendations finished on 6000/9672 queries. users per second: 22185.9</pre>"
      ],
      "text/plain": [
       "recommendations finished on 6000/9672 queries. users per second: 22185.9"
      ]
     },
     "metadata": {},
     "output_type": "display_data"
    },
    {
     "data": {
      "text/html": [
       "<pre>recommendations finished on 7000/9672 queries. users per second: 22271.2</pre>"
      ],
      "text/plain": [
       "recommendations finished on 7000/9672 queries. users per second: 22271.2"
      ]
     },
     "metadata": {},
     "output_type": "display_data"
    },
    {
     "data": {
      "text/html": [
       "<pre>recommendations finished on 8000/9672 queries. users per second: 22191.4</pre>"
      ],
      "text/plain": [
       "recommendations finished on 8000/9672 queries. users per second: 22191.4"
      ]
     },
     "metadata": {},
     "output_type": "display_data"
    },
    {
     "data": {
      "text/html": [
       "<pre>recommendations finished on 9000/9672 queries. users per second: 22072.6</pre>"
      ],
      "text/plain": [
       "recommendations finished on 9000/9672 queries. users per second: 22072.6"
      ]
     },
     "metadata": {},
     "output_type": "display_data"
    },
    {
     "data": {
      "text/html": [
       "<pre>Preparing data set.</pre>"
      ],
      "text/plain": [
       "Preparing data set."
      ]
     },
     "metadata": {},
     "output_type": "display_data"
    },
    {
     "data": {
      "text/html": [
       "<pre>    Data has 108626 observations with 9672 users and 14105 items.</pre>"
      ],
      "text/plain": [
       "    Data has 108626 observations with 9672 users and 14105 items."
      ]
     },
     "metadata": {},
     "output_type": "display_data"
    },
    {
     "data": {
      "text/html": [
       "<pre>    Data prepared in: 0.067511s</pre>"
      ],
      "text/plain": [
       "    Data prepared in: 0.067511s"
      ]
     },
     "metadata": {},
     "output_type": "display_data"
    },
    {
     "data": {
      "text/html": [
       "<pre>Training model from provided data.</pre>"
      ],
      "text/plain": [
       "Training model from provided data."
      ]
     },
     "metadata": {},
     "output_type": "display_data"
    },
    {
     "data": {
      "text/html": [
       "<pre>Gathering per-item and per-user statistics.</pre>"
      ],
      "text/plain": [
       "Gathering per-item and per-user statistics."
      ]
     },
     "metadata": {},
     "output_type": "display_data"
    },
    {
     "data": {
      "text/html": [
       "<pre>+--------------------------------+------------+</pre>"
      ],
      "text/plain": [
       "+--------------------------------+------------+"
      ]
     },
     "metadata": {},
     "output_type": "display_data"
    },
    {
     "data": {
      "text/html": [
       "<pre>| Elapsed Time (Item Statistics) | % Complete |</pre>"
      ],
      "text/plain": [
       "| Elapsed Time (Item Statistics) | % Complete |"
      ]
     },
     "metadata": {},
     "output_type": "display_data"
    },
    {
     "data": {
      "text/html": [
       "<pre>+--------------------------------+------------+</pre>"
      ],
      "text/plain": [
       "+--------------------------------+------------+"
      ]
     },
     "metadata": {},
     "output_type": "display_data"
    },
    {
     "data": {
      "text/html": [
       "<pre>| 808us                          | 10.25      |</pre>"
      ],
      "text/plain": [
       "| 808us                          | 10.25      |"
      ]
     },
     "metadata": {},
     "output_type": "display_data"
    },
    {
     "data": {
      "text/html": [
       "<pre>| 3.319ms                        | 100        |</pre>"
      ],
      "text/plain": [
       "| 3.319ms                        | 100        |"
      ]
     },
     "metadata": {},
     "output_type": "display_data"
    },
    {
     "data": {
      "text/html": [
       "<pre>+--------------------------------+------------+</pre>"
      ],
      "text/plain": [
       "+--------------------------------+------------+"
      ]
     },
     "metadata": {},
     "output_type": "display_data"
    },
    {
     "data": {
      "text/html": [
       "<pre>Setting up lookup tables.</pre>"
      ],
      "text/plain": [
       "Setting up lookup tables."
      ]
     },
     "metadata": {},
     "output_type": "display_data"
    },
    {
     "data": {
      "text/html": [
       "<pre>Processing data in one pass using dense lookup tables.</pre>"
      ],
      "text/plain": [
       "Processing data in one pass using dense lookup tables."
      ]
     },
     "metadata": {},
     "output_type": "display_data"
    },
    {
     "data": {
      "text/html": [
       "<pre>+-------------------------------------+------------------+-----------------+</pre>"
      ],
      "text/plain": [
       "+-------------------------------------+------------------+-----------------+"
      ]
     },
     "metadata": {},
     "output_type": "display_data"
    },
    {
     "data": {
      "text/html": [
       "<pre>| Elapsed Time (Constructing Lookups) | Total % Complete | Items Processed |</pre>"
      ],
      "text/plain": [
       "| Elapsed Time (Constructing Lookups) | Total % Complete | Items Processed |"
      ]
     },
     "metadata": {},
     "output_type": "display_data"
    },
    {
     "data": {
      "text/html": [
       "<pre>+-------------------------------------+------------------+-----------------+</pre>"
      ],
      "text/plain": [
       "+-------------------------------------+------------------+-----------------+"
      ]
     },
     "metadata": {},
     "output_type": "display_data"
    },
    {
     "data": {
      "text/html": [
       "<pre>| 932.499ms                           | 0                | 0               |</pre>"
      ],
      "text/plain": [
       "| 932.499ms                           | 0                | 0               |"
      ]
     },
     "metadata": {},
     "output_type": "display_data"
    },
    {
     "data": {
      "text/html": [
       "<pre>| 1.59s                               | 100              | 14105           |</pre>"
      ],
      "text/plain": [
       "| 1.59s                               | 100              | 14105           |"
      ]
     },
     "metadata": {},
     "output_type": "display_data"
    },
    {
     "data": {
      "text/html": [
       "<pre>+-------------------------------------+------------------+-----------------+</pre>"
      ],
      "text/plain": [
       "+-------------------------------------+------------------+-----------------+"
      ]
     },
     "metadata": {},
     "output_type": "display_data"
    },
    {
     "name": "stdout",
     "output_type": "stream",
     "text": [
      "PROGRESS: Evaluate model M0\n"
     ]
    },
    {
     "data": {
      "text/html": [
       "<pre>Finalizing lookup tables.</pre>"
      ],
      "text/plain": [
       "Finalizing lookup tables."
      ]
     },
     "metadata": {},
     "output_type": "display_data"
    },
    {
     "data": {
      "text/html": [
       "<pre>Generating candidate set for working with new users.</pre>"
      ],
      "text/plain": [
       "Generating candidate set for working with new users."
      ]
     },
     "metadata": {},
     "output_type": "display_data"
    },
    {
     "data": {
      "text/html": [
       "<pre>Finished training in 1.60755s</pre>"
      ],
      "text/plain": [
       "Finished training in 1.60755s"
      ]
     },
     "metadata": {},
     "output_type": "display_data"
    },
    {
     "data": {
      "text/html": [
       "<pre>recommendations finished on 1000/9672 queries. users per second: 19943</pre>"
      ],
      "text/plain": [
       "recommendations finished on 1000/9672 queries. users per second: 19943"
      ]
     },
     "metadata": {},
     "output_type": "display_data"
    },
    {
     "data": {
      "text/html": [
       "<pre>recommendations finished on 2000/9672 queries. users per second: 19700.7</pre>"
      ],
      "text/plain": [
       "recommendations finished on 2000/9672 queries. users per second: 19700.7"
      ]
     },
     "metadata": {},
     "output_type": "display_data"
    },
    {
     "data": {
      "text/html": [
       "<pre>recommendations finished on 3000/9672 queries. users per second: 19212</pre>"
      ],
      "text/plain": [
       "recommendations finished on 3000/9672 queries. users per second: 19212"
      ]
     },
     "metadata": {},
     "output_type": "display_data"
    },
    {
     "data": {
      "text/html": [
       "<pre>recommendations finished on 4000/9672 queries. users per second: 18878.7</pre>"
      ],
      "text/plain": [
       "recommendations finished on 4000/9672 queries. users per second: 18878.7"
      ]
     },
     "metadata": {},
     "output_type": "display_data"
    },
    {
     "data": {
      "text/html": [
       "<pre>recommendations finished on 5000/9672 queries. users per second: 17631</pre>"
      ],
      "text/plain": [
       "recommendations finished on 5000/9672 queries. users per second: 17631"
      ]
     },
     "metadata": {},
     "output_type": "display_data"
    },
    {
     "data": {
      "text/html": [
       "<pre>recommendations finished on 6000/9672 queries. users per second: 17383</pre>"
      ],
      "text/plain": [
       "recommendations finished on 6000/9672 queries. users per second: 17383"
      ]
     },
     "metadata": {},
     "output_type": "display_data"
    },
    {
     "data": {
      "text/html": [
       "<pre>recommendations finished on 7000/9672 queries. users per second: 17074.6</pre>"
      ],
      "text/plain": [
       "recommendations finished on 7000/9672 queries. users per second: 17074.6"
      ]
     },
     "metadata": {},
     "output_type": "display_data"
    },
    {
     "data": {
      "text/html": [
       "<pre>recommendations finished on 8000/9672 queries. users per second: 17212.6</pre>"
      ],
      "text/plain": [
       "recommendations finished on 8000/9672 queries. users per second: 17212.6"
      ]
     },
     "metadata": {},
     "output_type": "display_data"
    },
    {
     "data": {
      "text/html": [
       "<pre>recommendations finished on 9000/9672 queries. users per second: 17345.5</pre>"
      ],
      "text/plain": [
       "recommendations finished on 9000/9672 queries. users per second: 17345.5"
      ]
     },
     "metadata": {},
     "output_type": "display_data"
    },
    {
     "name": "stdout",
     "output_type": "stream",
     "text": [
      "\n",
      "Precision and recall summary statistics by cutoff\n",
      "+--------+---------------------+---------------------+\n",
      "| cutoff |    mean_precision   |     mean_recall     |\n",
      "+--------+---------------------+---------------------+\n",
      "|   1    |  0.3471877584780808 | 0.03195403147605707 |\n",
      "|   2    |  0.3224772539288669 | 0.05952258047598894 |\n",
      "|   3    | 0.30193686242073403 | 0.08333963071991396 |\n",
      "|   4    |  0.2830334987593044 | 0.10355315854180502 |\n",
      "|   5    |  0.2635235732009926 |  0.1200731825286086 |\n",
      "|   6    | 0.23736903777226318 | 0.13019342601977826 |\n",
      "|   7    | 0.21682618456812003 |  0.1391175858424722 |\n",
      "|   8    | 0.20024296939619535 | 0.14726794467751833 |\n",
      "|   9    |  0.1866326624391142 |  0.1546439351364178 |\n",
      "|   10   | 0.17500000000000013 | 0.16165773529797312 |\n",
      "+--------+---------------------+---------------------+\n",
      "[10 rows x 3 columns]\n",
      "\n",
      "\n",
      "Overall RMSE: 1.0397490166928416\n",
      "\n",
      "Per User RMSE (best)\n",
      "+-----------+--------------------+-------+\n",
      "|  user_id  |        rmse        | count |\n",
      "+-----------+--------------------+-------+\n",
      "| 552740693 | 0.3314265853236577 |   5   |\n",
      "+-----------+--------------------+-------+\n",
      "[1 rows x 3 columns]\n",
      "\n",
      "\n",
      "Per User RMSE (worst)\n",
      "+-----------+-------------------+-------+\n",
      "|  user_id  |        rmse       | count |\n",
      "+-----------+-------------------+-------+\n",
      "| 475568506 | 2.769243971851517 |   11  |\n",
      "+-----------+-------------------+-------+\n",
      "[1 rows x 3 columns]\n",
      "\n",
      "\n",
      "Per Item RMSE (best)\n",
      "+------------+-----------------------+-------+\n",
      "| product_id |          rmse         | count |\n",
      "+------------+-----------------------+-------+\n",
      "|    3776    | 0.0020190647670201844 |   1   |\n",
      "+------------+-----------------------+-------+\n",
      "[1 rows x 3 columns]\n",
      "\n",
      "\n",
      "Per Item RMSE (worst)\n",
      "+------------+--------------------+-------+\n",
      "| product_id |        rmse        | count |\n",
      "+------------+--------------------+-------+\n",
      "|  5770065   | 2.8821439064850773 |   2   |\n",
      "+------------+--------------------+-------+\n",
      "[1 rows x 3 columns]\n",
      "\n",
      "PROGRESS: Evaluate model m1\n",
      "\n",
      "Overall RMSE: 1.063458648671032\n",
      "\n",
      "Per User RMSE (best)\n",
      "+-----------+--------------------+-------+\n",
      "|  user_id  |        rmse        | count |\n",
      "+-----------+--------------------+-------+\n",
      "| 559853046 | 0.8188660939534506 |   1   |\n",
      "+-----------+--------------------+-------+\n",
      "[1 rows x 3 columns]\n",
      "\n",
      "\n",
      "Per User RMSE (worst)\n",
      "+-----------+------+-------+\n",
      "|  user_id  | rmse | count |\n",
      "+-----------+------+-------+\n",
      "| 475568506 | 6.0  |   1   |\n",
      "+-----------+------+-------+\n",
      "[1 rows x 3 columns]\n",
      "\n",
      "\n",
      "Per Item RMSE (best)\n",
      "+------------+--------------------+-------+\n",
      "| product_id |        rmse        | count |\n",
      "+------------+--------------------+-------+\n",
      "|  5819591   | 0.5975158363580704 |   1   |\n",
      "+------------+--------------------+-------+\n",
      "[1 rows x 3 columns]\n",
      "\n",
      "\n",
      "Per Item RMSE (worst)\n",
      "+------------+------+-------+\n",
      "| product_id | rmse | count |\n",
      "+------------+------+-------+\n",
      "|  5739900   | 3.0  |   1   |\n",
      "+------------+------+-------+\n",
      "[1 rows x 3 columns]\n",
      "\n"
     ]
    },
    {
     "data": {
      "text/html": [
       "<pre>recommendations finished on 1000/9672 queries. users per second: 20589.3</pre>"
      ],
      "text/plain": [
       "recommendations finished on 1000/9672 queries. users per second: 20589.3"
      ]
     },
     "metadata": {},
     "output_type": "display_data"
    },
    {
     "data": {
      "text/html": [
       "<pre>recommendations finished on 2000/9672 queries. users per second: 21199</pre>"
      ],
      "text/plain": [
       "recommendations finished on 2000/9672 queries. users per second: 21199"
      ]
     },
     "metadata": {},
     "output_type": "display_data"
    },
    {
     "data": {
      "text/html": [
       "<pre>recommendations finished on 3000/9672 queries. users per second: 21197.8</pre>"
      ],
      "text/plain": [
       "recommendations finished on 3000/9672 queries. users per second: 21197.8"
      ]
     },
     "metadata": {},
     "output_type": "display_data"
    },
    {
     "data": {
      "text/html": [
       "<pre>recommendations finished on 4000/9672 queries. users per second: 21626.9</pre>"
      ],
      "text/plain": [
       "recommendations finished on 4000/9672 queries. users per second: 21626.9"
      ]
     },
     "metadata": {},
     "output_type": "display_data"
    },
    {
     "data": {
      "text/html": [
       "<pre>recommendations finished on 5000/9672 queries. users per second: 21028.5</pre>"
      ],
      "text/plain": [
       "recommendations finished on 5000/9672 queries. users per second: 21028.5"
      ]
     },
     "metadata": {},
     "output_type": "display_data"
    },
    {
     "data": {
      "text/html": [
       "<pre>recommendations finished on 6000/9672 queries. users per second: 20864.3</pre>"
      ],
      "text/plain": [
       "recommendations finished on 6000/9672 queries. users per second: 20864.3"
      ]
     },
     "metadata": {},
     "output_type": "display_data"
    },
    {
     "data": {
      "text/html": [
       "<pre>recommendations finished on 7000/9672 queries. users per second: 20544</pre>"
      ],
      "text/plain": [
       "recommendations finished on 7000/9672 queries. users per second: 20544"
      ]
     },
     "metadata": {},
     "output_type": "display_data"
    },
    {
     "data": {
      "text/html": [
       "<pre>recommendations finished on 8000/9672 queries. users per second: 18447.1</pre>"
      ],
      "text/plain": [
       "recommendations finished on 8000/9672 queries. users per second: 18447.1"
      ]
     },
     "metadata": {},
     "output_type": "display_data"
    },
    {
     "data": {
      "text/html": [
       "<pre>recommendations finished on 9000/9672 queries. users per second: 18602.6</pre>"
      ],
      "text/plain": [
       "recommendations finished on 9000/9672 queries. users per second: 18602.6"
      ]
     },
     "metadata": {},
     "output_type": "display_data"
    },
    {
     "data": {
      "text/html": [
       "<pre>Preparing data set.</pre>"
      ],
      "text/plain": [
       "Preparing data set."
      ]
     },
     "metadata": {},
     "output_type": "display_data"
    },
    {
     "data": {
      "text/html": [
       "<pre>    Data has 108626 observations with 9672 users and 14105 items.</pre>"
      ],
      "text/plain": [
       "    Data has 108626 observations with 9672 users and 14105 items."
      ]
     },
     "metadata": {},
     "output_type": "display_data"
    },
    {
     "data": {
      "text/html": [
       "<pre>    Data prepared in: 0.077805s</pre>"
      ],
      "text/plain": [
       "    Data prepared in: 0.077805s"
      ]
     },
     "metadata": {},
     "output_type": "display_data"
    },
    {
     "data": {
      "text/html": [
       "<pre>Training model from provided data.</pre>"
      ],
      "text/plain": [
       "Training model from provided data."
      ]
     },
     "metadata": {},
     "output_type": "display_data"
    },
    {
     "data": {
      "text/html": [
       "<pre>Gathering per-item and per-user statistics.</pre>"
      ],
      "text/plain": [
       "Gathering per-item and per-user statistics."
      ]
     },
     "metadata": {},
     "output_type": "display_data"
    },
    {
     "data": {
      "text/html": [
       "<pre>+--------------------------------+------------+</pre>"
      ],
      "text/plain": [
       "+--------------------------------+------------+"
      ]
     },
     "metadata": {},
     "output_type": "display_data"
    },
    {
     "data": {
      "text/html": [
       "<pre>| Elapsed Time (Item Statistics) | % Complete |</pre>"
      ],
      "text/plain": [
       "| Elapsed Time (Item Statistics) | % Complete |"
      ]
     },
     "metadata": {},
     "output_type": "display_data"
    },
    {
     "data": {
      "text/html": [
       "<pre>+--------------------------------+------------+</pre>"
      ],
      "text/plain": [
       "+--------------------------------+------------+"
      ]
     },
     "metadata": {},
     "output_type": "display_data"
    },
    {
     "data": {
      "text/html": [
       "<pre>| 881us                          | 10.25      |</pre>"
      ],
      "text/plain": [
       "| 881us                          | 10.25      |"
      ]
     },
     "metadata": {},
     "output_type": "display_data"
    },
    {
     "data": {
      "text/html": [
       "<pre>| 4.034ms                        | 100        |</pre>"
      ],
      "text/plain": [
       "| 4.034ms                        | 100        |"
      ]
     },
     "metadata": {},
     "output_type": "display_data"
    },
    {
     "data": {
      "text/html": [
       "<pre>+--------------------------------+------------+</pre>"
      ],
      "text/plain": [
       "+--------------------------------+------------+"
      ]
     },
     "metadata": {},
     "output_type": "display_data"
    },
    {
     "data": {
      "text/html": [
       "<pre>Setting up lookup tables.</pre>"
      ],
      "text/plain": [
       "Setting up lookup tables."
      ]
     },
     "metadata": {},
     "output_type": "display_data"
    },
    {
     "data": {
      "text/html": [
       "<pre>Processing data in one pass using dense lookup tables.</pre>"
      ],
      "text/plain": [
       "Processing data in one pass using dense lookup tables."
      ]
     },
     "metadata": {},
     "output_type": "display_data"
    },
    {
     "data": {
      "text/html": [
       "<pre>+-------------------------------------+------------------+-----------------+</pre>"
      ],
      "text/plain": [
       "+-------------------------------------+------------------+-----------------+"
      ]
     },
     "metadata": {},
     "output_type": "display_data"
    },
    {
     "data": {
      "text/html": [
       "<pre>| Elapsed Time (Constructing Lookups) | Total % Complete | Items Processed |</pre>"
      ],
      "text/plain": [
       "| Elapsed Time (Constructing Lookups) | Total % Complete | Items Processed |"
      ]
     },
     "metadata": {},
     "output_type": "display_data"
    },
    {
     "data": {
      "text/html": [
       "<pre>+-------------------------------------+------------------+-----------------+</pre>"
      ],
      "text/plain": [
       "+-------------------------------------+------------------+-----------------+"
      ]
     },
     "metadata": {},
     "output_type": "display_data"
    },
    {
     "data": {
      "text/html": [
       "<pre>| 1.04s                               | 0                | 0               |</pre>"
      ],
      "text/plain": [
       "| 1.04s                               | 0                | 0               |"
      ]
     },
     "metadata": {},
     "output_type": "display_data"
    },
    {
     "data": {
      "text/html": [
       "<pre>| 1.83s                               | 100              | 14105           |</pre>"
      ],
      "text/plain": [
       "| 1.83s                               | 100              | 14105           |"
      ]
     },
     "metadata": {},
     "output_type": "display_data"
    },
    {
     "data": {
      "text/html": [
       "<pre>+-------------------------------------+------------------+-----------------+</pre>"
      ],
      "text/plain": [
       "+-------------------------------------+------------------+-----------------+"
      ]
     },
     "metadata": {},
     "output_type": "display_data"
    },
    {
     "name": "stdout",
     "output_type": "stream",
     "text": [
      "PROGRESS: Evaluate model M0"
     ]
    },
    {
     "data": {
      "text/html": [
       "<pre>Finalizing lookup tables.</pre>"
      ],
      "text/plain": [
       "Finalizing lookup tables."
      ]
     },
     "metadata": {},
     "output_type": "display_data"
    },
    {
     "name": "stdout",
     "output_type": "stream",
     "text": [
      "\n"
     ]
    },
    {
     "data": {
      "text/html": [
       "<pre>Generating candidate set for working with new users.</pre>"
      ],
      "text/plain": [
       "Generating candidate set for working with new users."
      ]
     },
     "metadata": {},
     "output_type": "display_data"
    },
    {
     "data": {
      "text/html": [
       "<pre>Finished training in 1.84336s</pre>"
      ],
      "text/plain": [
       "Finished training in 1.84336s"
      ]
     },
     "metadata": {},
     "output_type": "display_data"
    },
    {
     "data": {
      "text/html": [
       "<pre>recommendations finished on 1000/9672 queries. users per second: 18119.6</pre>"
      ],
      "text/plain": [
       "recommendations finished on 1000/9672 queries. users per second: 18119.6"
      ]
     },
     "metadata": {},
     "output_type": "display_data"
    },
    {
     "data": {
      "text/html": [
       "<pre>recommendations finished on 2000/9672 queries. users per second: 18511.3</pre>"
      ],
      "text/plain": [
       "recommendations finished on 2000/9672 queries. users per second: 18511.3"
      ]
     },
     "metadata": {},
     "output_type": "display_data"
    },
    {
     "data": {
      "text/html": [
       "<pre>recommendations finished on 3000/9672 queries. users per second: 18737.7</pre>"
      ],
      "text/plain": [
       "recommendations finished on 3000/9672 queries. users per second: 18737.7"
      ]
     },
     "metadata": {},
     "output_type": "display_data"
    },
    {
     "data": {
      "text/html": [
       "<pre>recommendations finished on 4000/9672 queries. users per second: 19019.8</pre>"
      ],
      "text/plain": [
       "recommendations finished on 4000/9672 queries. users per second: 19019.8"
      ]
     },
     "metadata": {},
     "output_type": "display_data"
    },
    {
     "data": {
      "text/html": [
       "<pre>recommendations finished on 5000/9672 queries. users per second: 18946.9</pre>"
      ],
      "text/plain": [
       "recommendations finished on 5000/9672 queries. users per second: 18946.9"
      ]
     },
     "metadata": {},
     "output_type": "display_data"
    },
    {
     "data": {
      "text/html": [
       "<pre>recommendations finished on 6000/9672 queries. users per second: 18824.8</pre>"
      ],
      "text/plain": [
       "recommendations finished on 6000/9672 queries. users per second: 18824.8"
      ]
     },
     "metadata": {},
     "output_type": "display_data"
    },
    {
     "data": {
      "text/html": [
       "<pre>recommendations finished on 7000/9672 queries. users per second: 18709.2</pre>"
      ],
      "text/plain": [
       "recommendations finished on 7000/9672 queries. users per second: 18709.2"
      ]
     },
     "metadata": {},
     "output_type": "display_data"
    },
    {
     "data": {
      "text/html": [
       "<pre>recommendations finished on 8000/9672 queries. users per second: 18675.4</pre>"
      ],
      "text/plain": [
       "recommendations finished on 8000/9672 queries. users per second: 18675.4"
      ]
     },
     "metadata": {},
     "output_type": "display_data"
    },
    {
     "data": {
      "text/html": [
       "<pre>recommendations finished on 9000/9672 queries. users per second: 18699.9</pre>"
      ],
      "text/plain": [
       "recommendations finished on 9000/9672 queries. users per second: 18699.9"
      ]
     },
     "metadata": {},
     "output_type": "display_data"
    },
    {
     "name": "stdout",
     "output_type": "stream",
     "text": [
      "\n",
      "Precision and recall summary statistics by cutoff\n",
      "+--------+---------------------+---------------------+\n",
      "| cutoff |    mean_precision   |     mean_recall     |\n",
      "+--------+---------------------+---------------------+\n",
      "|   1    | 0.38554590570719655 | 0.03605073525173537 |\n",
      "|   2    |  0.3588192721257238 | 0.06657668312578574 |\n",
      "|   3    | 0.33933002481389607 | 0.09397905028156028 |\n",
      "|   4    |  0.3188844086021501 | 0.11706772389101087 |\n",
      "|   5    |  0.2996898263027294 | 0.13620797831870454 |\n",
      "|   6    | 0.28106906534325915 |  0.1521666035505484 |\n",
      "|   7    |  0.2650064988774658 | 0.16627475884352494 |\n",
      "|   8    | 0.24952181555004135 | 0.17808882061126702 |\n",
      "|   9    |  0.2324120025732931 | 0.18673336225843315 |\n",
      "|   10   |  0.2172973531844498 |  0.1941319390472121 |\n",
      "+--------+---------------------+---------------------+\n",
      "[10 rows x 3 columns]\n",
      "\n",
      "\n",
      "Overall RMSE: 1.029539512674501\n",
      "\n",
      "Per User RMSE (best)\n",
      "+-----------+--------------------+-------+\n",
      "|  user_id  |        rmse        | count |\n",
      "+-----------+--------------------+-------+\n",
      "| 551676410 | 0.1428571428571429 |   7   |\n",
      "+-----------+--------------------+-------+\n",
      "[1 rows x 3 columns]\n",
      "\n",
      "\n",
      "Per User RMSE (worst)\n",
      "+-----------+-------------------+-------+\n",
      "|  user_id  |        rmse       | count |\n",
      "+-----------+-------------------+-------+\n",
      "| 475568506 | 2.685772420651417 |   11  |\n",
      "+-----------+-------------------+-------+\n",
      "[1 rows x 3 columns]\n",
      "\n",
      "\n",
      "Per Item RMSE (best)\n",
      "+------------+-----------------------+-------+\n",
      "| product_id |          rmse         | count |\n",
      "+------------+-----------------------+-------+\n",
      "|  5834356   | 0.0029864481517247743 |   1   |\n",
      "+------------+-----------------------+-------+\n",
      "[1 rows x 3 columns]\n",
      "\n",
      "\n",
      "Per Item RMSE (worst)\n",
      "+------------+--------------------+-------+\n",
      "| product_id |        rmse        | count |\n",
      "+------------+--------------------+-------+\n",
      "|  5770065   | 2.8526944854791156 |   2   |\n",
      "+------------+--------------------+-------+\n",
      "[1 rows x 3 columns]\n",
      "\n",
      "PROGRESS: Evaluate model m1\n",
      "\n",
      "Overall RMSE: 1.0624364214749076\n",
      "\n",
      "Per User RMSE (best)\n",
      "+-----------+--------------------+-------+\n",
      "|  user_id  |        rmse        | count |\n",
      "+-----------+--------------------+-------+\n",
      "| 574078264 | 0.7725252648639557 |   2   |\n",
      "+-----------+--------------------+-------+\n",
      "[1 rows x 3 columns]\n",
      "\n",
      "\n",
      "Per User RMSE (worst)\n",
      "+-----------+------+-------+\n",
      "|  user_id  | rmse | count |\n",
      "+-----------+------+-------+\n",
      "| 475568506 | 6.0  |   1   |\n",
      "+-----------+------+-------+\n",
      "[1 rows x 3 columns]\n",
      "\n",
      "\n",
      "Per Item RMSE (best)\n",
      "+------------+--------------------+-------+\n",
      "| product_id |        rmse        | count |\n",
      "+------------+--------------------+-------+\n",
      "|  5819591   | 0.5975158363580704 |   1   |\n",
      "+------------+--------------------+-------+\n",
      "[1 rows x 3 columns]\n",
      "\n",
      "\n",
      "Per Item RMSE (worst)\n",
      "+------------+------+-------+\n",
      "| product_id | rmse | count |\n",
      "+------------+------+-------+\n",
      "|  5739900   | 3.0  |   1   |\n",
      "+------------+------+-------+\n",
      "[1 rows x 3 columns]\n",
      "\n"
     ]
    },
    {
     "data": {
      "text/html": [
       "<pre>recommendations finished on 1000/9672 queries. users per second: 23516.1</pre>"
      ],
      "text/plain": [
       "recommendations finished on 1000/9672 queries. users per second: 23516.1"
      ]
     },
     "metadata": {},
     "output_type": "display_data"
    },
    {
     "data": {
      "text/html": [
       "<pre>recommendations finished on 2000/9672 queries. users per second: 22922.1</pre>"
      ],
      "text/plain": [
       "recommendations finished on 2000/9672 queries. users per second: 22922.1"
      ]
     },
     "metadata": {},
     "output_type": "display_data"
    },
    {
     "data": {
      "text/html": [
       "<pre>recommendations finished on 3000/9672 queries. users per second: 22978.6</pre>"
      ],
      "text/plain": [
       "recommendations finished on 3000/9672 queries. users per second: 22978.6"
      ]
     },
     "metadata": {},
     "output_type": "display_data"
    },
    {
     "data": {
      "text/html": [
       "<pre>recommendations finished on 4000/9672 queries. users per second: 21935.5</pre>"
      ],
      "text/plain": [
       "recommendations finished on 4000/9672 queries. users per second: 21935.5"
      ]
     },
     "metadata": {},
     "output_type": "display_data"
    },
    {
     "data": {
      "text/html": [
       "<pre>recommendations finished on 5000/9672 queries. users per second: 22140.1</pre>"
      ],
      "text/plain": [
       "recommendations finished on 5000/9672 queries. users per second: 22140.1"
      ]
     },
     "metadata": {},
     "output_type": "display_data"
    },
    {
     "data": {
      "text/html": [
       "<pre>recommendations finished on 6000/9672 queries. users per second: 21763.3</pre>"
      ],
      "text/plain": [
       "recommendations finished on 6000/9672 queries. users per second: 21763.3"
      ]
     },
     "metadata": {},
     "output_type": "display_data"
    },
    {
     "data": {
      "text/html": [
       "<pre>recommendations finished on 7000/9672 queries. users per second: 21810.9</pre>"
      ],
      "text/plain": [
       "recommendations finished on 7000/9672 queries. users per second: 21810.9"
      ]
     },
     "metadata": {},
     "output_type": "display_data"
    },
    {
     "data": {
      "text/html": [
       "<pre>recommendations finished on 8000/9672 queries. users per second: 21760.9</pre>"
      ],
      "text/plain": [
       "recommendations finished on 8000/9672 queries. users per second: 21760.9"
      ]
     },
     "metadata": {},
     "output_type": "display_data"
    },
    {
     "data": {
      "text/html": [
       "<pre>recommendations finished on 9000/9672 queries. users per second: 21907.6</pre>"
      ],
      "text/plain": [
       "recommendations finished on 9000/9672 queries. users per second: 21907.6"
      ]
     },
     "metadata": {},
     "output_type": "display_data"
    },
    {
     "data": {
      "text/html": [
       "<pre>Preparing data set.</pre>"
      ],
      "text/plain": [
       "Preparing data set."
      ]
     },
     "metadata": {},
     "output_type": "display_data"
    },
    {
     "data": {
      "text/html": [
       "<pre>    Data has 108626 observations with 9672 users and 14105 items.</pre>"
      ],
      "text/plain": [
       "    Data has 108626 observations with 9672 users and 14105 items."
      ]
     },
     "metadata": {},
     "output_type": "display_data"
    },
    {
     "data": {
      "text/html": [
       "<pre>    Data prepared in: 0.068694s</pre>"
      ],
      "text/plain": [
       "    Data prepared in: 0.068694s"
      ]
     },
     "metadata": {},
     "output_type": "display_data"
    },
    {
     "data": {
      "text/html": [
       "<pre>Training model from provided data.</pre>"
      ],
      "text/plain": [
       "Training model from provided data."
      ]
     },
     "metadata": {},
     "output_type": "display_data"
    },
    {
     "data": {
      "text/html": [
       "<pre>Gathering per-item and per-user statistics.</pre>"
      ],
      "text/plain": [
       "Gathering per-item and per-user statistics."
      ]
     },
     "metadata": {},
     "output_type": "display_data"
    },
    {
     "data": {
      "text/html": [
       "<pre>+--------------------------------+------------+</pre>"
      ],
      "text/plain": [
       "+--------------------------------+------------+"
      ]
     },
     "metadata": {},
     "output_type": "display_data"
    },
    {
     "data": {
      "text/html": [
       "<pre>| Elapsed Time (Item Statistics) | % Complete |</pre>"
      ],
      "text/plain": [
       "| Elapsed Time (Item Statistics) | % Complete |"
      ]
     },
     "metadata": {},
     "output_type": "display_data"
    },
    {
     "data": {
      "text/html": [
       "<pre>+--------------------------------+------------+</pre>"
      ],
      "text/plain": [
       "+--------------------------------+------------+"
      ]
     },
     "metadata": {},
     "output_type": "display_data"
    },
    {
     "data": {
      "text/html": [
       "<pre>| 652us                          | 10.25      |</pre>"
      ],
      "text/plain": [
       "| 652us                          | 10.25      |"
      ]
     },
     "metadata": {},
     "output_type": "display_data"
    },
    {
     "data": {
      "text/html": [
       "<pre>| 2.82ms                         | 100        |</pre>"
      ],
      "text/plain": [
       "| 2.82ms                         | 100        |"
      ]
     },
     "metadata": {},
     "output_type": "display_data"
    },
    {
     "data": {
      "text/html": [
       "<pre>+--------------------------------+------------+</pre>"
      ],
      "text/plain": [
       "+--------------------------------+------------+"
      ]
     },
     "metadata": {},
     "output_type": "display_data"
    },
    {
     "data": {
      "text/html": [
       "<pre>Setting up lookup tables.</pre>"
      ],
      "text/plain": [
       "Setting up lookup tables."
      ]
     },
     "metadata": {},
     "output_type": "display_data"
    },
    {
     "data": {
      "text/html": [
       "<pre>Processing data in one pass using dense lookup tables.</pre>"
      ],
      "text/plain": [
       "Processing data in one pass using dense lookup tables."
      ]
     },
     "metadata": {},
     "output_type": "display_data"
    },
    {
     "data": {
      "text/html": [
       "<pre>+-------------------------------------+------------------+-----------------+</pre>"
      ],
      "text/plain": [
       "+-------------------------------------+------------------+-----------------+"
      ]
     },
     "metadata": {},
     "output_type": "display_data"
    },
    {
     "data": {
      "text/html": [
       "<pre>| Elapsed Time (Constructing Lookups) | Total % Complete | Items Processed |</pre>"
      ],
      "text/plain": [
       "| Elapsed Time (Constructing Lookups) | Total % Complete | Items Processed |"
      ]
     },
     "metadata": {},
     "output_type": "display_data"
    },
    {
     "data": {
      "text/html": [
       "<pre>+-------------------------------------+------------------+-----------------+</pre>"
      ],
      "text/plain": [
       "+-------------------------------------+------------------+-----------------+"
      ]
     },
     "metadata": {},
     "output_type": "display_data"
    },
    {
     "data": {
      "text/html": [
       "<pre>| 908.571ms                           | 0                | 0               |</pre>"
      ],
      "text/plain": [
       "| 908.571ms                           | 0                | 0               |"
      ]
     },
     "metadata": {},
     "output_type": "display_data"
    },
    {
     "data": {
      "text/html": [
       "<pre>| 1.58s                               | 100              | 14105           |</pre>"
      ],
      "text/plain": [
       "| 1.58s                               | 100              | 14105           |"
      ]
     },
     "metadata": {},
     "output_type": "display_data"
    },
    {
     "data": {
      "text/html": [
       "<pre>+-------------------------------------+------------------+-----------------+</pre>"
      ],
      "text/plain": [
       "+-------------------------------------+------------------+-----------------+"
      ]
     },
     "metadata": {},
     "output_type": "display_data"
    },
    {
     "name": "stdout",
     "output_type": "stream",
     "text": [
      "PROGRESS: Evaluate model M0\n"
     ]
    },
    {
     "data": {
      "text/html": [
       "<pre>Finalizing lookup tables.</pre>"
      ],
      "text/plain": [
       "Finalizing lookup tables."
      ]
     },
     "metadata": {},
     "output_type": "display_data"
    },
    {
     "data": {
      "text/html": [
       "<pre>Generating candidate set for working with new users.</pre>"
      ],
      "text/plain": [
       "Generating candidate set for working with new users."
      ]
     },
     "metadata": {},
     "output_type": "display_data"
    },
    {
     "data": {
      "text/html": [
       "<pre>Finished training in 1.59825s</pre>"
      ],
      "text/plain": [
       "Finished training in 1.59825s"
      ]
     },
     "metadata": {},
     "output_type": "display_data"
    },
    {
     "data": {
      "text/html": [
       "<pre>recommendations finished on 1000/9672 queries. users per second: 16848.3</pre>"
      ],
      "text/plain": [
       "recommendations finished on 1000/9672 queries. users per second: 16848.3"
      ]
     },
     "metadata": {},
     "output_type": "display_data"
    },
    {
     "data": {
      "text/html": [
       "<pre>recommendations finished on 2000/9672 queries. users per second: 18071.1</pre>"
      ],
      "text/plain": [
       "recommendations finished on 2000/9672 queries. users per second: 18071.1"
      ]
     },
     "metadata": {},
     "output_type": "display_data"
    },
    {
     "data": {
      "text/html": [
       "<pre>recommendations finished on 3000/9672 queries. users per second: 18022</pre>"
      ],
      "text/plain": [
       "recommendations finished on 3000/9672 queries. users per second: 18022"
      ]
     },
     "metadata": {},
     "output_type": "display_data"
    },
    {
     "data": {
      "text/html": [
       "<pre>recommendations finished on 4000/9672 queries. users per second: 18426</pre>"
      ],
      "text/plain": [
       "recommendations finished on 4000/9672 queries. users per second: 18426"
      ]
     },
     "metadata": {},
     "output_type": "display_data"
    },
    {
     "data": {
      "text/html": [
       "<pre>recommendations finished on 5000/9672 queries. users per second: 18483.9</pre>"
      ],
      "text/plain": [
       "recommendations finished on 5000/9672 queries. users per second: 18483.9"
      ]
     },
     "metadata": {},
     "output_type": "display_data"
    },
    {
     "data": {
      "text/html": [
       "<pre>recommendations finished on 6000/9672 queries. users per second: 18445</pre>"
      ],
      "text/plain": [
       "recommendations finished on 6000/9672 queries. users per second: 18445"
      ]
     },
     "metadata": {},
     "output_type": "display_data"
    },
    {
     "data": {
      "text/html": [
       "<pre>recommendations finished on 7000/9672 queries. users per second: 18623.2</pre>"
      ],
      "text/plain": [
       "recommendations finished on 7000/9672 queries. users per second: 18623.2"
      ]
     },
     "metadata": {},
     "output_type": "display_data"
    },
    {
     "data": {
      "text/html": [
       "<pre>recommendations finished on 8000/9672 queries. users per second: 18636.3</pre>"
      ],
      "text/plain": [
       "recommendations finished on 8000/9672 queries. users per second: 18636.3"
      ]
     },
     "metadata": {},
     "output_type": "display_data"
    },
    {
     "data": {
      "text/html": [
       "<pre>recommendations finished on 9000/9672 queries. users per second: 18646</pre>"
      ],
      "text/plain": [
       "recommendations finished on 9000/9672 queries. users per second: 18646"
      ]
     },
     "metadata": {},
     "output_type": "display_data"
    },
    {
     "name": "stdout",
     "output_type": "stream",
     "text": [
      "\n",
      "Precision and recall summary statistics by cutoff\n",
      "+--------+---------------------+----------------------+\n",
      "| cutoff |    mean_precision   |     mean_recall      |\n",
      "+--------+---------------------+----------------------+\n",
      "|   1    | 0.41552936311000843 | 0.039045934413712236 |\n",
      "|   2    | 0.38704507857733655 | 0.07224811803987465  |\n",
      "|   3    | 0.36707333884753324 | 0.10232176626660021  |\n",
      "|   4    |  0.345972911497105  | 0.12754106204379934  |\n",
      "|   5    |  0.3265508684863522 | 0.14907375562757433  |\n",
      "|   6    |  0.3079507857733665 | 0.16701574043235443  |\n",
      "|   7    |  0.2904998227578873 | 0.18247888906121673  |\n",
      "|   8    | 0.27418062448304353 |  0.1953640646003364  |\n",
      "|   9    | 0.25990258248322806 |  0.2068673811131047  |\n",
      "|   10   | 0.24583333333333318 | 0.21615157373340296  |\n",
      "+--------+---------------------+----------------------+\n",
      "[10 rows x 3 columns]\n",
      "\n",
      "\n",
      "Overall RMSE: 1.0224047824712827\n",
      "\n",
      "Per User RMSE (best)\n",
      "+-----------+--------------------+-------+\n",
      "|  user_id  |        rmse        | count |\n",
      "+-----------+--------------------+-------+\n",
      "| 551676410 | 0.1428571428571429 |   7   |\n",
      "+-----------+--------------------+-------+\n",
      "[1 rows x 3 columns]\n",
      "\n",
      "\n",
      "Per User RMSE (worst)\n",
      "+-----------+--------------------+-------+\n",
      "|  user_id  |        rmse        | count |\n",
      "+-----------+--------------------+-------+\n",
      "| 475568506 | 2.6620082328172763 |   11  |\n",
      "+-----------+--------------------+-------+\n",
      "[1 rows x 3 columns]\n",
      "\n",
      "\n",
      "Per Item RMSE (best)\n",
      "+------------+-----------------------+-------+\n",
      "| product_id |          rmse         | count |\n",
      "+------------+-----------------------+-------+\n",
      "|  5834356   | 0.0029864481517247743 |   1   |\n",
      "+------------+-----------------------+-------+\n",
      "[1 rows x 3 columns]\n",
      "\n",
      "\n",
      "Per Item RMSE (worst)\n",
      "+------------+-------------------+-------+\n",
      "| product_id |        rmse       | count |\n",
      "+------------+-------------------+-------+\n",
      "|  5770065   | 2.837939344823394 |   2   |\n",
      "+------------+-------------------+-------+\n",
      "[1 rows x 3 columns]\n",
      "\n",
      "PROGRESS: Evaluate model m1\n",
      "\n",
      "Overall RMSE: 1.0616241008699332\n",
      "\n",
      "Per User RMSE (best)\n",
      "+-----------+--------------------+-------+\n",
      "|  user_id  |        rmse        | count |\n",
      "+-----------+--------------------+-------+\n",
      "| 565167038 | 0.7391960489632633 |   4   |\n",
      "+-----------+--------------------+-------+\n",
      "[1 rows x 3 columns]\n",
      "\n",
      "\n",
      "Per User RMSE (worst)\n",
      "+-----------+------+-------+\n",
      "|  user_id  | rmse | count |\n",
      "+-----------+------+-------+\n",
      "| 475568506 | 6.0  |   1   |\n",
      "+-----------+------+-------+\n",
      "[1 rows x 3 columns]\n",
      "\n",
      "\n",
      "Per Item RMSE (best)\n",
      "+------------+--------------------+-------+\n",
      "| product_id |        rmse        | count |\n",
      "+------------+--------------------+-------+\n",
      "|  5819591   | 0.5975158363580704 |   1   |\n",
      "+------------+--------------------+-------+\n",
      "[1 rows x 3 columns]\n",
      "\n",
      "\n",
      "Per Item RMSE (worst)\n",
      "+------------+------+-------+\n",
      "| product_id | rmse | count |\n",
      "+------------+------+-------+\n",
      "|  5739900   | 3.0  |   1   |\n",
      "+------------+------+-------+\n",
      "[1 rows x 3 columns]\n",
      "\n"
     ]
    },
    {
     "data": {
      "text/html": [
       "<pre>recommendations finished on 1000/9672 queries. users per second: 21528.1</pre>"
      ],
      "text/plain": [
       "recommendations finished on 1000/9672 queries. users per second: 21528.1"
      ]
     },
     "metadata": {},
     "output_type": "display_data"
    },
    {
     "data": {
      "text/html": [
       "<pre>recommendations finished on 2000/9672 queries. users per second: 21962.1</pre>"
      ],
      "text/plain": [
       "recommendations finished on 2000/9672 queries. users per second: 21962.1"
      ]
     },
     "metadata": {},
     "output_type": "display_data"
    },
    {
     "data": {
      "text/html": [
       "<pre>recommendations finished on 3000/9672 queries. users per second: 22264.4</pre>"
      ],
      "text/plain": [
       "recommendations finished on 3000/9672 queries. users per second: 22264.4"
      ]
     },
     "metadata": {},
     "output_type": "display_data"
    },
    {
     "data": {
      "text/html": [
       "<pre>recommendations finished on 4000/9672 queries. users per second: 21997.1</pre>"
      ],
      "text/plain": [
       "recommendations finished on 4000/9672 queries. users per second: 21997.1"
      ]
     },
     "metadata": {},
     "output_type": "display_data"
    },
    {
     "data": {
      "text/html": [
       "<pre>recommendations finished on 5000/9672 queries. users per second: 22066</pre>"
      ],
      "text/plain": [
       "recommendations finished on 5000/9672 queries. users per second: 22066"
      ]
     },
     "metadata": {},
     "output_type": "display_data"
    },
    {
     "data": {
      "text/html": [
       "<pre>recommendations finished on 6000/9672 queries. users per second: 21694.6</pre>"
      ],
      "text/plain": [
       "recommendations finished on 6000/9672 queries. users per second: 21694.6"
      ]
     },
     "metadata": {},
     "output_type": "display_data"
    },
    {
     "data": {
      "text/html": [
       "<pre>recommendations finished on 7000/9672 queries. users per second: 21895.9</pre>"
      ],
      "text/plain": [
       "recommendations finished on 7000/9672 queries. users per second: 21895.9"
      ]
     },
     "metadata": {},
     "output_type": "display_data"
    },
    {
     "data": {
      "text/html": [
       "<pre>recommendations finished on 8000/9672 queries. users per second: 21711.3</pre>"
      ],
      "text/plain": [
       "recommendations finished on 8000/9672 queries. users per second: 21711.3"
      ]
     },
     "metadata": {},
     "output_type": "display_data"
    },
    {
     "data": {
      "text/html": [
       "<pre>recommendations finished on 9000/9672 queries. users per second: 21779.4</pre>"
      ],
      "text/plain": [
       "recommendations finished on 9000/9672 queries. users per second: 21779.4"
      ]
     },
     "metadata": {},
     "output_type": "display_data"
    },
    {
     "data": {
      "text/html": [
       "<pre>Preparing data set.</pre>"
      ],
      "text/plain": [
       "Preparing data set."
      ]
     },
     "metadata": {},
     "output_type": "display_data"
    },
    {
     "data": {
      "text/html": [
       "<pre>    Data has 108626 observations with 9672 users and 14105 items.</pre>"
      ],
      "text/plain": [
       "    Data has 108626 observations with 9672 users and 14105 items."
      ]
     },
     "metadata": {},
     "output_type": "display_data"
    },
    {
     "data": {
      "text/html": [
       "<pre>    Data prepared in: 0.064418s</pre>"
      ],
      "text/plain": [
       "    Data prepared in: 0.064418s"
      ]
     },
     "metadata": {},
     "output_type": "display_data"
    },
    {
     "data": {
      "text/html": [
       "<pre>Training model from provided data.</pre>"
      ],
      "text/plain": [
       "Training model from provided data."
      ]
     },
     "metadata": {},
     "output_type": "display_data"
    },
    {
     "data": {
      "text/html": [
       "<pre>Gathering per-item and per-user statistics.</pre>"
      ],
      "text/plain": [
       "Gathering per-item and per-user statistics."
      ]
     },
     "metadata": {},
     "output_type": "display_data"
    },
    {
     "data": {
      "text/html": [
       "<pre>+--------------------------------+------------+</pre>"
      ],
      "text/plain": [
       "+--------------------------------+------------+"
      ]
     },
     "metadata": {},
     "output_type": "display_data"
    },
    {
     "data": {
      "text/html": [
       "<pre>| Elapsed Time (Item Statistics) | % Complete |</pre>"
      ],
      "text/plain": [
       "| Elapsed Time (Item Statistics) | % Complete |"
      ]
     },
     "metadata": {},
     "output_type": "display_data"
    },
    {
     "data": {
      "text/html": [
       "<pre>+--------------------------------+------------+</pre>"
      ],
      "text/plain": [
       "+--------------------------------+------------+"
      ]
     },
     "metadata": {},
     "output_type": "display_data"
    },
    {
     "data": {
      "text/html": [
       "<pre>| 790us                          | 10.25      |</pre>"
      ],
      "text/plain": [
       "| 790us                          | 10.25      |"
      ]
     },
     "metadata": {},
     "output_type": "display_data"
    },
    {
     "data": {
      "text/html": [
       "<pre>| 2.602ms                        | 100        |</pre>"
      ],
      "text/plain": [
       "| 2.602ms                        | 100        |"
      ]
     },
     "metadata": {},
     "output_type": "display_data"
    },
    {
     "data": {
      "text/html": [
       "<pre>+--------------------------------+------------+</pre>"
      ],
      "text/plain": [
       "+--------------------------------+------------+"
      ]
     },
     "metadata": {},
     "output_type": "display_data"
    },
    {
     "data": {
      "text/html": [
       "<pre>Setting up lookup tables.</pre>"
      ],
      "text/plain": [
       "Setting up lookup tables."
      ]
     },
     "metadata": {},
     "output_type": "display_data"
    },
    {
     "data": {
      "text/html": [
       "<pre>Processing data in one pass using dense lookup tables.</pre>"
      ],
      "text/plain": [
       "Processing data in one pass using dense lookup tables."
      ]
     },
     "metadata": {},
     "output_type": "display_data"
    },
    {
     "data": {
      "text/html": [
       "<pre>+-------------------------------------+------------------+-----------------+</pre>"
      ],
      "text/plain": [
       "+-------------------------------------+------------------+-----------------+"
      ]
     },
     "metadata": {},
     "output_type": "display_data"
    },
    {
     "data": {
      "text/html": [
       "<pre>| Elapsed Time (Constructing Lookups) | Total % Complete | Items Processed |</pre>"
      ],
      "text/plain": [
       "| Elapsed Time (Constructing Lookups) | Total % Complete | Items Processed |"
      ]
     },
     "metadata": {},
     "output_type": "display_data"
    },
    {
     "data": {
      "text/html": [
       "<pre>+-------------------------------------+------------------+-----------------+</pre>"
      ],
      "text/plain": [
       "+-------------------------------------+------------------+-----------------+"
      ]
     },
     "metadata": {},
     "output_type": "display_data"
    },
    {
     "data": {
      "text/html": [
       "<pre>| 921.057ms                           | 0                | 0               |</pre>"
      ],
      "text/plain": [
       "| 921.057ms                           | 0                | 0               |"
      ]
     },
     "metadata": {},
     "output_type": "display_data"
    },
    {
     "data": {
      "text/html": [
       "<pre>| 1.63s                               | 100              | 14105           |</pre>"
      ],
      "text/plain": [
       "| 1.63s                               | 100              | 14105           |"
      ]
     },
     "metadata": {},
     "output_type": "display_data"
    },
    {
     "data": {
      "text/html": [
       "<pre>+-------------------------------------+------------------+-----------------+</pre>"
      ],
      "text/plain": [
       "+-------------------------------------+------------------+-----------------+"
      ]
     },
     "metadata": {},
     "output_type": "display_data"
    },
    {
     "name": "stdout",
     "output_type": "stream",
     "text": [
      "PROGRESS: Evaluate model M0\n"
     ]
    },
    {
     "data": {
      "text/html": [
       "<pre>Finalizing lookup tables.</pre>"
      ],
      "text/plain": [
       "Finalizing lookup tables."
      ]
     },
     "metadata": {},
     "output_type": "display_data"
    },
    {
     "data": {
      "text/html": [
       "<pre>Generating candidate set for working with new users.</pre>"
      ],
      "text/plain": [
       "Generating candidate set for working with new users."
      ]
     },
     "metadata": {},
     "output_type": "display_data"
    },
    {
     "data": {
      "text/html": [
       "<pre>Finished training in 1.64043s</pre>"
      ],
      "text/plain": [
       "Finished training in 1.64043s"
      ]
     },
     "metadata": {},
     "output_type": "display_data"
    },
    {
     "data": {
      "text/html": [
       "<pre>recommendations finished on 1000/9672 queries. users per second: 18061.6</pre>"
      ],
      "text/plain": [
       "recommendations finished on 1000/9672 queries. users per second: 18061.6"
      ]
     },
     "metadata": {},
     "output_type": "display_data"
    },
    {
     "data": {
      "text/html": [
       "<pre>recommendations finished on 2000/9672 queries. users per second: 18282.9</pre>"
      ],
      "text/plain": [
       "recommendations finished on 2000/9672 queries. users per second: 18282.9"
      ]
     },
     "metadata": {},
     "output_type": "display_data"
    },
    {
     "data": {
      "text/html": [
       "<pre>recommendations finished on 3000/9672 queries. users per second: 18425.3</pre>"
      ],
      "text/plain": [
       "recommendations finished on 3000/9672 queries. users per second: 18425.3"
      ]
     },
     "metadata": {},
     "output_type": "display_data"
    },
    {
     "data": {
      "text/html": [
       "<pre>recommendations finished on 4000/9672 queries. users per second: 18594.9</pre>"
      ],
      "text/plain": [
       "recommendations finished on 4000/9672 queries. users per second: 18594.9"
      ]
     },
     "metadata": {},
     "output_type": "display_data"
    },
    {
     "data": {
      "text/html": [
       "<pre>recommendations finished on 5000/9672 queries. users per second: 18575.3</pre>"
      ],
      "text/plain": [
       "recommendations finished on 5000/9672 queries. users per second: 18575.3"
      ]
     },
     "metadata": {},
     "output_type": "display_data"
    },
    {
     "data": {
      "text/html": [
       "<pre>recommendations finished on 6000/9672 queries. users per second: 18460.3</pre>"
      ],
      "text/plain": [
       "recommendations finished on 6000/9672 queries. users per second: 18460.3"
      ]
     },
     "metadata": {},
     "output_type": "display_data"
    },
    {
     "data": {
      "text/html": [
       "<pre>recommendations finished on 7000/9672 queries. users per second: 18626.6</pre>"
      ],
      "text/plain": [
       "recommendations finished on 7000/9672 queries. users per second: 18626.6"
      ]
     },
     "metadata": {},
     "output_type": "display_data"
    },
    {
     "data": {
      "text/html": [
       "<pre>recommendations finished on 8000/9672 queries. users per second: 18712.1</pre>"
      ],
      "text/plain": [
       "recommendations finished on 8000/9672 queries. users per second: 18712.1"
      ]
     },
     "metadata": {},
     "output_type": "display_data"
    },
    {
     "data": {
      "text/html": [
       "<pre>recommendations finished on 9000/9672 queries. users per second: 18733.1</pre>"
      ],
      "text/plain": [
       "recommendations finished on 9000/9672 queries. users per second: 18733.1"
      ]
     },
     "metadata": {},
     "output_type": "display_data"
    },
    {
     "name": "stdout",
     "output_type": "stream",
     "text": [
      "\n",
      "Precision and recall summary statistics by cutoff\n",
      "+--------+---------------------+---------------------+\n",
      "| cutoff |    mean_precision   |     mean_recall     |\n",
      "+--------+---------------------+---------------------+\n",
      "|   1    | 0.43589743589743574 | 0.04105122456974005 |\n",
      "|   2    |  0.4082919768403641 | 0.07654842190023421 |\n",
      "|   3    |  0.3879928315412185 | 0.10836579730241949 |\n",
      "|   4    |  0.3673748966087678 | 0.13558484008148794 |\n",
      "|   5    |  0.3476220016542588 |  0.1589020050445082 |\n",
      "|   6    |  0.3293872346291702 | 0.17893418405089723 |\n",
      "|   7    | 0.31137008153137097 |  0.1957081323343549 |\n",
      "|   8    |  0.2947813275434245 |  0.2099689346561492 |\n",
      "|   9    | 0.27948947707012195 |  0.2223179368906402 |\n",
      "|   10   | 0.26516749379652627 |  0.2329128128136686 |\n",
      "+--------+---------------------+---------------------+\n",
      "[10 rows x 3 columns]\n",
      "\n",
      "\n",
      "Overall RMSE: 1.0169035067739718\n",
      "\n",
      "Per User RMSE (best)\n",
      "+-----------+--------------------+-------+\n",
      "|  user_id  |        rmse        | count |\n",
      "+-----------+--------------------+-------+\n",
      "| 551676410 | 0.1428571428571429 |   7   |\n",
      "+-----------+--------------------+-------+\n",
      "[1 rows x 3 columns]\n",
      "\n",
      "\n",
      "Per User RMSE (worst)\n",
      "+-----------+--------------------+-------+\n",
      "|  user_id  |        rmse        | count |\n",
      "+-----------+--------------------+-------+\n",
      "| 475568506 | 2.6490411314566478 |   11  |\n",
      "+-----------+--------------------+-------+\n",
      "[1 rows x 3 columns]\n",
      "\n",
      "\n",
      "Per Item RMSE (best)\n",
      "+------------+-----------------------+-------+\n",
      "| product_id |          rmse         | count |\n",
      "+------------+-----------------------+-------+\n",
      "|  5834356   | 0.0029864481517247743 |   1   |\n",
      "+------------+-----------------------+-------+\n",
      "[1 rows x 3 columns]\n",
      "\n",
      "\n",
      "Per Item RMSE (worst)\n",
      "+------------+-------------------+-------+\n",
      "| product_id |        rmse       | count |\n",
      "+------------+-------------------+-------+\n",
      "|  5770065   | 2.833070115923015 |   2   |\n",
      "+------------+-------------------+-------+\n",
      "[1 rows x 3 columns]\n",
      "\n",
      "PROGRESS: Evaluate model m1\n",
      "\n",
      "Overall RMSE: 1.0609836606351575\n",
      "\n",
      "Per User RMSE (best)\n",
      "+-----------+--------------------+-------+\n",
      "|  user_id  |        rmse        | count |\n",
      "+-----------+--------------------+-------+\n",
      "| 565167038 | 0.7104543871263086 |   4   |\n",
      "+-----------+--------------------+-------+\n",
      "[1 rows x 3 columns]\n",
      "\n",
      "\n",
      "Per User RMSE (worst)\n",
      "+-----------+------+-------+\n",
      "|  user_id  | rmse | count |\n",
      "+-----------+------+-------+\n",
      "| 475568506 | 6.0  |   1   |\n",
      "+-----------+------+-------+\n",
      "[1 rows x 3 columns]\n",
      "\n",
      "\n",
      "Per Item RMSE (best)\n",
      "+------------+--------------------+-------+\n",
      "| product_id |        rmse        | count |\n",
      "+------------+--------------------+-------+\n",
      "|  5819591   | 0.5975158363580704 |   1   |\n",
      "+------------+--------------------+-------+\n",
      "[1 rows x 3 columns]\n",
      "\n",
      "\n",
      "Per Item RMSE (worst)\n",
      "+------------+------+-------+\n",
      "| product_id | rmse | count |\n",
      "+------------+------+-------+\n",
      "|  5739900   | 3.0  |   1   |\n",
      "+------------+------+-------+\n",
      "[1 rows x 3 columns]\n",
      "\n"
     ]
    },
    {
     "data": {
      "text/html": [
       "<pre>recommendations finished on 1000/9672 queries. users per second: 22601.9</pre>"
      ],
      "text/plain": [
       "recommendations finished on 1000/9672 queries. users per second: 22601.9"
      ]
     },
     "metadata": {},
     "output_type": "display_data"
    },
    {
     "data": {
      "text/html": [
       "<pre>recommendations finished on 2000/9672 queries. users per second: 22880.4</pre>"
      ],
      "text/plain": [
       "recommendations finished on 2000/9672 queries. users per second: 22880.4"
      ]
     },
     "metadata": {},
     "output_type": "display_data"
    },
    {
     "data": {
      "text/html": [
       "<pre>recommendations finished on 3000/9672 queries. users per second: 22936.1</pre>"
      ],
      "text/plain": [
       "recommendations finished on 3000/9672 queries. users per second: 22936.1"
      ]
     },
     "metadata": {},
     "output_type": "display_data"
    },
    {
     "data": {
      "text/html": [
       "<pre>recommendations finished on 4000/9672 queries. users per second: 22778.5</pre>"
      ],
      "text/plain": [
       "recommendations finished on 4000/9672 queries. users per second: 22778.5"
      ]
     },
     "metadata": {},
     "output_type": "display_data"
    },
    {
     "data": {
      "text/html": [
       "<pre>recommendations finished on 5000/9672 queries. users per second: 22369.3</pre>"
      ],
      "text/plain": [
       "recommendations finished on 5000/9672 queries. users per second: 22369.3"
      ]
     },
     "metadata": {},
     "output_type": "display_data"
    },
    {
     "data": {
      "text/html": [
       "<pre>recommendations finished on 6000/9672 queries. users per second: 22005.3</pre>"
      ],
      "text/plain": [
       "recommendations finished on 6000/9672 queries. users per second: 22005.3"
      ]
     },
     "metadata": {},
     "output_type": "display_data"
    },
    {
     "data": {
      "text/html": [
       "<pre>recommendations finished on 7000/9672 queries. users per second: 21502</pre>"
      ],
      "text/plain": [
       "recommendations finished on 7000/9672 queries. users per second: 21502"
      ]
     },
     "metadata": {},
     "output_type": "display_data"
    },
    {
     "data": {
      "text/html": [
       "<pre>recommendations finished on 8000/9672 queries. users per second: 21244.4</pre>"
      ],
      "text/plain": [
       "recommendations finished on 8000/9672 queries. users per second: 21244.4"
      ]
     },
     "metadata": {},
     "output_type": "display_data"
    },
    {
     "data": {
      "text/html": [
       "<pre>recommendations finished on 9000/9672 queries. users per second: 21132.1</pre>"
      ],
      "text/plain": [
       "recommendations finished on 9000/9672 queries. users per second: 21132.1"
      ]
     },
     "metadata": {},
     "output_type": "display_data"
    }
   ],
   "source": [
    "# hyperparameter tuning for cosine similarity \n",
    "cosCF_s, cosCF_train, cosCF_val = test_s_vals('cosine')"
   ]
  },
  {
   "cell_type": "code",
   "execution_count": 41,
   "metadata": {
    "scrolled": true
   },
   "outputs": [
    {
     "data": {
      "text/html": [
       "<pre>Preparing data set.</pre>"
      ],
      "text/plain": [
       "Preparing data set."
      ]
     },
     "metadata": {},
     "output_type": "display_data"
    },
    {
     "data": {
      "text/html": [
       "<pre>    Data has 144830 observations with 9672 users and 15079 items.</pre>"
      ],
      "text/plain": [
       "    Data has 144830 observations with 9672 users and 15079 items."
      ]
     },
     "metadata": {},
     "output_type": "display_data"
    },
    {
     "data": {
      "text/html": [
       "<pre>    Data prepared in: 0.089661s</pre>"
      ],
      "text/plain": [
       "    Data prepared in: 0.089661s"
      ]
     },
     "metadata": {},
     "output_type": "display_data"
    },
    {
     "data": {
      "text/html": [
       "<pre>Training model from provided data.</pre>"
      ],
      "text/plain": [
       "Training model from provided data."
      ]
     },
     "metadata": {},
     "output_type": "display_data"
    },
    {
     "data": {
      "text/html": [
       "<pre>Gathering per-item and per-user statistics.</pre>"
      ],
      "text/plain": [
       "Gathering per-item and per-user statistics."
      ]
     },
     "metadata": {},
     "output_type": "display_data"
    },
    {
     "data": {
      "text/html": [
       "<pre>+--------------------------------+------------+</pre>"
      ],
      "text/plain": [
       "+--------------------------------+------------+"
      ]
     },
     "metadata": {},
     "output_type": "display_data"
    },
    {
     "data": {
      "text/html": [
       "<pre>| Elapsed Time (Item Statistics) | % Complete |</pre>"
      ],
      "text/plain": [
       "| Elapsed Time (Item Statistics) | % Complete |"
      ]
     },
     "metadata": {},
     "output_type": "display_data"
    },
    {
     "data": {
      "text/html": [
       "<pre>+--------------------------------+------------+</pre>"
      ],
      "text/plain": [
       "+--------------------------------+------------+"
      ]
     },
     "metadata": {},
     "output_type": "display_data"
    },
    {
     "data": {
      "text/html": [
       "<pre>| 993us                          | 10.25      |</pre>"
      ],
      "text/plain": [
       "| 993us                          | 10.25      |"
      ]
     },
     "metadata": {},
     "output_type": "display_data"
    },
    {
     "data": {
      "text/html": [
       "<pre>| 3.274ms                        | 100        |</pre>"
      ],
      "text/plain": [
       "| 3.274ms                        | 100        |"
      ]
     },
     "metadata": {},
     "output_type": "display_data"
    },
    {
     "data": {
      "text/html": [
       "<pre>+--------------------------------+------------+</pre>"
      ],
      "text/plain": [
       "+--------------------------------+------------+"
      ]
     },
     "metadata": {},
     "output_type": "display_data"
    },
    {
     "data": {
      "text/html": [
       "<pre>Setting up lookup tables.</pre>"
      ],
      "text/plain": [
       "Setting up lookup tables."
      ]
     },
     "metadata": {},
     "output_type": "display_data"
    },
    {
     "data": {
      "text/html": [
       "<pre>Processing data in one pass using dense lookup tables.</pre>"
      ],
      "text/plain": [
       "Processing data in one pass using dense lookup tables."
      ]
     },
     "metadata": {},
     "output_type": "display_data"
    },
    {
     "data": {
      "text/html": [
       "<pre>+-------------------------------------+------------------+-----------------+</pre>"
      ],
      "text/plain": [
       "+-------------------------------------+------------------+-----------------+"
      ]
     },
     "metadata": {},
     "output_type": "display_data"
    },
    {
     "data": {
      "text/html": [
       "<pre>| Elapsed Time (Constructing Lookups) | Total % Complete | Items Processed |</pre>"
      ],
      "text/plain": [
       "| Elapsed Time (Constructing Lookups) | Total % Complete | Items Processed |"
      ]
     },
     "metadata": {},
     "output_type": "display_data"
    },
    {
     "data": {
      "text/html": [
       "<pre>+-------------------------------------+------------------+-----------------+</pre>"
      ],
      "text/plain": [
       "+-------------------------------------+------------------+-----------------+"
      ]
     },
     "metadata": {},
     "output_type": "display_data"
    },
    {
     "data": {
      "text/html": [
       "<pre>| 1.09s                               | 0                | 3               |</pre>"
      ],
      "text/plain": [
       "| 1.09s                               | 0                | 3               |"
      ]
     },
     "metadata": {},
     "output_type": "display_data"
    },
    {
     "data": {
      "text/html": [
       "<pre>| 1.98s                               | 100              | 15079           |</pre>"
      ],
      "text/plain": [
       "| 1.98s                               | 100              | 15079           |"
      ]
     },
     "metadata": {},
     "output_type": "display_data"
    },
    {
     "data": {
      "text/html": [
       "<pre>+-------------------------------------+------------------+-----------------+</pre>"
      ],
      "text/plain": [
       "+-------------------------------------+------------------+-----------------+"
      ]
     },
     "metadata": {},
     "output_type": "display_data"
    },
    {
     "data": {
      "text/html": [
       "<pre>Finalizing lookup tables.</pre>"
      ],
      "text/plain": [
       "Finalizing lookup tables."
      ]
     },
     "metadata": {},
     "output_type": "display_data"
    },
    {
     "data": {
      "text/html": [
       "<pre>Generating candidate set for working with new users.</pre>"
      ],
      "text/plain": [
       "Generating candidate set for working with new users."
      ]
     },
     "metadata": {},
     "output_type": "display_data"
    }
   ],
   "source": [
    "cosCF_model = tc.item_similarity_recommender.create(train_data,similarity_type='cosine',user_id=user_id, item_id=item_id,target = target,only_top_k=20)"
   ]
  },
  {
   "cell_type": "code",
   "execution_count": 42,
   "metadata": {
    "scrolled": true
   },
   "outputs": [
    {
     "data": {
      "text/html": [
       "<pre>Finished training in 2.00029s</pre>"
      ],
      "text/plain": [
       "Finished training in 2.00029s"
      ]
     },
     "metadata": {},
     "output_type": "display_data"
    },
    {
     "data": {
      "text/html": [
       "<pre>recommendations finished on 1000/9255 queries. users per second: 18351.3</pre>"
      ],
      "text/plain": [
       "recommendations finished on 1000/9255 queries. users per second: 18351.3"
      ]
     },
     "metadata": {},
     "output_type": "display_data"
    },
    {
     "data": {
      "text/html": [
       "<pre>recommendations finished on 2000/9255 queries. users per second: 18239.7</pre>"
      ],
      "text/plain": [
       "recommendations finished on 2000/9255 queries. users per second: 18239.7"
      ]
     },
     "metadata": {},
     "output_type": "display_data"
    },
    {
     "data": {
      "text/html": [
       "<pre>recommendations finished on 3000/9255 queries. users per second: 16864.5</pre>"
      ],
      "text/plain": [
       "recommendations finished on 3000/9255 queries. users per second: 16864.5"
      ]
     },
     "metadata": {},
     "output_type": "display_data"
    },
    {
     "data": {
      "text/html": [
       "<pre>recommendations finished on 4000/9255 queries. users per second: 16880.6</pre>"
      ],
      "text/plain": [
       "recommendations finished on 4000/9255 queries. users per second: 16880.6"
      ]
     },
     "metadata": {},
     "output_type": "display_data"
    },
    {
     "data": {
      "text/html": [
       "<pre>recommendations finished on 5000/9255 queries. users per second: 16518.9</pre>"
      ],
      "text/plain": [
       "recommendations finished on 5000/9255 queries. users per second: 16518.9"
      ]
     },
     "metadata": {},
     "output_type": "display_data"
    },
    {
     "data": {
      "text/html": [
       "<pre>recommendations finished on 6000/9255 queries. users per second: 16360.9</pre>"
      ],
      "text/plain": [
       "recommendations finished on 6000/9255 queries. users per second: 16360.9"
      ]
     },
     "metadata": {},
     "output_type": "display_data"
    },
    {
     "data": {
      "text/html": [
       "<pre>recommendations finished on 7000/9255 queries. users per second: 16342.2</pre>"
      ],
      "text/plain": [
       "recommendations finished on 7000/9255 queries. users per second: 16342.2"
      ]
     },
     "metadata": {},
     "output_type": "display_data"
    },
    {
     "data": {
      "text/html": [
       "<pre>recommendations finished on 8000/9255 queries. users per second: 15932.3</pre>"
      ],
      "text/plain": [
       "recommendations finished on 8000/9255 queries. users per second: 15932.3"
      ]
     },
     "metadata": {},
     "output_type": "display_data"
    },
    {
     "data": {
      "text/html": [
       "<pre>recommendations finished on 9000/9255 queries. users per second: 15753.8</pre>"
      ],
      "text/plain": [
       "recommendations finished on 9000/9255 queries. users per second: 15753.8"
      ]
     },
     "metadata": {},
     "output_type": "display_data"
    }
   ],
   "source": [
    "cosCF_evaluation = cosCF_model.evaluate_precision_recall(test,cutoffs = list(range(1, 11)))"
   ]
  },
  {
   "cell_type": "code",
   "execution_count": 43,
   "metadata": {},
   "outputs": [],
   "source": [
    "col_names =  ['cutoff', 'precision', 'recall'] \n",
    "cosCF_results  = pd.DataFrame(columns = col_names)\n",
    "cosCF_results['cutoff'] = np.array(cosCF_evaluation['precision_recall_overall']['cutoff'])\n",
    "cosCF_results['precision'] = np.array(cosCF_evaluation['precision_recall_overall']['precision'])\n",
    "cosCF_results['recall'] = np.array(cosCF_evaluation['precision_recall_overall']['recall'])"
   ]
  },
  {
   "cell_type": "code",
   "execution_count": 44,
   "metadata": {},
   "outputs": [
    {
     "data": {
      "image/png": "[encoded data removed]",
      "text/plain": [
       "<Figure size 432x288 with 1 Axes>"
      ]
     },
     "metadata": {
      "needs_background": "light"
     },
     "output_type": "display_data"
    }
   ],
   "source": [
    "plt.plot(cosCF_results['cutoff'],cosCF_results['precision'] )\n",
    "plt.title('precision_at_cutoff_k - Item Based CF(cosine similarity, S=10)')\n",
    "plt.xlabel('k')\n",
    "plt.ylabel('precision_at_cutoff_k')\n",
    "plt.show()"
   ]
  },
  {
   "cell_type": "markdown",
   "metadata": {},
   "source": [
    "# Item Based CF - Pearson"
   ]
  },
  {
   "cell_type": "code",
   "execution_count": 45,
   "metadata": {},
   "outputs": [
    {
     "data": {
      "text/html": [
       "<pre>Preparing data set.</pre>"
      ],
      "text/plain": [
       "Preparing data set."
      ]
     },
     "metadata": {},
     "output_type": "display_data"
    },
    {
     "data": {
      "text/html": [
       "<pre>    Data has 108626 observations with 9672 users and 14105 items.</pre>"
      ],
      "text/plain": [
       "    Data has 108626 observations with 9672 users and 14105 items."
      ]
     },
     "metadata": {},
     "output_type": "display_data"
    },
    {
     "data": {
      "text/html": [
       "<pre>    Data prepared in: 0.092003s</pre>"
      ],
      "text/plain": [
       "    Data prepared in: 0.092003s"
      ]
     },
     "metadata": {},
     "output_type": "display_data"
    },
    {
     "data": {
      "text/html": [
       "<pre>Training model from provided data.</pre>"
      ],
      "text/plain": [
       "Training model from provided data."
      ]
     },
     "metadata": {},
     "output_type": "display_data"
    },
    {
     "data": {
      "text/html": [
       "<pre>Gathering per-item and per-user statistics.</pre>"
      ],
      "text/plain": [
       "Gathering per-item and per-user statistics."
      ]
     },
     "metadata": {},
     "output_type": "display_data"
    },
    {
     "data": {
      "text/html": [
       "<pre>+--------------------------------+------------+</pre>"
      ],
      "text/plain": [
       "+--------------------------------+------------+"
      ]
     },
     "metadata": {},
     "output_type": "display_data"
    },
    {
     "data": {
      "text/html": [
       "<pre>| Elapsed Time (Item Statistics) | % Complete |</pre>"
      ],
      "text/plain": [
       "| Elapsed Time (Item Statistics) | % Complete |"
      ]
     },
     "metadata": {},
     "output_type": "display_data"
    },
    {
     "data": {
      "text/html": [
       "<pre>+--------------------------------+------------+</pre>"
      ],
      "text/plain": [
       "+--------------------------------+------------+"
      ]
     },
     "metadata": {},
     "output_type": "display_data"
    },
    {
     "data": {
      "text/html": [
       "<pre>| 875us                          | 10.25      |</pre>"
      ],
      "text/plain": [
       "| 875us                          | 10.25      |"
      ]
     },
     "metadata": {},
     "output_type": "display_data"
    },
    {
     "data": {
      "text/html": [
       "<pre>| 3.232ms                        | 100        |</pre>"
      ],
      "text/plain": [
       "| 3.232ms                        | 100        |"
      ]
     },
     "metadata": {},
     "output_type": "display_data"
    },
    {
     "data": {
      "text/html": [
       "<pre>+--------------------------------+------------+</pre>"
      ],
      "text/plain": [
       "+--------------------------------+------------+"
      ]
     },
     "metadata": {},
     "output_type": "display_data"
    },
    {
     "data": {
      "text/html": [
       "<pre>Setting up lookup tables.</pre>"
      ],
      "text/plain": [
       "Setting up lookup tables."
      ]
     },
     "metadata": {},
     "output_type": "display_data"
    },
    {
     "data": {
      "text/html": [
       "<pre>Processing data in one pass using dense lookup tables.</pre>"
      ],
      "text/plain": [
       "Processing data in one pass using dense lookup tables."
      ]
     },
     "metadata": {},
     "output_type": "display_data"
    },
    {
     "data": {
      "text/html": [
       "<pre>+-------------------------------------+------------------+-----------------+</pre>"
      ],
      "text/plain": [
       "+-------------------------------------+------------------+-----------------+"
      ]
     },
     "metadata": {},
     "output_type": "display_data"
    },
    {
     "data": {
      "text/html": [
       "<pre>| Elapsed Time (Constructing Lookups) | Total % Complete | Items Processed |</pre>"
      ],
      "text/plain": [
       "| Elapsed Time (Constructing Lookups) | Total % Complete | Items Processed |"
      ]
     },
     "metadata": {},
     "output_type": "display_data"
    },
    {
     "data": {
      "text/html": [
       "<pre>+-------------------------------------+------------------+-----------------+</pre>"
      ],
      "text/plain": [
       "+-------------------------------------+------------------+-----------------+"
      ]
     },
     "metadata": {},
     "output_type": "display_data"
    },
    {
     "data": {
      "text/html": [
       "<pre>| 971.091ms                           | 0                | 0               |</pre>"
      ],
      "text/plain": [
       "| 971.091ms                           | 0                | 0               |"
      ]
     },
     "metadata": {},
     "output_type": "display_data"
    },
    {
     "data": {
      "text/html": [
       "<pre>| 1.54s                               | 100              | 14105           |</pre>"
      ],
      "text/plain": [
       "| 1.54s                               | 100              | 14105           |"
      ]
     },
     "metadata": {},
     "output_type": "display_data"
    },
    {
     "data": {
      "text/html": [
       "<pre>+-------------------------------------+------------------+-----------------+</pre>"
      ],
      "text/plain": [
       "+-------------------------------------+------------------+-----------------+"
      ]
     },
     "metadata": {},
     "output_type": "display_data"
    },
    {
     "name": "stdout",
     "output_type": "stream",
     "text": [
      "PROGRESS: Evaluate model M0\n"
     ]
    },
    {
     "data": {
      "text/html": [
       "<pre>Finalizing lookup tables.</pre>"
      ],
      "text/plain": [
       "Finalizing lookup tables."
      ]
     },
     "metadata": {},
     "output_type": "display_data"
    },
    {
     "data": {
      "text/html": [
       "<pre>Generating candidate set for working with new users.</pre>"
      ],
      "text/plain": [
       "Generating candidate set for working with new users."
      ]
     },
     "metadata": {},
     "output_type": "display_data"
    },
    {
     "data": {
      "text/html": [
       "<pre>Finished training in 1.5567s</pre>"
      ],
      "text/plain": [
       "Finished training in 1.5567s"
      ]
     },
     "metadata": {},
     "output_type": "display_data"
    },
    {
     "data": {
      "text/html": [
       "<pre>recommendations finished on 1000/9672 queries. users per second: 13165.7</pre>"
      ],
      "text/plain": [
       "recommendations finished on 1000/9672 queries. users per second: 13165.7"
      ]
     },
     "metadata": {},
     "output_type": "display_data"
    },
    {
     "data": {
      "text/html": [
       "<pre>recommendations finished on 2000/9672 queries. users per second: 13048.1</pre>"
      ],
      "text/plain": [
       "recommendations finished on 2000/9672 queries. users per second: 13048.1"
      ]
     },
     "metadata": {},
     "output_type": "display_data"
    },
    {
     "data": {
      "text/html": [
       "<pre>recommendations finished on 3000/9672 queries. users per second: 12417.2</pre>"
      ],
      "text/plain": [
       "recommendations finished on 3000/9672 queries. users per second: 12417.2"
      ]
     },
     "metadata": {},
     "output_type": "display_data"
    },
    {
     "data": {
      "text/html": [
       "<pre>recommendations finished on 4000/9672 queries. users per second: 11582.9</pre>"
      ],
      "text/plain": [
       "recommendations finished on 4000/9672 queries. users per second: 11582.9"
      ]
     },
     "metadata": {},
     "output_type": "display_data"
    },
    {
     "data": {
      "text/html": [
       "<pre>recommendations finished on 5000/9672 queries. users per second: 10964.5</pre>"
      ],
      "text/plain": [
       "recommendations finished on 5000/9672 queries. users per second: 10964.5"
      ]
     },
     "metadata": {},
     "output_type": "display_data"
    },
    {
     "data": {
      "text/html": [
       "<pre>recommendations finished on 6000/9672 queries. users per second: 10131.6</pre>"
      ],
      "text/plain": [
       "recommendations finished on 6000/9672 queries. users per second: 10131.6"
      ]
     },
     "metadata": {},
     "output_type": "display_data"
    },
    {
     "data": {
      "text/html": [
       "<pre>recommendations finished on 7000/9672 queries. users per second: 10257.9</pre>"
      ],
      "text/plain": [
       "recommendations finished on 7000/9672 queries. users per second: 10257.9"
      ]
     },
     "metadata": {},
     "output_type": "display_data"
    },
    {
     "data": {
      "text/html": [
       "<pre>recommendations finished on 8000/9672 queries. users per second: 10351.8</pre>"
      ],
      "text/plain": [
       "recommendations finished on 8000/9672 queries. users per second: 10351.8"
      ]
     },
     "metadata": {},
     "output_type": "display_data"
    },
    {
     "data": {
      "text/html": [
       "<pre>recommendations finished on 9000/9672 queries. users per second: 10453.8</pre>"
      ],
      "text/plain": [
       "recommendations finished on 9000/9672 queries. users per second: 10453.8"
      ]
     },
     "metadata": {},
     "output_type": "display_data"
    },
    {
     "name": "stdout",
     "output_type": "stream",
     "text": [
      "\n",
      "Precision and recall summary statistics by cutoff\n",
      "+--------+------------------------+------------------------+\n",
      "| cutoff |     mean_precision     |      mean_recall       |\n",
      "+--------+------------------------+------------------------+\n",
      "|   1    |          0.0           |          0.0           |\n",
      "|   2    | 5.169561621174526e-05  | 6.461952026468157e-06  |\n",
      "|   3    | 0.00010339123242349047 | 3.2720042800687966e-05 |\n",
      "|   4    | 0.00012923904052936316 | 5.2161129239293046e-05 |\n",
      "|   5    | 0.00014474772539288663 | 7.985520935272793e-05  |\n",
      "|   6    | 0.00015508684863523565 | 0.00010791854386767542 |\n",
      "|   7    | 0.00026586316908897576 | 0.00019302702111324933 |\n",
      "|   8    | 0.00028432588916459903 | 0.00022337861396484217 |\n",
      "|   9    | 0.0002642220384155868  | 0.00024405686044954038 |\n",
      "|   10   | 0.00024813895781637766 | 0.00025267279648483133 |\n",
      "+--------+------------------------+------------------------+\n",
      "[10 rows x 3 columns]\n",
      "\n",
      "\n",
      "Overall RMSE: 0.2028175974168257\n",
      "\n",
      "Per User RMSE (best)\n",
      "+-----------+------+-------+\n",
      "|  user_id  | rmse | count |\n",
      "+-----------+------+-------+\n",
      "| 571652824 | 0.0  |   6   |\n",
      "+-----------+------+-------+\n",
      "[1 rows x 3 columns]\n",
      "\n",
      "\n",
      "Per User RMSE (worst)\n",
      "+-----------+--------------------+-------+\n",
      "|  user_id  |        rmse        | count |\n",
      "+-----------+--------------------+-------+\n",
      "| 475568506 | 2.0200528136835607 |   11  |\n",
      "+-----------+--------------------+-------+\n",
      "[1 rows x 3 columns]\n",
      "\n",
      "\n",
      "Per Item RMSE (best)\n",
      "+------------+------+-------+\n",
      "| product_id | rmse | count |\n",
      "+------------+------+-------+\n",
      "|  5813923   | 0.0  |   4   |\n",
      "+------------+------+-------+\n",
      "[1 rows x 3 columns]\n",
      "\n",
      "\n",
      "Per Item RMSE (worst)\n",
      "+------------+--------------------+-------+\n",
      "| product_id |        rmse        | count |\n",
      "+------------+--------------------+-------+\n",
      "|  5881447   | 1.5992887448037105 |   5   |\n",
      "+------------+--------------------+-------+\n",
      "[1 rows x 3 columns]\n",
      "\n",
      "PROGRESS: Evaluate model m1\n",
      "\n",
      "Overall RMSE: 0.28775314500202365\n",
      "\n",
      "Per User RMSE (best)\n",
      "+-----------+------+-------+\n",
      "|  user_id  | rmse | count |\n",
      "+-----------+------+-------+\n",
      "| 478421396 | 0.0  |   2   |\n",
      "+-----------+------+-------+\n",
      "[1 rows x 3 columns]\n",
      "\n",
      "\n",
      "Per User RMSE (worst)\n",
      "+-----------+-------------------+-------+\n",
      "|  user_id  |        rmse       | count |\n",
      "+-----------+-------------------+-------+\n",
      "| 475568506 | 4.933333333333334 |   1   |\n",
      "+-----------+-------------------+-------+\n",
      "[1 rows x 3 columns]\n",
      "\n",
      "\n",
      "Per Item RMSE (best)\n",
      "+------------+------+-------+\n",
      "| product_id | rmse | count |\n",
      "+------------+------+-------+\n",
      "|  5804001   | 0.0  |   4   |\n",
      "+------------+------+-------+\n",
      "[1 rows x 3 columns]\n",
      "\n",
      "\n",
      "Per Item RMSE (worst)\n",
      "+------------+------+-------+\n",
      "| product_id | rmse | count |\n",
      "+------------+------+-------+\n",
      "|  5797165   | 3.0  |   1   |\n",
      "+------------+------+-------+\n",
      "[1 rows x 3 columns]\n",
      "\n"
     ]
    },
    {
     "data": {
      "text/html": [
       "<pre>recommendations finished on 1000/9672 queries. users per second: 20303.3</pre>"
      ],
      "text/plain": [
       "recommendations finished on 1000/9672 queries. users per second: 20303.3"
      ]
     },
     "metadata": {},
     "output_type": "display_data"
    },
    {
     "data": {
      "text/html": [
       "<pre>recommendations finished on 2000/9672 queries. users per second: 19218.2</pre>"
      ],
      "text/plain": [
       "recommendations finished on 2000/9672 queries. users per second: 19218.2"
      ]
     },
     "metadata": {},
     "output_type": "display_data"
    },
    {
     "data": {
      "text/html": [
       "<pre>recommendations finished on 3000/9672 queries. users per second: 18243.4</pre>"
      ],
      "text/plain": [
       "recommendations finished on 3000/9672 queries. users per second: 18243.4"
      ]
     },
     "metadata": {},
     "output_type": "display_data"
    },
    {
     "data": {
      "text/html": [
       "<pre>recommendations finished on 4000/9672 queries. users per second: 18014</pre>"
      ],
      "text/plain": [
       "recommendations finished on 4000/9672 queries. users per second: 18014"
      ]
     },
     "metadata": {},
     "output_type": "display_data"
    },
    {
     "data": {
      "text/html": [
       "<pre>recommendations finished on 5000/9672 queries. users per second: 17876</pre>"
      ],
      "text/plain": [
       "recommendations finished on 5000/9672 queries. users per second: 17876"
      ]
     },
     "metadata": {},
     "output_type": "display_data"
    },
    {
     "data": {
      "text/html": [
       "<pre>recommendations finished on 6000/9672 queries. users per second: 17716.3</pre>"
      ],
      "text/plain": [
       "recommendations finished on 6000/9672 queries. users per second: 17716.3"
      ]
     },
     "metadata": {},
     "output_type": "display_data"
    },
    {
     "data": {
      "text/html": [
       "<pre>recommendations finished on 7000/9672 queries. users per second: 17497</pre>"
      ],
      "text/plain": [
       "recommendations finished on 7000/9672 queries. users per second: 17497"
      ]
     },
     "metadata": {},
     "output_type": "display_data"
    },
    {
     "data": {
      "text/html": [
       "<pre>recommendations finished on 8000/9672 queries. users per second: 16934.6</pre>"
      ],
      "text/plain": [
       "recommendations finished on 8000/9672 queries. users per second: 16934.6"
      ]
     },
     "metadata": {},
     "output_type": "display_data"
    },
    {
     "data": {
      "text/html": [
       "<pre>recommendations finished on 9000/9672 queries. users per second: 16235.3</pre>"
      ],
      "text/plain": [
       "recommendations finished on 9000/9672 queries. users per second: 16235.3"
      ]
     },
     "metadata": {},
     "output_type": "display_data"
    },
    {
     "data": {
      "text/html": [
       "<pre>Preparing data set.</pre>"
      ],
      "text/plain": [
       "Preparing data set."
      ]
     },
     "metadata": {},
     "output_type": "display_data"
    },
    {
     "data": {
      "text/html": [
       "<pre>    Data has 108626 observations with 9672 users and 14105 items.</pre>"
      ],
      "text/plain": [
       "    Data has 108626 observations with 9672 users and 14105 items."
      ]
     },
     "metadata": {},
     "output_type": "display_data"
    },
    {
     "data": {
      "text/html": [
       "<pre>    Data prepared in: 0.086884s</pre>"
      ],
      "text/plain": [
       "    Data prepared in: 0.086884s"
      ]
     },
     "metadata": {},
     "output_type": "display_data"
    },
    {
     "data": {
      "text/html": [
       "<pre>Training model from provided data.</pre>"
      ],
      "text/plain": [
       "Training model from provided data."
      ]
     },
     "metadata": {},
     "output_type": "display_data"
    },
    {
     "data": {
      "text/html": [
       "<pre>Gathering per-item and per-user statistics.</pre>"
      ],
      "text/plain": [
       "Gathering per-item and per-user statistics."
      ]
     },
     "metadata": {},
     "output_type": "display_data"
    },
    {
     "data": {
      "text/html": [
       "<pre>+--------------------------------+------------+</pre>"
      ],
      "text/plain": [
       "+--------------------------------+------------+"
      ]
     },
     "metadata": {},
     "output_type": "display_data"
    },
    {
     "data": {
      "text/html": [
       "<pre>| Elapsed Time (Item Statistics) | % Complete |</pre>"
      ],
      "text/plain": [
       "| Elapsed Time (Item Statistics) | % Complete |"
      ]
     },
     "metadata": {},
     "output_type": "display_data"
    },
    {
     "data": {
      "text/html": [
       "<pre>+--------------------------------+------------+</pre>"
      ],
      "text/plain": [
       "+--------------------------------+------------+"
      ]
     },
     "metadata": {},
     "output_type": "display_data"
    },
    {
     "data": {
      "text/html": [
       "<pre>| 1.146ms                        | 10.25      |</pre>"
      ],
      "text/plain": [
       "| 1.146ms                        | 10.25      |"
      ]
     },
     "metadata": {},
     "output_type": "display_data"
    },
    {
     "data": {
      "text/html": [
       "<pre>| 4.699ms                        | 100        |</pre>"
      ],
      "text/plain": [
       "| 4.699ms                        | 100        |"
      ]
     },
     "metadata": {},
     "output_type": "display_data"
    },
    {
     "data": {
      "text/html": [
       "<pre>+--------------------------------+------------+</pre>"
      ],
      "text/plain": [
       "+--------------------------------+------------+"
      ]
     },
     "metadata": {},
     "output_type": "display_data"
    },
    {
     "data": {
      "text/html": [
       "<pre>Setting up lookup tables.</pre>"
      ],
      "text/plain": [
       "Setting up lookup tables."
      ]
     },
     "metadata": {},
     "output_type": "display_data"
    },
    {
     "data": {
      "text/html": [
       "<pre>Processing data in one pass using dense lookup tables.</pre>"
      ],
      "text/plain": [
       "Processing data in one pass using dense lookup tables."
      ]
     },
     "metadata": {},
     "output_type": "display_data"
    },
    {
     "data": {
      "text/html": [
       "<pre>+-------------------------------------+------------------+-----------------+</pre>"
      ],
      "text/plain": [
       "+-------------------------------------+------------------+-----------------+"
      ]
     },
     "metadata": {},
     "output_type": "display_data"
    },
    {
     "data": {
      "text/html": [
       "<pre>| Elapsed Time (Constructing Lookups) | Total % Complete | Items Processed |</pre>"
      ],
      "text/plain": [
       "| Elapsed Time (Constructing Lookups) | Total % Complete | Items Processed |"
      ]
     },
     "metadata": {},
     "output_type": "display_data"
    },
    {
     "data": {
      "text/html": [
       "<pre>+-------------------------------------+------------------+-----------------+</pre>"
      ],
      "text/plain": [
       "+-------------------------------------+------------------+-----------------+"
      ]
     },
     "metadata": {},
     "output_type": "display_data"
    },
    {
     "data": {
      "text/html": [
       "<pre>| 974.925ms                           | 0                | 0               |</pre>"
      ],
      "text/plain": [
       "| 974.925ms                           | 0                | 0               |"
      ]
     },
     "metadata": {},
     "output_type": "display_data"
    },
    {
     "data": {
      "text/html": [
       "<pre>| 1.58s                               | 100              | 14105           |</pre>"
      ],
      "text/plain": [
       "| 1.58s                               | 100              | 14105           |"
      ]
     },
     "metadata": {},
     "output_type": "display_data"
    },
    {
     "data": {
      "text/html": [
       "<pre>+-------------------------------------+------------------+-----------------+</pre>"
      ],
      "text/plain": [
       "+-------------------------------------+------------------+-----------------+"
      ]
     },
     "metadata": {},
     "output_type": "display_data"
    },
    {
     "name": "stdout",
     "output_type": "stream",
     "text": [
      "PROGRESS: Evaluate model M0\n"
     ]
    },
    {
     "data": {
      "text/html": [
       "<pre>Finalizing lookup tables.</pre>"
      ],
      "text/plain": [
       "Finalizing lookup tables."
      ]
     },
     "metadata": {},
     "output_type": "display_data"
    },
    {
     "data": {
      "text/html": [
       "<pre>Generating candidate set for working with new users.</pre>"
      ],
      "text/plain": [
       "Generating candidate set for working with new users."
      ]
     },
     "metadata": {},
     "output_type": "display_data"
    },
    {
     "data": {
      "text/html": [
       "<pre>Finished training in 1.59664s</pre>"
      ],
      "text/plain": [
       "Finished training in 1.59664s"
      ]
     },
     "metadata": {},
     "output_type": "display_data"
    },
    {
     "data": {
      "text/html": [
       "<pre>recommendations finished on 1000/9672 queries. users per second: 10560.1</pre>"
      ],
      "text/plain": [
       "recommendations finished on 1000/9672 queries. users per second: 10560.1"
      ]
     },
     "metadata": {},
     "output_type": "display_data"
    },
    {
     "data": {
      "text/html": [
       "<pre>recommendations finished on 2000/9672 queries. users per second: 10477</pre>"
      ],
      "text/plain": [
       "recommendations finished on 2000/9672 queries. users per second: 10477"
      ]
     },
     "metadata": {},
     "output_type": "display_data"
    },
    {
     "data": {
      "text/html": [
       "<pre>recommendations finished on 3000/9672 queries. users per second: 10523.1</pre>"
      ],
      "text/plain": [
       "recommendations finished on 3000/9672 queries. users per second: 10523.1"
      ]
     },
     "metadata": {},
     "output_type": "display_data"
    },
    {
     "data": {
      "text/html": [
       "<pre>recommendations finished on 4000/9672 queries. users per second: 10748.1</pre>"
      ],
      "text/plain": [
       "recommendations finished on 4000/9672 queries. users per second: 10748.1"
      ]
     },
     "metadata": {},
     "output_type": "display_data"
    },
    {
     "data": {
      "text/html": [
       "<pre>recommendations finished on 5000/9672 queries. users per second: 10780.1</pre>"
      ],
      "text/plain": [
       "recommendations finished on 5000/9672 queries. users per second: 10780.1"
      ]
     },
     "metadata": {},
     "output_type": "display_data"
    },
    {
     "data": {
      "text/html": [
       "<pre>recommendations finished on 6000/9672 queries. users per second: 10954.3</pre>"
      ],
      "text/plain": [
       "recommendations finished on 6000/9672 queries. users per second: 10954.3"
      ]
     },
     "metadata": {},
     "output_type": "display_data"
    },
    {
     "data": {
      "text/html": [
       "<pre>recommendations finished on 7000/9672 queries. users per second: 10944.6</pre>"
      ],
      "text/plain": [
       "recommendations finished on 7000/9672 queries. users per second: 10944.6"
      ]
     },
     "metadata": {},
     "output_type": "display_data"
    },
    {
     "data": {
      "text/html": [
       "<pre>recommendations finished on 8000/9672 queries. users per second: 11093.2</pre>"
      ],
      "text/plain": [
       "recommendations finished on 8000/9672 queries. users per second: 11093.2"
      ]
     },
     "metadata": {},
     "output_type": "display_data"
    },
    {
     "data": {
      "text/html": [
       "<pre>recommendations finished on 9000/9672 queries. users per second: 11153.8</pre>"
      ],
      "text/plain": [
       "recommendations finished on 9000/9672 queries. users per second: 11153.8"
      ]
     },
     "metadata": {},
     "output_type": "display_data"
    },
    {
     "name": "stdout",
     "output_type": "stream",
     "text": [
      "\n",
      "Precision and recall summary statistics by cutoff\n",
      "+--------+------------------------+------------------------+\n",
      "| cutoff |     mean_precision     |      mean_recall       |\n",
      "+--------+------------------------+------------------------+\n",
      "|   1    | 0.00020678246484698103 | 2.625809077421981e-05  |\n",
      "|   2    | 0.00015508684863523562 | 3.272004280068795e-05  |\n",
      "|   3    | 0.00010339123242349053 | 3.272004280068791e-05  |\n",
      "|   4    | 0.00015508684863523592 | 6.636322160515706e-05  |\n",
      "|   5    | 0.00012406947890818875 | 6.636322160515701e-05  |\n",
      "|   6    | 0.0001550868486352358  | 0.00010791854386767539 |\n",
      "|   7    | 0.00033971404939146853 | 0.00024413518714076944 |\n",
      "|   8    | 0.0003618693134822167  | 0.00029890792336511885 |\n",
      "|   9    | 0.0003791011855527987  | 0.0003467112526837289  |\n",
      "|   10   | 0.0003928866832092643  | 0.0003970261099154591  |\n",
      "+--------+------------------------+------------------------+\n",
      "[10 rows x 3 columns]\n",
      "\n",
      "\n",
      "Overall RMSE: 0.19464418269678435\n",
      "\n",
      "Per User RMSE (best)\n",
      "+-----------+------+-------+\n",
      "|  user_id  | rmse | count |\n",
      "+-----------+------+-------+\n",
      "| 571652824 | 0.0  |   6   |\n",
      "+-----------+------+-------+\n",
      "[1 rows x 3 columns]\n",
      "\n",
      "\n",
      "Per User RMSE (worst)\n",
      "+-----------+-------------------+-------+\n",
      "|  user_id  |        rmse       | count |\n",
      "+-----------+-------------------+-------+\n",
      "| 401020145 | 1.868672638158447 |   16  |\n",
      "+-----------+-------------------+-------+\n",
      "[1 rows x 3 columns]\n",
      "\n",
      "\n",
      "Per Item RMSE (best)\n",
      "+------------+------+-------+\n",
      "| product_id | rmse | count |\n",
      "+------------+------+-------+\n",
      "|  5813923   | 0.0  |   4   |\n",
      "+------------+------+-------+\n",
      "[1 rows x 3 columns]\n",
      "\n",
      "\n",
      "Per Item RMSE (worst)\n",
      "+------------+--------------------+-------+\n",
      "| product_id |        rmse        | count |\n",
      "+------------+--------------------+-------+\n",
      "|  5770065   | 1.4992189535565261 |   2   |\n",
      "+------------+--------------------+-------+\n",
      "[1 rows x 3 columns]\n",
      "\n",
      "PROGRESS: Evaluate model m1\n",
      "\n",
      "Overall RMSE: 0.2876211580228401\n",
      "\n",
      "Per User RMSE (best)\n",
      "+-----------+------+-------+\n",
      "|  user_id  | rmse | count |\n",
      "+-----------+------+-------+\n",
      "| 478421396 | 0.0  |   2   |\n",
      "+-----------+------+-------+\n",
      "[1 rows x 3 columns]\n",
      "\n",
      "\n",
      "Per User RMSE (worst)\n",
      "+-----------+-------------------+-------+\n",
      "|  user_id  |        rmse       | count |\n",
      "+-----------+-------------------+-------+\n",
      "| 475568506 | 4.933333333333334 |   1   |\n",
      "+-----------+-------------------+-------+\n",
      "[1 rows x 3 columns]\n",
      "\n",
      "\n",
      "Per Item RMSE (best)\n",
      "+------------+------+-------+\n",
      "| product_id | rmse | count |\n",
      "+------------+------+-------+\n",
      "|  5804001   | 0.0  |   4   |\n",
      "+------------+------+-------+\n",
      "[1 rows x 3 columns]\n",
      "\n",
      "\n",
      "Per Item RMSE (worst)\n",
      "+------------+------+-------+\n",
      "| product_id | rmse | count |\n",
      "+------------+------+-------+\n",
      "|  5797165   | 3.0  |   1   |\n",
      "+------------+------+-------+\n",
      "[1 rows x 3 columns]\n",
      "\n"
     ]
    },
    {
     "data": {
      "text/html": [
       "<pre>recommendations finished on 1000/9672 queries. users per second: 18297.6</pre>"
      ],
      "text/plain": [
       "recommendations finished on 1000/9672 queries. users per second: 18297.6"
      ]
     },
     "metadata": {},
     "output_type": "display_data"
    },
    {
     "data": {
      "text/html": [
       "<pre>recommendations finished on 2000/9672 queries. users per second: 18005.2</pre>"
      ],
      "text/plain": [
       "recommendations finished on 2000/9672 queries. users per second: 18005.2"
      ]
     },
     "metadata": {},
     "output_type": "display_data"
    },
    {
     "data": {
      "text/html": [
       "<pre>recommendations finished on 3000/9672 queries. users per second: 17838</pre>"
      ],
      "text/plain": [
       "recommendations finished on 3000/9672 queries. users per second: 17838"
      ]
     },
     "metadata": {},
     "output_type": "display_data"
    },
    {
     "data": {
      "text/html": [
       "<pre>recommendations finished on 4000/9672 queries. users per second: 17516.4</pre>"
      ],
      "text/plain": [
       "recommendations finished on 4000/9672 queries. users per second: 17516.4"
      ]
     },
     "metadata": {},
     "output_type": "display_data"
    },
    {
     "data": {
      "text/html": [
       "<pre>recommendations finished on 5000/9672 queries. users per second: 17287.8</pre>"
      ],
      "text/plain": [
       "recommendations finished on 5000/9672 queries. users per second: 17287.8"
      ]
     },
     "metadata": {},
     "output_type": "display_data"
    },
    {
     "data": {
      "text/html": [
       "<pre>recommendations finished on 6000/9672 queries. users per second: 17309.6</pre>"
      ],
      "text/plain": [
       "recommendations finished on 6000/9672 queries. users per second: 17309.6"
      ]
     },
     "metadata": {},
     "output_type": "display_data"
    },
    {
     "data": {
      "text/html": [
       "<pre>recommendations finished on 7000/9672 queries. users per second: 16399</pre>"
      ],
      "text/plain": [
       "recommendations finished on 7000/9672 queries. users per second: 16399"
      ]
     },
     "metadata": {},
     "output_type": "display_data"
    },
    {
     "data": {
      "text/html": [
       "<pre>recommendations finished on 8000/9672 queries. users per second: 16331.7</pre>"
      ],
      "text/plain": [
       "recommendations finished on 8000/9672 queries. users per second: 16331.7"
      ]
     },
     "metadata": {},
     "output_type": "display_data"
    },
    {
     "data": {
      "text/html": [
       "<pre>recommendations finished on 9000/9672 queries. users per second: 16164.6</pre>"
      ],
      "text/plain": [
       "recommendations finished on 9000/9672 queries. users per second: 16164.6"
      ]
     },
     "metadata": {},
     "output_type": "display_data"
    },
    {
     "data": {
      "text/html": [
       "<pre>Preparing data set.</pre>"
      ],
      "text/plain": [
       "Preparing data set."
      ]
     },
     "metadata": {},
     "output_type": "display_data"
    },
    {
     "data": {
      "text/html": [
       "<pre>    Data has 108626 observations with 9672 users and 14105 items.</pre>"
      ],
      "text/plain": [
       "    Data has 108626 observations with 9672 users and 14105 items."
      ]
     },
     "metadata": {},
     "output_type": "display_data"
    },
    {
     "data": {
      "text/html": [
       "<pre>    Data prepared in: 0.080498s</pre>"
      ],
      "text/plain": [
       "    Data prepared in: 0.080498s"
      ]
     },
     "metadata": {},
     "output_type": "display_data"
    },
    {
     "data": {
      "text/html": [
       "<pre>Training model from provided data.</pre>"
      ],
      "text/plain": [
       "Training model from provided data."
      ]
     },
     "metadata": {},
     "output_type": "display_data"
    },
    {
     "data": {
      "text/html": [
       "<pre>Gathering per-item and per-user statistics.</pre>"
      ],
      "text/plain": [
       "Gathering per-item and per-user statistics."
      ]
     },
     "metadata": {},
     "output_type": "display_data"
    },
    {
     "data": {
      "text/html": [
       "<pre>+--------------------------------+------------+</pre>"
      ],
      "text/plain": [
       "+--------------------------------+------------+"
      ]
     },
     "metadata": {},
     "output_type": "display_data"
    },
    {
     "data": {
      "text/html": [
       "<pre>| Elapsed Time (Item Statistics) | % Complete |</pre>"
      ],
      "text/plain": [
       "| Elapsed Time (Item Statistics) | % Complete |"
      ]
     },
     "metadata": {},
     "output_type": "display_data"
    },
    {
     "data": {
      "text/html": [
       "<pre>+--------------------------------+------------+</pre>"
      ],
      "text/plain": [
       "+--------------------------------+------------+"
      ]
     },
     "metadata": {},
     "output_type": "display_data"
    },
    {
     "data": {
      "text/html": [
       "<pre>| 1.06ms                         | 10.25      |</pre>"
      ],
      "text/plain": [
       "| 1.06ms                         | 10.25      |"
      ]
     },
     "metadata": {},
     "output_type": "display_data"
    },
    {
     "data": {
      "text/html": [
       "<pre>| 4.75ms                         | 100        |</pre>"
      ],
      "text/plain": [
       "| 4.75ms                         | 100        |"
      ]
     },
     "metadata": {},
     "output_type": "display_data"
    },
    {
     "data": {
      "text/html": [
       "<pre>+--------------------------------+------------+</pre>"
      ],
      "text/plain": [
       "+--------------------------------+------------+"
      ]
     },
     "metadata": {},
     "output_type": "display_data"
    },
    {
     "data": {
      "text/html": [
       "<pre>Setting up lookup tables.</pre>"
      ],
      "text/plain": [
       "Setting up lookup tables."
      ]
     },
     "metadata": {},
     "output_type": "display_data"
    },
    {
     "data": {
      "text/html": [
       "<pre>Processing data in one pass using dense lookup tables.</pre>"
      ],
      "text/plain": [
       "Processing data in one pass using dense lookup tables."
      ]
     },
     "metadata": {},
     "output_type": "display_data"
    },
    {
     "data": {
      "text/html": [
       "<pre>+-------------------------------------+------------------+-----------------+</pre>"
      ],
      "text/plain": [
       "+-------------------------------------+------------------+-----------------+"
      ]
     },
     "metadata": {},
     "output_type": "display_data"
    },
    {
     "data": {
      "text/html": [
       "<pre>| Elapsed Time (Constructing Lookups) | Total % Complete | Items Processed |</pre>"
      ],
      "text/plain": [
       "| Elapsed Time (Constructing Lookups) | Total % Complete | Items Processed |"
      ]
     },
     "metadata": {},
     "output_type": "display_data"
    },
    {
     "data": {
      "text/html": [
       "<pre>+-------------------------------------+------------------+-----------------+</pre>"
      ],
      "text/plain": [
       "+-------------------------------------+------------------+-----------------+"
      ]
     },
     "metadata": {},
     "output_type": "display_data"
    },
    {
     "data": {
      "text/html": [
       "<pre>| 985.452ms                           | 0                | 0               |</pre>"
      ],
      "text/plain": [
       "| 985.452ms                           | 0                | 0               |"
      ]
     },
     "metadata": {},
     "output_type": "display_data"
    },
    {
     "data": {
      "text/html": [
       "<pre>| 1.61s                               | 100              | 14105           |</pre>"
      ],
      "text/plain": [
       "| 1.61s                               | 100              | 14105           |"
      ]
     },
     "metadata": {},
     "output_type": "display_data"
    },
    {
     "data": {
      "text/html": [
       "<pre>+-------------------------------------+------------------+-----------------+</pre>"
      ],
      "text/plain": [
       "+-------------------------------------+------------------+-----------------+"
      ]
     },
     "metadata": {},
     "output_type": "display_data"
    },
    {
     "name": "stdout",
     "output_type": "stream",
     "text": [
      "PROGRESS: Evaluate model M0\n"
     ]
    },
    {
     "data": {
      "text/html": [
       "<pre>Finalizing lookup tables.</pre>"
      ],
      "text/plain": [
       "Finalizing lookup tables."
      ]
     },
     "metadata": {},
     "output_type": "display_data"
    },
    {
     "data": {
      "text/html": [
       "<pre>Generating candidate set for working with new users.</pre>"
      ],
      "text/plain": [
       "Generating candidate set for working with new users."
      ]
     },
     "metadata": {},
     "output_type": "display_data"
    },
    {
     "data": {
      "text/html": [
       "<pre>Finished training in 1.62101s</pre>"
      ],
      "text/plain": [
       "Finished training in 1.62101s"
      ]
     },
     "metadata": {},
     "output_type": "display_data"
    },
    {
     "data": {
      "text/html": [
       "<pre>recommendations finished on 1000/9672 queries. users per second: 9444.21</pre>"
      ],
      "text/plain": [
       "recommendations finished on 1000/9672 queries. users per second: 9444.21"
      ]
     },
     "metadata": {},
     "output_type": "display_data"
    },
    {
     "data": {
      "text/html": [
       "<pre>recommendations finished on 2000/9672 queries. users per second: 10613.1</pre>"
      ],
      "text/plain": [
       "recommendations finished on 2000/9672 queries. users per second: 10613.1"
      ]
     },
     "metadata": {},
     "output_type": "display_data"
    },
    {
     "data": {
      "text/html": [
       "<pre>recommendations finished on 3000/9672 queries. users per second: 10847.7</pre>"
      ],
      "text/plain": [
       "recommendations finished on 3000/9672 queries. users per second: 10847.7"
      ]
     },
     "metadata": {},
     "output_type": "display_data"
    },
    {
     "data": {
      "text/html": [
       "<pre>recommendations finished on 4000/9672 queries. users per second: 10738.8</pre>"
      ],
      "text/plain": [
       "recommendations finished on 4000/9672 queries. users per second: 10738.8"
      ]
     },
     "metadata": {},
     "output_type": "display_data"
    },
    {
     "data": {
      "text/html": [
       "<pre>recommendations finished on 5000/9672 queries. users per second: 10784.6</pre>"
      ],
      "text/plain": [
       "recommendations finished on 5000/9672 queries. users per second: 10784.6"
      ]
     },
     "metadata": {},
     "output_type": "display_data"
    },
    {
     "data": {
      "text/html": [
       "<pre>recommendations finished on 6000/9672 queries. users per second: 10926.2</pre>"
      ],
      "text/plain": [
       "recommendations finished on 6000/9672 queries. users per second: 10926.2"
      ]
     },
     "metadata": {},
     "output_type": "display_data"
    },
    {
     "data": {
      "text/html": [
       "<pre>recommendations finished on 7000/9672 queries. users per second: 11036.6</pre>"
      ],
      "text/plain": [
       "recommendations finished on 7000/9672 queries. users per second: 11036.6"
      ]
     },
     "metadata": {},
     "output_type": "display_data"
    },
    {
     "data": {
      "text/html": [
       "<pre>recommendations finished on 8000/9672 queries. users per second: 11113.3</pre>"
      ],
      "text/plain": [
       "recommendations finished on 8000/9672 queries. users per second: 11113.3"
      ]
     },
     "metadata": {},
     "output_type": "display_data"
    },
    {
     "data": {
      "text/html": [
       "<pre>recommendations finished on 9000/9672 queries. users per second: 11143.9</pre>"
      ],
      "text/plain": [
       "recommendations finished on 9000/9672 queries. users per second: 11143.9"
      ]
     },
     "metadata": {},
     "output_type": "display_data"
    },
    {
     "name": "stdout",
     "output_type": "stream",
     "text": [
      "\n",
      "Precision and recall summary statistics by cutoff\n",
      "+--------+------------------------+------------------------+\n",
      "| cutoff |     mean_precision     |      mean_recall       |\n",
      "+--------+------------------------+------------------------+\n",
      "|   1    | 0.00010339123242349052 | 1.4770176060498651e-05 |\n",
      "|   2    | 5.169561621174526e-05  | 1.477017606049865e-05  |\n",
      "|   3    | 0.00010339123242349037 | 3.2720042800687946e-05 |\n",
      "|   4    | 0.00018093465674110822 | 7.103413198326354e-05  |\n",
      "|   5    | 0.00014474772539288674 | 7.103413198326347e-05  |\n",
      "|   6    | 0.00018955059277639925 | 0.00012735963030628022 |\n",
      "|   7    | 0.00038402457757296456 | 0.0002750641882930966  |\n",
      "|   8    | 0.00043941273779983465 | 0.00035011650822755025 |\n",
      "|   9    | 0.0004710045032625684  | 0.00042381747755507095 |\n",
      "|   10   | 0.0004652605459057068  | 0.0004633071843834869  |\n",
      "+--------+------------------------+------------------------+\n",
      "[10 rows x 3 columns]\n",
      "\n",
      "\n",
      "Overall RMSE: 0.1902934968557258\n",
      "\n",
      "Per User RMSE (best)\n",
      "+-----------+------+-------+\n",
      "|  user_id  | rmse | count |\n",
      "+-----------+------+-------+\n",
      "| 571652824 | 0.0  |   6   |\n",
      "+-----------+------+-------+\n",
      "[1 rows x 3 columns]\n",
      "\n",
      "\n",
      "Per User RMSE (worst)\n",
      "+-----------+--------------------+-------+\n",
      "|  user_id  |        rmse        | count |\n",
      "+-----------+--------------------+-------+\n",
      "| 401020145 | 1.8645133740121191 |   16  |\n",
      "+-----------+--------------------+-------+\n",
      "[1 rows x 3 columns]\n",
      "\n",
      "\n",
      "Per Item RMSE (best)\n",
      "+------------+------+-------+\n",
      "| product_id | rmse | count |\n",
      "+------------+------+-------+\n",
      "|  5813923   | 0.0  |   4   |\n",
      "+------------+------+-------+\n",
      "[1 rows x 3 columns]\n",
      "\n",
      "\n",
      "Per Item RMSE (worst)\n",
      "+------------+--------------------+-------+\n",
      "| product_id |        rmse        | count |\n",
      "+------------+--------------------+-------+\n",
      "|  5770065   | 1.4992189535565261 |   2   |\n",
      "+------------+--------------------+-------+\n",
      "[1 rows x 3 columns]\n",
      "\n",
      "PROGRESS: Evaluate model m1\n",
      "\n",
      "Overall RMSE: 0.28758388034974286\n",
      "\n",
      "Per User RMSE (best)\n",
      "+-----------+------+-------+\n",
      "|  user_id  | rmse | count |\n",
      "+-----------+------+-------+\n",
      "| 478421396 | 0.0  |   2   |\n",
      "+-----------+------+-------+\n",
      "[1 rows x 3 columns]\n",
      "\n",
      "\n",
      "Per User RMSE (worst)\n",
      "+-----------+-------------------+-------+\n",
      "|  user_id  |        rmse       | count |\n",
      "+-----------+-------------------+-------+\n",
      "| 475568506 | 4.933333333333334 |   1   |\n",
      "+-----------+-------------------+-------+\n",
      "[1 rows x 3 columns]\n",
      "\n",
      "\n",
      "Per Item RMSE (best)\n",
      "+------------+------+-------+\n",
      "| product_id | rmse | count |\n",
      "+------------+------+-------+\n",
      "|  5804001   | 0.0  |   4   |\n",
      "+------------+------+-------+\n",
      "[1 rows x 3 columns]\n",
      "\n",
      "\n",
      "Per Item RMSE (worst)\n",
      "+------------+------+-------+\n",
      "| product_id | rmse | count |\n",
      "+------------+------+-------+\n",
      "|  5797165   | 3.0  |   1   |\n",
      "+------------+------+-------+\n",
      "[1 rows x 3 columns]\n",
      "\n"
     ]
    },
    {
     "data": {
      "text/html": [
       "<pre>recommendations finished on 1000/9672 queries. users per second: 20543.2</pre>"
      ],
      "text/plain": [
       "recommendations finished on 1000/9672 queries. users per second: 20543.2"
      ]
     },
     "metadata": {},
     "output_type": "display_data"
    },
    {
     "data": {
      "text/html": [
       "<pre>recommendations finished on 2000/9672 queries. users per second: 19640.4</pre>"
      ],
      "text/plain": [
       "recommendations finished on 2000/9672 queries. users per second: 19640.4"
      ]
     },
     "metadata": {},
     "output_type": "display_data"
    },
    {
     "data": {
      "text/html": [
       "<pre>recommendations finished on 3000/9672 queries. users per second: 18457.6</pre>"
      ],
      "text/plain": [
       "recommendations finished on 3000/9672 queries. users per second: 18457.6"
      ]
     },
     "metadata": {},
     "output_type": "display_data"
    },
    {
     "data": {
      "text/html": [
       "<pre>recommendations finished on 4000/9672 queries. users per second: 18201.1</pre>"
      ],
      "text/plain": [
       "recommendations finished on 4000/9672 queries. users per second: 18201.1"
      ]
     },
     "metadata": {},
     "output_type": "display_data"
    },
    {
     "data": {
      "text/html": [
       "<pre>recommendations finished on 5000/9672 queries. users per second: 17867.4</pre>"
      ],
      "text/plain": [
       "recommendations finished on 5000/9672 queries. users per second: 17867.4"
      ]
     },
     "metadata": {},
     "output_type": "display_data"
    },
    {
     "data": {
      "text/html": [
       "<pre>recommendations finished on 6000/9672 queries. users per second: 17835.4</pre>"
      ],
      "text/plain": [
       "recommendations finished on 6000/9672 queries. users per second: 17835.4"
      ]
     },
     "metadata": {},
     "output_type": "display_data"
    },
    {
     "data": {
      "text/html": [
       "<pre>recommendations finished on 7000/9672 queries. users per second: 17789.3</pre>"
      ],
      "text/plain": [
       "recommendations finished on 7000/9672 queries. users per second: 17789.3"
      ]
     },
     "metadata": {},
     "output_type": "display_data"
    },
    {
     "data": {
      "text/html": [
       "<pre>recommendations finished on 8000/9672 queries. users per second: 17613</pre>"
      ],
      "text/plain": [
       "recommendations finished on 8000/9672 queries. users per second: 17613"
      ]
     },
     "metadata": {},
     "output_type": "display_data"
    },
    {
     "data": {
      "text/html": [
       "<pre>recommendations finished on 9000/9672 queries. users per second: 17543.5</pre>"
      ],
      "text/plain": [
       "recommendations finished on 9000/9672 queries. users per second: 17543.5"
      ]
     },
     "metadata": {},
     "output_type": "display_data"
    },
    {
     "data": {
      "text/html": [
       "<pre>Preparing data set.</pre>"
      ],
      "text/plain": [
       "Preparing data set."
      ]
     },
     "metadata": {},
     "output_type": "display_data"
    },
    {
     "data": {
      "text/html": [
       "<pre>    Data has 108626 observations with 9672 users and 14105 items.</pre>"
      ],
      "text/plain": [
       "    Data has 108626 observations with 9672 users and 14105 items."
      ]
     },
     "metadata": {},
     "output_type": "display_data"
    },
    {
     "data": {
      "text/html": [
       "<pre>    Data prepared in: 0.087144s</pre>"
      ],
      "text/plain": [
       "    Data prepared in: 0.087144s"
      ]
     },
     "metadata": {},
     "output_type": "display_data"
    },
    {
     "data": {
      "text/html": [
       "<pre>Training model from provided data.</pre>"
      ],
      "text/plain": [
       "Training model from provided data."
      ]
     },
     "metadata": {},
     "output_type": "display_data"
    },
    {
     "data": {
      "text/html": [
       "<pre>Gathering per-item and per-user statistics.</pre>"
      ],
      "text/plain": [
       "Gathering per-item and per-user statistics."
      ]
     },
     "metadata": {},
     "output_type": "display_data"
    },
    {
     "data": {
      "text/html": [
       "<pre>+--------------------------------+------------+</pre>"
      ],
      "text/plain": [
       "+--------------------------------+------------+"
      ]
     },
     "metadata": {},
     "output_type": "display_data"
    },
    {
     "data": {
      "text/html": [
       "<pre>| Elapsed Time (Item Statistics) | % Complete |</pre>"
      ],
      "text/plain": [
       "| Elapsed Time (Item Statistics) | % Complete |"
      ]
     },
     "metadata": {},
     "output_type": "display_data"
    },
    {
     "data": {
      "text/html": [
       "<pre>+--------------------------------+------------+</pre>"
      ],
      "text/plain": [
       "+--------------------------------+------------+"
      ]
     },
     "metadata": {},
     "output_type": "display_data"
    },
    {
     "data": {
      "text/html": [
       "<pre>| 1.087ms                        | 10.25      |</pre>"
      ],
      "text/plain": [
       "| 1.087ms                        | 10.25      |"
      ]
     },
     "metadata": {},
     "output_type": "display_data"
    },
    {
     "data": {
      "text/html": [
       "<pre>| 4.309ms                        | 100        |</pre>"
      ],
      "text/plain": [
       "| 4.309ms                        | 100        |"
      ]
     },
     "metadata": {},
     "output_type": "display_data"
    },
    {
     "data": {
      "text/html": [
       "<pre>+--------------------------------+------------+</pre>"
      ],
      "text/plain": [
       "+--------------------------------+------------+"
      ]
     },
     "metadata": {},
     "output_type": "display_data"
    },
    {
     "data": {
      "text/html": [
       "<pre>Setting up lookup tables.</pre>"
      ],
      "text/plain": [
       "Setting up lookup tables."
      ]
     },
     "metadata": {},
     "output_type": "display_data"
    },
    {
     "data": {
      "text/html": [
       "<pre>Processing data in one pass using dense lookup tables.</pre>"
      ],
      "text/plain": [
       "Processing data in one pass using dense lookup tables."
      ]
     },
     "metadata": {},
     "output_type": "display_data"
    },
    {
     "data": {
      "text/html": [
       "<pre>+-------------------------------------+------------------+-----------------+</pre>"
      ],
      "text/plain": [
       "+-------------------------------------+------------------+-----------------+"
      ]
     },
     "metadata": {},
     "output_type": "display_data"
    },
    {
     "data": {
      "text/html": [
       "<pre>| Elapsed Time (Constructing Lookups) | Total % Complete | Items Processed |</pre>"
      ],
      "text/plain": [
       "| Elapsed Time (Constructing Lookups) | Total % Complete | Items Processed |"
      ]
     },
     "metadata": {},
     "output_type": "display_data"
    },
    {
     "data": {
      "text/html": [
       "<pre>+-------------------------------------+------------------+-----------------+</pre>"
      ],
      "text/plain": [
       "+-------------------------------------+------------------+-----------------+"
      ]
     },
     "metadata": {},
     "output_type": "display_data"
    },
    {
     "data": {
      "text/html": [
       "<pre>| 977.817ms                           | 0                | 0               |</pre>"
      ],
      "text/plain": [
       "| 977.817ms                           | 0                | 0               |"
      ]
     },
     "metadata": {},
     "output_type": "display_data"
    },
    {
     "data": {
      "text/html": [
       "<pre>| 1.58s                               | 100              | 14105           |</pre>"
      ],
      "text/plain": [
       "| 1.58s                               | 100              | 14105           |"
      ]
     },
     "metadata": {},
     "output_type": "display_data"
    },
    {
     "data": {
      "text/html": [
       "<pre>+-------------------------------------+------------------+-----------------+</pre>"
      ],
      "text/plain": [
       "+-------------------------------------+------------------+-----------------+"
      ]
     },
     "metadata": {},
     "output_type": "display_data"
    },
    {
     "name": "stdout",
     "output_type": "stream",
     "text": [
      "PROGRESS: Evaluate model M0"
     ]
    },
    {
     "data": {
      "text/html": [
       "<pre>Finalizing lookup tables.</pre>"
      ],
      "text/plain": [
       "Finalizing lookup tables."
      ]
     },
     "metadata": {},
     "output_type": "display_data"
    },
    {
     "name": "stdout",
     "output_type": "stream",
     "text": [
      "\n"
     ]
    },
    {
     "data": {
      "text/html": [
       "<pre>Generating candidate set for working with new users.</pre>"
      ],
      "text/plain": [
       "Generating candidate set for working with new users."
      ]
     },
     "metadata": {},
     "output_type": "display_data"
    },
    {
     "data": {
      "text/html": [
       "<pre>Finished training in 1.59699s</pre>"
      ],
      "text/plain": [
       "Finished training in 1.59699s"
      ]
     },
     "metadata": {},
     "output_type": "display_data"
    },
    {
     "data": {
      "text/html": [
       "<pre>recommendations finished on 1000/9672 queries. users per second: 12733.2</pre>"
      ],
      "text/plain": [
       "recommendations finished on 1000/9672 queries. users per second: 12733.2"
      ]
     },
     "metadata": {},
     "output_type": "display_data"
    },
    {
     "data": {
      "text/html": [
       "<pre>recommendations finished on 2000/9672 queries. users per second: 12968.2</pre>"
      ],
      "text/plain": [
       "recommendations finished on 2000/9672 queries. users per second: 12968.2"
      ]
     },
     "metadata": {},
     "output_type": "display_data"
    },
    {
     "data": {
      "text/html": [
       "<pre>recommendations finished on 3000/9672 queries. users per second: 12634.7</pre>"
      ],
      "text/plain": [
       "recommendations finished on 3000/9672 queries. users per second: 12634.7"
      ]
     },
     "metadata": {},
     "output_type": "display_data"
    },
    {
     "data": {
      "text/html": [
       "<pre>recommendations finished on 4000/9672 queries. users per second: 12525</pre>"
      ],
      "text/plain": [
       "recommendations finished on 4000/9672 queries. users per second: 12525"
      ]
     },
     "metadata": {},
     "output_type": "display_data"
    },
    {
     "data": {
      "text/html": [
       "<pre>recommendations finished on 5000/9672 queries. users per second: 12391.3</pre>"
      ],
      "text/plain": [
       "recommendations finished on 5000/9672 queries. users per second: 12391.3"
      ]
     },
     "metadata": {},
     "output_type": "display_data"
    },
    {
     "data": {
      "text/html": [
       "<pre>recommendations finished on 6000/9672 queries. users per second: 12324.6</pre>"
      ],
      "text/plain": [
       "recommendations finished on 6000/9672 queries. users per second: 12324.6"
      ]
     },
     "metadata": {},
     "output_type": "display_data"
    },
    {
     "data": {
      "text/html": [
       "<pre>recommendations finished on 7000/9672 queries. users per second: 12299.6</pre>"
      ],
      "text/plain": [
       "recommendations finished on 7000/9672 queries. users per second: 12299.6"
      ]
     },
     "metadata": {},
     "output_type": "display_data"
    },
    {
     "data": {
      "text/html": [
       "<pre>recommendations finished on 8000/9672 queries. users per second: 12254.2</pre>"
      ],
      "text/plain": [
       "recommendations finished on 8000/9672 queries. users per second: 12254.2"
      ]
     },
     "metadata": {},
     "output_type": "display_data"
    },
    {
     "data": {
      "text/html": [
       "<pre>recommendations finished on 9000/9672 queries. users per second: 12190.2</pre>"
      ],
      "text/plain": [
       "recommendations finished on 9000/9672 queries. users per second: 12190.2"
      ]
     },
     "metadata": {},
     "output_type": "display_data"
    },
    {
     "name": "stdout",
     "output_type": "stream",
     "text": [
      "\n",
      "Precision and recall summary statistics by cutoff\n",
      "+--------+------------------------+------------------------+\n",
      "| cutoff |     mean_precision     |      mean_recall       |\n",
      "+--------+------------------------+------------------------+\n",
      "|   1    | 0.00010339123242349045 | 6.461952026468153e-06  |\n",
      "|   2    | 5.169561621174507e-05  | 6.4619520264681335e-06 |\n",
      "|   3    | 0.00010339123242349052 | 3.272004280068797e-05  |\n",
      "|   4    | 0.0001809346567411085  | 7.103413198326339e-05  |\n",
      "|   5    | 0.00014474772539288685 | 7.103413198326348e-05  |\n",
      "|   6    | 0.00018955059277639925 | 0.0001273596303062805  |\n",
      "|   7    | 0.0003840245775729643  | 0.0002750641882930972  |\n",
      "|   8    | 0.0004394127377998343  |  0.00035011650822755   |\n",
      "|   9    | 0.00043654075912140437 | 0.00039247819373439753 |\n",
      "|   10   | 0.00042390405293631095 | 0.00042335196452752255 |\n",
      "+--------+------------------------+------------------------+\n",
      "[10 rows x 3 columns]\n",
      "\n",
      "\n",
      "Overall RMSE: 0.18809659042502902\n",
      "\n",
      "Per User RMSE (best)\n",
      "+-----------+------+-------+\n",
      "|  user_id  | rmse | count |\n",
      "+-----------+------+-------+\n",
      "| 571652824 | 0.0  |   6   |\n",
      "+-----------+------+-------+\n",
      "[1 rows x 3 columns]\n",
      "\n",
      "\n",
      "Per User RMSE (worst)\n",
      "+-----------+--------------------+-------+\n",
      "|  user_id  |        rmse        | count |\n",
      "+-----------+--------------------+-------+\n",
      "| 401020145 | 1.8645133740121196 |   16  |\n",
      "+-----------+--------------------+-------+\n",
      "[1 rows x 3 columns]\n",
      "\n",
      "\n",
      "Per Item RMSE (best)\n",
      "+------------+------+-------+\n",
      "| product_id | rmse | count |\n",
      "+------------+------+-------+\n",
      "|  5813923   | 0.0  |   4   |\n",
      "+------------+------+-------+\n",
      "[1 rows x 3 columns]\n",
      "\n",
      "\n",
      "Per Item RMSE (worst)\n",
      "+------------+--------------------+-------+\n",
      "| product_id |        rmse        | count |\n",
      "+------------+--------------------+-------+\n",
      "|  5770065   | 1.4992189535565261 |   2   |\n",
      "+------------+--------------------+-------+\n",
      "[1 rows x 3 columns]\n",
      "\n",
      "PROGRESS: Evaluate model m1\n",
      "\n",
      "Overall RMSE: 0.2875373093506914\n",
      "\n",
      "Per User RMSE (best)\n",
      "+-----------+------+-------+\n",
      "|  user_id  | rmse | count |\n",
      "+-----------+------+-------+\n",
      "| 478421396 | 0.0  |   2   |\n",
      "+-----------+------+-------+\n",
      "[1 rows x 3 columns]\n",
      "\n",
      "\n",
      "Per User RMSE (worst)\n",
      "+-----------+-------------------+-------+\n",
      "|  user_id  |        rmse       | count |\n",
      "+-----------+-------------------+-------+\n",
      "| 475568506 | 4.933333333333334 |   1   |\n",
      "+-----------+-------------------+-------+\n",
      "[1 rows x 3 columns]\n",
      "\n",
      "\n",
      "Per Item RMSE (best)\n",
      "+------------+------+-------+\n",
      "| product_id | rmse | count |\n",
      "+------------+------+-------+\n",
      "|  5804001   | 0.0  |   4   |\n",
      "+------------+------+-------+\n",
      "[1 rows x 3 columns]\n",
      "\n",
      "\n",
      "Per Item RMSE (worst)\n",
      "+------------+------+-------+\n",
      "| product_id | rmse | count |\n",
      "+------------+------+-------+\n",
      "|  5797165   | 3.0  |   1   |\n",
      "+------------+------+-------+\n",
      "[1 rows x 3 columns]\n",
      "\n"
     ]
    },
    {
     "data": {
      "text/html": [
       "<pre>recommendations finished on 1000/9672 queries. users per second: 17540.5</pre>"
      ],
      "text/plain": [
       "recommendations finished on 1000/9672 queries. users per second: 17540.5"
      ]
     },
     "metadata": {},
     "output_type": "display_data"
    },
    {
     "data": {
      "text/html": [
       "<pre>recommendations finished on 2000/9672 queries. users per second: 17873.3</pre>"
      ],
      "text/plain": [
       "recommendations finished on 2000/9672 queries. users per second: 17873.3"
      ]
     },
     "metadata": {},
     "output_type": "display_data"
    },
    {
     "data": {
      "text/html": [
       "<pre>recommendations finished on 3000/9672 queries. users per second: 17552.5</pre>"
      ],
      "text/plain": [
       "recommendations finished on 3000/9672 queries. users per second: 17552.5"
      ]
     },
     "metadata": {},
     "output_type": "display_data"
    },
    {
     "data": {
      "text/html": [
       "<pre>recommendations finished on 4000/9672 queries. users per second: 17647.6</pre>"
      ],
      "text/plain": [
       "recommendations finished on 4000/9672 queries. users per second: 17647.6"
      ]
     },
     "metadata": {},
     "output_type": "display_data"
    },
    {
     "data": {
      "text/html": [
       "<pre>recommendations finished on 5000/9672 queries. users per second: 17133.8</pre>"
      ],
      "text/plain": [
       "recommendations finished on 5000/9672 queries. users per second: 17133.8"
      ]
     },
     "metadata": {},
     "output_type": "display_data"
    },
    {
     "data": {
      "text/html": [
       "<pre>recommendations finished on 6000/9672 queries. users per second: 17136.3</pre>"
      ],
      "text/plain": [
       "recommendations finished on 6000/9672 queries. users per second: 17136.3"
      ]
     },
     "metadata": {},
     "output_type": "display_data"
    },
    {
     "data": {
      "text/html": [
       "<pre>recommendations finished on 7000/9672 queries. users per second: 17264.1</pre>"
      ],
      "text/plain": [
       "recommendations finished on 7000/9672 queries. users per second: 17264.1"
      ]
     },
     "metadata": {},
     "output_type": "display_data"
    },
    {
     "data": {
      "text/html": [
       "<pre>recommendations finished on 8000/9672 queries. users per second: 17213.1</pre>"
      ],
      "text/plain": [
       "recommendations finished on 8000/9672 queries. users per second: 17213.1"
      ]
     },
     "metadata": {},
     "output_type": "display_data"
    },
    {
     "data": {
      "text/html": [
       "<pre>recommendations finished on 9000/9672 queries. users per second: 17177.9</pre>"
      ],
      "text/plain": [
       "recommendations finished on 9000/9672 queries. users per second: 17177.9"
      ]
     },
     "metadata": {},
     "output_type": "display_data"
    },
    {
     "data": {
      "text/html": [
       "<pre>Preparing data set.</pre>"
      ],
      "text/plain": [
       "Preparing data set."
      ]
     },
     "metadata": {},
     "output_type": "display_data"
    },
    {
     "data": {
      "text/html": [
       "<pre>    Data has 108626 observations with 9672 users and 14105 items.</pre>"
      ],
      "text/plain": [
       "    Data has 108626 observations with 9672 users and 14105 items."
      ]
     },
     "metadata": {},
     "output_type": "display_data"
    },
    {
     "data": {
      "text/html": [
       "<pre>    Data prepared in: 0.085939s</pre>"
      ],
      "text/plain": [
       "    Data prepared in: 0.085939s"
      ]
     },
     "metadata": {},
     "output_type": "display_data"
    },
    {
     "data": {
      "text/html": [
       "<pre>Training model from provided data.</pre>"
      ],
      "text/plain": [
       "Training model from provided data."
      ]
     },
     "metadata": {},
     "output_type": "display_data"
    },
    {
     "data": {
      "text/html": [
       "<pre>Gathering per-item and per-user statistics.</pre>"
      ],
      "text/plain": [
       "Gathering per-item and per-user statistics."
      ]
     },
     "metadata": {},
     "output_type": "display_data"
    },
    {
     "data": {
      "text/html": [
       "<pre>+--------------------------------+------------+</pre>"
      ],
      "text/plain": [
       "+--------------------------------+------------+"
      ]
     },
     "metadata": {},
     "output_type": "display_data"
    },
    {
     "data": {
      "text/html": [
       "<pre>| Elapsed Time (Item Statistics) | % Complete |</pre>"
      ],
      "text/plain": [
       "| Elapsed Time (Item Statistics) | % Complete |"
      ]
     },
     "metadata": {},
     "output_type": "display_data"
    },
    {
     "data": {
      "text/html": [
       "<pre>+--------------------------------+------------+</pre>"
      ],
      "text/plain": [
       "+--------------------------------+------------+"
      ]
     },
     "metadata": {},
     "output_type": "display_data"
    },
    {
     "data": {
      "text/html": [
       "<pre>| 1.143ms                        | 10.25      |</pre>"
      ],
      "text/plain": [
       "| 1.143ms                        | 10.25      |"
      ]
     },
     "metadata": {},
     "output_type": "display_data"
    },
    {
     "data": {
      "text/html": [
       "<pre>| 4.147ms                        | 100        |</pre>"
      ],
      "text/plain": [
       "| 4.147ms                        | 100        |"
      ]
     },
     "metadata": {},
     "output_type": "display_data"
    },
    {
     "data": {
      "text/html": [
       "<pre>+--------------------------------+------------+</pre>"
      ],
      "text/plain": [
       "+--------------------------------+------------+"
      ]
     },
     "metadata": {},
     "output_type": "display_data"
    },
    {
     "data": {
      "text/html": [
       "<pre>Setting up lookup tables.</pre>"
      ],
      "text/plain": [
       "Setting up lookup tables."
      ]
     },
     "metadata": {},
     "output_type": "display_data"
    },
    {
     "data": {
      "text/html": [
       "<pre>Processing data in one pass using dense lookup tables.</pre>"
      ],
      "text/plain": [
       "Processing data in one pass using dense lookup tables."
      ]
     },
     "metadata": {},
     "output_type": "display_data"
    },
    {
     "data": {
      "text/html": [
       "<pre>+-------------------------------------+------------------+-----------------+</pre>"
      ],
      "text/plain": [
       "+-------------------------------------+------------------+-----------------+"
      ]
     },
     "metadata": {},
     "output_type": "display_data"
    },
    {
     "data": {
      "text/html": [
       "<pre>| Elapsed Time (Constructing Lookups) | Total % Complete | Items Processed |</pre>"
      ],
      "text/plain": [
       "| Elapsed Time (Constructing Lookups) | Total % Complete | Items Processed |"
      ]
     },
     "metadata": {},
     "output_type": "display_data"
    },
    {
     "data": {
      "text/html": [
       "<pre>+-------------------------------------+------------------+-----------------+</pre>"
      ],
      "text/plain": [
       "+-------------------------------------+------------------+-----------------+"
      ]
     },
     "metadata": {},
     "output_type": "display_data"
    },
    {
     "data": {
      "text/html": [
       "<pre>| 937.863ms                           | 0                | 0               |</pre>"
      ],
      "text/plain": [
       "| 937.863ms                           | 0                | 0               |"
      ]
     },
     "metadata": {},
     "output_type": "display_data"
    },
    {
     "data": {
      "text/html": [
       "<pre>| 1.56s                               | 100              | 14105           |</pre>"
      ],
      "text/plain": [
       "| 1.56s                               | 100              | 14105           |"
      ]
     },
     "metadata": {},
     "output_type": "display_data"
    },
    {
     "data": {
      "text/html": [
       "<pre>+-------------------------------------+------------------+-----------------+</pre>"
      ],
      "text/plain": [
       "+-------------------------------------+------------------+-----------------+"
      ]
     },
     "metadata": {},
     "output_type": "display_data"
    },
    {
     "name": "stdout",
     "output_type": "stream",
     "text": [
      "PROGRESS: Evaluate model M0\n"
     ]
    },
    {
     "data": {
      "text/html": [
       "<pre>Finalizing lookup tables.</pre>"
      ],
      "text/plain": [
       "Finalizing lookup tables."
      ]
     },
     "metadata": {},
     "output_type": "display_data"
    },
    {
     "data": {
      "text/html": [
       "<pre>Generating candidate set for working with new users.</pre>"
      ],
      "text/plain": [
       "Generating candidate set for working with new users."
      ]
     },
     "metadata": {},
     "output_type": "display_data"
    },
    {
     "data": {
      "text/html": [
       "<pre>Finished training in 1.57802s</pre>"
      ],
      "text/plain": [
       "Finished training in 1.57802s"
      ]
     },
     "metadata": {},
     "output_type": "display_data"
    },
    {
     "data": {
      "text/html": [
       "<pre>recommendations finished on 1000/9672 queries. users per second: 11111.1</pre>"
      ],
      "text/plain": [
       "recommendations finished on 1000/9672 queries. users per second: 11111.1"
      ]
     },
     "metadata": {},
     "output_type": "display_data"
    },
    {
     "data": {
      "text/html": [
       "<pre>recommendations finished on 2000/9672 queries. users per second: 8340.81</pre>"
      ],
      "text/plain": [
       "recommendations finished on 2000/9672 queries. users per second: 8340.81"
      ]
     },
     "metadata": {},
     "output_type": "display_data"
    },
    {
     "data": {
      "text/html": [
       "<pre>recommendations finished on 3000/9672 queries. users per second: 8153.84</pre>"
      ],
      "text/plain": [
       "recommendations finished on 3000/9672 queries. users per second: 8153.84"
      ]
     },
     "metadata": {},
     "output_type": "display_data"
    },
    {
     "data": {
      "text/html": [
       "<pre>recommendations finished on 4000/9672 queries. users per second: 8063.07</pre>"
      ],
      "text/plain": [
       "recommendations finished on 4000/9672 queries. users per second: 8063.07"
      ]
     },
     "metadata": {},
     "output_type": "display_data"
    },
    {
     "data": {
      "text/html": [
       "<pre>recommendations finished on 5000/9672 queries. users per second: 8197.7</pre>"
      ],
      "text/plain": [
       "recommendations finished on 5000/9672 queries. users per second: 8197.7"
      ]
     },
     "metadata": {},
     "output_type": "display_data"
    },
    {
     "data": {
      "text/html": [
       "<pre>recommendations finished on 6000/9672 queries. users per second: 8221.85</pre>"
      ],
      "text/plain": [
       "recommendations finished on 6000/9672 queries. users per second: 8221.85"
      ]
     },
     "metadata": {},
     "output_type": "display_data"
    },
    {
     "data": {
      "text/html": [
       "<pre>recommendations finished on 7000/9672 queries. users per second: 8308.31</pre>"
      ],
      "text/plain": [
       "recommendations finished on 7000/9672 queries. users per second: 8308.31"
      ]
     },
     "metadata": {},
     "output_type": "display_data"
    },
    {
     "data": {
      "text/html": [
       "<pre>recommendations finished on 8000/9672 queries. users per second: 8323.06</pre>"
      ],
      "text/plain": [
       "recommendations finished on 8000/9672 queries. users per second: 8323.06"
      ]
     },
     "metadata": {},
     "output_type": "display_data"
    },
    {
     "data": {
      "text/html": [
       "<pre>recommendations finished on 9000/9672 queries. users per second: 8538.97</pre>"
      ],
      "text/plain": [
       "recommendations finished on 9000/9672 queries. users per second: 8538.97"
      ]
     },
     "metadata": {},
     "output_type": "display_data"
    },
    {
     "name": "stdout",
     "output_type": "stream",
     "text": [
      "\n",
      "Precision and recall summary statistics by cutoff\n",
      "+--------+------------------------+------------------------+\n",
      "| cutoff |     mean_precision     |      mean_recall       |\n",
      "+--------+------------------------+------------------------+\n",
      "|   1    |          0.0           |          0.0           |\n",
      "|   2    | 0.00010339123242349052 | 1.794986674018932e-05  |\n",
      "|   3    | 0.00010339123242349056 | 3.272004280068797e-05  |\n",
      "|   4    | 0.00020678246484698095 |  7.74960840097316e-05  |\n",
      "|   5    | 0.00018610421836228272 | 9.226626007023034e-05  |\n",
      "|   6    | 0.0002067824648469807  | 0.0001338215823327486  |\n",
      "|   7    | 0.0003840245775729644  | 0.00027506418829309617 |\n",
      "|   8    | 0.00046526054590570736 | 0.0003602224181636809  |\n",
      "|   9    | 0.00047100450326256776 | 0.0004105372753954114  |\n",
      "|   10   | 0.00046526054590570703 | 0.0004543349502414732  |\n",
      "+--------+------------------------+------------------------+\n",
      "[10 rows x 3 columns]\n",
      "\n",
      "\n",
      "Overall RMSE: 0.1867861307267483\n",
      "\n",
      "Per User RMSE (best)\n",
      "+-----------+------+-------+\n",
      "|  user_id  | rmse | count |\n",
      "+-----------+------+-------+\n",
      "| 571652824 | 0.0  |   6   |\n",
      "+-----------+------+-------+\n",
      "[1 rows x 3 columns]\n",
      "\n",
      "\n",
      "Per User RMSE (worst)\n",
      "+-----------+--------------------+-------+\n",
      "|  user_id  |        rmse        | count |\n",
      "+-----------+--------------------+-------+\n",
      "| 401020145 | 1.8645133740121191 |   16  |\n",
      "+-----------+--------------------+-------+\n",
      "[1 rows x 3 columns]\n",
      "\n",
      "\n",
      "Per Item RMSE (best)\n",
      "+------------+------+-------+\n",
      "| product_id | rmse | count |\n",
      "+------------+------+-------+\n",
      "|  5813923   | 0.0  |   4   |\n",
      "+------------+------+-------+\n",
      "[1 rows x 3 columns]\n",
      "\n",
      "\n",
      "Per Item RMSE (worst)\n",
      "+------------+--------------------+-------+\n",
      "| product_id |        rmse        | count |\n",
      "+------------+--------------------+-------+\n",
      "|  5770065   | 1.4992189535565261 |   2   |\n",
      "+------------+--------------------+-------+\n",
      "[1 rows x 3 columns]\n",
      "\n",
      "PROGRESS: Evaluate model m1\n",
      "\n",
      "Overall RMSE: 0.28750222872729686\n",
      "\n",
      "Per User RMSE (best)\n",
      "+-----------+------+-------+\n",
      "|  user_id  | rmse | count |\n",
      "+-----------+------+-------+\n",
      "| 478421396 | 0.0  |   2   |\n",
      "+-----------+------+-------+\n",
      "[1 rows x 3 columns]\n",
      "\n",
      "\n",
      "Per User RMSE (worst)\n",
      "+-----------+-------------------+-------+\n",
      "|  user_id  |        rmse       | count |\n",
      "+-----------+-------------------+-------+\n",
      "| 475568506 | 4.933333333333334 |   1   |\n",
      "+-----------+-------------------+-------+\n",
      "[1 rows x 3 columns]\n",
      "\n",
      "\n",
      "Per Item RMSE (best)\n",
      "+------------+------+-------+\n",
      "| product_id | rmse | count |\n",
      "+------------+------+-------+\n",
      "|  5804001   | 0.0  |   4   |\n",
      "+------------+------+-------+\n",
      "[1 rows x 3 columns]\n",
      "\n",
      "\n",
      "Per Item RMSE (worst)\n",
      "+------------+------+-------+\n",
      "| product_id | rmse | count |\n",
      "+------------+------+-------+\n",
      "|  5797165   | 3.0  |   1   |\n",
      "+------------+------+-------+\n",
      "[1 rows x 3 columns]\n",
      "\n"
     ]
    },
    {
     "data": {
      "text/html": [
       "<pre>recommendations finished on 1000/9672 queries. users per second: 19355.5</pre>"
      ],
      "text/plain": [
       "recommendations finished on 1000/9672 queries. users per second: 19355.5"
      ]
     },
     "metadata": {},
     "output_type": "display_data"
    },
    {
     "data": {
      "text/html": [
       "<pre>recommendations finished on 2000/9672 queries. users per second: 18579.8</pre>"
      ],
      "text/plain": [
       "recommendations finished on 2000/9672 queries. users per second: 18579.8"
      ]
     },
     "metadata": {},
     "output_type": "display_data"
    },
    {
     "data": {
      "text/html": [
       "<pre>recommendations finished on 3000/9672 queries. users per second: 18489</pre>"
      ],
      "text/plain": [
       "recommendations finished on 3000/9672 queries. users per second: 18489"
      ]
     },
     "metadata": {},
     "output_type": "display_data"
    },
    {
     "data": {
      "text/html": [
       "<pre>recommendations finished on 4000/9672 queries. users per second: 17650.5</pre>"
      ],
      "text/plain": [
       "recommendations finished on 4000/9672 queries. users per second: 17650.5"
      ]
     },
     "metadata": {},
     "output_type": "display_data"
    },
    {
     "data": {
      "text/html": [
       "<pre>recommendations finished on 5000/9672 queries. users per second: 17046.8</pre>"
      ],
      "text/plain": [
       "recommendations finished on 5000/9672 queries. users per second: 17046.8"
      ]
     },
     "metadata": {},
     "output_type": "display_data"
    },
    {
     "data": {
      "text/html": [
       "<pre>recommendations finished on 6000/9672 queries. users per second: 16814.7</pre>"
      ],
      "text/plain": [
       "recommendations finished on 6000/9672 queries. users per second: 16814.7"
      ]
     },
     "metadata": {},
     "output_type": "display_data"
    },
    {
     "data": {
      "text/html": [
       "<pre>recommendations finished on 7000/9672 queries. users per second: 16842.2</pre>"
      ],
      "text/plain": [
       "recommendations finished on 7000/9672 queries. users per second: 16842.2"
      ]
     },
     "metadata": {},
     "output_type": "display_data"
    },
    {
     "data": {
      "text/html": [
       "<pre>recommendations finished on 8000/9672 queries. users per second: 16813.3</pre>"
      ],
      "text/plain": [
       "recommendations finished on 8000/9672 queries. users per second: 16813.3"
      ]
     },
     "metadata": {},
     "output_type": "display_data"
    },
    {
     "data": {
      "text/html": [
       "<pre>recommendations finished on 9000/9672 queries. users per second: 16912.5</pre>"
      ],
      "text/plain": [
       "recommendations finished on 9000/9672 queries. users per second: 16912.5"
      ]
     },
     "metadata": {},
     "output_type": "display_data"
    }
   ],
   "source": [
    "PearsonCF_s, PearsonCF_train, PearsonCF_val = test_s_vals('pearson')"
   ]
  },
  {
   "cell_type": "code",
   "execution_count": 46,
   "metadata": {
    "scrolled": true
   },
   "outputs": [
    {
     "data": {
      "image/png": "[encoded data removed]",
      "text/plain": [
       "<Figure size 432x288 with 1 Axes>"
      ]
     },
     "metadata": {
      "needs_background": "light"
     },
     "output_type": "display_data"
    }
   ],
   "source": [
    "plt.plot(PearsonCF_s,PearsonCF_train, color= 'r' ,label='train rmse' )\n",
    "plt.plot(PearsonCF_s,PearsonCF_val, color= 'b',label='validation rmse' )\n",
    "plt.xlabel('S')\n",
    "plt.ylabel('RMSE')\n",
    "plt.title('Pearson Similarity: rmse vs S')\n",
    "plt.legend()\n",
    "plt.show()"
   ]
  },
  {
   "cell_type": "code",
   "execution_count": 47,
   "metadata": {},
   "outputs": [
    {
     "data": {
      "image/png": "[encoded data removed]",
      "text/plain": [
       "<Figure size 432x288 with 1 Axes>"
      ]
     },
     "metadata": {
      "needs_background": "light"
     },
     "output_type": "display_data"
    }
   ],
   "source": [
    "plt.plot(PearsonCF_s,PearsonCF_val, color= 'b',label='validation rmse' )\n",
    "plt.xlabel('S')\n",
    "plt.ylabel('RMSE')\n",
    "plt.title('Pearson Similarity: rmse vs S')\n",
    "plt.legend()\n",
    "plt.show()"
   ]
  },
  {
   "cell_type": "code",
   "execution_count": 48,
   "metadata": {},
   "outputs": [
    {
     "data": {
      "text/html": [
       "<pre>Preparing data set.</pre>"
      ],
      "text/plain": [
       "Preparing data set."
      ]
     },
     "metadata": {},
     "output_type": "display_data"
    },
    {
     "data": {
      "text/html": [
       "<pre>    Data has 144830 observations with 9672 users and 15079 items.</pre>"
      ],
      "text/plain": [
       "    Data has 144830 observations with 9672 users and 15079 items."
      ]
     },
     "metadata": {},
     "output_type": "display_data"
    },
    {
     "data": {
      "text/html": [
       "<pre>    Data prepared in: 0.104373s</pre>"
      ],
      "text/plain": [
       "    Data prepared in: 0.104373s"
      ]
     },
     "metadata": {},
     "output_type": "display_data"
    },
    {
     "data": {
      "text/html": [
       "<pre>Training model from provided data.</pre>"
      ],
      "text/plain": [
       "Training model from provided data."
      ]
     },
     "metadata": {},
     "output_type": "display_data"
    },
    {
     "data": {
      "text/html": [
       "<pre>Gathering per-item and per-user statistics.</pre>"
      ],
      "text/plain": [
       "Gathering per-item and per-user statistics."
      ]
     },
     "metadata": {},
     "output_type": "display_data"
    },
    {
     "data": {
      "text/html": [
       "<pre>+--------------------------------+------------+</pre>"
      ],
      "text/plain": [
       "+--------------------------------+------------+"
      ]
     },
     "metadata": {},
     "output_type": "display_data"
    },
    {
     "data": {
      "text/html": [
       "<pre>| Elapsed Time (Item Statistics) | % Complete |</pre>"
      ],
      "text/plain": [
       "| Elapsed Time (Item Statistics) | % Complete |"
      ]
     },
     "metadata": {},
     "output_type": "display_data"
    },
    {
     "data": {
      "text/html": [
       "<pre>+--------------------------------+------------+</pre>"
      ],
      "text/plain": [
       "+--------------------------------+------------+"
      ]
     },
     "metadata": {},
     "output_type": "display_data"
    },
    {
     "data": {
      "text/html": [
       "<pre>| 1.064ms                        | 10.25      |</pre>"
      ],
      "text/plain": [
       "| 1.064ms                        | 10.25      |"
      ]
     },
     "metadata": {},
     "output_type": "display_data"
    },
    {
     "data": {
      "text/html": [
       "<pre>| 5.307ms                        | 100        |</pre>"
      ],
      "text/plain": [
       "| 5.307ms                        | 100        |"
      ]
     },
     "metadata": {},
     "output_type": "display_data"
    },
    {
     "data": {
      "text/html": [
       "<pre>+--------------------------------+------------+</pre>"
      ],
      "text/plain": [
       "+--------------------------------+------------+"
      ]
     },
     "metadata": {},
     "output_type": "display_data"
    },
    {
     "data": {
      "text/html": [
       "<pre>Setting up lookup tables.</pre>"
      ],
      "text/plain": [
       "Setting up lookup tables."
      ]
     },
     "metadata": {},
     "output_type": "display_data"
    },
    {
     "data": {
      "text/html": [
       "<pre>Processing data in one pass using dense lookup tables.</pre>"
      ],
      "text/plain": [
       "Processing data in one pass using dense lookup tables."
      ]
     },
     "metadata": {},
     "output_type": "display_data"
    },
    {
     "data": {
      "text/html": [
       "<pre>+-------------------------------------+------------------+-----------------+</pre>"
      ],
      "text/plain": [
       "+-------------------------------------+------------------+-----------------+"
      ]
     },
     "metadata": {},
     "output_type": "display_data"
    },
    {
     "data": {
      "text/html": [
       "<pre>| Elapsed Time (Constructing Lookups) | Total % Complete | Items Processed |</pre>"
      ],
      "text/plain": [
       "| Elapsed Time (Constructing Lookups) | Total % Complete | Items Processed |"
      ]
     },
     "metadata": {},
     "output_type": "display_data"
    },
    {
     "data": {
      "text/html": [
       "<pre>+-------------------------------------+------------------+-----------------+</pre>"
      ],
      "text/plain": [
       "+-------------------------------------+------------------+-----------------+"
      ]
     },
     "metadata": {},
     "output_type": "display_data"
    },
    {
     "data": {
      "text/html": [
       "<pre>| 1.06s                               | 0                | 2               |</pre>"
      ],
      "text/plain": [
       "| 1.06s                               | 0                | 2               |"
      ]
     },
     "metadata": {},
     "output_type": "display_data"
    },
    {
     "data": {
      "text/html": [
       "<pre>| 1.77s                               | 100              | 15079           |</pre>"
      ],
      "text/plain": [
       "| 1.77s                               | 100              | 15079           |"
      ]
     },
     "metadata": {},
     "output_type": "display_data"
    },
    {
     "data": {
      "text/html": [
       "<pre>+-------------------------------------+------------------+-----------------+</pre>"
      ],
      "text/plain": [
       "+-------------------------------------+------------------+-----------------+"
      ]
     },
     "metadata": {},
     "output_type": "display_data"
    },
    {
     "data": {
      "text/html": [
       "<pre>Finalizing lookup tables.</pre>"
      ],
      "text/plain": [
       "Finalizing lookup tables."
      ]
     },
     "metadata": {},
     "output_type": "display_data"
    }
   ],
   "source": [
    "PearsonCF_model = tc.item_similarity_recommender.create(train_data,similarity_type='pearson',user_id=user_id, item_id=item_id,target = target,only_top_k=10)\n"
   ]
  },
  {
   "cell_type": "code",
   "execution_count": 49,
   "metadata": {},
   "outputs": [
    {
     "data": {
      "text/html": [
       "<pre>Generating candidate set for working with new users.</pre>"
      ],
      "text/plain": [
       "Generating candidate set for working with new users."
      ]
     },
     "metadata": {},
     "output_type": "display_data"
    },
    {
     "data": {
      "text/html": [
       "<pre>Finished training in 1.79045s</pre>"
      ],
      "text/plain": [
       "Finished training in 1.79045s"
      ]
     },
     "metadata": {},
     "output_type": "display_data"
    },
    {
     "data": {
      "text/html": [
       "<pre>recommendations finished on 1000/9255 queries. users per second: 14429.8</pre>"
      ],
      "text/plain": [
       "recommendations finished on 1000/9255 queries. users per second: 14429.8"
      ]
     },
     "metadata": {},
     "output_type": "display_data"
    },
    {
     "data": {
      "text/html": [
       "<pre>recommendations finished on 2000/9255 queries. users per second: 15448.7</pre>"
      ],
      "text/plain": [
       "recommendations finished on 2000/9255 queries. users per second: 15448.7"
      ]
     },
     "metadata": {},
     "output_type": "display_data"
    },
    {
     "data": {
      "text/html": [
       "<pre>recommendations finished on 3000/9255 queries. users per second: 14950.7</pre>"
      ],
      "text/plain": [
       "recommendations finished on 3000/9255 queries. users per second: 14950.7"
      ]
     },
     "metadata": {},
     "output_type": "display_data"
    },
    {
     "data": {
      "text/html": [
       "<pre>recommendations finished on 4000/9255 queries. users per second: 14929.8</pre>"
      ],
      "text/plain": [
       "recommendations finished on 4000/9255 queries. users per second: 14929.8"
      ]
     },
     "metadata": {},
     "output_type": "display_data"
    },
    {
     "data": {
      "text/html": [
       "<pre>recommendations finished on 5000/9255 queries. users per second: 14833.1</pre>"
      ],
      "text/plain": [
       "recommendations finished on 5000/9255 queries. users per second: 14833.1"
      ]
     },
     "metadata": {},
     "output_type": "display_data"
    },
    {
     "data": {
      "text/html": [
       "<pre>recommendations finished on 6000/9255 queries. users per second: 14171.3</pre>"
      ],
      "text/plain": [
       "recommendations finished on 6000/9255 queries. users per second: 14171.3"
      ]
     },
     "metadata": {},
     "output_type": "display_data"
    },
    {
     "data": {
      "text/html": [
       "<pre>recommendations finished on 7000/9255 queries. users per second: 13777.6</pre>"
      ],
      "text/plain": [
       "recommendations finished on 7000/9255 queries. users per second: 13777.6"
      ]
     },
     "metadata": {},
     "output_type": "display_data"
    },
    {
     "data": {
      "text/html": [
       "<pre>recommendations finished on 8000/9255 queries. users per second: 13288.4</pre>"
      ],
      "text/plain": [
       "recommendations finished on 8000/9255 queries. users per second: 13288.4"
      ]
     },
     "metadata": {},
     "output_type": "display_data"
    },
    {
     "data": {
      "text/html": [
       "<pre>recommendations finished on 9000/9255 queries. users per second: 12624.6</pre>"
      ],
      "text/plain": [
       "recommendations finished on 9000/9255 queries. users per second: 12624.6"
      ]
     },
     "metadata": {},
     "output_type": "display_data"
    }
   ],
   "source": [
    "PearsonCF_evaluation = PearsonCF_model.evaluate_precision_recall(test,cutoffs = list(range(1, 11)))"
   ]
  },
  {
   "cell_type": "code",
   "execution_count": 50,
   "metadata": {},
   "outputs": [],
   "source": [
    "col_names =  ['cutoff', 'precision', 'recall'] \n",
    "PearsonCF_results  = pd.DataFrame(columns = col_names)\n",
    "PearsonCF_results['cutoff'] = np.array(PearsonCF_evaluation['precision_recall_overall']['cutoff'])\n",
    "PearsonCF_results['precision'] = np.array(PearsonCF_evaluation['precision_recall_overall']['precision'])\n",
    "PearsonCF_results['recall'] = np.array(PearsonCF_evaluation['precision_recall_overall']['recall'])"
   ]
  },
  {
   "cell_type": "code",
   "execution_count": 51,
   "metadata": {},
   "outputs": [
    {
     "data": {
      "image/png": "[encoded data removed]",
      "text/plain": [
       "<Figure size 432x288 with 1 Axes>"
      ]
     },
     "metadata": {
      "needs_background": "light"
     },
     "output_type": "display_data"
    }
   ],
   "source": [
    "plt.plot(PearsonCF_results['cutoff'],PearsonCF_results['precision'] )\n",
    "plt.title('precision_at_cutoff_k - Item Based CF(Pearson similarity, S=30)')\n",
    "plt.xlabel('k')\n",
    "plt.ylabel('precision_at_cutoff_k')\n",
    "plt.tight_layout()\n",
    "plt.show()"
   ]
  },
  {
   "cell_type": "markdown",
   "metadata": {},
   "source": [
    "# Item Based CF - Jaccard"
   ]
  },
  {
   "cell_type": "code",
   "execution_count": 52,
   "metadata": {},
   "outputs": [
    {
     "data": {
      "text/html": [
       "<pre>Preparing data set.</pre>"
      ],
      "text/plain": [
       "Preparing data set."
      ]
     },
     "metadata": {},
     "output_type": "display_data"
    },
    {
     "data": {
      "text/html": [
       "<pre>    Data has 108626 observations with 9672 users and 14105 items.</pre>"
      ],
      "text/plain": [
       "    Data has 108626 observations with 9672 users and 14105 items."
      ]
     },
     "metadata": {},
     "output_type": "display_data"
    },
    {
     "data": {
      "text/html": [
       "<pre>    Data prepared in: 0.084556s</pre>"
      ],
      "text/plain": [
       "    Data prepared in: 0.084556s"
      ]
     },
     "metadata": {},
     "output_type": "display_data"
    },
    {
     "data": {
      "text/html": [
       "<pre>Training model from provided data.</pre>"
      ],
      "text/plain": [
       "Training model from provided data."
      ]
     },
     "metadata": {},
     "output_type": "display_data"
    },
    {
     "data": {
      "text/html": [
       "<pre>Gathering per-item and per-user statistics.</pre>"
      ],
      "text/plain": [
       "Gathering per-item and per-user statistics."
      ]
     },
     "metadata": {},
     "output_type": "display_data"
    },
    {
     "data": {
      "text/html": [
       "<pre>+--------------------------------+------------+</pre>"
      ],
      "text/plain": [
       "+--------------------------------+------------+"
      ]
     },
     "metadata": {},
     "output_type": "display_data"
    },
    {
     "data": {
      "text/html": [
       "<pre>| Elapsed Time (Item Statistics) | % Complete |</pre>"
      ],
      "text/plain": [
       "| Elapsed Time (Item Statistics) | % Complete |"
      ]
     },
     "metadata": {},
     "output_type": "display_data"
    },
    {
     "data": {
      "text/html": [
       "<pre>+--------------------------------+------------+</pre>"
      ],
      "text/plain": [
       "+--------------------------------+------------+"
      ]
     },
     "metadata": {},
     "output_type": "display_data"
    },
    {
     "data": {
      "text/html": [
       "<pre>| 1.75ms                         | 10.25      |</pre>"
      ],
      "text/plain": [
       "| 1.75ms                         | 10.25      |"
      ]
     },
     "metadata": {},
     "output_type": "display_data"
    },
    {
     "data": {
      "text/html": [
       "<pre>| 4.745ms                        | 100        |</pre>"
      ],
      "text/plain": [
       "| 4.745ms                        | 100        |"
      ]
     },
     "metadata": {},
     "output_type": "display_data"
    },
    {
     "data": {
      "text/html": [
       "<pre>+--------------------------------+------------+</pre>"
      ],
      "text/plain": [
       "+--------------------------------+------------+"
      ]
     },
     "metadata": {},
     "output_type": "display_data"
    },
    {
     "data": {
      "text/html": [
       "<pre>Setting up lookup tables.</pre>"
      ],
      "text/plain": [
       "Setting up lookup tables."
      ]
     },
     "metadata": {},
     "output_type": "display_data"
    },
    {
     "data": {
      "text/html": [
       "<pre>Processing data in one pass using dense lookup tables.</pre>"
      ],
      "text/plain": [
       "Processing data in one pass using dense lookup tables."
      ]
     },
     "metadata": {},
     "output_type": "display_data"
    },
    {
     "data": {
      "text/html": [
       "<pre>+-------------------------------------+------------------+-----------------+</pre>"
      ],
      "text/plain": [
       "+-------------------------------------+------------------+-----------------+"
      ]
     },
     "metadata": {},
     "output_type": "display_data"
    },
    {
     "data": {
      "text/html": [
       "<pre>| Elapsed Time (Constructing Lookups) | Total % Complete | Items Processed |</pre>"
      ],
      "text/plain": [
       "| Elapsed Time (Constructing Lookups) | Total % Complete | Items Processed |"
      ]
     },
     "metadata": {},
     "output_type": "display_data"
    },
    {
     "data": {
      "text/html": [
       "<pre>+-------------------------------------+------------------+-----------------+</pre>"
      ],
      "text/plain": [
       "+-------------------------------------+------------------+-----------------+"
      ]
     },
     "metadata": {},
     "output_type": "display_data"
    },
    {
     "data": {
      "text/html": [
       "<pre>| 908.98ms                            | 0                | 0               |</pre>"
      ],
      "text/plain": [
       "| 908.98ms                            | 0                | 0               |"
      ]
     },
     "metadata": {},
     "output_type": "display_data"
    },
    {
     "data": {
      "text/html": [
       "<pre>| 1.54s                               | 100              | 14105           |</pre>"
      ],
      "text/plain": [
       "| 1.54s                               | 100              | 14105           |"
      ]
     },
     "metadata": {},
     "output_type": "display_data"
    },
    {
     "data": {
      "text/html": [
       "<pre>+-------------------------------------+------------------+-----------------+</pre>"
      ],
      "text/plain": [
       "+-------------------------------------+------------------+-----------------+"
      ]
     },
     "metadata": {},
     "output_type": "display_data"
    },
    {
     "name": "stdout",
     "output_type": "stream",
     "text": [
      "PROGRESS: Evaluate model M0\n"
     ]
    },
    {
     "data": {
      "text/html": [
       "<pre>Finalizing lookup tables.</pre>"
      ],
      "text/plain": [
       "Finalizing lookup tables."
      ]
     },
     "metadata": {},
     "output_type": "display_data"
    },
    {
     "data": {
      "text/html": [
       "<pre>Generating candidate set for working with new users.</pre>"
      ],
      "text/plain": [
       "Generating candidate set for working with new users."
      ]
     },
     "metadata": {},
     "output_type": "display_data"
    },
    {
     "data": {
      "text/html": [
       "<pre>Finished training in 1.57195s</pre>"
      ],
      "text/plain": [
       "Finished training in 1.57195s"
      ]
     },
     "metadata": {},
     "output_type": "display_data"
    },
    {
     "data": {
      "text/html": [
       "<pre>recommendations finished on 1000/9672 queries. users per second: 16897.6</pre>"
      ],
      "text/plain": [
       "recommendations finished on 1000/9672 queries. users per second: 16897.6"
      ]
     },
     "metadata": {},
     "output_type": "display_data"
    },
    {
     "data": {
      "text/html": [
       "<pre>recommendations finished on 2000/9672 queries. users per second: 14921.8</pre>"
      ],
      "text/plain": [
       "recommendations finished on 2000/9672 queries. users per second: 14921.8"
      ]
     },
     "metadata": {},
     "output_type": "display_data"
    },
    {
     "data": {
      "text/html": [
       "<pre>recommendations finished on 3000/9672 queries. users per second: 11531.9</pre>"
      ],
      "text/plain": [
       "recommendations finished on 3000/9672 queries. users per second: 11531.9"
      ]
     },
     "metadata": {},
     "output_type": "display_data"
    },
    {
     "data": {
      "text/html": [
       "<pre>recommendations finished on 4000/9672 queries. users per second: 11993.4</pre>"
      ],
      "text/plain": [
       "recommendations finished on 4000/9672 queries. users per second: 11993.4"
      ]
     },
     "metadata": {},
     "output_type": "display_data"
    },
    {
     "data": {
      "text/html": [
       "<pre>recommendations finished on 5000/9672 queries. users per second: 11583.3</pre>"
      ],
      "text/plain": [
       "recommendations finished on 5000/9672 queries. users per second: 11583.3"
      ]
     },
     "metadata": {},
     "output_type": "display_data"
    },
    {
     "data": {
      "text/html": [
       "<pre>recommendations finished on 6000/9672 queries. users per second: 11150.2</pre>"
      ],
      "text/plain": [
       "recommendations finished on 6000/9672 queries. users per second: 11150.2"
      ]
     },
     "metadata": {},
     "output_type": "display_data"
    },
    {
     "data": {
      "text/html": [
       "<pre>recommendations finished on 7000/9672 queries. users per second: 11123.6</pre>"
      ],
      "text/plain": [
       "recommendations finished on 7000/9672 queries. users per second: 11123.6"
      ]
     },
     "metadata": {},
     "output_type": "display_data"
    },
    {
     "data": {
      "text/html": [
       "<pre>recommendations finished on 8000/9672 queries. users per second: 11171.2</pre>"
      ],
      "text/plain": [
       "recommendations finished on 8000/9672 queries. users per second: 11171.2"
      ]
     },
     "metadata": {},
     "output_type": "display_data"
    },
    {
     "data": {
      "text/html": [
       "<pre>recommendations finished on 9000/9672 queries. users per second: 11250.1</pre>"
      ],
      "text/plain": [
       "recommendations finished on 9000/9672 queries. users per second: 11250.1"
      ]
     },
     "metadata": {},
     "output_type": "display_data"
    },
    {
     "name": "stdout",
     "output_type": "stream",
     "text": [
      "\n",
      "Precision and recall summary statistics by cutoff\n",
      "+--------+---------------------+----------------------+\n",
      "| cutoff |    mean_precision   |     mean_recall      |\n",
      "+--------+---------------------+----------------------+\n",
      "|   1    | 0.31110421836228286 | 0.029307823867767566 |\n",
      "|   2    |  0.327388337468983  | 0.06352324820574656  |\n",
      "|   3    |  0.285945685139234  |  0.0830589830446024  |\n",
      "|   4    | 0.25958953680727903 | 0.10008388894898082  |\n",
      "|   5    |  0.2393920595533498 | 0.11456356576985667  |\n",
      "|   6    | 0.22175696167631662 | 0.12627413779875774  |\n",
      "|   7    | 0.20598487533971405 | 0.13515134701464798  |\n",
      "|   8    | 0.19190705128205124 |  0.1418439813299993  |\n",
      "|   9    | 0.17864856171307764 | 0.14659974063410144  |\n",
      "|   10   |  0.1672663358147229 | 0.15053548628507665  |\n",
      "+--------+---------------------+----------------------+\n",
      "[10 rows x 3 columns]\n",
      "\n",
      "\n",
      "Overall RMSE: 1.059010834479865\n",
      "\n",
      "Per User RMSE (best)\n",
      "+-----------+------+-------+\n",
      "|  user_id  | rmse | count |\n",
      "+-----------+------+-------+\n",
      "| 554542746 | 0.5  |   2   |\n",
      "+-----------+------+-------+\n",
      "[1 rows x 3 columns]\n",
      "\n",
      "\n",
      "Per User RMSE (worst)\n",
      "+-----------+------------------+-------+\n",
      "|  user_id  |       rmse       | count |\n",
      "+-----------+------------------+-------+\n",
      "| 475568506 | 3.08667517642005 |   11  |\n",
      "+-----------+------------------+-------+\n",
      "[1 rows x 3 columns]\n",
      "\n",
      "\n",
      "Per Item RMSE (best)\n",
      "+------------+-------+-------+\n",
      "| product_id |  rmse | count |\n",
      "+------------+-------+-------+\n",
      "|  5820272   | 0.125 |   1   |\n",
      "+------------+-------+-------+\n",
      "[1 rows x 3 columns]\n",
      "\n",
      "\n",
      "Per Item RMSE (worst)\n",
      "+------------+------+-------+\n",
      "| product_id | rmse | count |\n",
      "+------------+------+-------+\n",
      "|  5805502   | 3.0  |   1   |\n",
      "+------------+------+-------+\n",
      "[1 rows x 3 columns]\n",
      "\n",
      "PROGRESS: Evaluate model m1\n",
      "\n",
      "Overall RMSE: 1.0655217432585526\n",
      "\n",
      "Per User RMSE (best)\n",
      "+-----------+--------------------+-------+\n",
      "|  user_id  |        rmse        | count |\n",
      "+-----------+--------------------+-------+\n",
      "| 559853046 | 0.9312763015429179 |   1   |\n",
      "+-----------+--------------------+-------+\n",
      "[1 rows x 3 columns]\n",
      "\n",
      "\n",
      "Per User RMSE (worst)\n",
      "+-----------+------+-------+\n",
      "|  user_id  | rmse | count |\n",
      "+-----------+------+-------+\n",
      "| 475568506 | 6.0  |   1   |\n",
      "+-----------+------+-------+\n",
      "[1 rows x 3 columns]\n",
      "\n",
      "\n",
      "Per Item RMSE (best)\n",
      "+------------+-------------------+-------+\n",
      "| product_id |        rmse       | count |\n",
      "+------------+-------------------+-------+\n",
      "|  5882574   | 0.860714282308306 |   1   |\n",
      "+------------+-------------------+-------+\n",
      "[1 rows x 3 columns]\n",
      "\n",
      "\n",
      "Per Item RMSE (worst)\n",
      "+------------+------+-------+\n",
      "| product_id | rmse | count |\n",
      "+------------+------+-------+\n",
      "|  5739900   | 3.0  |   1   |\n",
      "+------------+------+-------+\n",
      "[1 rows x 3 columns]\n",
      "\n"
     ]
    },
    {
     "data": {
      "text/html": [
       "<pre>recommendations finished on 1000/9672 queries. users per second: 14514.2</pre>"
      ],
      "text/plain": [
       "recommendations finished on 1000/9672 queries. users per second: 14514.2"
      ]
     },
     "metadata": {},
     "output_type": "display_data"
    },
    {
     "data": {
      "text/html": [
       "<pre>recommendations finished on 2000/9672 queries. users per second: 14535</pre>"
      ],
      "text/plain": [
       "recommendations finished on 2000/9672 queries. users per second: 14535"
      ]
     },
     "metadata": {},
     "output_type": "display_data"
    },
    {
     "data": {
      "text/html": [
       "<pre>recommendations finished on 3000/9672 queries. users per second: 15199</pre>"
      ],
      "text/plain": [
       "recommendations finished on 3000/9672 queries. users per second: 15199"
      ]
     },
     "metadata": {},
     "output_type": "display_data"
    },
    {
     "data": {
      "text/html": [
       "<pre>recommendations finished on 4000/9672 queries. users per second: 16039.8</pre>"
      ],
      "text/plain": [
       "recommendations finished on 4000/9672 queries. users per second: 16039.8"
      ]
     },
     "metadata": {},
     "output_type": "display_data"
    },
    {
     "data": {
      "text/html": [
       "<pre>recommendations finished on 5000/9672 queries. users per second: 16386</pre>"
      ],
      "text/plain": [
       "recommendations finished on 5000/9672 queries. users per second: 16386"
      ]
     },
     "metadata": {},
     "output_type": "display_data"
    },
    {
     "data": {
      "text/html": [
       "<pre>recommendations finished on 6000/9672 queries. users per second: 16568.5</pre>"
      ],
      "text/plain": [
       "recommendations finished on 6000/9672 queries. users per second: 16568.5"
      ]
     },
     "metadata": {},
     "output_type": "display_data"
    },
    {
     "data": {
      "text/html": [
       "<pre>recommendations finished on 7000/9672 queries. users per second: 16833.2</pre>"
      ],
      "text/plain": [
       "recommendations finished on 7000/9672 queries. users per second: 16833.2"
      ]
     },
     "metadata": {},
     "output_type": "display_data"
    },
    {
     "data": {
      "text/html": [
       "<pre>recommendations finished on 8000/9672 queries. users per second: 16927.1</pre>"
      ],
      "text/plain": [
       "recommendations finished on 8000/9672 queries. users per second: 16927.1"
      ]
     },
     "metadata": {},
     "output_type": "display_data"
    },
    {
     "data": {
      "text/html": [
       "<pre>recommendations finished on 9000/9672 queries. users per second: 16958.4</pre>"
      ],
      "text/plain": [
       "recommendations finished on 9000/9672 queries. users per second: 16958.4"
      ]
     },
     "metadata": {},
     "output_type": "display_data"
    },
    {
     "data": {
      "text/html": [
       "<pre>Preparing data set.</pre>"
      ],
      "text/plain": [
       "Preparing data set."
      ]
     },
     "metadata": {},
     "output_type": "display_data"
    },
    {
     "data": {
      "text/html": [
       "<pre>    Data has 108626 observations with 9672 users and 14105 items.</pre>"
      ],
      "text/plain": [
       "    Data has 108626 observations with 9672 users and 14105 items."
      ]
     },
     "metadata": {},
     "output_type": "display_data"
    },
    {
     "data": {
      "text/html": [
       "<pre>    Data prepared in: 0.080845s</pre>"
      ],
      "text/plain": [
       "    Data prepared in: 0.080845s"
      ]
     },
     "metadata": {},
     "output_type": "display_data"
    },
    {
     "data": {
      "text/html": [
       "<pre>Training model from provided data.</pre>"
      ],
      "text/plain": [
       "Training model from provided data."
      ]
     },
     "metadata": {},
     "output_type": "display_data"
    },
    {
     "data": {
      "text/html": [
       "<pre>Gathering per-item and per-user statistics.</pre>"
      ],
      "text/plain": [
       "Gathering per-item and per-user statistics."
      ]
     },
     "metadata": {},
     "output_type": "display_data"
    },
    {
     "data": {
      "text/html": [
       "<pre>+--------------------------------+------------+</pre>"
      ],
      "text/plain": [
       "+--------------------------------+------------+"
      ]
     },
     "metadata": {},
     "output_type": "display_data"
    },
    {
     "data": {
      "text/html": [
       "<pre>| Elapsed Time (Item Statistics) | % Complete |</pre>"
      ],
      "text/plain": [
       "| Elapsed Time (Item Statistics) | % Complete |"
      ]
     },
     "metadata": {},
     "output_type": "display_data"
    },
    {
     "data": {
      "text/html": [
       "<pre>+--------------------------------+------------+</pre>"
      ],
      "text/plain": [
       "+--------------------------------+------------+"
      ]
     },
     "metadata": {},
     "output_type": "display_data"
    },
    {
     "data": {
      "text/html": [
       "<pre>| 1.052ms                        | 10.25      |</pre>"
      ],
      "text/plain": [
       "| 1.052ms                        | 10.25      |"
      ]
     },
     "metadata": {},
     "output_type": "display_data"
    },
    {
     "data": {
      "text/html": [
       "<pre>| 3.295ms                        | 100        |</pre>"
      ],
      "text/plain": [
       "| 3.295ms                        | 100        |"
      ]
     },
     "metadata": {},
     "output_type": "display_data"
    },
    {
     "data": {
      "text/html": [
       "<pre>+--------------------------------+------------+</pre>"
      ],
      "text/plain": [
       "+--------------------------------+------------+"
      ]
     },
     "metadata": {},
     "output_type": "display_data"
    },
    {
     "data": {
      "text/html": [
       "<pre>Setting up lookup tables.</pre>"
      ],
      "text/plain": [
       "Setting up lookup tables."
      ]
     },
     "metadata": {},
     "output_type": "display_data"
    },
    {
     "data": {
      "text/html": [
       "<pre>Processing data in one pass using dense lookup tables.</pre>"
      ],
      "text/plain": [
       "Processing data in one pass using dense lookup tables."
      ]
     },
     "metadata": {},
     "output_type": "display_data"
    },
    {
     "data": {
      "text/html": [
       "<pre>+-------------------------------------+------------------+-----------------+</pre>"
      ],
      "text/plain": [
       "+-------------------------------------+------------------+-----------------+"
      ]
     },
     "metadata": {},
     "output_type": "display_data"
    },
    {
     "data": {
      "text/html": [
       "<pre>| Elapsed Time (Constructing Lookups) | Total % Complete | Items Processed |</pre>"
      ],
      "text/plain": [
       "| Elapsed Time (Constructing Lookups) | Total % Complete | Items Processed |"
      ]
     },
     "metadata": {},
     "output_type": "display_data"
    },
    {
     "data": {
      "text/html": [
       "<pre>+-------------------------------------+------------------+-----------------+</pre>"
      ],
      "text/plain": [
       "+-------------------------------------+------------------+-----------------+"
      ]
     },
     "metadata": {},
     "output_type": "display_data"
    },
    {
     "data": {
      "text/html": [
       "<pre>| 961.996ms                           | 0                | 0               |</pre>"
      ],
      "text/plain": [
       "| 961.996ms                           | 0                | 0               |"
      ]
     },
     "metadata": {},
     "output_type": "display_data"
    },
    {
     "data": {
      "text/html": [
       "<pre>| 1.65s                               | 100              | 14105           |</pre>"
      ],
      "text/plain": [
       "| 1.65s                               | 100              | 14105           |"
      ]
     },
     "metadata": {},
     "output_type": "display_data"
    },
    {
     "data": {
      "text/html": [
       "<pre>+-------------------------------------+------------------+-----------------+</pre>"
      ],
      "text/plain": [
       "+-------------------------------------+------------------+-----------------+"
      ]
     },
     "metadata": {},
     "output_type": "display_data"
    },
    {
     "data": {
      "text/html": [
       "<pre>Finalizing lookup tables.</pre>"
      ],
      "text/plain": [
       "Finalizing lookup tables."
      ]
     },
     "metadata": {},
     "output_type": "display_data"
    },
    {
     "name": "stdout",
     "output_type": "stream",
     "text": [
      "PROGRESS: Evaluate model M0\n"
     ]
    },
    {
     "data": {
      "text/html": [
       "<pre>Generating candidate set for working with new users.</pre>"
      ],
      "text/plain": [
       "Generating candidate set for working with new users."
      ]
     },
     "metadata": {},
     "output_type": "display_data"
    },
    {
     "data": {
      "text/html": [
       "<pre>Finished training in 1.67008s</pre>"
      ],
      "text/plain": [
       "Finished training in 1.67008s"
      ]
     },
     "metadata": {},
     "output_type": "display_data"
    },
    {
     "data": {
      "text/html": [
       "<pre>recommendations finished on 1000/9672 queries. users per second: 17648.8</pre>"
      ],
      "text/plain": [
       "recommendations finished on 1000/9672 queries. users per second: 17648.8"
      ]
     },
     "metadata": {},
     "output_type": "display_data"
    },
    {
     "data": {
      "text/html": [
       "<pre>recommendations finished on 2000/9672 queries. users per second: 16657.8</pre>"
      ],
      "text/plain": [
       "recommendations finished on 2000/9672 queries. users per second: 16657.8"
      ]
     },
     "metadata": {},
     "output_type": "display_data"
    },
    {
     "data": {
      "text/html": [
       "<pre>recommendations finished on 3000/9672 queries. users per second: 16390.6</pre>"
      ],
      "text/plain": [
       "recommendations finished on 3000/9672 queries. users per second: 16390.6"
      ]
     },
     "metadata": {},
     "output_type": "display_data"
    },
    {
     "data": {
      "text/html": [
       "<pre>recommendations finished on 4000/9672 queries. users per second: 15125.4</pre>"
      ],
      "text/plain": [
       "recommendations finished on 4000/9672 queries. users per second: 15125.4"
      ]
     },
     "metadata": {},
     "output_type": "display_data"
    },
    {
     "data": {
      "text/html": [
       "<pre>recommendations finished on 5000/9672 queries. users per second: 14337.8</pre>"
      ],
      "text/plain": [
       "recommendations finished on 5000/9672 queries. users per second: 14337.8"
      ]
     },
     "metadata": {},
     "output_type": "display_data"
    },
    {
     "data": {
      "text/html": [
       "<pre>recommendations finished on 6000/9672 queries. users per second: 14194.3</pre>"
      ],
      "text/plain": [
       "recommendations finished on 6000/9672 queries. users per second: 14194.3"
      ]
     },
     "metadata": {},
     "output_type": "display_data"
    },
    {
     "data": {
      "text/html": [
       "<pre>recommendations finished on 7000/9672 queries. users per second: 14175.5</pre>"
      ],
      "text/plain": [
       "recommendations finished on 7000/9672 queries. users per second: 14175.5"
      ]
     },
     "metadata": {},
     "output_type": "display_data"
    },
    {
     "data": {
      "text/html": [
       "<pre>recommendations finished on 8000/9672 queries. users per second: 13623.2</pre>"
      ],
      "text/plain": [
       "recommendations finished on 8000/9672 queries. users per second: 13623.2"
      ]
     },
     "metadata": {},
     "output_type": "display_data"
    },
    {
     "data": {
      "text/html": [
       "<pre>recommendations finished on 9000/9672 queries. users per second: 13365.4</pre>"
      ],
      "text/plain": [
       "recommendations finished on 9000/9672 queries. users per second: 13365.4"
      ]
     },
     "metadata": {},
     "output_type": "display_data"
    },
    {
     "name": "stdout",
     "output_type": "stream",
     "text": [
      "\n",
      "Precision and recall summary statistics by cutoff\n",
      "+--------+---------------------+---------------------+\n",
      "| cutoff |    mean_precision   |     mean_recall     |\n",
      "+--------+---------------------+---------------------+\n",
      "|   1    |  0.3843052109181141 | 0.03545616683802317 |\n",
      "|   2    |  0.3748966087675768 | 0.06970801505154285 |\n",
      "|   3    |  0.3553901295836784 | 0.09899659185798464 |\n",
      "|   4    | 0.33439309346567414 |  0.1238139297836795 |\n",
      "|   5    |  0.3131100082712981 | 0.14458947422728796 |\n",
      "|   6    | 0.28827198786876196 |  0.1600057853175069 |\n",
      "|   7    |  0.2689649060616799 | 0.17432297358397159 |\n",
      "|   8    |  0.252041976840364  |  0.1867875328311513 |\n",
      "|   9    | 0.23825935116257724 |  0.198755931020675  |\n",
      "|   10   | 0.22645781637717127 |  0.2103564232403975 |\n",
      "+--------+---------------------+---------------------+\n",
      "[10 rows x 3 columns]\n",
      "\n",
      "\n",
      "Overall RMSE: 1.050604207443279\n",
      "\n",
      "Per User RMSE (best)\n",
      "+-----------+---------------------+-------+\n",
      "|  user_id  |         rmse        | count |\n",
      "+-----------+---------------------+-------+\n",
      "| 552740693 | 0.39749213828703583 |   5   |\n",
      "+-----------+---------------------+-------+\n",
      "[1 rows x 3 columns]\n",
      "\n",
      "\n",
      "Per User RMSE (worst)\n",
      "+-----------+--------------------+-------+\n",
      "|  user_id  |        rmse        | count |\n",
      "+-----------+--------------------+-------+\n",
      "| 475568506 | 3.0825492687580107 |   11  |\n",
      "+-----------+--------------------+-------+\n",
      "[1 rows x 3 columns]\n",
      "\n",
      "\n",
      "Per Item RMSE (best)\n",
      "+------------+-------+-------+\n",
      "| product_id |  rmse | count |\n",
      "+------------+-------+-------+\n",
      "|  5820311   | 0.125 |   1   |\n",
      "+------------+-------+-------+\n",
      "[1 rows x 3 columns]\n",
      "\n",
      "\n",
      "Per Item RMSE (worst)\n",
      "+------------+--------------------+-------+\n",
      "| product_id |        rmse        | count |\n",
      "+------------+--------------------+-------+\n",
      "|  5805502   | 2.9698412683275013 |   1   |\n",
      "+------------+--------------------+-------+\n",
      "[1 rows x 3 columns]\n",
      "\n",
      "PROGRESS: Evaluate model m1\n",
      "\n",
      "Overall RMSE: 1.0643042821476698\n",
      "\n",
      "Per User RMSE (best)\n",
      "+-----------+--------------------+-------+\n",
      "|  user_id  |        rmse        | count |\n",
      "+-----------+--------------------+-------+\n",
      "| 574078264 | 0.8695522707100819 |   2   |\n",
      "+-----------+--------------------+-------+\n",
      "[1 rows x 3 columns]\n",
      "\n",
      "\n",
      "Per User RMSE (worst)\n",
      "+-----------+------+-------+\n",
      "|  user_id  | rmse | count |\n",
      "+-----------+------+-------+\n",
      "| 475568506 | 6.0  |   1   |\n",
      "+-----------+------+-------+\n",
      "[1 rows x 3 columns]\n",
      "\n",
      "\n",
      "Per Item RMSE (best)\n",
      "+------------+-------------------+-------+\n",
      "| product_id |        rmse       | count |\n",
      "+------------+-------------------+-------+\n",
      "|  5882574   | 0.860714282308306 |   1   |\n",
      "+------------+-------------------+-------+\n",
      "[1 rows x 3 columns]\n",
      "\n",
      "\n",
      "Per Item RMSE (worst)\n",
      "+------------+------+-------+\n",
      "| product_id | rmse | count |\n",
      "+------------+------+-------+\n",
      "|  5739900   | 3.0  |   1   |\n",
      "+------------+------+-------+\n",
      "[1 rows x 3 columns]\n",
      "\n"
     ]
    },
    {
     "data": {
      "text/html": [
       "<pre>recommendations finished on 1000/9672 queries. users per second: 19007.4</pre>"
      ],
      "text/plain": [
       "recommendations finished on 1000/9672 queries. users per second: 19007.4"
      ]
     },
     "metadata": {},
     "output_type": "display_data"
    },
    {
     "data": {
      "text/html": [
       "<pre>recommendations finished on 2000/9672 queries. users per second: 18993.2</pre>"
      ],
      "text/plain": [
       "recommendations finished on 2000/9672 queries. users per second: 18993.2"
      ]
     },
     "metadata": {},
     "output_type": "display_data"
    },
    {
     "data": {
      "text/html": [
       "<pre>recommendations finished on 3000/9672 queries. users per second: 18175.9</pre>"
      ],
      "text/plain": [
       "recommendations finished on 3000/9672 queries. users per second: 18175.9"
      ]
     },
     "metadata": {},
     "output_type": "display_data"
    },
    {
     "data": {
      "text/html": [
       "<pre>recommendations finished on 4000/9672 queries. users per second: 17799.5</pre>"
      ],
      "text/plain": [
       "recommendations finished on 4000/9672 queries. users per second: 17799.5"
      ]
     },
     "metadata": {},
     "output_type": "display_data"
    },
    {
     "data": {
      "text/html": [
       "<pre>recommendations finished on 5000/9672 queries. users per second: 17822.5</pre>"
      ],
      "text/plain": [
       "recommendations finished on 5000/9672 queries. users per second: 17822.5"
      ]
     },
     "metadata": {},
     "output_type": "display_data"
    },
    {
     "data": {
      "text/html": [
       "<pre>recommendations finished on 6000/9672 queries. users per second: 17711.9</pre>"
      ],
      "text/plain": [
       "recommendations finished on 6000/9672 queries. users per second: 17711.9"
      ]
     },
     "metadata": {},
     "output_type": "display_data"
    },
    {
     "data": {
      "text/html": [
       "<pre>recommendations finished on 7000/9672 queries. users per second: 17546.8</pre>"
      ],
      "text/plain": [
       "recommendations finished on 7000/9672 queries. users per second: 17546.8"
      ]
     },
     "metadata": {},
     "output_type": "display_data"
    },
    {
     "data": {
      "text/html": [
       "<pre>recommendations finished on 8000/9672 queries. users per second: 17273.9</pre>"
      ],
      "text/plain": [
       "recommendations finished on 8000/9672 queries. users per second: 17273.9"
      ]
     },
     "metadata": {},
     "output_type": "display_data"
    },
    {
     "data": {
      "text/html": [
       "<pre>recommendations finished on 9000/9672 queries. users per second: 17328.9</pre>"
      ],
      "text/plain": [
       "recommendations finished on 9000/9672 queries. users per second: 17328.9"
      ]
     },
     "metadata": {},
     "output_type": "display_data"
    },
    {
     "data": {
      "text/html": [
       "<pre>Preparing data set.</pre>"
      ],
      "text/plain": [
       "Preparing data set."
      ]
     },
     "metadata": {},
     "output_type": "display_data"
    },
    {
     "data": {
      "text/html": [
       "<pre>    Data has 108626 observations with 9672 users and 14105 items.</pre>"
      ],
      "text/plain": [
       "    Data has 108626 observations with 9672 users and 14105 items."
      ]
     },
     "metadata": {},
     "output_type": "display_data"
    },
    {
     "data": {
      "text/html": [
       "<pre>    Data prepared in: 0.088639s</pre>"
      ],
      "text/plain": [
       "    Data prepared in: 0.088639s"
      ]
     },
     "metadata": {},
     "output_type": "display_data"
    },
    {
     "data": {
      "text/html": [
       "<pre>Training model from provided data.</pre>"
      ],
      "text/plain": [
       "Training model from provided data."
      ]
     },
     "metadata": {},
     "output_type": "display_data"
    },
    {
     "data": {
      "text/html": [
       "<pre>Gathering per-item and per-user statistics.</pre>"
      ],
      "text/plain": [
       "Gathering per-item and per-user statistics."
      ]
     },
     "metadata": {},
     "output_type": "display_data"
    },
    {
     "data": {
      "text/html": [
       "<pre>+--------------------------------+------------+</pre>"
      ],
      "text/plain": [
       "+--------------------------------+------------+"
      ]
     },
     "metadata": {},
     "output_type": "display_data"
    },
    {
     "data": {
      "text/html": [
       "<pre>| Elapsed Time (Item Statistics) | % Complete |</pre>"
      ],
      "text/plain": [
       "| Elapsed Time (Item Statistics) | % Complete |"
      ]
     },
     "metadata": {},
     "output_type": "display_data"
    },
    {
     "data": {
      "text/html": [
       "<pre>+--------------------------------+------------+</pre>"
      ],
      "text/plain": [
       "+--------------------------------+------------+"
      ]
     },
     "metadata": {},
     "output_type": "display_data"
    },
    {
     "data": {
      "text/html": [
       "<pre>| 739us                          | 10.25      |</pre>"
      ],
      "text/plain": [
       "| 739us                          | 10.25      |"
      ]
     },
     "metadata": {},
     "output_type": "display_data"
    },
    {
     "data": {
      "text/html": [
       "<pre>| 2.833ms                        | 100        |</pre>"
      ],
      "text/plain": [
       "| 2.833ms                        | 100        |"
      ]
     },
     "metadata": {},
     "output_type": "display_data"
    },
    {
     "data": {
      "text/html": [
       "<pre>+--------------------------------+------------+</pre>"
      ],
      "text/plain": [
       "+--------------------------------+------------+"
      ]
     },
     "metadata": {},
     "output_type": "display_data"
    },
    {
     "data": {
      "text/html": [
       "<pre>Setting up lookup tables.</pre>"
      ],
      "text/plain": [
       "Setting up lookup tables."
      ]
     },
     "metadata": {},
     "output_type": "display_data"
    },
    {
     "data": {
      "text/html": [
       "<pre>Processing data in one pass using dense lookup tables.</pre>"
      ],
      "text/plain": [
       "Processing data in one pass using dense lookup tables."
      ]
     },
     "metadata": {},
     "output_type": "display_data"
    },
    {
     "data": {
      "text/html": [
       "<pre>+-------------------------------------+------------------+-----------------+</pre>"
      ],
      "text/plain": [
       "+-------------------------------------+------------------+-----------------+"
      ]
     },
     "metadata": {},
     "output_type": "display_data"
    },
    {
     "data": {
      "text/html": [
       "<pre>| Elapsed Time (Constructing Lookups) | Total % Complete | Items Processed |</pre>"
      ],
      "text/plain": [
       "| Elapsed Time (Constructing Lookups) | Total % Complete | Items Processed |"
      ]
     },
     "metadata": {},
     "output_type": "display_data"
    },
    {
     "data": {
      "text/html": [
       "<pre>+-------------------------------------+------------------+-----------------+</pre>"
      ],
      "text/plain": [
       "+-------------------------------------+------------------+-----------------+"
      ]
     },
     "metadata": {},
     "output_type": "display_data"
    },
    {
     "data": {
      "text/html": [
       "<pre>| 955.407ms                           | 0                | 0               |</pre>"
      ],
      "text/plain": [
       "| 955.407ms                           | 0                | 0               |"
      ]
     },
     "metadata": {},
     "output_type": "display_data"
    },
    {
     "data": {
      "text/html": [
       "<pre>| 1.68s                               | 100              | 14105           |</pre>"
      ],
      "text/plain": [
       "| 1.68s                               | 100              | 14105           |"
      ]
     },
     "metadata": {},
     "output_type": "display_data"
    },
    {
     "data": {
      "text/html": [
       "<pre>+-------------------------------------+------------------+-----------------+</pre>"
      ],
      "text/plain": [
       "+-------------------------------------+------------------+-----------------+"
      ]
     },
     "metadata": {},
     "output_type": "display_data"
    },
    {
     "name": "stdout",
     "output_type": "stream",
     "text": [
      "PROGRESS: Evaluate model M0\n"
     ]
    },
    {
     "data": {
      "text/html": [
       "<pre>Finalizing lookup tables.</pre>"
      ],
      "text/plain": [
       "Finalizing lookup tables."
      ]
     },
     "metadata": {},
     "output_type": "display_data"
    },
    {
     "data": {
      "text/html": [
       "<pre>Generating candidate set for working with new users.</pre>"
      ],
      "text/plain": [
       "Generating candidate set for working with new users."
      ]
     },
     "metadata": {},
     "output_type": "display_data"
    },
    {
     "data": {
      "text/html": [
       "<pre>Finished training in 1.69809s</pre>"
      ],
      "text/plain": [
       "Finished training in 1.69809s"
      ]
     },
     "metadata": {},
     "output_type": "display_data"
    },
    {
     "data": {
      "text/html": [
       "<pre>recommendations finished on 1000/9672 queries. users per second: 15490.2</pre>"
      ],
      "text/plain": [
       "recommendations finished on 1000/9672 queries. users per second: 15490.2"
      ]
     },
     "metadata": {},
     "output_type": "display_data"
    },
    {
     "data": {
      "text/html": [
       "<pre>recommendations finished on 2000/9672 queries. users per second: 15310.4</pre>"
      ],
      "text/plain": [
       "recommendations finished on 2000/9672 queries. users per second: 15310.4"
      ]
     },
     "metadata": {},
     "output_type": "display_data"
    },
    {
     "data": {
      "text/html": [
       "<pre>recommendations finished on 3000/9672 queries. users per second: 15383.9</pre>"
      ],
      "text/plain": [
       "recommendations finished on 3000/9672 queries. users per second: 15383.9"
      ]
     },
     "metadata": {},
     "output_type": "display_data"
    },
    {
     "data": {
      "text/html": [
       "<pre>recommendations finished on 4000/9672 queries. users per second: 12903.3</pre>"
      ],
      "text/plain": [
       "recommendations finished on 4000/9672 queries. users per second: 12903.3"
      ]
     },
     "metadata": {},
     "output_type": "display_data"
    },
    {
     "data": {
      "text/html": [
       "<pre>recommendations finished on 5000/9672 queries. users per second: 13182.2</pre>"
      ],
      "text/plain": [
       "recommendations finished on 5000/9672 queries. users per second: 13182.2"
      ]
     },
     "metadata": {},
     "output_type": "display_data"
    },
    {
     "data": {
      "text/html": [
       "<pre>recommendations finished on 6000/9672 queries. users per second: 13399.5</pre>"
      ],
      "text/plain": [
       "recommendations finished on 6000/9672 queries. users per second: 13399.5"
      ]
     },
     "metadata": {},
     "output_type": "display_data"
    },
    {
     "data": {
      "text/html": [
       "<pre>recommendations finished on 7000/9672 queries. users per second: 13644.8</pre>"
      ],
      "text/plain": [
       "recommendations finished on 7000/9672 queries. users per second: 13644.8"
      ]
     },
     "metadata": {},
     "output_type": "display_data"
    },
    {
     "data": {
      "text/html": [
       "<pre>recommendations finished on 8000/9672 queries. users per second: 13295.2</pre>"
      ],
      "text/plain": [
       "recommendations finished on 8000/9672 queries. users per second: 13295.2"
      ]
     },
     "metadata": {},
     "output_type": "display_data"
    },
    {
     "data": {
      "text/html": [
       "<pre>recommendations finished on 9000/9672 queries. users per second: 13142</pre>"
      ],
      "text/plain": [
       "recommendations finished on 9000/9672 queries. users per second: 13142"
      ]
     },
     "metadata": {},
     "output_type": "display_data"
    },
    {
     "name": "stdout",
     "output_type": "stream",
     "text": [
      "\n",
      "Precision and recall summary statistics by cutoff\n",
      "+--------+---------------------+---------------------+\n",
      "| cutoff |    mean_precision   |     mean_recall     |\n",
      "+--------+---------------------+---------------------+\n",
      "|   1    | 0.42524813895781677 | 0.03964602863462505 |\n",
      "|   2    | 0.41123862696443364 | 0.07664998330863185 |\n",
      "|   3    | 0.39423076923076983 | 0.11000630524252895 |\n",
      "|   4    |  0.3737334574028121 | 0.13823437974947156 |\n",
      "|   5    |  0.3505376344086023 | 0.16086551158124526 |\n",
      "|   6    |  0.3284567135373591 |  0.1797562524876184 |\n",
      "|   7    | 0.30862282878411973 | 0.19570747410584105 |\n",
      "|   8    |  0.2901545698924735 | 0.20902888942125183 |\n",
      "|   9    | 0.27350427350427337 |  0.2215475438920444 |\n",
      "|   10   | 0.25927419354838677 | 0.23327962781201958 |\n",
      "+--------+---------------------+---------------------+\n",
      "[10 rows x 3 columns]\n",
      "\n",
      "\n",
      "Overall RMSE: 1.045912189803828\n",
      "\n",
      "Per User RMSE (best)\n",
      "+-----------+--------------------+-------+\n",
      "|  user_id  |        rmse        | count |\n",
      "+-----------+--------------------+-------+\n",
      "| 551676410 | 0.1428571428571429 |   7   |\n",
      "+-----------+--------------------+-------+\n",
      "[1 rows x 3 columns]\n",
      "\n",
      "\n",
      "Per User RMSE (worst)\n",
      "+-----------+-------------------+-------+\n",
      "|  user_id  |        rmse       | count |\n",
      "+-----------+-------------------+-------+\n",
      "| 475568506 | 3.081819012354921 |   11  |\n",
      "+-----------+-------------------+-------+\n",
      "[1 rows x 3 columns]\n",
      "\n",
      "\n",
      "Per Item RMSE (best)\n",
      "+------------+-------+-------+\n",
      "| product_id |  rmse | count |\n",
      "+------------+-------+-------+\n",
      "|  5820311   | 0.125 |   1   |\n",
      "+------------+-------+-------+\n",
      "[1 rows x 3 columns]\n",
      "\n",
      "\n",
      "Per Item RMSE (worst)\n",
      "+------------+--------------------+-------+\n",
      "| product_id |        rmse        | count |\n",
      "+------------+--------------------+-------+\n",
      "|  5805502   | 2.9698412683275013 |   1   |\n",
      "+------------+--------------------+-------+\n",
      "[1 rows x 3 columns]\n",
      "\n",
      "PROGRESS: Evaluate model m1\n",
      "\n",
      "Overall RMSE: 1.0636389122409198\n",
      "\n",
      "Per User RMSE (best)\n",
      "+-----------+--------------------+-------+\n",
      "|  user_id  |        rmse        | count |\n",
      "+-----------+--------------------+-------+\n",
      "| 574078264 | 0.8527871623443581 |   2   |\n",
      "+-----------+--------------------+-------+\n",
      "[1 rows x 3 columns]\n",
      "\n",
      "\n",
      "Per User RMSE (worst)\n",
      "+-----------+------+-------+\n",
      "|  user_id  | rmse | count |\n",
      "+-----------+------+-------+\n",
      "| 475568506 | 6.0  |   1   |\n",
      "+-----------+------+-------+\n",
      "[1 rows x 3 columns]\n",
      "\n",
      "\n",
      "Per Item RMSE (best)\n",
      "+------------+--------------------+-------+\n",
      "| product_id |        rmse        | count |\n",
      "+------------+--------------------+-------+\n",
      "|  5882574   | 0.7964285697255815 |   1   |\n",
      "+------------+--------------------+-------+\n",
      "[1 rows x 3 columns]\n",
      "\n",
      "\n",
      "Per Item RMSE (worst)\n",
      "+------------+------+-------+\n",
      "| product_id | rmse | count |\n",
      "+------------+------+-------+\n",
      "|  5739900   | 3.0  |   1   |\n",
      "+------------+------+-------+\n",
      "[1 rows x 3 columns]\n",
      "\n"
     ]
    },
    {
     "data": {
      "text/html": [
       "<pre>recommendations finished on 1000/9672 queries. users per second: 16555.5</pre>"
      ],
      "text/plain": [
       "recommendations finished on 1000/9672 queries. users per second: 16555.5"
      ]
     },
     "metadata": {},
     "output_type": "display_data"
    },
    {
     "data": {
      "text/html": [
       "<pre>recommendations finished on 2000/9672 queries. users per second: 17039</pre>"
      ],
      "text/plain": [
       "recommendations finished on 2000/9672 queries. users per second: 17039"
      ]
     },
     "metadata": {},
     "output_type": "display_data"
    },
    {
     "data": {
      "text/html": [
       "<pre>recommendations finished on 3000/9672 queries. users per second: 16964.6</pre>"
      ],
      "text/plain": [
       "recommendations finished on 3000/9672 queries. users per second: 16964.6"
      ]
     },
     "metadata": {},
     "output_type": "display_data"
    },
    {
     "data": {
      "text/html": [
       "<pre>recommendations finished on 4000/9672 queries. users per second: 17046.4</pre>"
      ],
      "text/plain": [
       "recommendations finished on 4000/9672 queries. users per second: 17046.4"
      ]
     },
     "metadata": {},
     "output_type": "display_data"
    },
    {
     "data": {
      "text/html": [
       "<pre>recommendations finished on 5000/9672 queries. users per second: 17161.1</pre>"
      ],
      "text/plain": [
       "recommendations finished on 5000/9672 queries. users per second: 17161.1"
      ]
     },
     "metadata": {},
     "output_type": "display_data"
    },
    {
     "data": {
      "text/html": [
       "<pre>recommendations finished on 6000/9672 queries. users per second: 17134.8</pre>"
      ],
      "text/plain": [
       "recommendations finished on 6000/9672 queries. users per second: 17134.8"
      ]
     },
     "metadata": {},
     "output_type": "display_data"
    },
    {
     "data": {
      "text/html": [
       "<pre>recommendations finished on 7000/9672 queries. users per second: 17191.9</pre>"
      ],
      "text/plain": [
       "recommendations finished on 7000/9672 queries. users per second: 17191.9"
      ]
     },
     "metadata": {},
     "output_type": "display_data"
    },
    {
     "data": {
      "text/html": [
       "<pre>recommendations finished on 8000/9672 queries. users per second: 17126</pre>"
      ],
      "text/plain": [
       "recommendations finished on 8000/9672 queries. users per second: 17126"
      ]
     },
     "metadata": {},
     "output_type": "display_data"
    },
    {
     "data": {
      "text/html": [
       "<pre>recommendations finished on 9000/9672 queries. users per second: 17239.7</pre>"
      ],
      "text/plain": [
       "recommendations finished on 9000/9672 queries. users per second: 17239.7"
      ]
     },
     "metadata": {},
     "output_type": "display_data"
    },
    {
     "data": {
      "text/html": [
       "<pre>Preparing data set.</pre>"
      ],
      "text/plain": [
       "Preparing data set."
      ]
     },
     "metadata": {},
     "output_type": "display_data"
    },
    {
     "data": {
      "text/html": [
       "<pre>    Data has 108626 observations with 9672 users and 14105 items.</pre>"
      ],
      "text/plain": [
       "    Data has 108626 observations with 9672 users and 14105 items."
      ]
     },
     "metadata": {},
     "output_type": "display_data"
    },
    {
     "data": {
      "text/html": [
       "<pre>    Data prepared in: 0.102784s</pre>"
      ],
      "text/plain": [
       "    Data prepared in: 0.102784s"
      ]
     },
     "metadata": {},
     "output_type": "display_data"
    },
    {
     "data": {
      "text/html": [
       "<pre>Training model from provided data.</pre>"
      ],
      "text/plain": [
       "Training model from provided data."
      ]
     },
     "metadata": {},
     "output_type": "display_data"
    },
    {
     "data": {
      "text/html": [
       "<pre>Gathering per-item and per-user statistics.</pre>"
      ],
      "text/plain": [
       "Gathering per-item and per-user statistics."
      ]
     },
     "metadata": {},
     "output_type": "display_data"
    },
    {
     "data": {
      "text/html": [
       "<pre>+--------------------------------+------------+</pre>"
      ],
      "text/plain": [
       "+--------------------------------+------------+"
      ]
     },
     "metadata": {},
     "output_type": "display_data"
    },
    {
     "data": {
      "text/html": [
       "<pre>| Elapsed Time (Item Statistics) | % Complete |</pre>"
      ],
      "text/plain": [
       "| Elapsed Time (Item Statistics) | % Complete |"
      ]
     },
     "metadata": {},
     "output_type": "display_data"
    },
    {
     "data": {
      "text/html": [
       "<pre>+--------------------------------+------------+</pre>"
      ],
      "text/plain": [
       "+--------------------------------+------------+"
      ]
     },
     "metadata": {},
     "output_type": "display_data"
    },
    {
     "data": {
      "text/html": [
       "<pre>| 886us                          | 10.25      |</pre>"
      ],
      "text/plain": [
       "| 886us                          | 10.25      |"
      ]
     },
     "metadata": {},
     "output_type": "display_data"
    },
    {
     "data": {
      "text/html": [
       "<pre>| 3.098ms                        | 100        |</pre>"
      ],
      "text/plain": [
       "| 3.098ms                        | 100        |"
      ]
     },
     "metadata": {},
     "output_type": "display_data"
    },
    {
     "data": {
      "text/html": [
       "<pre>+--------------------------------+------------+</pre>"
      ],
      "text/plain": [
       "+--------------------------------+------------+"
      ]
     },
     "metadata": {},
     "output_type": "display_data"
    },
    {
     "data": {
      "text/html": [
       "<pre>Setting up lookup tables.</pre>"
      ],
      "text/plain": [
       "Setting up lookup tables."
      ]
     },
     "metadata": {},
     "output_type": "display_data"
    },
    {
     "data": {
      "text/html": [
       "<pre>Processing data in one pass using dense lookup tables.</pre>"
      ],
      "text/plain": [
       "Processing data in one pass using dense lookup tables."
      ]
     },
     "metadata": {},
     "output_type": "display_data"
    },
    {
     "data": {
      "text/html": [
       "<pre>+-------------------------------------+------------------+-----------------+</pre>"
      ],
      "text/plain": [
       "+-------------------------------------+------------------+-----------------+"
      ]
     },
     "metadata": {},
     "output_type": "display_data"
    },
    {
     "data": {
      "text/html": [
       "<pre>| Elapsed Time (Constructing Lookups) | Total % Complete | Items Processed |</pre>"
      ],
      "text/plain": [
       "| Elapsed Time (Constructing Lookups) | Total % Complete | Items Processed |"
      ]
     },
     "metadata": {},
     "output_type": "display_data"
    },
    {
     "data": {
      "text/html": [
       "<pre>+-------------------------------------+------------------+-----------------+</pre>"
      ],
      "text/plain": [
       "+-------------------------------------+------------------+-----------------+"
      ]
     },
     "metadata": {},
     "output_type": "display_data"
    },
    {
     "data": {
      "text/html": [
       "<pre>| 981.478ms                           | 0                | 0               |</pre>"
      ],
      "text/plain": [
       "| 981.478ms                           | 0                | 0               |"
      ]
     },
     "metadata": {},
     "output_type": "display_data"
    },
    {
     "data": {
      "text/html": [
       "<pre>| 1.66s                               | 100              | 14105           |</pre>"
      ],
      "text/plain": [
       "| 1.66s                               | 100              | 14105           |"
      ]
     },
     "metadata": {},
     "output_type": "display_data"
    },
    {
     "data": {
      "text/html": [
       "<pre>+-------------------------------------+------------------+-----------------+</pre>"
      ],
      "text/plain": [
       "+-------------------------------------+------------------+-----------------+"
      ]
     },
     "metadata": {},
     "output_type": "display_data"
    },
    {
     "name": "stdout",
     "output_type": "stream",
     "text": [
      "PROGRESS: Evaluate model M0\n"
     ]
    },
    {
     "data": {
      "text/html": [
       "<pre>Finalizing lookup tables.</pre>"
      ],
      "text/plain": [
       "Finalizing lookup tables."
      ]
     },
     "metadata": {},
     "output_type": "display_data"
    },
    {
     "data": {
      "text/html": [
       "<pre>Generating candidate set for working with new users.</pre>"
      ],
      "text/plain": [
       "Generating candidate set for working with new users."
      ]
     },
     "metadata": {},
     "output_type": "display_data"
    },
    {
     "data": {
      "text/html": [
       "<pre>Finished training in 1.67487s</pre>"
      ],
      "text/plain": [
       "Finished training in 1.67487s"
      ]
     },
     "metadata": {},
     "output_type": "display_data"
    },
    {
     "data": {
      "text/html": [
       "<pre>recommendations finished on 1000/9672 queries. users per second: 16553.3</pre>"
      ],
      "text/plain": [
       "recommendations finished on 1000/9672 queries. users per second: 16553.3"
      ]
     },
     "metadata": {},
     "output_type": "display_data"
    },
    {
     "data": {
      "text/html": [
       "<pre>recommendations finished on 2000/9672 queries. users per second: 16823</pre>"
      ],
      "text/plain": [
       "recommendations finished on 2000/9672 queries. users per second: 16823"
      ]
     },
     "metadata": {},
     "output_type": "display_data"
    },
    {
     "data": {
      "text/html": [
       "<pre>recommendations finished on 3000/9672 queries. users per second: 16147.3</pre>"
      ],
      "text/plain": [
       "recommendations finished on 3000/9672 queries. users per second: 16147.3"
      ]
     },
     "metadata": {},
     "output_type": "display_data"
    },
    {
     "data": {
      "text/html": [
       "<pre>recommendations finished on 4000/9672 queries. users per second: 15674.3</pre>"
      ],
      "text/plain": [
       "recommendations finished on 4000/9672 queries. users per second: 15674.3"
      ]
     },
     "metadata": {},
     "output_type": "display_data"
    },
    {
     "data": {
      "text/html": [
       "<pre>recommendations finished on 5000/9672 queries. users per second: 15626.9</pre>"
      ],
      "text/plain": [
       "recommendations finished on 5000/9672 queries. users per second: 15626.9"
      ]
     },
     "metadata": {},
     "output_type": "display_data"
    },
    {
     "data": {
      "text/html": [
       "<pre>recommendations finished on 6000/9672 queries. users per second: 15299.6</pre>"
      ],
      "text/plain": [
       "recommendations finished on 6000/9672 queries. users per second: 15299.6"
      ]
     },
     "metadata": {},
     "output_type": "display_data"
    },
    {
     "data": {
      "text/html": [
       "<pre>recommendations finished on 7000/9672 queries. users per second: 15263.3</pre>"
      ],
      "text/plain": [
       "recommendations finished on 7000/9672 queries. users per second: 15263.3"
      ]
     },
     "metadata": {},
     "output_type": "display_data"
    },
    {
     "data": {
      "text/html": [
       "<pre>recommendations finished on 8000/9672 queries. users per second: 15173.4</pre>"
      ],
      "text/plain": [
       "recommendations finished on 8000/9672 queries. users per second: 15173.4"
      ]
     },
     "metadata": {},
     "output_type": "display_data"
    },
    {
     "data": {
      "text/html": [
       "<pre>recommendations finished on 9000/9672 queries. users per second: 15086.5</pre>"
      ],
      "text/plain": [
       "recommendations finished on 9000/9672 queries. users per second: 15086.5"
      ]
     },
     "metadata": {},
     "output_type": "display_data"
    },
    {
     "name": "stdout",
     "output_type": "stream",
     "text": [
      "\n",
      "Precision and recall summary statistics by cutoff\n",
      "+--------+---------------------+---------------------+\n",
      "| cutoff |    mean_precision   |     mean_recall     |\n",
      "+--------+---------------------+---------------------+\n",
      "|   1    |  0.4508891645988422 | 0.04196329682505654 |\n",
      "|   2    |  0.4402398676592225 | 0.08218629612857813 |\n",
      "|   3    |  0.4208023159636062 | 0.11752436847658855 |\n",
      "|   4    |  0.4003825475599666 |  0.1482481741615017 |\n",
      "|   5    |  0.3781017369727051 | 0.17365035708441565 |\n",
      "|   6    | 0.35535566583953687 | 0.19429327509793146 |\n",
      "|   7    |  0.3342933947772648 | 0.21145010555326152 |\n",
      "|   8    |  0.3158085194375523 | 0.22689823979337467 |\n",
      "|   9    | 0.29815733847991976 | 0.23966865979088822 |\n",
      "|   10   |  0.2826716294458225 |  0.2513665724872429 |\n",
      "+--------+---------------------+---------------------+\n",
      "[10 rows x 3 columns]\n",
      "\n",
      "\n",
      "Overall RMSE: 1.0427883347460278\n",
      "\n",
      "Per User RMSE (best)\n",
      "+-----------+--------------------+-------+\n",
      "|  user_id  |        rmse        | count |\n",
      "+-----------+--------------------+-------+\n",
      "| 551676410 | 0.1428571428571429 |   7   |\n",
      "+-----------+--------------------+-------+\n",
      "[1 rows x 3 columns]\n",
      "\n",
      "\n",
      "Per User RMSE (worst)\n",
      "+-----------+--------------------+-------+\n",
      "|  user_id  |        rmse        | count |\n",
      "+-----------+--------------------+-------+\n",
      "| 475568506 | 3.0813738731843925 |   11  |\n",
      "+-----------+--------------------+-------+\n",
      "[1 rows x 3 columns]\n",
      "\n",
      "\n",
      "Per Item RMSE (best)\n",
      "+------------+-------+-------+\n",
      "| product_id |  rmse | count |\n",
      "+------------+-------+-------+\n",
      "|  5820395   | 0.125 |   1   |\n",
      "+------------+-------+-------+\n",
      "[1 rows x 3 columns]\n",
      "\n",
      "\n",
      "Per Item RMSE (worst)\n",
      "+------------+--------------------+-------+\n",
      "| product_id |        rmse        | count |\n",
      "+------------+--------------------+-------+\n",
      "|  5805502   | 2.9619047575526767 |   1   |\n",
      "+------------+--------------------+-------+\n",
      "[1 rows x 3 columns]\n",
      "\n",
      "PROGRESS: Evaluate model m1\n",
      "\n",
      "Overall RMSE: 1.0631682175101556\n",
      "\n",
      "Per User RMSE (best)\n",
      "+-----------+--------------------+-------+\n",
      "|  user_id  |        rmse        | count |\n",
      "+-----------+--------------------+-------+\n",
      "| 574078264 | 0.8527871623443581 |   2   |\n",
      "+-----------+--------------------+-------+\n",
      "[1 rows x 3 columns]\n",
      "\n",
      "\n",
      "Per User RMSE (worst)\n",
      "+-----------+------+-------+\n",
      "|  user_id  | rmse | count |\n",
      "+-----------+------+-------+\n",
      "| 475568506 | 6.0  |   1   |\n",
      "+-----------+------+-------+\n",
      "[1 rows x 3 columns]\n",
      "\n",
      "\n",
      "Per Item RMSE (best)\n",
      "+------------+--------------------+-------+\n",
      "| product_id |        rmse        | count |\n",
      "+------------+--------------------+-------+\n",
      "|  5882574   | 0.7964285697255815 |   1   |\n",
      "+------------+--------------------+-------+\n",
      "[1 rows x 3 columns]\n",
      "\n",
      "\n",
      "Per Item RMSE (worst)\n",
      "+------------+------+-------+\n",
      "| product_id | rmse | count |\n",
      "+------------+------+-------+\n",
      "|  5739900   | 3.0  |   1   |\n",
      "+------------+------+-------+\n",
      "[1 rows x 3 columns]\n",
      "\n"
     ]
    },
    {
     "data": {
      "text/html": [
       "<pre>recommendations finished on 1000/9672 queries. users per second: 20840.3</pre>"
      ],
      "text/plain": [
       "recommendations finished on 1000/9672 queries. users per second: 20840.3"
      ]
     },
     "metadata": {},
     "output_type": "display_data"
    },
    {
     "data": {
      "text/html": [
       "<pre>recommendations finished on 2000/9672 queries. users per second: 20677.2</pre>"
      ],
      "text/plain": [
       "recommendations finished on 2000/9672 queries. users per second: 20677.2"
      ]
     },
     "metadata": {},
     "output_type": "display_data"
    },
    {
     "data": {
      "text/html": [
       "<pre>recommendations finished on 3000/9672 queries. users per second: 19243.2</pre>"
      ],
      "text/plain": [
       "recommendations finished on 3000/9672 queries. users per second: 19243.2"
      ]
     },
     "metadata": {},
     "output_type": "display_data"
    },
    {
     "data": {
      "text/html": [
       "<pre>recommendations finished on 4000/9672 queries. users per second: 18058.4</pre>"
      ],
      "text/plain": [
       "recommendations finished on 4000/9672 queries. users per second: 18058.4"
      ]
     },
     "metadata": {},
     "output_type": "display_data"
    },
    {
     "data": {
      "text/html": [
       "<pre>recommendations finished on 5000/9672 queries. users per second: 17414.3</pre>"
      ],
      "text/plain": [
       "recommendations finished on 5000/9672 queries. users per second: 17414.3"
      ]
     },
     "metadata": {},
     "output_type": "display_data"
    },
    {
     "data": {
      "text/html": [
       "<pre>recommendations finished on 6000/9672 queries. users per second: 17362.7</pre>"
      ],
      "text/plain": [
       "recommendations finished on 6000/9672 queries. users per second: 17362.7"
      ]
     },
     "metadata": {},
     "output_type": "display_data"
    },
    {
     "data": {
      "text/html": [
       "<pre>recommendations finished on 7000/9672 queries. users per second: 17058.7</pre>"
      ],
      "text/plain": [
       "recommendations finished on 7000/9672 queries. users per second: 17058.7"
      ]
     },
     "metadata": {},
     "output_type": "display_data"
    },
    {
     "data": {
      "text/html": [
       "<pre>recommendations finished on 8000/9672 queries. users per second: 17071.1</pre>"
      ],
      "text/plain": [
       "recommendations finished on 8000/9672 queries. users per second: 17071.1"
      ]
     },
     "metadata": {},
     "output_type": "display_data"
    },
    {
     "data": {
      "text/html": [
       "<pre>recommendations finished on 9000/9672 queries. users per second: 17267.8</pre>"
      ],
      "text/plain": [
       "recommendations finished on 9000/9672 queries. users per second: 17267.8"
      ]
     },
     "metadata": {},
     "output_type": "display_data"
    },
    {
     "data": {
      "text/html": [
       "<pre>Preparing data set.</pre>"
      ],
      "text/plain": [
       "Preparing data set."
      ]
     },
     "metadata": {},
     "output_type": "display_data"
    },
    {
     "data": {
      "text/html": [
       "<pre>    Data has 108626 observations with 9672 users and 14105 items.</pre>"
      ],
      "text/plain": [
       "    Data has 108626 observations with 9672 users and 14105 items."
      ]
     },
     "metadata": {},
     "output_type": "display_data"
    },
    {
     "data": {
      "text/html": [
       "<pre>    Data prepared in: 0.099274s</pre>"
      ],
      "text/plain": [
       "    Data prepared in: 0.099274s"
      ]
     },
     "metadata": {},
     "output_type": "display_data"
    },
    {
     "data": {
      "text/html": [
       "<pre>Training model from provided data.</pre>"
      ],
      "text/plain": [
       "Training model from provided data."
      ]
     },
     "metadata": {},
     "output_type": "display_data"
    },
    {
     "data": {
      "text/html": [
       "<pre>Gathering per-item and per-user statistics.</pre>"
      ],
      "text/plain": [
       "Gathering per-item and per-user statistics."
      ]
     },
     "metadata": {},
     "output_type": "display_data"
    },
    {
     "data": {
      "text/html": [
       "<pre>+--------------------------------+------------+</pre>"
      ],
      "text/plain": [
       "+--------------------------------+------------+"
      ]
     },
     "metadata": {},
     "output_type": "display_data"
    },
    {
     "data": {
      "text/html": [
       "<pre>| Elapsed Time (Item Statistics) | % Complete |</pre>"
      ],
      "text/plain": [
       "| Elapsed Time (Item Statistics) | % Complete |"
      ]
     },
     "metadata": {},
     "output_type": "display_data"
    },
    {
     "data": {
      "text/html": [
       "<pre>+--------------------------------+------------+</pre>"
      ],
      "text/plain": [
       "+--------------------------------+------------+"
      ]
     },
     "metadata": {},
     "output_type": "display_data"
    },
    {
     "data": {
      "text/html": [
       "<pre>| 1.274ms                        | 10.25      |</pre>"
      ],
      "text/plain": [
       "| 1.274ms                        | 10.25      |"
      ]
     },
     "metadata": {},
     "output_type": "display_data"
    },
    {
     "data": {
      "text/html": [
       "<pre>| 4.17ms                         | 100        |</pre>"
      ],
      "text/plain": [
       "| 4.17ms                         | 100        |"
      ]
     },
     "metadata": {},
     "output_type": "display_data"
    },
    {
     "data": {
      "text/html": [
       "<pre>+--------------------------------+------------+</pre>"
      ],
      "text/plain": [
       "+--------------------------------+------------+"
      ]
     },
     "metadata": {},
     "output_type": "display_data"
    },
    {
     "data": {
      "text/html": [
       "<pre>Setting up lookup tables.</pre>"
      ],
      "text/plain": [
       "Setting up lookup tables."
      ]
     },
     "metadata": {},
     "output_type": "display_data"
    },
    {
     "data": {
      "text/html": [
       "<pre>Processing data in one pass using dense lookup tables.</pre>"
      ],
      "text/plain": [
       "Processing data in one pass using dense lookup tables."
      ]
     },
     "metadata": {},
     "output_type": "display_data"
    },
    {
     "data": {
      "text/html": [
       "<pre>+-------------------------------------+------------------+-----------------+</pre>"
      ],
      "text/plain": [
       "+-------------------------------------+------------------+-----------------+"
      ]
     },
     "metadata": {},
     "output_type": "display_data"
    },
    {
     "data": {
      "text/html": [
       "<pre>| Elapsed Time (Constructing Lookups) | Total % Complete | Items Processed |</pre>"
      ],
      "text/plain": [
       "| Elapsed Time (Constructing Lookups) | Total % Complete | Items Processed |"
      ]
     },
     "metadata": {},
     "output_type": "display_data"
    },
    {
     "data": {
      "text/html": [
       "<pre>+-------------------------------------+------------------+-----------------+</pre>"
      ],
      "text/plain": [
       "+-------------------------------------+------------------+-----------------+"
      ]
     },
     "metadata": {},
     "output_type": "display_data"
    },
    {
     "data": {
      "text/html": [
       "<pre>| 1.18s                               | 0                | 0               |</pre>"
      ],
      "text/plain": [
       "| 1.18s                               | 0                | 0               |"
      ]
     },
     "metadata": {},
     "output_type": "display_data"
    },
    {
     "data": {
      "text/html": [
       "<pre>| 2.02s                               | 100              | 14105           |</pre>"
      ],
      "text/plain": [
       "| 2.02s                               | 100              | 14105           |"
      ]
     },
     "metadata": {},
     "output_type": "display_data"
    },
    {
     "data": {
      "text/html": [
       "<pre>+-------------------------------------+------------------+-----------------+</pre>"
      ],
      "text/plain": [
       "+-------------------------------------+------------------+-----------------+"
      ]
     },
     "metadata": {},
     "output_type": "display_data"
    },
    {
     "data": {
      "text/html": [
       "<pre>Finalizing lookup tables.</pre>"
      ],
      "text/plain": [
       "Finalizing lookup tables."
      ]
     },
     "metadata": {},
     "output_type": "display_data"
    },
    {
     "name": "stdout",
     "output_type": "stream",
     "text": [
      "PROGRESS: Evaluate model M0\n"
     ]
    },
    {
     "data": {
      "text/html": [
       "<pre>Generating candidate set for working with new users.</pre>"
      ],
      "text/plain": [
       "Generating candidate set for working with new users."
      ]
     },
     "metadata": {},
     "output_type": "display_data"
    },
    {
     "data": {
      "text/html": [
       "<pre>Finished training in 2.03987s</pre>"
      ],
      "text/plain": [
       "Finished training in 2.03987s"
      ]
     },
     "metadata": {},
     "output_type": "display_data"
    },
    {
     "data": {
      "text/html": [
       "<pre>recommendations finished on 1000/9672 queries. users per second: 16571.9</pre>"
      ],
      "text/plain": [
       "recommendations finished on 1000/9672 queries. users per second: 16571.9"
      ]
     },
     "metadata": {},
     "output_type": "display_data"
    },
    {
     "data": {
      "text/html": [
       "<pre>recommendations finished on 2000/9672 queries. users per second: 16291.3</pre>"
      ],
      "text/plain": [
       "recommendations finished on 2000/9672 queries. users per second: 16291.3"
      ]
     },
     "metadata": {},
     "output_type": "display_data"
    },
    {
     "data": {
      "text/html": [
       "<pre>recommendations finished on 3000/9672 queries. users per second: 15917.4</pre>"
      ],
      "text/plain": [
       "recommendations finished on 3000/9672 queries. users per second: 15917.4"
      ]
     },
     "metadata": {},
     "output_type": "display_data"
    },
    {
     "data": {
      "text/html": [
       "<pre>recommendations finished on 4000/9672 queries. users per second: 15832.4</pre>"
      ],
      "text/plain": [
       "recommendations finished on 4000/9672 queries. users per second: 15832.4"
      ]
     },
     "metadata": {},
     "output_type": "display_data"
    },
    {
     "data": {
      "text/html": [
       "<pre>recommendations finished on 5000/9672 queries. users per second: 15517</pre>"
      ],
      "text/plain": [
       "recommendations finished on 5000/9672 queries. users per second: 15517"
      ]
     },
     "metadata": {},
     "output_type": "display_data"
    },
    {
     "data": {
      "text/html": [
       "<pre>recommendations finished on 6000/9672 queries. users per second: 15390.8</pre>"
      ],
      "text/plain": [
       "recommendations finished on 6000/9672 queries. users per second: 15390.8"
      ]
     },
     "metadata": {},
     "output_type": "display_data"
    },
    {
     "data": {
      "text/html": [
       "<pre>recommendations finished on 7000/9672 queries. users per second: 15457.1</pre>"
      ],
      "text/plain": [
       "recommendations finished on 7000/9672 queries. users per second: 15457.1"
      ]
     },
     "metadata": {},
     "output_type": "display_data"
    },
    {
     "data": {
      "text/html": [
       "<pre>recommendations finished on 8000/9672 queries. users per second: 14892.3</pre>"
      ],
      "text/plain": [
       "recommendations finished on 8000/9672 queries. users per second: 14892.3"
      ]
     },
     "metadata": {},
     "output_type": "display_data"
    },
    {
     "data": {
      "text/html": [
       "<pre>recommendations finished on 9000/9672 queries. users per second: 14910.4</pre>"
      ],
      "text/plain": [
       "recommendations finished on 9000/9672 queries. users per second: 14910.4"
      ]
     },
     "metadata": {},
     "output_type": "display_data"
    },
    {
     "name": "stdout",
     "output_type": "stream",
     "text": [
      "\n",
      "Precision and recall summary statistics by cutoff\n",
      "+--------+---------------------+----------------------+\n",
      "| cutoff |    mean_precision   |     mean_recall      |\n",
      "+--------+---------------------+----------------------+\n",
      "|   1    |  0.4684656741108354 | 0.043778831190870005 |\n",
      "|   2    |  0.4601426799007443 | 0.08629817301351321  |\n",
      "|   3    | 0.44134270747173965 |  0.1236471115980389  |\n",
      "|   4    |  0.420414598842018  | 0.15584443474009693  |\n",
      "|   5    |  0.3977253928866831 | 0.18291773995843255  |\n",
      "|   6    | 0.37593052109181146 | 0.20563501475478602  |\n",
      "|   7    | 0.35575446059317023 | 0.22538418847896527  |\n",
      "|   8    | 0.33576302729528595 | 0.24131616788622293  |\n",
      "|   9    | 0.31775572098152727 | 0.25534028276354864  |\n",
      "|   10   |  0.3016439205955332 |  0.2677092890064034  |\n",
      "+--------+---------------------+----------------------+\n",
      "[10 rows x 3 columns]\n",
      "\n",
      "\n",
      "Overall RMSE: 1.040400914483112\n",
      "\n",
      "Per User RMSE (best)\n",
      "+-----------+--------------------+-------+\n",
      "|  user_id  |        rmse        | count |\n",
      "+-----------+--------------------+-------+\n",
      "| 551676410 | 0.1428571428571429 |   7   |\n",
      "+-----------+--------------------+-------+\n",
      "[1 rows x 3 columns]\n",
      "\n",
      "\n",
      "Per User RMSE (worst)\n",
      "+-----------+-------------------+-------+\n",
      "|  user_id  |        rmse       | count |\n",
      "+-----------+-------------------+-------+\n",
      "| 475568506 | 3.080415398317829 |   11  |\n",
      "+-----------+-------------------+-------+\n",
      "[1 rows x 3 columns]\n",
      "\n",
      "\n",
      "Per Item RMSE (best)\n",
      "+------------+-------+-------+\n",
      "| product_id |  rmse | count |\n",
      "+------------+-------+-------+\n",
      "|  5820395   | 0.125 |   1   |\n",
      "+------------+-------+-------+\n",
      "[1 rows x 3 columns]\n",
      "\n",
      "\n",
      "Per Item RMSE (worst)\n",
      "+------------+-------------------+-------+\n",
      "| product_id |        rmse       | count |\n",
      "+------------+-------------------+-------+\n",
      "|  5805502   | 2.945950342549218 |   1   |\n",
      "+------------+-------------------+-------+\n",
      "[1 rows x 3 columns]\n",
      "\n",
      "PROGRESS: Evaluate model m1\n",
      "\n",
      "Overall RMSE: 1.0628041556831478\n",
      "\n",
      "Per User RMSE (best)\n",
      "+-----------+--------------------+-------+\n",
      "|  user_id  |        rmse        | count |\n",
      "+-----------+--------------------+-------+\n",
      "| 574078264 | 0.8343258040334939 |   2   |\n",
      "+-----------+--------------------+-------+\n",
      "[1 rows x 3 columns]\n",
      "\n",
      "\n",
      "Per User RMSE (worst)\n",
      "+-----------+------+-------+\n",
      "|  user_id  | rmse | count |\n",
      "+-----------+------+-------+\n",
      "| 475568506 | 6.0  |   1   |\n",
      "+-----------+------+-------+\n",
      "[1 rows x 3 columns]\n",
      "\n",
      "\n",
      "Per Item RMSE (best)\n",
      "+------------+--------------------+-------+\n",
      "| product_id |        rmse        | count |\n",
      "+------------+--------------------+-------+\n",
      "|  5882574   | 0.7964285697255815 |   1   |\n",
      "+------------+--------------------+-------+\n",
      "[1 rows x 3 columns]\n",
      "\n",
      "\n",
      "Per Item RMSE (worst)\n",
      "+------------+------+-------+\n",
      "| product_id | rmse | count |\n",
      "+------------+------+-------+\n",
      "|  5739900   | 3.0  |   1   |\n",
      "+------------+------+-------+\n",
      "[1 rows x 3 columns]\n",
      "\n"
     ]
    },
    {
     "data": {
      "text/html": [
       "<pre>recommendations finished on 1000/9672 queries. users per second: 21232.8</pre>"
      ],
      "text/plain": [
       "recommendations finished on 1000/9672 queries. users per second: 21232.8"
      ]
     },
     "metadata": {},
     "output_type": "display_data"
    },
    {
     "data": {
      "text/html": [
       "<pre>recommendations finished on 2000/9672 queries. users per second: 21262.6</pre>"
      ],
      "text/plain": [
       "recommendations finished on 2000/9672 queries. users per second: 21262.6"
      ]
     },
     "metadata": {},
     "output_type": "display_data"
    },
    {
     "data": {
      "text/html": [
       "<pre>recommendations finished on 3000/9672 queries. users per second: 19763.5</pre>"
      ],
      "text/plain": [
       "recommendations finished on 3000/9672 queries. users per second: 19763.5"
      ]
     },
     "metadata": {},
     "output_type": "display_data"
    },
    {
     "data": {
      "text/html": [
       "<pre>recommendations finished on 4000/9672 queries. users per second: 18924.8</pre>"
      ],
      "text/plain": [
       "recommendations finished on 4000/9672 queries. users per second: 18924.8"
      ]
     },
     "metadata": {},
     "output_type": "display_data"
    },
    {
     "data": {
      "text/html": [
       "<pre>recommendations finished on 5000/9672 queries. users per second: 18605</pre>"
      ],
      "text/plain": [
       "recommendations finished on 5000/9672 queries. users per second: 18605"
      ]
     },
     "metadata": {},
     "output_type": "display_data"
    },
    {
     "data": {
      "text/html": [
       "<pre>recommendations finished on 6000/9672 queries. users per second: 18617.5</pre>"
      ],
      "text/plain": [
       "recommendations finished on 6000/9672 queries. users per second: 18617.5"
      ]
     },
     "metadata": {},
     "output_type": "display_data"
    },
    {
     "data": {
      "text/html": [
       "<pre>recommendations finished on 7000/9672 queries. users per second: 18621.8</pre>"
      ],
      "text/plain": [
       "recommendations finished on 7000/9672 queries. users per second: 18621.8"
      ]
     },
     "metadata": {},
     "output_type": "display_data"
    },
    {
     "data": {
      "text/html": [
       "<pre>recommendations finished on 8000/9672 queries. users per second: 18464.4</pre>"
      ],
      "text/plain": [
       "recommendations finished on 8000/9672 queries. users per second: 18464.4"
      ]
     },
     "metadata": {},
     "output_type": "display_data"
    },
    {
     "data": {
      "text/html": [
       "<pre>recommendations finished on 9000/9672 queries. users per second: 18475.3</pre>"
      ],
      "text/plain": [
       "recommendations finished on 9000/9672 queries. users per second: 18475.3"
      ]
     },
     "metadata": {},
     "output_type": "display_data"
    }
   ],
   "source": [
    "JaccardCF_s, JaccardCF_train, JaccardCF_val = test_s_vals('jaccard')"
   ]
  },
  {
   "cell_type": "code",
   "execution_count": 53,
   "metadata": {},
   "outputs": [
    {
     "data": {
      "image/png": "[encoded data removed]",
      "text/plain": [
       "<Figure size 432x288 with 1 Axes>"
      ]
     },
     "metadata": {
      "needs_background": "light"
     },
     "output_type": "display_data"
    }
   ],
   "source": [
    "plt.plot(JaccardCF_s,JaccardCF_train, color= 'r' ,label='train rmse' )\n",
    "plt.plot(JaccardCF_s,JaccardCF_val, color= 'b',label='validation rmse' )\n",
    "plt.xlabel('S')\n",
    "plt.ylabel('RMSE')\n",
    "plt.title('Jaccard Similarity: rmse vs S')\n",
    "plt.legend()\n",
    "plt.show()"
   ]
  },
  {
   "cell_type": "code",
   "execution_count": 54,
   "metadata": {},
   "outputs": [
    {
     "data": {
      "text/html": [
       "<pre>Preparing data set.</pre>"
      ],
      "text/plain": [
       "Preparing data set."
      ]
     },
     "metadata": {},
     "output_type": "display_data"
    },
    {
     "data": {
      "text/html": [
       "<pre>    Data has 144830 observations with 9672 users and 15079 items.</pre>"
      ],
      "text/plain": [
       "    Data has 144830 observations with 9672 users and 15079 items."
      ]
     },
     "metadata": {},
     "output_type": "display_data"
    },
    {
     "data": {
      "text/html": [
       "<pre>    Data prepared in: 0.118664s</pre>"
      ],
      "text/plain": [
       "    Data prepared in: 0.118664s"
      ]
     },
     "metadata": {},
     "output_type": "display_data"
    },
    {
     "data": {
      "text/html": [
       "<pre>Training model from provided data.</pre>"
      ],
      "text/plain": [
       "Training model from provided data."
      ]
     },
     "metadata": {},
     "output_type": "display_data"
    },
    {
     "data": {
      "text/html": [
       "<pre>Gathering per-item and per-user statistics.</pre>"
      ],
      "text/plain": [
       "Gathering per-item and per-user statistics."
      ]
     },
     "metadata": {},
     "output_type": "display_data"
    },
    {
     "data": {
      "text/html": [
       "<pre>+--------------------------------+------------+</pre>"
      ],
      "text/plain": [
       "+--------------------------------+------------+"
      ]
     },
     "metadata": {},
     "output_type": "display_data"
    },
    {
     "data": {
      "text/html": [
       "<pre>| Elapsed Time (Item Statistics) | % Complete |</pre>"
      ],
      "text/plain": [
       "| Elapsed Time (Item Statistics) | % Complete |"
      ]
     },
     "metadata": {},
     "output_type": "display_data"
    },
    {
     "data": {
      "text/html": [
       "<pre>+--------------------------------+------------+</pre>"
      ],
      "text/plain": [
       "+--------------------------------+------------+"
      ]
     },
     "metadata": {},
     "output_type": "display_data"
    },
    {
     "data": {
      "text/html": [
       "<pre>| 1.069ms                        | 10.25      |</pre>"
      ],
      "text/plain": [
       "| 1.069ms                        | 10.25      |"
      ]
     },
     "metadata": {},
     "output_type": "display_data"
    },
    {
     "data": {
      "text/html": [
       "<pre>| 3.488ms                        | 100        |</pre>"
      ],
      "text/plain": [
       "| 3.488ms                        | 100        |"
      ]
     },
     "metadata": {},
     "output_type": "display_data"
    },
    {
     "data": {
      "text/html": [
       "<pre>+--------------------------------+------------+</pre>"
      ],
      "text/plain": [
       "+--------------------------------+------------+"
      ]
     },
     "metadata": {},
     "output_type": "display_data"
    },
    {
     "data": {
      "text/html": [
       "<pre>Setting up lookup tables.</pre>"
      ],
      "text/plain": [
       "Setting up lookup tables."
      ]
     },
     "metadata": {},
     "output_type": "display_data"
    },
    {
     "data": {
      "text/html": [
       "<pre>Processing data in one pass using dense lookup tables.</pre>"
      ],
      "text/plain": [
       "Processing data in one pass using dense lookup tables."
      ]
     },
     "metadata": {},
     "output_type": "display_data"
    },
    {
     "data": {
      "text/html": [
       "<pre>+-------------------------------------+------------------+-----------------+</pre>"
      ],
      "text/plain": [
       "+-------------------------------------+------------------+-----------------+"
      ]
     },
     "metadata": {},
     "output_type": "display_data"
    },
    {
     "data": {
      "text/html": [
       "<pre>| Elapsed Time (Constructing Lookups) | Total % Complete | Items Processed |</pre>"
      ],
      "text/plain": [
       "| Elapsed Time (Constructing Lookups) | Total % Complete | Items Processed |"
      ]
     },
     "metadata": {},
     "output_type": "display_data"
    },
    {
     "data": {
      "text/html": [
       "<pre>+-------------------------------------+------------------+-----------------+</pre>"
      ],
      "text/plain": [
       "+-------------------------------------+------------------+-----------------+"
      ]
     },
     "metadata": {},
     "output_type": "display_data"
    },
    {
     "data": {
      "text/html": [
       "<pre>| 1.07s                               | 0                | 0               |</pre>"
      ],
      "text/plain": [
       "| 1.07s                               | 0                | 0               |"
      ]
     },
     "metadata": {},
     "output_type": "display_data"
    },
    {
     "data": {
      "text/html": [
       "<pre>| 1.98s                               | 100              | 15079           |</pre>"
      ],
      "text/plain": [
       "| 1.98s                               | 100              | 15079           |"
      ]
     },
     "metadata": {},
     "output_type": "display_data"
    },
    {
     "data": {
      "text/html": [
       "<pre>+-------------------------------------+------------------+-----------------+</pre>"
      ],
      "text/plain": [
       "+-------------------------------------+------------------+-----------------+"
      ]
     },
     "metadata": {},
     "output_type": "display_data"
    },
    {
     "data": {
      "text/html": [
       "<pre>Finalizing lookup tables.</pre>"
      ],
      "text/plain": [
       "Finalizing lookup tables."
      ]
     },
     "metadata": {},
     "output_type": "display_data"
    },
    {
     "data": {
      "text/html": [
       "<pre>Generating candidate set for working with new users.</pre>"
      ],
      "text/plain": [
       "Generating candidate set for working with new users."
      ]
     },
     "metadata": {},
     "output_type": "display_data"
    }
   ],
   "source": [
    "JaccardCF_model = tc.item_similarity_recommender.create(train_data,similarity_type='jaccard',user_id=user_id, item_id=item_id,target = target,only_top_k=10)"
   ]
  },
  {
   "cell_type": "code",
   "execution_count": 55,
   "metadata": {},
   "outputs": [
    {
     "data": {
      "text/html": [
       "<pre>Finished training in 1.99651s</pre>"
      ],
      "text/plain": [
       "Finished training in 1.99651s"
      ]
     },
     "metadata": {},
     "output_type": "display_data"
    },
    {
     "data": {
      "text/html": [
       "<pre>recommendations finished on 1000/9255 queries. users per second: 12839.4</pre>"
      ],
      "text/plain": [
       "recommendations finished on 1000/9255 queries. users per second: 12839.4"
      ]
     },
     "metadata": {},
     "output_type": "display_data"
    },
    {
     "data": {
      "text/html": [
       "<pre>recommendations finished on 2000/9255 queries. users per second: 13385.1</pre>"
      ],
      "text/plain": [
       "recommendations finished on 2000/9255 queries. users per second: 13385.1"
      ]
     },
     "metadata": {},
     "output_type": "display_data"
    },
    {
     "data": {
      "text/html": [
       "<pre>recommendations finished on 3000/9255 queries. users per second: 12816.5</pre>"
      ],
      "text/plain": [
       "recommendations finished on 3000/9255 queries. users per second: 12816.5"
      ]
     },
     "metadata": {},
     "output_type": "display_data"
    },
    {
     "data": {
      "text/html": [
       "<pre>recommendations finished on 4000/9255 queries. users per second: 12750.3</pre>"
      ],
      "text/plain": [
       "recommendations finished on 4000/9255 queries. users per second: 12750.3"
      ]
     },
     "metadata": {},
     "output_type": "display_data"
    },
    {
     "data": {
      "text/html": [
       "<pre>recommendations finished on 5000/9255 queries. users per second: 12536.5</pre>"
      ],
      "text/plain": [
       "recommendations finished on 5000/9255 queries. users per second: 12536.5"
      ]
     },
     "metadata": {},
     "output_type": "display_data"
    },
    {
     "data": {
      "text/html": [
       "<pre>recommendations finished on 6000/9255 queries. users per second: 12508.7</pre>"
      ],
      "text/plain": [
       "recommendations finished on 6000/9255 queries. users per second: 12508.7"
      ]
     },
     "metadata": {},
     "output_type": "display_data"
    },
    {
     "data": {
      "text/html": [
       "<pre>recommendations finished on 7000/9255 queries. users per second: 12296.4</pre>"
      ],
      "text/plain": [
       "recommendations finished on 7000/9255 queries. users per second: 12296.4"
      ]
     },
     "metadata": {},
     "output_type": "display_data"
    },
    {
     "data": {
      "text/html": [
       "<pre>recommendations finished on 8000/9255 queries. users per second: 12463.2</pre>"
      ],
      "text/plain": [
       "recommendations finished on 8000/9255 queries. users per second: 12463.2"
      ]
     },
     "metadata": {},
     "output_type": "display_data"
    },
    {
     "data": {
      "text/html": [
       "<pre>recommendations finished on 9000/9255 queries. users per second: 12422.2</pre>"
      ],
      "text/plain": [
       "recommendations finished on 9000/9255 queries. users per second: 12422.2"
      ]
     },
     "metadata": {},
     "output_type": "display_data"
    }
   ],
   "source": [
    "JaccardCF_evaluation = JaccardCF_model.evaluate_precision_recall(test,cutoffs = list(range(1, 11)))"
   ]
  },
  {
   "cell_type": "code",
   "execution_count": 56,
   "metadata": {},
   "outputs": [],
   "source": [
    "col_names =  ['cutoff', 'precision', 'recall'] \n",
    "JaccardCF_results  = pd.DataFrame(columns = col_names)\n",
    "JaccardCF_results['cutoff'] = np.array(JaccardCF_evaluation['precision_recall_overall']['cutoff'])\n",
    "JaccardCF_results['precision'] = np.array(JaccardCF_evaluation['precision_recall_overall']['precision'])\n",
    "JaccardCF_results['recall'] = np.array(JaccardCF_evaluation['precision_recall_overall']['recall'])"
   ]
  },
  {
   "cell_type": "code",
   "execution_count": 57,
   "metadata": {},
   "outputs": [
    {
     "data": {
      "image/png": "[encoded data removed]",
      "text/plain": [
       "<Figure size 432x288 with 1 Axes>"
      ]
     },
     "metadata": {
      "needs_background": "light"
     },
     "output_type": "display_data"
    }
   ],
   "source": [
    "plt.plot(JaccardCF_results['cutoff'],JaccardCF_results['precision'] )\n",
    "plt.title('precision_at_cutoff_k - Item Based CF(Jaccard similarity, S=15)')\n",
    "plt.xlabel('k')\n",
    "plt.ylabel('precision_at_cutoff_k')\n",
    "plt.show()"
   ]
  },
  {
   "cell_type": "markdown",
   "metadata": {},
   "source": [
    "# Matrix Factorization iALS\n",
    "\n"
   ]
  },
  {
   "cell_type": "code",
   "execution_count": 58,
   "metadata": {},
   "outputs": [],
   "source": [
    "\n",
    "user_id = 'user_id'\n",
    "item_id = 'product_id'\n",
    "target = 'purchase_count'"
   ]
  },
  {
   "cell_type": "code",
   "execution_count": 59,
   "metadata": {},
   "outputs": [],
   "source": [
    "\n",
    "num_features = np.arange(10,200,20)\n",
    "def test_k_vals():\n",
    "    k_list = []\n",
    "    train = []\n",
    "    val = []\n",
    "    for loc, k in enumerate(num_features):\n",
    "        model = tc.ranking_factorization_recommender.create(train_val,item_id = item_id, target = target,\\\n",
    "                                                                   user_id = user_id, binary_target = False,\\\n",
    "                                                                   solver = 'ials', num_factors = k)\n",
    "        rmse_train = tc.recommender.util.compare_models(train_val, [model],exclude_known_for_precision_recall=False)\n",
    "        rmse_train = rmse_train[0]['rmse_overall']\n",
    "        k_list.append(k)\n",
    "        train.append(rmse_train)\n",
    "        rmse_val = tc.recommender.util.compare_models(validation, [model], model_names=[\"m1\"], metric='rmse')\n",
    "        rmse_val = rmse_val[0]['rmse_overall']\n",
    "        val.append(rmse_val)\n",
    "    return k_list,train,val"
   ]
  },
  {
   "cell_type": "code",
   "execution_count": null,
   "metadata": {},
   "outputs": [
    {
     "data": {
      "text/html": [
       "<pre>Preparing data set.</pre>"
      ],
      "text/plain": [
       "Preparing data set."
      ]
     },
     "metadata": {},
     "output_type": "display_data"
    },
    {
     "data": {
      "text/html": [
       "<pre>    Data has 108626 observations with 9672 users and 14105 items.</pre>"
      ],
      "text/plain": [
       "    Data has 108626 observations with 9672 users and 14105 items."
      ]
     },
     "metadata": {},
     "output_type": "display_data"
    },
    {
     "data": {
      "text/html": [
       "<pre>    Data prepared in: 0.096328s</pre>"
      ],
      "text/plain": [
       "    Data prepared in: 0.096328s"
      ]
     },
     "metadata": {},
     "output_type": "display_data"
    },
    {
     "data": {
      "text/html": [
       "<pre>Training ranking_factorization_recommender for recommendations.</pre>"
      ],
      "text/plain": [
       "Training ranking_factorization_recommender for recommendations."
      ]
     },
     "metadata": {},
     "output_type": "display_data"
    },
    {
     "data": {
      "text/html": [
       "<pre>+------------------------------+--------------------------------------------------+----------+</pre>"
      ],
      "text/plain": [
       "+------------------------------+--------------------------------------------------+----------+"
      ]
     },
     "metadata": {},
     "output_type": "display_data"
    },
    {
     "data": {
      "text/html": [
       "<pre>| Parameter                    | Description                                      | Value    |</pre>"
      ],
      "text/plain": [
       "| Parameter                    | Description                                      | Value    |"
      ]
     },
     "metadata": {},
     "output_type": "display_data"
    },
    {
     "data": {
      "text/html": [
       "<pre>+------------------------------+--------------------------------------------------+----------+</pre>"
      ],
      "text/plain": [
       "+------------------------------+--------------------------------------------------+----------+"
      ]
     },
     "metadata": {},
     "output_type": "display_data"
    },
    {
     "data": {
      "text/html": [
       "<pre>| num_factors                  | Factor Dimension                                 | 10       |</pre>"
      ],
      "text/plain": [
       "| num_factors                  | Factor Dimension                                 | 10       |"
      ]
     },
     "metadata": {},
     "output_type": "display_data"
    },
    {
     "data": {
      "text/html": [
       "<pre>| regularization               | L2 Regularization on Factors                     | 1e-09    |</pre>"
      ],
      "text/plain": [
       "| regularization               | L2 Regularization on Factors                     | 1e-09    |"
      ]
     },
     "metadata": {},
     "output_type": "display_data"
    },
    {
     "data": {
      "text/html": [
       "<pre>| max_iterations               | Maximum Number of Iterations                     | 25       |</pre>"
      ],
      "text/plain": [
       "| max_iterations               | Maximum Number of Iterations                     | 25       |"
      ]
     },
     "metadata": {},
     "output_type": "display_data"
    },
    {
     "data": {
      "text/html": [
       "<pre>| solver                       | Solver used for training                         | ials     |</pre>"
      ],
      "text/plain": [
       "| solver                       | Solver used for training                         | ials     |"
      ]
     },
     "metadata": {},
     "output_type": "display_data"
    },
    {
     "data": {
      "text/html": [
       "<pre>+------------------------------+--------------------------------------------------+----------+</pre>"
      ],
      "text/plain": [
       "+------------------------------+--------------------------------------------------+----------+"
      ]
     },
     "metadata": {},
     "output_type": "display_data"
    },
    {
     "data": {
      "text/html": [
       "<pre>+---------+--------------+---------------------------+</pre>"
      ],
      "text/plain": [
       "+---------+--------------+---------------------------+"
      ]
     },
     "metadata": {},
     "output_type": "display_data"
    },
    {
     "data": {
      "text/html": [
       "<pre>| Iter.   | Elapsed time | Estimated Objective Value |</pre>"
      ],
      "text/plain": [
       "| Iter.   | Elapsed time | Estimated Objective Value |"
      ]
     },
     "metadata": {},
     "output_type": "display_data"
    },
    {
     "data": {
      "text/html": [
       "<pre>+---------+--------------+---------------------------+</pre>"
      ],
      "text/plain": [
       "+---------+--------------+---------------------------+"
      ]
     },
     "metadata": {},
     "output_type": "display_data"
    },
    {
     "data": {
      "text/html": [
       "<pre>| Initial | 80us         | NA                        |</pre>"
      ],
      "text/plain": [
       "| Initial | 80us         | NA                        |"
      ]
     },
     "metadata": {},
     "output_type": "display_data"
    },
    {
     "data": {
      "text/html": [
       "<pre>+---------+--------------+---------------------------+</pre>"
      ],
      "text/plain": [
       "+---------+--------------+---------------------------+"
      ]
     },
     "metadata": {},
     "output_type": "display_data"
    },
    {
     "data": {
      "text/html": [
       "<pre>| 0       | 91.74ms      | 1.04918                   |</pre>"
      ],
      "text/plain": [
       "| 0       | 91.74ms      | 1.04918                   |"
      ]
     },
     "metadata": {},
     "output_type": "display_data"
    },
    {
     "data": {
      "text/html": [
       "<pre>| 1       | 145.843ms    | 1.0182                    |</pre>"
      ],
      "text/plain": [
       "| 1       | 145.843ms    | 1.0182                    |"
      ]
     },
     "metadata": {},
     "output_type": "display_data"
    },
    {
     "data": {
      "text/html": [
       "<pre>| 2       | 210.279ms    | 1.01149                   |</pre>"
      ],
      "text/plain": [
       "| 2       | 210.279ms    | 1.01149                   |"
      ]
     },
     "metadata": {},
     "output_type": "display_data"
    },
    {
     "data": {
      "text/html": [
       "<pre>| 3       | 266.088ms    | 1.00931                   |</pre>"
      ],
      "text/plain": [
       "| 3       | 266.088ms    | 1.00931                   |"
      ]
     },
     "metadata": {},
     "output_type": "display_data"
    },
    {
     "data": {
      "text/html": [
       "<pre>| 4       | 331.715ms    | 1.00824                   |</pre>"
      ],
      "text/plain": [
       "| 4       | 331.715ms    | 1.00824                   |"
      ]
     },
     "metadata": {},
     "output_type": "display_data"
    },
    {
     "data": {
      "text/html": [
       "<pre>| 5       | 392.68ms     | 1.00761                   |</pre>"
      ],
      "text/plain": [
       "| 5       | 392.68ms     | 1.00761                   |"
      ]
     },
     "metadata": {},
     "output_type": "display_data"
    },
    {
     "data": {
      "text/html": [
       "<pre>| 6       | 447.754ms    | 1.00723                   |</pre>"
      ],
      "text/plain": [
       "| 6       | 447.754ms    | 1.00723                   |"
      ]
     },
     "metadata": {},
     "output_type": "display_data"
    },
    {
     "data": {
      "text/html": [
       "<pre>| 7       | 507.136ms    | 1.00699                   |</pre>"
      ],
      "text/plain": [
       "| 7       | 507.136ms    | 1.00699                   |"
      ]
     },
     "metadata": {},
     "output_type": "display_data"
    },
    {
     "data": {
      "text/html": [
       "<pre>| 8       | 572.782ms    | 1.00683                   |</pre>"
      ],
      "text/plain": [
       "| 8       | 572.782ms    | 1.00683                   |"
      ]
     },
     "metadata": {},
     "output_type": "display_data"
    },
    {
     "data": {
      "text/html": [
       "<pre>| 9       | 638.152ms    | 1.00672                   |</pre>"
      ],
      "text/plain": [
       "| 9       | 638.152ms    | 1.00672                   |"
      ]
     },
     "metadata": {},
     "output_type": "display_data"
    },
    {
     "data": {
      "text/html": [
       "<pre>| 10      | 719.545ms    | 1.00663                   |</pre>"
      ],
      "text/plain": [
       "| 10      | 719.545ms    | 1.00663                   |"
      ]
     },
     "metadata": {},
     "output_type": "display_data"
    },
    {
     "data": {
      "text/html": [
       "<pre>| 11      | 782.804ms    | 1.00657                   |</pre>"
      ],
      "text/plain": [
       "| 11      | 782.804ms    | 1.00657                   |"
      ]
     },
     "metadata": {},
     "output_type": "display_data"
    },
    {
     "data": {
      "text/html": [
       "<pre>| 12      | 853.416ms    | 1.00653                   |</pre>"
      ],
      "text/plain": [
       "| 12      | 853.416ms    | 1.00653                   |"
      ]
     },
     "metadata": {},
     "output_type": "display_data"
    },
    {
     "data": {
      "text/html": [
       "<pre>| 13      | 916.231ms    | 1.00649                   |</pre>"
      ],
      "text/plain": [
       "| 13      | 916.231ms    | 1.00649                   |"
      ]
     },
     "metadata": {},
     "output_type": "display_data"
    },
    {
     "data": {
      "text/html": [
       "<pre>| 14      | 976.689ms    | 1.00646                   |</pre>"
      ],
      "text/plain": [
       "| 14      | 976.689ms    | 1.00646                   |"
      ]
     },
     "metadata": {},
     "output_type": "display_data"
    },
    {
     "data": {
      "text/html": [
       "<pre>| 15      | 1.03s        | 1.00644                   |</pre>"
      ],
      "text/plain": [
       "| 15      | 1.03s        | 1.00644                   |"
      ]
     },
     "metadata": {},
     "output_type": "display_data"
    },
    {
     "data": {
      "text/html": [
       "<pre>| 16      | 1.09s        | 1.00642                   |</pre>"
      ],
      "text/plain": [
       "| 16      | 1.09s        | 1.00642                   |"
      ]
     },
     "metadata": {},
     "output_type": "display_data"
    },
    {
     "data": {
      "text/html": [
       "<pre>| 17      | 1.17s        | 1.0064                    |</pre>"
      ],
      "text/plain": [
       "| 17      | 1.17s        | 1.0064                    |"
      ]
     },
     "metadata": {},
     "output_type": "display_data"
    },
    {
     "data": {
      "text/html": [
       "<pre>| 18      | 1.24s        | 1.00638                   |</pre>"
      ],
      "text/plain": [
       "| 18      | 1.24s        | 1.00638                   |"
      ]
     },
     "metadata": {},
     "output_type": "display_data"
    },
    {
     "data": {
      "text/html": [
       "<pre>| 19      | 1.32s        | 1.00637                   |</pre>"
      ],
      "text/plain": [
       "| 19      | 1.32s        | 1.00637                   |"
      ]
     },
     "metadata": {},
     "output_type": "display_data"
    },
    {
     "data": {
      "text/html": [
       "<pre>| 20      | 1.39s        | 1.00636                   |</pre>"
      ],
      "text/plain": [
       "| 20      | 1.39s        | 1.00636                   |"
      ]
     },
     "metadata": {},
     "output_type": "display_data"
    },
    {
     "data": {
      "text/html": [
       "<pre>| 21      | 1.45s        | 1.00635                   |</pre>"
      ],
      "text/plain": [
       "| 21      | 1.45s        | 1.00635                   |"
      ]
     },
     "metadata": {},
     "output_type": "display_data"
    },
    {
     "data": {
      "text/html": [
       "<pre>| 22      | 1.51s        | 1.00634                   |</pre>"
      ],
      "text/plain": [
       "| 22      | 1.51s        | 1.00634                   |"
      ]
     },
     "metadata": {},
     "output_type": "display_data"
    },
    {
     "data": {
      "text/html": [
       "<pre>| 23      | 1.57s        | 1.00633                   |</pre>"
      ],
      "text/plain": [
       "| 23      | 1.57s        | 1.00633                   |"
      ]
     },
     "metadata": {},
     "output_type": "display_data"
    },
    {
     "data": {
      "text/html": [
       "<pre>| 24      | 1.63s        | 1.00632                   |</pre>"
      ],
      "text/plain": [
       "| 24      | 1.63s        | 1.00632                   |"
      ]
     },
     "metadata": {},
     "output_type": "display_data"
    },
    {
     "data": {
      "text/html": [
       "<pre>| FINAL   | 1.68s        | 1.00632                   |</pre>"
      ],
      "text/plain": [
       "| FINAL   | 1.68s        | 1.00632                   |"
      ]
     },
     "metadata": {},
     "output_type": "display_data"
    },
    {
     "data": {
      "text/html": [
       "<pre>+---------+--------------+---------------------------+</pre>"
      ],
      "text/plain": [
       "+---------+--------------+---------------------------+"
      ]
     },
     "metadata": {},
     "output_type": "display_data"
    },
    {
     "data": {
      "text/html": [
       "<pre>Optimization Complete: Iteration limit reached.</pre>"
      ],
      "text/plain": [
       "Optimization Complete: Iteration limit reached."
      ]
     },
     "metadata": {},
     "output_type": "display_data"
    },
    {
     "name": "stdout",
     "output_type": "stream",
     "text": [
      "PROGRESS: Evaluate model M0\n"
     ]
    },
    {
     "data": {
      "text/html": [
       "<pre>recommendations finished on 1000/9672 queries. users per second: 10142</pre>"
      ],
      "text/plain": [
       "recommendations finished on 1000/9672 queries. users per second: 10142"
      ]
     },
     "metadata": {},
     "output_type": "display_data"
    },
    {
     "data": {
      "text/html": [
       "<pre>recommendations finished on 2000/9672 queries. users per second: 8383.85</pre>"
      ],
      "text/plain": [
       "recommendations finished on 2000/9672 queries. users per second: 8383.85"
      ]
     },
     "metadata": {},
     "output_type": "display_data"
    },
    {
     "data": {
      "text/html": [
       "<pre>recommendations finished on 3000/9672 queries. users per second: 7975.05</pre>"
      ],
      "text/plain": [
       "recommendations finished on 3000/9672 queries. users per second: 7975.05"
      ]
     },
     "metadata": {},
     "output_type": "display_data"
    },
    {
     "data": {
      "text/html": [
       "<pre>recommendations finished on 4000/9672 queries. users per second: 7887.18</pre>"
      ],
      "text/plain": [
       "recommendations finished on 4000/9672 queries. users per second: 7887.18"
      ]
     },
     "metadata": {},
     "output_type": "display_data"
    },
    {
     "data": {
      "text/html": [
       "<pre>recommendations finished on 5000/9672 queries. users per second: 7973.87</pre>"
      ],
      "text/plain": [
       "recommendations finished on 5000/9672 queries. users per second: 7973.87"
      ]
     },
     "metadata": {},
     "output_type": "display_data"
    },
    {
     "data": {
      "text/html": [
       "<pre>recommendations finished on 6000/9672 queries. users per second: 8092.28</pre>"
      ],
      "text/plain": [
       "recommendations finished on 6000/9672 queries. users per second: 8092.28"
      ]
     },
     "metadata": {},
     "output_type": "display_data"
    },
    {
     "data": {
      "text/html": [
       "<pre>recommendations finished on 7000/9672 queries. users per second: 8172.87</pre>"
      ],
      "text/plain": [
       "recommendations finished on 7000/9672 queries. users per second: 8172.87"
      ]
     },
     "metadata": {},
     "output_type": "display_data"
    },
    {
     "data": {
      "text/html": [
       "<pre>recommendations finished on 8000/9672 queries. users per second: 7862.93</pre>"
      ],
      "text/plain": [
       "recommendations finished on 8000/9672 queries. users per second: 7862.93"
      ]
     },
     "metadata": {},
     "output_type": "display_data"
    },
    {
     "data": {
      "text/html": [
       "<pre>recommendations finished on 9000/9672 queries. users per second: 7776.51</pre>"
      ],
      "text/plain": [
       "recommendations finished on 9000/9672 queries. users per second: 7776.51"
      ]
     },
     "metadata": {},
     "output_type": "display_data"
    },
    {
     "name": "stdout",
     "output_type": "stream",
     "text": [
      "\n",
      "Precision and recall summary statistics by cutoff\n",
      "+--------+---------------------+---------------------+\n",
      "| cutoff |    mean_precision   |     mean_recall     |\n",
      "+--------+---------------------+---------------------+\n",
      "|   1    | 0.31627377998345785 | 0.03185969485777448 |\n",
      "|   2    | 0.25553143093465697 | 0.05120985154221867 |\n",
      "|   3    | 0.21543286462641287 | 0.06398177348380156 |\n",
      "|   4    | 0.18876654259718773 | 0.07463012666165282 |\n",
      "|   5    |  0.1695616211745244 | 0.08354490496600699 |\n",
      "|   6    | 0.15496622553074169 | 0.09150329670332732 |\n",
      "|   7    | 0.14287191303320362 | 0.09814648794613935 |\n",
      "|   8    | 0.13293527708850275 | 0.10412982746048051 |\n",
      "|   9    |  0.1250574395735685 | 0.10986609249238281 |\n",
      "|   10   | 0.11786600496277896 | 0.11469292243456024 |\n",
      "+--------+---------------------+---------------------+\n",
      "[10 rows x 3 columns]\n",
      "\n",
      "\n",
      "Overall RMSE: 1.0063234263465128\n",
      "\n",
      "Per User RMSE (best)\n",
      "+-----------+-------------------+-------+\n",
      "|  user_id  |        rmse       | count |\n",
      "+-----------+-------------------+-------+\n",
      "| 565777644 | 0.516515649082536 |   7   |\n",
      "+-----------+-------------------+-------+\n",
      "[1 rows x 3 columns]\n",
      "\n",
      "\n",
      "Per User RMSE (worst)\n",
      "+-----------+-------------------+-------+\n",
      "|  user_id  |        rmse       | count |\n",
      "+-----------+-------------------+-------+\n",
      "| 475568506 | 3.019547302823489 |   11  |\n",
      "+-----------+-------------------+-------+\n",
      "[1 rows x 3 columns]\n",
      "\n",
      "\n",
      "Per Item RMSE (best)\n",
      "+------------+---------------------+-------+\n",
      "| product_id |         rmse        | count |\n",
      "+------------+---------------------+-------+\n",
      "|  5809910   | 0.39339771938398227 |  629  |\n",
      "+------------+---------------------+-------+\n",
      "[1 rows x 3 columns]\n",
      "\n",
      "\n",
      "Per Item RMSE (worst)\n",
      "+------------+-------------------+-------+\n",
      "| product_id |        rmse       | count |\n",
      "+------------+-------------------+-------+\n",
      "|  5835153   | 2.999999857242301 |   1   |\n",
      "+------------+-------------------+-------+\n",
      "[1 rows x 3 columns]\n",
      "\n",
      "PROGRESS: Evaluate model m1\n",
      "\n",
      "Overall RMSE: 1.0366365553025294\n",
      "\n",
      "Per User RMSE (best)\n",
      "+-----------+--------------------+-------+\n",
      "|  user_id  |        rmse        | count |\n",
      "+-----------+--------------------+-------+\n",
      "| 500985011 | 0.4013823866844177 |   1   |\n",
      "+-----------+--------------------+-------+\n",
      "[1 rows x 3 columns]\n",
      "\n",
      "\n",
      "Per User RMSE (worst)\n",
      "+-----------+-------------------+-------+\n",
      "|  user_id  |        rmse       | count |\n",
      "+-----------+-------------------+-------+\n",
      "| 475568506 | 5.984587018378079 |   1   |\n",
      "+-----------+-------------------+-------+\n",
      "[1 rows x 3 columns]\n",
      "\n",
      "\n",
      "Per Item RMSE (best)\n",
      "+------------+--------------------+-------+\n",
      "| product_id |        rmse        | count |\n",
      "+------------+--------------------+-------+\n",
      "|  5833325   | 0.7899647077726336 |  116  |\n",
      "+------------+--------------------+-------+\n",
      "[1 rows x 3 columns]\n",
      "\n",
      "\n",
      "Per Item RMSE (worst)\n",
      "+------------+--------------------+-------+\n",
      "| product_id |        rmse        | count |\n",
      "+------------+--------------------+-------+\n",
      "|    6963    | 3.0028752565849572 |   1   |\n",
      "+------------+--------------------+-------+\n",
      "[1 rows x 3 columns]\n",
      "\n"
     ]
    },
    {
     "data": {
      "text/html": [
       "<pre>Preparing data set.</pre>"
      ],
      "text/plain": [
       "Preparing data set."
      ]
     },
     "metadata": {},
     "output_type": "display_data"
    },
    {
     "data": {
      "text/html": [
       "<pre>    Data has 108626 observations with 9672 users and 14105 items.</pre>"
      ],
      "text/plain": [
       "    Data has 108626 observations with 9672 users and 14105 items."
      ]
     },
     "metadata": {},
     "output_type": "display_data"
    },
    {
     "data": {
      "text/html": [
       "<pre>    Data prepared in: 0.083471s</pre>"
      ],
      "text/plain": [
       "    Data prepared in: 0.083471s"
      ]
     },
     "metadata": {},
     "output_type": "display_data"
    },
    {
     "data": {
      "text/html": [
       "<pre>Training ranking_factorization_recommender for recommendations.</pre>"
      ],
      "text/plain": [
       "Training ranking_factorization_recommender for recommendations."
      ]
     },
     "metadata": {},
     "output_type": "display_data"
    },
    {
     "data": {
      "text/html": [
       "<pre>+------------------------------+--------------------------------------------------+----------+</pre>"
      ],
      "text/plain": [
       "+------------------------------+--------------------------------------------------+----------+"
      ]
     },
     "metadata": {},
     "output_type": "display_data"
    },
    {
     "data": {
      "text/html": [
       "<pre>| Parameter                    | Description                                      | Value    |</pre>"
      ],
      "text/plain": [
       "| Parameter                    | Description                                      | Value    |"
      ]
     },
     "metadata": {},
     "output_type": "display_data"
    },
    {
     "data": {
      "text/html": [
       "<pre>+------------------------------+--------------------------------------------------+----------+</pre>"
      ],
      "text/plain": [
       "+------------------------------+--------------------------------------------------+----------+"
      ]
     },
     "metadata": {},
     "output_type": "display_data"
    },
    {
     "data": {
      "text/html": [
       "<pre>| num_factors                  | Factor Dimension                                 | 30       |</pre>"
      ],
      "text/plain": [
       "| num_factors                  | Factor Dimension                                 | 30       |"
      ]
     },
     "metadata": {},
     "output_type": "display_data"
    },
    {
     "data": {
      "text/html": [
       "<pre>| regularization               | L2 Regularization on Factors                     | 1e-09    |</pre>"
      ],
      "text/plain": [
       "| regularization               | L2 Regularization on Factors                     | 1e-09    |"
      ]
     },
     "metadata": {},
     "output_type": "display_data"
    },
    {
     "data": {
      "text/html": [
       "<pre>| max_iterations               | Maximum Number of Iterations                     | 25       |</pre>"
      ],
      "text/plain": [
       "| max_iterations               | Maximum Number of Iterations                     | 25       |"
      ]
     },
     "metadata": {},
     "output_type": "display_data"
    },
    {
     "data": {
      "text/html": [
       "<pre>| solver                       | Solver used for training                         | ials     |</pre>"
      ],
      "text/plain": [
       "| solver                       | Solver used for training                         | ials     |"
      ]
     },
     "metadata": {},
     "output_type": "display_data"
    },
    {
     "data": {
      "text/html": [
       "<pre>+------------------------------+--------------------------------------------------+----------+</pre>"
      ],
      "text/plain": [
       "+------------------------------+--------------------------------------------------+----------+"
      ]
     },
     "metadata": {},
     "output_type": "display_data"
    },
    {
     "data": {
      "text/html": [
       "<pre>+---------+--------------+---------------------------+</pre>"
      ],
      "text/plain": [
       "+---------+--------------+---------------------------+"
      ]
     },
     "metadata": {},
     "output_type": "display_data"
    },
    {
     "data": {
      "text/html": [
       "<pre>| Iter.   | Elapsed time | Estimated Objective Value |</pre>"
      ],
      "text/plain": [
       "| Iter.   | Elapsed time | Estimated Objective Value |"
      ]
     },
     "metadata": {},
     "output_type": "display_data"
    },
    {
     "data": {
      "text/html": [
       "<pre>+---------+--------------+---------------------------+</pre>"
      ],
      "text/plain": [
       "+---------+--------------+---------------------------+"
      ]
     },
     "metadata": {},
     "output_type": "display_data"
    },
    {
     "data": {
      "text/html": [
       "<pre>| Initial | 101us        | NA                        |</pre>"
      ],
      "text/plain": [
       "| Initial | 101us        | NA                        |"
      ]
     },
     "metadata": {},
     "output_type": "display_data"
    },
    {
     "data": {
      "text/html": [
       "<pre>+---------+--------------+---------------------------+</pre>"
      ],
      "text/plain": [
       "+---------+--------------+---------------------------+"
      ]
     },
     "metadata": {},
     "output_type": "display_data"
    },
    {
     "data": {
      "text/html": [
       "<pre>| 0       | 223.23ms     | 1.02269                   |</pre>"
      ],
      "text/plain": [
       "| 0       | 223.23ms     | 1.02269                   |"
      ]
     },
     "metadata": {},
     "output_type": "display_data"
    },
    {
     "data": {
      "text/html": [
       "<pre>| 1       | 434.174ms    | 0.976795                  |</pre>"
      ],
      "text/plain": [
       "| 1       | 434.174ms    | 0.976795                  |"
      ]
     },
     "metadata": {},
     "output_type": "display_data"
    },
    {
     "data": {
      "text/html": [
       "<pre>| 2       | 620.664ms    | 0.969149                  |</pre>"
      ],
      "text/plain": [
       "| 2       | 620.664ms    | 0.969149                  |"
      ]
     },
     "metadata": {},
     "output_type": "display_data"
    },
    {
     "data": {
      "text/html": [
       "<pre>| 3       | 820.563ms    | 0.966292                  |</pre>"
      ],
      "text/plain": [
       "| 3       | 820.563ms    | 0.966292                  |"
      ]
     },
     "metadata": {},
     "output_type": "display_data"
    },
    {
     "data": {
      "text/html": [
       "<pre>| 4       | 1.00s        | 0.964893                  |</pre>"
      ],
      "text/plain": [
       "| 4       | 1.00s        | 0.964893                  |"
      ]
     },
     "metadata": {},
     "output_type": "display_data"
    },
    {
     "data": {
      "text/html": [
       "<pre>| 5       | 1.19s        | 0.964082                  |</pre>"
      ],
      "text/plain": [
       "| 5       | 1.19s        | 0.964082                  |"
      ]
     },
     "metadata": {},
     "output_type": "display_data"
    },
    {
     "data": {
      "text/html": [
       "<pre>| 6       | 1.39s        | 0.963559                  |</pre>"
      ],
      "text/plain": [
       "| 6       | 1.39s        | 0.963559                  |"
      ]
     },
     "metadata": {},
     "output_type": "display_data"
    },
    {
     "data": {
      "text/html": [
       "<pre>| 7       | 1.62s        | 0.963197                  |</pre>"
      ],
      "text/plain": [
       "| 7       | 1.62s        | 0.963197                  |"
      ]
     },
     "metadata": {},
     "output_type": "display_data"
    },
    {
     "data": {
      "text/html": [
       "<pre>| 8       | 1.83s        | 0.962936                  |</pre>"
      ],
      "text/plain": [
       "| 8       | 1.83s        | 0.962936                  |"
      ]
     },
     "metadata": {},
     "output_type": "display_data"
    },
    {
     "data": {
      "text/html": [
       "<pre>| 9       | 2.01s        | 0.962743                  |</pre>"
      ],
      "text/plain": [
       "| 9       | 2.01s        | 0.962743                  |"
      ]
     },
     "metadata": {},
     "output_type": "display_data"
    },
    {
     "data": {
      "text/html": [
       "<pre>| 10      | 2.23s        | 0.962596                  |</pre>"
      ],
      "text/plain": [
       "| 10      | 2.23s        | 0.962596                  |"
      ]
     },
     "metadata": {},
     "output_type": "display_data"
    },
    {
     "data": {
      "text/html": [
       "<pre>| 11      | 2.41s        | 0.962482                  |</pre>"
      ],
      "text/plain": [
       "| 11      | 2.41s        | 0.962482                  |"
      ]
     },
     "metadata": {},
     "output_type": "display_data"
    },
    {
     "data": {
      "text/html": [
       "<pre>| 12      | 2.59s        | 0.962393                  |</pre>"
      ],
      "text/plain": [
       "| 12      | 2.59s        | 0.962393                  |"
      ]
     },
     "metadata": {},
     "output_type": "display_data"
    },
    {
     "data": {
      "text/html": [
       "<pre>| 13      | 2.76s        | 0.962321                  |</pre>"
      ],
      "text/plain": [
       "| 13      | 2.76s        | 0.962321                  |"
      ]
     },
     "metadata": {},
     "output_type": "display_data"
    },
    {
     "data": {
      "text/html": [
       "<pre>| 14      | 2.93s        | 0.962263                  |</pre>"
      ],
      "text/plain": [
       "| 14      | 2.93s        | 0.962263                  |"
      ]
     },
     "metadata": {},
     "output_type": "display_data"
    },
    {
     "data": {
      "text/html": [
       "<pre>| 15      | 3.10s        | 0.962216                  |</pre>"
      ],
      "text/plain": [
       "| 15      | 3.10s        | 0.962216                  |"
      ]
     },
     "metadata": {},
     "output_type": "display_data"
    },
    {
     "data": {
      "text/html": [
       "<pre>| 16      | 3.30s        | 0.962176                  |</pre>"
      ],
      "text/plain": [
       "| 16      | 3.30s        | 0.962176                  |"
      ]
     },
     "metadata": {},
     "output_type": "display_data"
    },
    {
     "data": {
      "text/html": [
       "<pre>| 17      | 3.50s        | 0.962142                  |</pre>"
      ],
      "text/plain": [
       "| 17      | 3.50s        | 0.962142                  |"
      ]
     },
     "metadata": {},
     "output_type": "display_data"
    },
    {
     "data": {
      "text/html": [
       "<pre>| 18      | 3.68s        | 0.962114                  |</pre>"
      ],
      "text/plain": [
       "| 18      | 3.68s        | 0.962114                  |"
      ]
     },
     "metadata": {},
     "output_type": "display_data"
    },
    {
     "data": {
      "text/html": [
       "<pre>| 19      | 3.85s        | 0.96209                   |</pre>"
      ],
      "text/plain": [
       "| 19      | 3.85s        | 0.96209                   |"
      ]
     },
     "metadata": {},
     "output_type": "display_data"
    },
    {
     "data": {
      "text/html": [
       "<pre>| 20      | 4.02s        | 0.962069                  |</pre>"
      ],
      "text/plain": [
       "| 20      | 4.02s        | 0.962069                  |"
      ]
     },
     "metadata": {},
     "output_type": "display_data"
    },
    {
     "data": {
      "text/html": [
       "<pre>| 21      | 4.19s        | 0.962051                  |</pre>"
      ],
      "text/plain": [
       "| 21      | 4.19s        | 0.962051                  |"
      ]
     },
     "metadata": {},
     "output_type": "display_data"
    },
    {
     "data": {
      "text/html": [
       "<pre>| 22      | 4.36s        | 0.962035                  |</pre>"
      ],
      "text/plain": [
       "| 22      | 4.36s        | 0.962035                  |"
      ]
     },
     "metadata": {},
     "output_type": "display_data"
    },
    {
     "data": {
      "text/html": [
       "<pre>| 23      | 4.53s        | 0.962021                  |</pre>"
      ],
      "text/plain": [
       "| 23      | 4.53s        | 0.962021                  |"
      ]
     },
     "metadata": {},
     "output_type": "display_data"
    },
    {
     "data": {
      "text/html": [
       "<pre>| 24      | 4.70s        | 0.962009                  |</pre>"
      ],
      "text/plain": [
       "| 24      | 4.70s        | 0.962009                  |"
      ]
     },
     "metadata": {},
     "output_type": "display_data"
    },
    {
     "data": {
      "text/html": [
       "<pre>| FINAL   | 4.70s        | 0.962009                  |</pre>"
      ],
      "text/plain": [
       "| FINAL   | 4.70s        | 0.962009                  |"
      ]
     },
     "metadata": {},
     "output_type": "display_data"
    },
    {
     "data": {
      "text/html": [
       "<pre>+---------+--------------+---------------------------+</pre>"
      ],
      "text/plain": [
       "+---------+--------------+---------------------------+"
      ]
     },
     "metadata": {},
     "output_type": "display_data"
    },
    {
     "data": {
      "text/html": [
       "<pre>Optimization Complete: Iteration limit reached.</pre>"
      ],
      "text/plain": [
       "Optimization Complete: Iteration limit reached."
      ]
     },
     "metadata": {},
     "output_type": "display_data"
    },
    {
     "name": "stdout",
     "output_type": "stream",
     "text": [
      "PROGRESS: Evaluate model M0\n"
     ]
    },
    {
     "data": {
      "text/html": [
       "<pre>recommendations finished on 1000/9672 queries. users per second: 7314.17</pre>"
      ],
      "text/plain": [
       "recommendations finished on 1000/9672 queries. users per second: 7314.17"
      ]
     },
     "metadata": {},
     "output_type": "display_data"
    },
    {
     "data": {
      "text/html": [
       "<pre>recommendations finished on 2000/9672 queries. users per second: 6961.44</pre>"
      ],
      "text/plain": [
       "recommendations finished on 2000/9672 queries. users per second: 6961.44"
      ]
     },
     "metadata": {},
     "output_type": "display_data"
    },
    {
     "data": {
      "text/html": [
       "<pre>recommendations finished on 3000/9672 queries. users per second: 7029.86</pre>"
      ],
      "text/plain": [
       "recommendations finished on 3000/9672 queries. users per second: 7029.86"
      ]
     },
     "metadata": {},
     "output_type": "display_data"
    },
    {
     "data": {
      "text/html": [
       "<pre>recommendations finished on 4000/9672 queries. users per second: 6477.31</pre>"
      ],
      "text/plain": [
       "recommendations finished on 4000/9672 queries. users per second: 6477.31"
      ]
     },
     "metadata": {},
     "output_type": "display_data"
    },
    {
     "data": {
      "text/html": [
       "<pre>recommendations finished on 5000/9672 queries. users per second: 6545.7</pre>"
      ],
      "text/plain": [
       "recommendations finished on 5000/9672 queries. users per second: 6545.7"
      ]
     },
     "metadata": {},
     "output_type": "display_data"
    },
    {
     "data": {
      "text/html": [
       "<pre>recommendations finished on 6000/9672 queries. users per second: 6621.04</pre>"
      ],
      "text/plain": [
       "recommendations finished on 6000/9672 queries. users per second: 6621.04"
      ]
     },
     "metadata": {},
     "output_type": "display_data"
    },
    {
     "data": {
      "text/html": [
       "<pre>recommendations finished on 7000/9672 queries. users per second: 6626.26</pre>"
      ],
      "text/plain": [
       "recommendations finished on 7000/9672 queries. users per second: 6626.26"
      ]
     },
     "metadata": {},
     "output_type": "display_data"
    },
    {
     "data": {
      "text/html": [
       "<pre>recommendations finished on 8000/9672 queries. users per second: 6657.98</pre>"
      ],
      "text/plain": [
       "recommendations finished on 8000/9672 queries. users per second: 6657.98"
      ]
     },
     "metadata": {},
     "output_type": "display_data"
    },
    {
     "data": {
      "text/html": [
       "<pre>recommendations finished on 9000/9672 queries. users per second: 6609.86</pre>"
      ],
      "text/plain": [
       "recommendations finished on 9000/9672 queries. users per second: 6609.86"
      ]
     },
     "metadata": {},
     "output_type": "display_data"
    },
    {
     "name": "stdout",
     "output_type": "stream",
     "text": [
      "\n",
      "Precision and recall summary statistics by cutoff\n",
      "+--------+---------------------+---------------------+\n",
      "| cutoff |    mean_precision   |     mean_recall     |\n",
      "+--------+---------------------+---------------------+\n",
      "|   1    |  0.594292803970223  | 0.06297394988529655 |\n",
      "|   2    |  0.4776157981803143 | 0.09870008551338708 |\n",
      "|   3    |  0.3973325062034741 | 0.12109583989023584 |\n",
      "|   4    | 0.33982113316790696 | 0.13615276324912173 |\n",
      "|   5    | 0.30095119933829606 | 0.14968162442233887 |\n",
      "|   6    | 0.27121243451888566 |  0.1609709518835672 |\n",
      "|   7    | 0.24750384024577532 | 0.17060806568991263 |\n",
      "|   8    | 0.22796474358974358 |  0.1785917579769433 |\n",
      "|   9    | 0.21212434518886153 | 0.18621945498481793 |\n",
      "|   10   | 0.19774607113316767 | 0.19209652548591843 |\n",
      "+--------+---------------------+---------------------+\n",
      "[10 rows x 3 columns]\n",
      "\n",
      "\n",
      "Overall RMSE: 0.9620085068544337\n",
      "\n",
      "Per User RMSE (best)\n",
      "+-----------+--------------------+-------+\n",
      "|  user_id  |        rmse        | count |\n",
      "+-----------+--------------------+-------+\n",
      "| 422362293 | 0.3912881813964284 |   2   |\n",
      "+-----------+--------------------+-------+\n",
      "[1 rows x 3 columns]\n",
      "\n",
      "\n",
      "Per User RMSE (worst)\n",
      "+-----------+--------------------+-------+\n",
      "|  user_id  |        rmse        | count |\n",
      "+-----------+--------------------+-------+\n",
      "| 475568506 | 2.9443758456478735 |   11  |\n",
      "+-----------+--------------------+-------+\n",
      "[1 rows x 3 columns]\n",
      "\n",
      "\n",
      "Per Item RMSE (best)\n",
      "+------------+---------------------+-------+\n",
      "| product_id |         rmse        | count |\n",
      "+------------+---------------------+-------+\n",
      "|  5833330   | 0.25177895122308025 |  481  |\n",
      "+------------+---------------------+-------+\n",
      "[1 rows x 3 columns]\n",
      "\n",
      "\n",
      "Per Item RMSE (worst)\n",
      "+------------+-------------------+-------+\n",
      "| product_id |        rmse       | count |\n",
      "+------------+-------------------+-------+\n",
      "|  5835153   | 2.999996884930624 |   1   |\n",
      "+------------+-------------------+-------+\n",
      "[1 rows x 3 columns]\n",
      "\n",
      "PROGRESS: Evaluate model m1\n",
      "\n",
      "Overall RMSE: 1.0286261947967499\n",
      "\n",
      "Per User RMSE (best)\n",
      "+-----------+--------------------+-------+\n",
      "|  user_id  |        rmse        | count |\n",
      "+-----------+--------------------+-------+\n",
      "| 531557729 | 0.2947711944580078 |   1   |\n",
      "+-----------+--------------------+-------+\n",
      "[1 rows x 3 columns]\n",
      "\n",
      "\n",
      "Per User RMSE (worst)\n",
      "+-----------+-------------------+-------+\n",
      "|  user_id  |        rmse       | count |\n",
      "+-----------+-------------------+-------+\n",
      "| 475568506 | 5.974067244678736 |   1   |\n",
      "+-----------+-------------------+-------+\n",
      "[1 rows x 3 columns]\n",
      "\n",
      "\n",
      "Per Item RMSE (best)\n",
      "+------------+--------------------+-------+\n",
      "| product_id |        rmse        | count |\n",
      "+------------+--------------------+-------+\n",
      "|  5819237   | 0.7013224363327026 |   1   |\n",
      "+------------+--------------------+-------+\n",
      "[1 rows x 3 columns]\n",
      "\n",
      "\n",
      "Per Item RMSE (worst)\n",
      "+------------+--------------------+-------+\n",
      "| product_id |        rmse        | count |\n",
      "+------------+--------------------+-------+\n",
      "|    6963    | 3.0022388035431504 |   1   |\n",
      "+------------+--------------------+-------+\n",
      "[1 rows x 3 columns]\n",
      "\n"
     ]
    },
    {
     "data": {
      "text/html": [
       "<pre>Preparing data set.</pre>"
      ],
      "text/plain": [
       "Preparing data set."
      ]
     },
     "metadata": {},
     "output_type": "display_data"
    },
    {
     "data": {
      "text/html": [
       "<pre>    Data has 108626 observations with 9672 users and 14105 items.</pre>"
      ],
      "text/plain": [
       "    Data has 108626 observations with 9672 users and 14105 items."
      ]
     },
     "metadata": {},
     "output_type": "display_data"
    },
    {
     "data": {
      "text/html": [
       "<pre>    Data prepared in: 0.093984s</pre>"
      ],
      "text/plain": [
       "    Data prepared in: 0.093984s"
      ]
     },
     "metadata": {},
     "output_type": "display_data"
    },
    {
     "data": {
      "text/html": [
       "<pre>Training ranking_factorization_recommender for recommendations.</pre>"
      ],
      "text/plain": [
       "Training ranking_factorization_recommender for recommendations."
      ]
     },
     "metadata": {},
     "output_type": "display_data"
    },
    {
     "data": {
      "text/html": [
       "<pre>+------------------------------+--------------------------------------------------+----------+</pre>"
      ],
      "text/plain": [
       "+------------------------------+--------------------------------------------------+----------+"
      ]
     },
     "metadata": {},
     "output_type": "display_data"
    },
    {
     "data": {
      "text/html": [
       "<pre>| Parameter                    | Description                                      | Value    |</pre>"
      ],
      "text/plain": [
       "| Parameter                    | Description                                      | Value    |"
      ]
     },
     "metadata": {},
     "output_type": "display_data"
    },
    {
     "data": {
      "text/html": [
       "<pre>+------------------------------+--------------------------------------------------+----------+</pre>"
      ],
      "text/plain": [
       "+------------------------------+--------------------------------------------------+----------+"
      ]
     },
     "metadata": {},
     "output_type": "display_data"
    },
    {
     "data": {
      "text/html": [
       "<pre>| num_factors                  | Factor Dimension                                 | 50       |</pre>"
      ],
      "text/plain": [
       "| num_factors                  | Factor Dimension                                 | 50       |"
      ]
     },
     "metadata": {},
     "output_type": "display_data"
    },
    {
     "data": {
      "text/html": [
       "<pre>| regularization               | L2 Regularization on Factors                     | 1e-09    |</pre>"
      ],
      "text/plain": [
       "| regularization               | L2 Regularization on Factors                     | 1e-09    |"
      ]
     },
     "metadata": {},
     "output_type": "display_data"
    },
    {
     "data": {
      "text/html": [
       "<pre>| max_iterations               | Maximum Number of Iterations                     | 25       |</pre>"
      ],
      "text/plain": [
       "| max_iterations               | Maximum Number of Iterations                     | 25       |"
      ]
     },
     "metadata": {},
     "output_type": "display_data"
    },
    {
     "data": {
      "text/html": [
       "<pre>| solver                       | Solver used for training                         | ials     |</pre>"
      ],
      "text/plain": [
       "| solver                       | Solver used for training                         | ials     |"
      ]
     },
     "metadata": {},
     "output_type": "display_data"
    },
    {
     "data": {
      "text/html": [
       "<pre>+------------------------------+--------------------------------------------------+----------+</pre>"
      ],
      "text/plain": [
       "+------------------------------+--------------------------------------------------+----------+"
      ]
     },
     "metadata": {},
     "output_type": "display_data"
    },
    {
     "data": {
      "text/html": [
       "<pre>+---------+--------------+---------------------------+</pre>"
      ],
      "text/plain": [
       "+---------+--------------+---------------------------+"
      ]
     },
     "metadata": {},
     "output_type": "display_data"
    },
    {
     "data": {
      "text/html": [
       "<pre>| Iter.   | Elapsed time | Estimated Objective Value |</pre>"
      ],
      "text/plain": [
       "| Iter.   | Elapsed time | Estimated Objective Value |"
      ]
     },
     "metadata": {},
     "output_type": "display_data"
    },
    {
     "data": {
      "text/html": [
       "<pre>+---------+--------------+---------------------------+</pre>"
      ],
      "text/plain": [
       "+---------+--------------+---------------------------+"
      ]
     },
     "metadata": {},
     "output_type": "display_data"
    },
    {
     "data": {
      "text/html": [
       "<pre>| Initial | 116us        | NA                        |</pre>"
      ],
      "text/plain": [
       "| Initial | 116us        | NA                        |"
      ]
     },
     "metadata": {},
     "output_type": "display_data"
    },
    {
     "data": {
      "text/html": [
       "<pre>+---------+--------------+---------------------------+</pre>"
      ],
      "text/plain": [
       "+---------+--------------+---------------------------+"
      ]
     },
     "metadata": {},
     "output_type": "display_data"
    },
    {
     "data": {
      "text/html": [
       "<pre>| 0       | 419.311ms    | 1.00254                   |</pre>"
      ],
      "text/plain": [
       "| 0       | 419.311ms    | 1.00254                   |"
      ]
     },
     "metadata": {},
     "output_type": "display_data"
    },
    {
     "data": {
      "text/html": [
       "<pre>| 1       | 773.515ms    | 0.947935                  |</pre>"
      ],
      "text/plain": [
       "| 1       | 773.515ms    | 0.947935                  |"
      ]
     },
     "metadata": {},
     "output_type": "display_data"
    },
    {
     "data": {
      "text/html": [
       "<pre>| 2       | 1.19s        | 0.939087                  |</pre>"
      ],
      "text/plain": [
       "| 2       | 1.19s        | 0.939087                  |"
      ]
     },
     "metadata": {},
     "output_type": "display_data"
    },
    {
     "data": {
      "text/html": [
       "<pre>| 3       | 1.56s        | 0.935909                  |</pre>"
      ],
      "text/plain": [
       "| 3       | 1.56s        | 0.935909                  |"
      ]
     },
     "metadata": {},
     "output_type": "display_data"
    },
    {
     "data": {
      "text/html": [
       "<pre>| 4       | 1.97s        | 0.934308                  |</pre>"
      ],
      "text/plain": [
       "| 4       | 1.97s        | 0.934308                  |"
      ]
     },
     "metadata": {},
     "output_type": "display_data"
    },
    {
     "data": {
      "text/html": [
       "<pre>| 5       | 2.34s        | 0.933357                  |</pre>"
      ],
      "text/plain": [
       "| 5       | 2.34s        | 0.933357                  |"
      ]
     },
     "metadata": {},
     "output_type": "display_data"
    },
    {
     "data": {
      "text/html": [
       "<pre>| 6       | 2.75s        | 0.932736                  |</pre>"
      ],
      "text/plain": [
       "| 6       | 2.75s        | 0.932736                  |"
      ]
     },
     "metadata": {},
     "output_type": "display_data"
    },
    {
     "data": {
      "text/html": [
       "<pre>| 7       | 3.12s        | 0.932305                  |</pre>"
      ],
      "text/plain": [
       "| 7       | 3.12s        | 0.932305                  |"
      ]
     },
     "metadata": {},
     "output_type": "display_data"
    },
    {
     "data": {
      "text/html": [
       "<pre>| 8       | 3.47s        | 0.931993                  |</pre>"
      ],
      "text/plain": [
       "| 8       | 3.47s        | 0.931993                  |"
      ]
     },
     "metadata": {},
     "output_type": "display_data"
    },
    {
     "data": {
      "text/html": [
       "<pre>| 9       | 3.85s        | 0.93176                   |</pre>"
      ],
      "text/plain": [
       "| 9       | 3.85s        | 0.93176                   |"
      ]
     },
     "metadata": {},
     "output_type": "display_data"
    },
    {
     "data": {
      "text/html": [
       "<pre>| 10      | 4.24s        | 0.93158                   |</pre>"
      ],
      "text/plain": [
       "| 10      | 4.24s        | 0.93158                   |"
      ]
     },
     "metadata": {},
     "output_type": "display_data"
    },
    {
     "data": {
      "text/html": [
       "<pre>| 11      | 4.67s        | 0.931439                  |</pre>"
      ],
      "text/plain": [
       "| 11      | 4.67s        | 0.931439                  |"
      ]
     },
     "metadata": {},
     "output_type": "display_data"
    },
    {
     "data": {
      "text/html": [
       "<pre>| 12      | 5.07s        | 0.931326                  |</pre>"
      ],
      "text/plain": [
       "| 12      | 5.07s        | 0.931326                  |"
      ]
     },
     "metadata": {},
     "output_type": "display_data"
    },
    {
     "data": {
      "text/html": [
       "<pre>| 13      | 5.46s        | 0.931234                  |</pre>"
      ],
      "text/plain": [
       "| 13      | 5.46s        | 0.931234                  |"
      ]
     },
     "metadata": {},
     "output_type": "display_data"
    },
    {
     "data": {
      "text/html": [
       "<pre>| 14      | 5.85s        | 0.931158                  |</pre>"
      ],
      "text/plain": [
       "| 14      | 5.85s        | 0.931158                  |"
      ]
     },
     "metadata": {},
     "output_type": "display_data"
    },
    {
     "data": {
      "text/html": [
       "<pre>| 15      | 6.23s        | 0.931095                  |</pre>"
      ],
      "text/plain": [
       "| 15      | 6.23s        | 0.931095                  |"
      ]
     },
     "metadata": {},
     "output_type": "display_data"
    },
    {
     "data": {
      "text/html": [
       "<pre>| 16      | 6.62s        | 0.931042                  |</pre>"
      ],
      "text/plain": [
       "| 16      | 6.62s        | 0.931042                  |"
      ]
     },
     "metadata": {},
     "output_type": "display_data"
    },
    {
     "data": {
      "text/html": [
       "<pre>| 17      | 7.03s        | 0.930997                  |</pre>"
      ],
      "text/plain": [
       "| 17      | 7.03s        | 0.930997                  |"
      ]
     },
     "metadata": {},
     "output_type": "display_data"
    },
    {
     "data": {
      "text/html": [
       "<pre>| 18      | 7.47s        | 0.930959                  |</pre>"
      ],
      "text/plain": [
       "| 18      | 7.47s        | 0.930959                  |"
      ]
     },
     "metadata": {},
     "output_type": "display_data"
    },
    {
     "data": {
      "text/html": [
       "<pre>| 19      | 7.88s        | 0.930926                  |</pre>"
      ],
      "text/plain": [
       "| 19      | 7.88s        | 0.930926                  |"
      ]
     },
     "metadata": {},
     "output_type": "display_data"
    },
    {
     "data": {
      "text/html": [
       "<pre>| 20      | 8.29s        | 0.930897                  |</pre>"
      ],
      "text/plain": [
       "| 20      | 8.29s        | 0.930897                  |"
      ]
     },
     "metadata": {},
     "output_type": "display_data"
    },
    {
     "data": {
      "text/html": [
       "<pre>| 21      | 8.67s        | 0.930871                  |</pre>"
      ],
      "text/plain": [
       "| 21      | 8.67s        | 0.930871                  |"
      ]
     },
     "metadata": {},
     "output_type": "display_data"
    },
    {
     "data": {
      "text/html": [
       "<pre>| 22      | 9.07s        | 0.930849                  |</pre>"
      ],
      "text/plain": [
       "| 22      | 9.07s        | 0.930849                  |"
      ]
     },
     "metadata": {},
     "output_type": "display_data"
    },
    {
     "data": {
      "text/html": [
       "<pre>| 23      | 9.44s        | 0.930828                  |</pre>"
      ],
      "text/plain": [
       "| 23      | 9.44s        | 0.930828                  |"
      ]
     },
     "metadata": {},
     "output_type": "display_data"
    },
    {
     "data": {
      "text/html": [
       "<pre>| 24      | 9.85s        | 0.93081                   |</pre>"
      ],
      "text/plain": [
       "| 24      | 9.85s        | 0.93081                   |"
      ]
     },
     "metadata": {},
     "output_type": "display_data"
    },
    {
     "data": {
      "text/html": [
       "<pre>| FINAL   | 9.85s        | 0.93081                   |</pre>"
      ],
      "text/plain": [
       "| FINAL   | 9.85s        | 0.93081                   |"
      ]
     },
     "metadata": {},
     "output_type": "display_data"
    },
    {
     "data": {
      "text/html": [
       "<pre>+---------+--------------+---------------------------+</pre>"
      ],
      "text/plain": [
       "+---------+--------------+---------------------------+"
      ]
     },
     "metadata": {},
     "output_type": "display_data"
    },
    {
     "data": {
      "text/html": [
       "<pre>Optimization Complete: Iteration limit reached.</pre>"
      ],
      "text/plain": [
       "Optimization Complete: Iteration limit reached."
      ]
     },
     "metadata": {},
     "output_type": "display_data"
    },
    {
     "name": "stdout",
     "output_type": "stream",
     "text": [
      "PROGRESS: Evaluate model M0\n"
     ]
    },
    {
     "data": {
      "text/html": [
       "<pre>recommendations finished on 1000/9672 queries. users per second: 5284.27</pre>"
      ],
      "text/plain": [
       "recommendations finished on 1000/9672 queries. users per second: 5284.27"
      ]
     },
     "metadata": {},
     "output_type": "display_data"
    },
    {
     "data": {
      "text/html": [
       "<pre>recommendations finished on 2000/9672 queries. users per second: 4715.72</pre>"
      ],
      "text/plain": [
       "recommendations finished on 2000/9672 queries. users per second: 4715.72"
      ]
     },
     "metadata": {},
     "output_type": "display_data"
    },
    {
     "data": {
      "text/html": [
       "<pre>recommendations finished on 3000/9672 queries. users per second: 4982.36</pre>"
      ],
      "text/plain": [
       "recommendations finished on 3000/9672 queries. users per second: 4982.36"
      ]
     },
     "metadata": {},
     "output_type": "display_data"
    },
    {
     "data": {
      "text/html": [
       "<pre>recommendations finished on 4000/9672 queries. users per second: 5154.47</pre>"
      ],
      "text/plain": [
       "recommendations finished on 4000/9672 queries. users per second: 5154.47"
      ]
     },
     "metadata": {},
     "output_type": "display_data"
    },
    {
     "data": {
      "text/html": [
       "<pre>recommendations finished on 5000/9672 queries. users per second: 5078.31</pre>"
      ],
      "text/plain": [
       "recommendations finished on 5000/9672 queries. users per second: 5078.31"
      ]
     },
     "metadata": {},
     "output_type": "display_data"
    },
    {
     "data": {
      "text/html": [
       "<pre>recommendations finished on 6000/9672 queries. users per second: 5110.04</pre>"
      ],
      "text/plain": [
       "recommendations finished on 6000/9672 queries. users per second: 5110.04"
      ]
     },
     "metadata": {},
     "output_type": "display_data"
    },
    {
     "data": {
      "text/html": [
       "<pre>recommendations finished on 7000/9672 queries. users per second: 5175.95</pre>"
      ],
      "text/plain": [
       "recommendations finished on 7000/9672 queries. users per second: 5175.95"
      ]
     },
     "metadata": {},
     "output_type": "display_data"
    },
    {
     "data": {
      "text/html": [
       "<pre>recommendations finished on 8000/9672 queries. users per second: 5248.92</pre>"
      ],
      "text/plain": [
       "recommendations finished on 8000/9672 queries. users per second: 5248.92"
      ]
     },
     "metadata": {},
     "output_type": "display_data"
    },
    {
     "data": {
      "text/html": [
       "<pre>recommendations finished on 9000/9672 queries. users per second: 5304.47</pre>"
      ],
      "text/plain": [
       "recommendations finished on 9000/9672 queries. users per second: 5304.47"
      ]
     },
     "metadata": {},
     "output_type": "display_data"
    },
    {
     "name": "stdout",
     "output_type": "stream",
     "text": [
      "\n",
      "Precision and recall summary statistics by cutoff\n",
      "+--------+---------------------+---------------------+\n",
      "| cutoff |    mean_precision   |     mean_recall     |\n",
      "+--------+---------------------+---------------------+\n",
      "|   1    |  0.7133995037220843 |  0.0773658334243408 |\n",
      "|   2    |  0.5950682382133993 | 0.12533111258488447 |\n",
      "|   3    |  0.5089950372208432 |  0.1569387488043461 |\n",
      "|   4    |  0.4401623242349048 | 0.17793176614201459 |\n",
      "|   5    |  0.390095119933829  |  0.1946496103020907 |\n",
      "|   6    | 0.35070306038047866 | 0.20795399165071157 |\n",
      "|   7    | 0.31848930639253215 |  0.2186638717466004 |\n",
      "|   8    | 0.29183467741935537 |  0.2275106330383671 |\n",
      "|   9    | 0.27026468155500466 | 0.23593875004672113 |\n",
      "|   10   | 0.25235732009925554 |  0.2441103091460347 |\n",
      "+--------+---------------------+---------------------+\n",
      "[10 rows x 3 columns]\n",
      "\n",
      "\n",
      "Overall RMSE: 0.9308104482351113\n",
      "\n",
      "Per User RMSE (best)\n",
      "+-----------+--------------------+-------+\n",
      "|  user_id  |        rmse        | count |\n",
      "+-----------+--------------------+-------+\n",
      "| 422362293 | 0.3043330052922518 |   2   |\n",
      "+-----------+--------------------+-------+\n",
      "[1 rows x 3 columns]\n",
      "\n",
      "\n",
      "Per User RMSE (worst)\n",
      "+-----------+--------------------+-------+\n",
      "|  user_id  |        rmse        | count |\n",
      "+-----------+--------------------+-------+\n",
      "| 475568506 | 2.8662950702206333 |   11  |\n",
      "+-----------+--------------------+-------+\n",
      "[1 rows x 3 columns]\n",
      "\n",
      "\n",
      "Per Item RMSE (best)\n",
      "+------------+---------------------+-------+\n",
      "| product_id |         rmse        | count |\n",
      "+------------+---------------------+-------+\n",
      "|  5833325   | 0.20049204477750196 |  374  |\n",
      "+------------+---------------------+-------+\n",
      "[1 rows x 3 columns]\n",
      "\n",
      "\n",
      "Per Item RMSE (worst)\n",
      "+------------+--------------------+-------+\n",
      "| product_id |        rmse        | count |\n",
      "+------------+--------------------+-------+\n",
      "|  5835153   | 2.9999912385937932 |   1   |\n",
      "+------------+--------------------+-------+\n",
      "[1 rows x 3 columns]\n",
      "\n",
      "PROGRESS: Evaluate model m1\n",
      "\n",
      "Overall RMSE: 1.0266671900300064\n",
      "\n",
      "Per User RMSE (best)\n",
      "+-----------+-------------------+-------+\n",
      "|  user_id  |        rmse       | count |\n",
      "+-----------+-------------------+-------+\n",
      "| 531557729 | 0.228057861328125 |   1   |\n",
      "+-----------+-------------------+-------+\n",
      "[1 rows x 3 columns]\n",
      "\n",
      "\n",
      "Per User RMSE (worst)\n",
      "+-----------+-------------------+-------+\n",
      "|  user_id  |        rmse       | count |\n",
      "+-----------+-------------------+-------+\n",
      "| 475568506 | 5.947739619761705 |   1   |\n",
      "+-----------+-------------------+-------+\n",
      "[1 rows x 3 columns]\n",
      "\n",
      "\n",
      "Per Item RMSE (best)\n",
      "+------------+-------------------+-------+\n",
      "| product_id |        rmse       | count |\n",
      "+------------+-------------------+-------+\n",
      "|  5859419   | 0.667763572006729 |   3   |\n",
      "+------------+-------------------+-------+\n",
      "[1 rows x 3 columns]\n",
      "\n",
      "\n",
      "Per Item RMSE (worst)\n",
      "+------------+--------------------+-------+\n",
      "| product_id |        rmse        | count |\n",
      "+------------+--------------------+-------+\n",
      "|  5739900   | 3.0002261204936076 |   1   |\n",
      "+------------+--------------------+-------+\n",
      "[1 rows x 3 columns]\n",
      "\n"
     ]
    },
    {
     "data": {
      "text/html": [
       "<pre>Preparing data set.</pre>"
      ],
      "text/plain": [
       "Preparing data set."
      ]
     },
     "metadata": {},
     "output_type": "display_data"
    },
    {
     "data": {
      "text/html": [
       "<pre>    Data has 108626 observations with 9672 users and 14105 items.</pre>"
      ],
      "text/plain": [
       "    Data has 108626 observations with 9672 users and 14105 items."
      ]
     },
     "metadata": {},
     "output_type": "display_data"
    },
    {
     "data": {
      "text/html": [
       "<pre>    Data prepared in: 0.09407s</pre>"
      ],
      "text/plain": [
       "    Data prepared in: 0.09407s"
      ]
     },
     "metadata": {},
     "output_type": "display_data"
    },
    {
     "data": {
      "text/html": [
       "<pre>Training ranking_factorization_recommender for recommendations.</pre>"
      ],
      "text/plain": [
       "Training ranking_factorization_recommender for recommendations."
      ]
     },
     "metadata": {},
     "output_type": "display_data"
    },
    {
     "data": {
      "text/html": [
       "<pre>+------------------------------+--------------------------------------------------+----------+</pre>"
      ],
      "text/plain": [
       "+------------------------------+--------------------------------------------------+----------+"
      ]
     },
     "metadata": {},
     "output_type": "display_data"
    },
    {
     "data": {
      "text/html": [
       "<pre>| Parameter                    | Description                                      | Value    |</pre>"
      ],
      "text/plain": [
       "| Parameter                    | Description                                      | Value    |"
      ]
     },
     "metadata": {},
     "output_type": "display_data"
    },
    {
     "data": {
      "text/html": [
       "<pre>+------------------------------+--------------------------------------------------+----------+</pre>"
      ],
      "text/plain": [
       "+------------------------------+--------------------------------------------------+----------+"
      ]
     },
     "metadata": {},
     "output_type": "display_data"
    },
    {
     "data": {
      "text/html": [
       "<pre>| num_factors                  | Factor Dimension                                 | 70       |</pre>"
      ],
      "text/plain": [
       "| num_factors                  | Factor Dimension                                 | 70       |"
      ]
     },
     "metadata": {},
     "output_type": "display_data"
    },
    {
     "data": {
      "text/html": [
       "<pre>| regularization               | L2 Regularization on Factors                     | 1e-09    |</pre>"
      ],
      "text/plain": [
       "| regularization               | L2 Regularization on Factors                     | 1e-09    |"
      ]
     },
     "metadata": {},
     "output_type": "display_data"
    },
    {
     "data": {
      "text/html": [
       "<pre>| max_iterations               | Maximum Number of Iterations                     | 25       |</pre>"
      ],
      "text/plain": [
       "| max_iterations               | Maximum Number of Iterations                     | 25       |"
      ]
     },
     "metadata": {},
     "output_type": "display_data"
    },
    {
     "data": {
      "text/html": [
       "<pre>| solver                       | Solver used for training                         | ials     |</pre>"
      ],
      "text/plain": [
       "| solver                       | Solver used for training                         | ials     |"
      ]
     },
     "metadata": {},
     "output_type": "display_data"
    },
    {
     "data": {
      "text/html": [
       "<pre>+------------------------------+--------------------------------------------------+----------+</pre>"
      ],
      "text/plain": [
       "+------------------------------+--------------------------------------------------+----------+"
      ]
     },
     "metadata": {},
     "output_type": "display_data"
    },
    {
     "data": {
      "text/html": [
       "<pre>+---------+--------------+---------------------------+</pre>"
      ],
      "text/plain": [
       "+---------+--------------+---------------------------+"
      ]
     },
     "metadata": {},
     "output_type": "display_data"
    },
    {
     "data": {
      "text/html": [
       "<pre>| Iter.   | Elapsed time | Estimated Objective Value |</pre>"
      ],
      "text/plain": [
       "| Iter.   | Elapsed time | Estimated Objective Value |"
      ]
     },
     "metadata": {},
     "output_type": "display_data"
    },
    {
     "data": {
      "text/html": [
       "<pre>+---------+--------------+---------------------------+</pre>"
      ],
      "text/plain": [
       "+---------+--------------+---------------------------+"
      ]
     },
     "metadata": {},
     "output_type": "display_data"
    },
    {
     "data": {
      "text/html": [
       "<pre>| Initial | 206us        | NA                        |</pre>"
      ],
      "text/plain": [
       "| Initial | 206us        | NA                        |"
      ]
     },
     "metadata": {},
     "output_type": "display_data"
    },
    {
     "data": {
      "text/html": [
       "<pre>+---------+--------------+---------------------------+</pre>"
      ],
      "text/plain": [
       "+---------+--------------+---------------------------+"
      ]
     },
     "metadata": {},
     "output_type": "display_data"
    },
    {
     "data": {
      "text/html": [
       "<pre>| 0       | 793.329ms    | 0.981417                  |</pre>"
      ],
      "text/plain": [
       "| 0       | 793.329ms    | 0.981417                  |"
      ]
     },
     "metadata": {},
     "output_type": "display_data"
    },
    {
     "data": {
      "text/html": [
       "<pre>| 1       | 1.50s        | 0.923231                  |</pre>"
      ],
      "text/plain": [
       "| 1       | 1.50s        | 0.923231                  |"
      ]
     },
     "metadata": {},
     "output_type": "display_data"
    },
    {
     "data": {
      "text/html": [
       "<pre>| 2       | 2.20s        | 0.913815                  |</pre>"
      ],
      "text/plain": [
       "| 2       | 2.20s        | 0.913815                  |"
      ]
     },
     "metadata": {},
     "output_type": "display_data"
    },
    {
     "data": {
      "text/html": [
       "<pre>| 3       | 2.93s        | 0.910544                  |</pre>"
      ],
      "text/plain": [
       "| 3       | 2.93s        | 0.910544                  |"
      ]
     },
     "metadata": {},
     "output_type": "display_data"
    },
    {
     "data": {
      "text/html": [
       "<pre>| 4       | 3.65s        | 0.908917                  |</pre>"
      ],
      "text/plain": [
       "| 4       | 3.65s        | 0.908917                  |"
      ]
     },
     "metadata": {},
     "output_type": "display_data"
    },
    {
     "data": {
      "text/html": [
       "<pre>| 5       | 4.35s        | 0.907951                  |</pre>"
      ],
      "text/plain": [
       "| 5       | 4.35s        | 0.907951                  |"
      ]
     },
     "metadata": {},
     "output_type": "display_data"
    },
    {
     "data": {
      "text/html": [
       "<pre>| 6       | 5.06s        | 0.907316                  |</pre>"
      ],
      "text/plain": [
       "| 6       | 5.06s        | 0.907316                  |"
      ]
     },
     "metadata": {},
     "output_type": "display_data"
    },
    {
     "data": {
      "text/html": [
       "<pre>| 7       | 5.78s        | 0.906871                  |</pre>"
      ],
      "text/plain": [
       "| 7       | 5.78s        | 0.906871                  |"
      ]
     },
     "metadata": {},
     "output_type": "display_data"
    },
    {
     "data": {
      "text/html": [
       "<pre>| 8       | 6.53s        | 0.906545                  |</pre>"
      ],
      "text/plain": [
       "| 8       | 6.53s        | 0.906545                  |"
      ]
     },
     "metadata": {},
     "output_type": "display_data"
    },
    {
     "data": {
      "text/html": [
       "<pre>| 9       | 7.31s        | 0.906299                  |</pre>"
      ],
      "text/plain": [
       "| 9       | 7.31s        | 0.906299                  |"
      ]
     },
     "metadata": {},
     "output_type": "display_data"
    },
    {
     "data": {
      "text/html": [
       "<pre>| 10      | 8.00s        | 0.906107                  |</pre>"
      ],
      "text/plain": [
       "| 10      | 8.00s        | 0.906107                  |"
      ]
     },
     "metadata": {},
     "output_type": "display_data"
    },
    {
     "data": {
      "text/html": [
       "<pre>| 11      | 8.74s        | 0.905955                  |</pre>"
      ],
      "text/plain": [
       "| 11      | 8.74s        | 0.905955                  |"
      ]
     },
     "metadata": {},
     "output_type": "display_data"
    },
    {
     "data": {
      "text/html": [
       "<pre>| 12      | 9.47s        | 0.905833                  |</pre>"
      ],
      "text/plain": [
       "| 12      | 9.47s        | 0.905833                  |"
      ]
     },
     "metadata": {},
     "output_type": "display_data"
    },
    {
     "data": {
      "text/html": [
       "<pre>| 13      | 10.20s       | 0.905732                  |</pre>"
      ],
      "text/plain": [
       "| 13      | 10.20s       | 0.905732                  |"
      ]
     },
     "metadata": {},
     "output_type": "display_data"
    },
    {
     "data": {
      "text/html": [
       "<pre>| 14      | 10.92s       | 0.905648                  |</pre>"
      ],
      "text/plain": [
       "| 14      | 10.92s       | 0.905648                  |"
      ]
     },
     "metadata": {},
     "output_type": "display_data"
    },
    {
     "data": {
      "text/html": [
       "<pre>| 15      | 11.69s       | 0.905577                  |</pre>"
      ],
      "text/plain": [
       "| 15      | 11.69s       | 0.905577                  |"
      ]
     },
     "metadata": {},
     "output_type": "display_data"
    },
    {
     "data": {
      "text/html": [
       "<pre>| 16      | 12.44s       | 0.905517                  |</pre>"
      ],
      "text/plain": [
       "| 16      | 12.44s       | 0.905517                  |"
      ]
     },
     "metadata": {},
     "output_type": "display_data"
    },
    {
     "data": {
      "text/html": [
       "<pre>| 17      | 13.20s       | 0.905465                  |</pre>"
      ],
      "text/plain": [
       "| 17      | 13.20s       | 0.905465                  |"
      ]
     },
     "metadata": {},
     "output_type": "display_data"
    },
    {
     "data": {
      "text/html": [
       "<pre>| 18      | 13.95s       | 0.90542                   |</pre>"
      ],
      "text/plain": [
       "| 18      | 13.95s       | 0.90542                   |"
      ]
     },
     "metadata": {},
     "output_type": "display_data"
    },
    {
     "data": {
      "text/html": [
       "<pre>| 19      | 14.61s       | 0.905381                  |</pre>"
      ],
      "text/plain": [
       "| 19      | 14.61s       | 0.905381                  |"
      ]
     },
     "metadata": {},
     "output_type": "display_data"
    },
    {
     "data": {
      "text/html": [
       "<pre>| 20      | 15.38s       | 0.905346                  |</pre>"
      ],
      "text/plain": [
       "| 20      | 15.38s       | 0.905346                  |"
      ]
     },
     "metadata": {},
     "output_type": "display_data"
    },
    {
     "data": {
      "text/html": [
       "<pre>| 21      | 16.11s       | 0.905316                  |</pre>"
      ],
      "text/plain": [
       "| 21      | 16.11s       | 0.905316                  |"
      ]
     },
     "metadata": {},
     "output_type": "display_data"
    },
    {
     "data": {
      "text/html": [
       "<pre>| 22      | 16.93s       | 0.905288                  |</pre>"
      ],
      "text/plain": [
       "| 22      | 16.93s       | 0.905288                  |"
      ]
     },
     "metadata": {},
     "output_type": "display_data"
    },
    {
     "data": {
      "text/html": [
       "<pre>| 23      | 17.70s       | 0.905264                  |</pre>"
      ],
      "text/plain": [
       "| 23      | 17.70s       | 0.905264                  |"
      ]
     },
     "metadata": {},
     "output_type": "display_data"
    },
    {
     "data": {
      "text/html": [
       "<pre>| 24      | 18.40s       | 0.905242                  |</pre>"
      ],
      "text/plain": [
       "| 24      | 18.40s       | 0.905242                  |"
      ]
     },
     "metadata": {},
     "output_type": "display_data"
    },
    {
     "data": {
      "text/html": [
       "<pre>| FINAL   | 18.40s       | 0.905242                  |</pre>"
      ],
      "text/plain": [
       "| FINAL   | 18.40s       | 0.905242                  |"
      ]
     },
     "metadata": {},
     "output_type": "display_data"
    },
    {
     "data": {
      "text/html": [
       "<pre>+---------+--------------+---------------------------+</pre>"
      ],
      "text/plain": [
       "+---------+--------------+---------------------------+"
      ]
     },
     "metadata": {},
     "output_type": "display_data"
    },
    {
     "data": {
      "text/html": [
       "<pre>Optimization Complete: Iteration limit reached.</pre>"
      ],
      "text/plain": [
       "Optimization Complete: Iteration limit reached."
      ]
     },
     "metadata": {},
     "output_type": "display_data"
    },
    {
     "name": "stdout",
     "output_type": "stream",
     "text": [
      "PROGRESS: Evaluate model M0\n"
     ]
    },
    {
     "data": {
      "text/html": [
       "<pre>recommendations finished on 1000/9672 queries. users per second: 4470.65</pre>"
      ],
      "text/plain": [
       "recommendations finished on 1000/9672 queries. users per second: 4470.65"
      ]
     },
     "metadata": {},
     "output_type": "display_data"
    },
    {
     "data": {
      "text/html": [
       "<pre>recommendations finished on 2000/9672 queries. users per second: 4450.78</pre>"
      ],
      "text/plain": [
       "recommendations finished on 2000/9672 queries. users per second: 4450.78"
      ]
     },
     "metadata": {},
     "output_type": "display_data"
    },
    {
     "data": {
      "text/html": [
       "<pre>recommendations finished on 3000/9672 queries. users per second: 4467.81</pre>"
      ],
      "text/plain": [
       "recommendations finished on 3000/9672 queries. users per second: 4467.81"
      ]
     },
     "metadata": {},
     "output_type": "display_data"
    },
    {
     "data": {
      "text/html": [
       "<pre>recommendations finished on 4000/9672 queries. users per second: 4507.66</pre>"
      ],
      "text/plain": [
       "recommendations finished on 4000/9672 queries. users per second: 4507.66"
      ]
     },
     "metadata": {},
     "output_type": "display_data"
    },
    {
     "data": {
      "text/html": [
       "<pre>recommendations finished on 5000/9672 queries. users per second: 4508.1</pre>"
      ],
      "text/plain": [
       "recommendations finished on 5000/9672 queries. users per second: 4508.1"
      ]
     },
     "metadata": {},
     "output_type": "display_data"
    },
    {
     "data": {
      "text/html": [
       "<pre>recommendations finished on 6000/9672 queries. users per second: 4511.64</pre>"
      ],
      "text/plain": [
       "recommendations finished on 6000/9672 queries. users per second: 4511.64"
      ]
     },
     "metadata": {},
     "output_type": "display_data"
    },
    {
     "data": {
      "text/html": [
       "<pre>recommendations finished on 7000/9672 queries. users per second: 4531.5</pre>"
      ],
      "text/plain": [
       "recommendations finished on 7000/9672 queries. users per second: 4531.5"
      ]
     },
     "metadata": {},
     "output_type": "display_data"
    },
    {
     "data": {
      "text/html": [
       "<pre>recommendations finished on 8000/9672 queries. users per second: 4498.03</pre>"
      ],
      "text/plain": [
       "recommendations finished on 8000/9672 queries. users per second: 4498.03"
      ]
     },
     "metadata": {},
     "output_type": "display_data"
    },
    {
     "data": {
      "text/html": [
       "<pre>recommendations finished on 9000/9672 queries. users per second: 4493.65</pre>"
      ],
      "text/plain": [
       "recommendations finished on 9000/9672 queries. users per second: 4493.65"
      ]
     },
     "metadata": {},
     "output_type": "display_data"
    },
    {
     "name": "stdout",
     "output_type": "stream",
     "text": [
      "\n",
      "Precision and recall summary statistics by cutoff\n",
      "+--------+---------------------+---------------------+\n",
      "| cutoff |    mean_precision   |     mean_recall     |\n",
      "+--------+---------------------+---------------------+\n",
      "|   1    |  0.7717121588089328 | 0.08462600529016309 |\n",
      "|   2    |  0.669096360628618  |  0.1427191655193202 |\n",
      "|   3    |  0.5832299421009106 | 0.18173968386638692 |\n",
      "|   4    |  0.514293837882548  | 0.20967260963170634 |\n",
      "|   5    |  0.4584160463192714 | 0.23011097044937168 |\n",
      "|   6    | 0.41370278467052707 |  0.2464027464971466 |\n",
      "|   7    |  0.3771121351766515 | 0.25977926915783517 |\n",
      "|   8    |  0.3457661290322583 |  0.270336165746749  |\n",
      "|   9    |  0.3201337193272675 | 0.27995921987576616 |\n",
      "|   10   | 0.29811827956989284 |  0.2885642602380727 |\n",
      "+--------+---------------------+---------------------+\n",
      "[10 rows x 3 columns]\n",
      "\n",
      "\n",
      "Overall RMSE: 0.9052415292891637\n",
      "\n",
      "Per User RMSE (best)\n",
      "+-----------+---------------------+-------+\n",
      "|  user_id  |         rmse        | count |\n",
      "+-----------+---------------------+-------+\n",
      "| 422362293 | 0.24095230443034965 |   2   |\n",
      "+-----------+---------------------+-------+\n",
      "[1 rows x 3 columns]\n",
      "\n",
      "\n",
      "Per User RMSE (worst)\n",
      "+-----------+-------------------+-------+\n",
      "|  user_id  |        rmse       | count |\n",
      "+-----------+-------------------+-------+\n",
      "| 562421519 | 2.837383369767313 |   9   |\n",
      "+-----------+-------------------+-------+\n",
      "[1 rows x 3 columns]\n",
      "\n",
      "\n",
      "Per Item RMSE (best)\n",
      "+------------+--------------------+-------+\n",
      "| product_id |        rmse        | count |\n",
      "+------------+--------------------+-------+\n",
      "|  5833325   | 0.1767652991516816 |  374  |\n",
      "+------------+--------------------+-------+\n",
      "[1 rows x 3 columns]\n",
      "\n",
      "\n",
      "Per Item RMSE (worst)\n",
      "+------------+--------------------+-------+\n",
      "| product_id |        rmse        | count |\n",
      "+------------+--------------------+-------+\n",
      "|  5835153   | 2.9999815165538166 |   1   |\n",
      "+------------+--------------------+-------+\n",
      "[1 rows x 3 columns]\n",
      "\n",
      "PROGRESS: Evaluate model m1\n",
      "\n",
      "Overall RMSE: 1.0256727692116416\n",
      "\n",
      "Per User RMSE (best)\n",
      "+-----------+--------------------+-------+\n",
      "|  user_id  |        rmse        | count |\n",
      "+-----------+--------------------+-------+\n",
      "| 531557729 | 0.2229456901550293 |   1   |\n",
      "+-----------+--------------------+-------+\n",
      "[1 rows x 3 columns]\n",
      "\n",
      "\n",
      "Per User RMSE (worst)\n",
      "+-----------+-------------------+-------+\n",
      "|  user_id  |        rmse       | count |\n",
      "+-----------+-------------------+-------+\n",
      "| 475568506 | 5.956421446055174 |   1   |\n",
      "+-----------+-------------------+-------+\n",
      "[1 rows x 3 columns]\n",
      "\n",
      "\n",
      "Per Item RMSE (best)\n",
      "+------------+-------------------+-------+\n",
      "| product_id |        rmse       | count |\n",
      "+------------+-------------------+-------+\n",
      "|  5859419   | 0.668130503674655 |   3   |\n",
      "+------------+-------------------+-------+\n",
      "[1 rows x 3 columns]\n",
      "\n",
      "\n",
      "Per Item RMSE (worst)\n",
      "+------------+--------------------+-------+\n",
      "| product_id |        rmse        | count |\n",
      "+------------+--------------------+-------+\n",
      "|  5739900   | 3.0020287167280912 |   1   |\n",
      "+------------+--------------------+-------+\n",
      "[1 rows x 3 columns]\n",
      "\n"
     ]
    },
    {
     "data": {
      "text/html": [
       "<pre>Preparing data set.</pre>"
      ],
      "text/plain": [
       "Preparing data set."
      ]
     },
     "metadata": {},
     "output_type": "display_data"
    },
    {
     "data": {
      "text/html": [
       "<pre>    Data has 108626 observations with 9672 users and 14105 items.</pre>"
      ],
      "text/plain": [
       "    Data has 108626 observations with 9672 users and 14105 items."
      ]
     },
     "metadata": {},
     "output_type": "display_data"
    },
    {
     "data": {
      "text/html": [
       "<pre>    Data prepared in: 0.095006s</pre>"
      ],
      "text/plain": [
       "    Data prepared in: 0.095006s"
      ]
     },
     "metadata": {},
     "output_type": "display_data"
    },
    {
     "data": {
      "text/html": [
       "<pre>Training ranking_factorization_recommender for recommendations.</pre>"
      ],
      "text/plain": [
       "Training ranking_factorization_recommender for recommendations."
      ]
     },
     "metadata": {},
     "output_type": "display_data"
    },
    {
     "data": {
      "text/html": [
       "<pre>+------------------------------+--------------------------------------------------+----------+</pre>"
      ],
      "text/plain": [
       "+------------------------------+--------------------------------------------------+----------+"
      ]
     },
     "metadata": {},
     "output_type": "display_data"
    },
    {
     "data": {
      "text/html": [
       "<pre>| Parameter                    | Description                                      | Value    |</pre>"
      ],
      "text/plain": [
       "| Parameter                    | Description                                      | Value    |"
      ]
     },
     "metadata": {},
     "output_type": "display_data"
    },
    {
     "data": {
      "text/html": [
       "<pre>+------------------------------+--------------------------------------------------+----------+</pre>"
      ],
      "text/plain": [
       "+------------------------------+--------------------------------------------------+----------+"
      ]
     },
     "metadata": {},
     "output_type": "display_data"
    },
    {
     "data": {
      "text/html": [
       "<pre>| num_factors                  | Factor Dimension                                 | 90       |</pre>"
      ],
      "text/plain": [
       "| num_factors                  | Factor Dimension                                 | 90       |"
      ]
     },
     "metadata": {},
     "output_type": "display_data"
    },
    {
     "data": {
      "text/html": [
       "<pre>| regularization               | L2 Regularization on Factors                     | 1e-09    |</pre>"
      ],
      "text/plain": [
       "| regularization               | L2 Regularization on Factors                     | 1e-09    |"
      ]
     },
     "metadata": {},
     "output_type": "display_data"
    },
    {
     "data": {
      "text/html": [
       "<pre>| max_iterations               | Maximum Number of Iterations                     | 25       |</pre>"
      ],
      "text/plain": [
       "| max_iterations               | Maximum Number of Iterations                     | 25       |"
      ]
     },
     "metadata": {},
     "output_type": "display_data"
    },
    {
     "data": {
      "text/html": [
       "<pre>| solver                       | Solver used for training                         | ials     |</pre>"
      ],
      "text/plain": [
       "| solver                       | Solver used for training                         | ials     |"
      ]
     },
     "metadata": {},
     "output_type": "display_data"
    },
    {
     "data": {
      "text/html": [
       "<pre>+------------------------------+--------------------------------------------------+----------+</pre>"
      ],
      "text/plain": [
       "+------------------------------+--------------------------------------------------+----------+"
      ]
     },
     "metadata": {},
     "output_type": "display_data"
    },
    {
     "data": {
      "text/html": [
       "<pre>+---------+--------------+---------------------------+</pre>"
      ],
      "text/plain": [
       "+---------+--------------+---------------------------+"
      ]
     },
     "metadata": {},
     "output_type": "display_data"
    },
    {
     "data": {
      "text/html": [
       "<pre>| Iter.   | Elapsed time | Estimated Objective Value |</pre>"
      ],
      "text/plain": [
       "| Iter.   | Elapsed time | Estimated Objective Value |"
      ]
     },
     "metadata": {},
     "output_type": "display_data"
    },
    {
     "data": {
      "text/html": [
       "<pre>+---------+--------------+---------------------------+</pre>"
      ],
      "text/plain": [
       "+---------+--------------+---------------------------+"
      ]
     },
     "metadata": {},
     "output_type": "display_data"
    },
    {
     "data": {
      "text/html": [
       "<pre>| Initial | 164us        | NA                        |</pre>"
      ],
      "text/plain": [
       "| Initial | 164us        | NA                        |"
      ]
     },
     "metadata": {},
     "output_type": "display_data"
    },
    {
     "data": {
      "text/html": [
       "<pre>+---------+--------------+---------------------------+</pre>"
      ],
      "text/plain": [
       "+---------+--------------+---------------------------+"
      ]
     },
     "metadata": {},
     "output_type": "display_data"
    },
    {
     "data": {
      "text/html": [
       "<pre>| 0       | 1.21s        | 0.967437                  |</pre>"
      ],
      "text/plain": [
       "| 0       | 1.21s        | 0.967437                  |"
      ]
     },
     "metadata": {},
     "output_type": "display_data"
    },
    {
     "data": {
      "text/html": [
       "<pre>| 1       | 2.39s        | 0.901941                  |</pre>"
      ],
      "text/plain": [
       "| 1       | 2.39s        | 0.901941                  |"
      ]
     },
     "metadata": {},
     "output_type": "display_data"
    },
    {
     "data": {
      "text/html": [
       "<pre>| 2       | 3.55s        | 0.892085                  |</pre>"
      ],
      "text/plain": [
       "| 2       | 3.55s        | 0.892085                  |"
      ]
     },
     "metadata": {},
     "output_type": "display_data"
    },
    {
     "data": {
      "text/html": [
       "<pre>| 3       | 4.77s        | 0.888647                  |</pre>"
      ],
      "text/plain": [
       "| 3       | 4.77s        | 0.888647                  |"
      ]
     },
     "metadata": {},
     "output_type": "display_data"
    },
    {
     "data": {
      "text/html": [
       "<pre>| 4       | 5.97s        | 0.886927                  |</pre>"
      ],
      "text/plain": [
       "| 4       | 5.97s        | 0.886927                  |"
      ]
     },
     "metadata": {},
     "output_type": "display_data"
    },
    {
     "data": {
      "text/html": [
       "<pre>| 5       | 7.12s        | 0.885902                  |</pre>"
      ],
      "text/plain": [
       "| 5       | 7.12s        | 0.885902                  |"
      ]
     },
     "metadata": {},
     "output_type": "display_data"
    },
    {
     "data": {
      "text/html": [
       "<pre>| 6       | 8.18s        | 0.885228                  |</pre>"
      ],
      "text/plain": [
       "| 6       | 8.18s        | 0.885228                  |"
      ]
     },
     "metadata": {},
     "output_type": "display_data"
    },
    {
     "data": {
      "text/html": [
       "<pre>| 7       | 9.36s        | 0.884754                  |</pre>"
      ],
      "text/plain": [
       "| 7       | 9.36s        | 0.884754                  |"
      ]
     },
     "metadata": {},
     "output_type": "display_data"
    },
    {
     "data": {
      "text/html": [
       "<pre>| 8       | 10.49s       | 0.884406                  |</pre>"
      ],
      "text/plain": [
       "| 8       | 10.49s       | 0.884406                  |"
      ]
     },
     "metadata": {},
     "output_type": "display_data"
    },
    {
     "data": {
      "text/html": [
       "<pre>| 9       | 11.64s       | 0.88414                   |</pre>"
      ],
      "text/plain": [
       "| 9       | 11.64s       | 0.88414                   |"
      ]
     },
     "metadata": {},
     "output_type": "display_data"
    },
    {
     "data": {
      "text/html": [
       "<pre>| 10      | 12.77s       | 0.883933                  |</pre>"
      ],
      "text/plain": [
       "| 10      | 12.77s       | 0.883933                  |"
      ]
     },
     "metadata": {},
     "output_type": "display_data"
    },
    {
     "data": {
      "text/html": [
       "<pre>| 11      | 13.91s       | 0.883769                  |</pre>"
      ],
      "text/plain": [
       "| 11      | 13.91s       | 0.883769                  |"
      ]
     },
     "metadata": {},
     "output_type": "display_data"
    },
    {
     "data": {
      "text/html": [
       "<pre>| 12      | 15.02s       | 0.883636                  |</pre>"
      ],
      "text/plain": [
       "| 12      | 15.02s       | 0.883636                  |"
      ]
     },
     "metadata": {},
     "output_type": "display_data"
    },
    {
     "data": {
      "text/html": [
       "<pre>| 13      | 16.11s       | 0.883526                  |</pre>"
      ],
      "text/plain": [
       "| 13      | 16.11s       | 0.883526                  |"
      ]
     },
     "metadata": {},
     "output_type": "display_data"
    },
    {
     "data": {
      "text/html": [
       "<pre>| 14      | 17.24s       | 0.883436                  |</pre>"
      ],
      "text/plain": [
       "| 14      | 17.24s       | 0.883436                  |"
      ]
     },
     "metadata": {},
     "output_type": "display_data"
    },
    {
     "data": {
      "text/html": [
       "<pre>| 15      | 18.38s       | 0.88336                   |</pre>"
      ],
      "text/plain": [
       "| 15      | 18.38s       | 0.88336                   |"
      ]
     },
     "metadata": {},
     "output_type": "display_data"
    },
    {
     "data": {
      "text/html": [
       "<pre>| 16      | 19.60s       | 0.883296                  |</pre>"
      ],
      "text/plain": [
       "| 16      | 19.60s       | 0.883296                  |"
      ]
     },
     "metadata": {},
     "output_type": "display_data"
    },
    {
     "data": {
      "text/html": [
       "<pre>| 17      | 20.99s       | 0.883241                  |</pre>"
      ],
      "text/plain": [
       "| 17      | 20.99s       | 0.883241                  |"
      ]
     },
     "metadata": {},
     "output_type": "display_data"
    },
    {
     "data": {
      "text/html": [
       "<pre>| 18      | 22.14s       | 0.883194                  |</pre>"
      ],
      "text/plain": [
       "| 18      | 22.14s       | 0.883194                  |"
      ]
     },
     "metadata": {},
     "output_type": "display_data"
    },
    {
     "data": {
      "text/html": [
       "<pre>| 19      | 23.34s       | 0.883153                  |</pre>"
      ],
      "text/plain": [
       "| 19      | 23.34s       | 0.883153                  |"
      ]
     },
     "metadata": {},
     "output_type": "display_data"
    },
    {
     "data": {
      "text/html": [
       "<pre>| 20      | 24.52s       | 0.883118                  |</pre>"
      ],
      "text/plain": [
       "| 20      | 24.52s       | 0.883118                  |"
      ]
     },
     "metadata": {},
     "output_type": "display_data"
    },
    {
     "data": {
      "text/html": [
       "<pre>| 21      | 25.68s       | 0.883087                  |</pre>"
      ],
      "text/plain": [
       "| 21      | 25.68s       | 0.883087                  |"
      ]
     },
     "metadata": {},
     "output_type": "display_data"
    },
    {
     "data": {
      "text/html": [
       "<pre>| 22      | 26.78s       | 0.88306                   |</pre>"
      ],
      "text/plain": [
       "| 22      | 26.78s       | 0.88306                   |"
      ]
     },
     "metadata": {},
     "output_type": "display_data"
    },
    {
     "data": {
      "text/html": [
       "<pre>| 23      | 27.94s       | 0.883036                  |</pre>"
      ],
      "text/plain": [
       "| 23      | 27.94s       | 0.883036                  |"
      ]
     },
     "metadata": {},
     "output_type": "display_data"
    },
    {
     "data": {
      "text/html": [
       "<pre>| 24      | 29.09s       | 0.883015                  |</pre>"
      ],
      "text/plain": [
       "| 24      | 29.09s       | 0.883015                  |"
      ]
     },
     "metadata": {},
     "output_type": "display_data"
    },
    {
     "data": {
      "text/html": [
       "<pre>| FINAL   | 29.09s       | 0.883015                  |</pre>"
      ],
      "text/plain": [
       "| FINAL   | 29.09s       | 0.883015                  |"
      ]
     },
     "metadata": {},
     "output_type": "display_data"
    },
    {
     "data": {
      "text/html": [
       "<pre>+---------+--------------+---------------------------+</pre>"
      ],
      "text/plain": [
       "+---------+--------------+---------------------------+"
      ]
     },
     "metadata": {},
     "output_type": "display_data"
    },
    {
     "data": {
      "text/html": [
       "<pre>Optimization Complete: Iteration limit reached.</pre>"
      ],
      "text/plain": [
       "Optimization Complete: Iteration limit reached."
      ]
     },
     "metadata": {},
     "output_type": "display_data"
    },
    {
     "name": "stdout",
     "output_type": "stream",
     "text": [
      "PROGRESS: Evaluate model M0\n"
     ]
    },
    {
     "data": {
      "text/html": [
       "<pre>recommendations finished on 1000/9672 queries. users per second: 2960.02</pre>"
      ],
      "text/plain": [
       "recommendations finished on 1000/9672 queries. users per second: 2960.02"
      ]
     },
     "metadata": {},
     "output_type": "display_data"
    },
    {
     "data": {
      "text/html": [
       "<pre>recommendations finished on 2000/9672 queries. users per second: 3053.02</pre>"
      ],
      "text/plain": [
       "recommendations finished on 2000/9672 queries. users per second: 3053.02"
      ]
     },
     "metadata": {},
     "output_type": "display_data"
    },
    {
     "data": {
      "text/html": [
       "<pre>recommendations finished on 3000/9672 queries. users per second: 3128.01</pre>"
      ],
      "text/plain": [
       "recommendations finished on 3000/9672 queries. users per second: 3128.01"
      ]
     },
     "metadata": {},
     "output_type": "display_data"
    },
    {
     "data": {
      "text/html": [
       "<pre>recommendations finished on 4000/9672 queries. users per second: 3141.6</pre>"
      ],
      "text/plain": [
       "recommendations finished on 4000/9672 queries. users per second: 3141.6"
      ]
     },
     "metadata": {},
     "output_type": "display_data"
    },
    {
     "data": {
      "text/html": [
       "<pre>recommendations finished on 5000/9672 queries. users per second: 3136.68</pre>"
      ],
      "text/plain": [
       "recommendations finished on 5000/9672 queries. users per second: 3136.68"
      ]
     },
     "metadata": {},
     "output_type": "display_data"
    },
    {
     "data": {
      "text/html": [
       "<pre>recommendations finished on 6000/9672 queries. users per second: 3006.33</pre>"
      ],
      "text/plain": [
       "recommendations finished on 6000/9672 queries. users per second: 3006.33"
      ]
     },
     "metadata": {},
     "output_type": "display_data"
    },
    {
     "data": {
      "text/html": [
       "<pre>recommendations finished on 7000/9672 queries. users per second: 2968.67</pre>"
      ],
      "text/plain": [
       "recommendations finished on 7000/9672 queries. users per second: 2968.67"
      ]
     },
     "metadata": {},
     "output_type": "display_data"
    },
    {
     "data": {
      "text/html": [
       "<pre>recommendations finished on 8000/9672 queries. users per second: 2980.73</pre>"
      ],
      "text/plain": [
       "recommendations finished on 8000/9672 queries. users per second: 2980.73"
      ]
     },
     "metadata": {},
     "output_type": "display_data"
    },
    {
     "data": {
      "text/html": [
       "<pre>recommendations finished on 9000/9672 queries. users per second: 2977.65</pre>"
      ],
      "text/plain": [
       "recommendations finished on 9000/9672 queries. users per second: 2977.65"
      ]
     },
     "metadata": {},
     "output_type": "display_data"
    },
    {
     "name": "stdout",
     "output_type": "stream",
     "text": [
      "\n",
      "Precision and recall summary statistics by cutoff\n",
      "+--------+---------------------+---------------------+\n",
      "| cutoff |    mean_precision   |     mean_recall     |\n",
      "+--------+---------------------+---------------------+\n",
      "|   1    |  0.816894127377999  | 0.09043988874528001 |\n",
      "|   2    |  0.7239971050454923 | 0.15581520412389108 |\n",
      "|   3    |  0.6437482768127909 | 0.20273568110848925 |\n",
      "|   4    |  0.5722963192721264 | 0.23516623112041612 |\n",
      "|   5    |  0.5145161290322581 |  0.260133477507471  |\n",
      "|   6    | 0.46560518334711953 | 0.27870337822594105 |\n",
      "|   7    |  0.4258832565284175 |  0.2942559344521695 |\n",
      "|   8    |  0.3920854011579816 |  0.3070537843242211 |\n",
      "|   9    |  0.3642817755720976 | 0.31894861260846563 |\n",
      "|   10   |  0.3395885028949544 |  0.3284438695666301 |\n",
      "+--------+---------------------+---------------------+\n",
      "[10 rows x 3 columns]\n",
      "\n",
      "\n",
      "Overall RMSE: 0.8830152266986412\n",
      "\n",
      "Per User RMSE (best)\n",
      "+-----------+---------------------+-------+\n",
      "|  user_id  |         rmse        | count |\n",
      "+-----------+---------------------+-------+\n",
      "| 422362293 | 0.19733742705585908 |   2   |\n",
      "+-----------+---------------------+-------+\n",
      "[1 rows x 3 columns]\n",
      "\n",
      "\n",
      "Per User RMSE (worst)\n",
      "+-----------+-------------------+-------+\n",
      "|  user_id  |        rmse       | count |\n",
      "+-----------+-------------------+-------+\n",
      "| 562421519 | 2.792039411692515 |   9   |\n",
      "+-----------+-------------------+-------+\n",
      "[1 rows x 3 columns]\n",
      "\n",
      "\n",
      "Per Item RMSE (best)\n",
      "+------------+---------------------+-------+\n",
      "| product_id |         rmse        | count |\n",
      "+------------+---------------------+-------+\n",
      "|  5833325   | 0.16565872082846242 |  374  |\n",
      "+------------+---------------------+-------+\n",
      "[1 rows x 3 columns]\n",
      "\n",
      "\n",
      "Per Item RMSE (worst)\n",
      "+------------+--------------------+-------+\n",
      "| product_id |        rmse        | count |\n",
      "+------------+--------------------+-------+\n",
      "|  5835153   | 2.9999731215375505 |   1   |\n",
      "+------------+--------------------+-------+\n",
      "[1 rows x 3 columns]\n",
      "\n",
      "PROGRESS: Evaluate model m1\n",
      "\n",
      "Overall RMSE: 1.0251106642090149\n",
      "\n",
      "Per User RMSE (best)\n",
      "+-----------+---------------------+-------+\n",
      "|  user_id  |         rmse        | count |\n",
      "+-----------+---------------------+-------+\n",
      "| 531557729 | 0.23308676481246948 |   1   |\n",
      "+-----------+---------------------+-------+\n",
      "[1 rows x 3 columns]\n",
      "\n",
      "\n",
      "Per User RMSE (worst)\n",
      "+-----------+-------------------+-------+\n",
      "|  user_id  |        rmse       | count |\n",
      "+-----------+-------------------+-------+\n",
      "| 475568506 | 5.946288872510195 |   1   |\n",
      "+-----------+-------------------+-------+\n",
      "[1 rows x 3 columns]\n",
      "\n",
      "\n",
      "Per Item RMSE (best)\n",
      "+------------+--------------------+-------+\n",
      "| product_id |        rmse        | count |\n",
      "+------------+--------------------+-------+\n",
      "|  5859419   | 0.6686975261673274 |   3   |\n",
      "+------------+--------------------+-------+\n",
      "[1 rows x 3 columns]\n",
      "\n",
      "\n",
      "Per Item RMSE (worst)\n",
      "+------------+------+-------+\n",
      "| product_id | rmse | count |\n",
      "+------------+------+-------+\n",
      "|  5797165   | 3.0  |   1   |\n",
      "+------------+------+-------+\n",
      "[1 rows x 3 columns]\n",
      "\n"
     ]
    },
    {
     "data": {
      "text/html": [
       "<pre>Preparing data set.</pre>"
      ],
      "text/plain": [
       "Preparing data set."
      ]
     },
     "metadata": {},
     "output_type": "display_data"
    },
    {
     "data": {
      "text/html": [
       "<pre>    Data has 108626 observations with 9672 users and 14105 items.</pre>"
      ],
      "text/plain": [
       "    Data has 108626 observations with 9672 users and 14105 items."
      ]
     },
     "metadata": {},
     "output_type": "display_data"
    },
    {
     "data": {
      "text/html": [
       "<pre>    Data prepared in: 0.099549s</pre>"
      ],
      "text/plain": [
       "    Data prepared in: 0.099549s"
      ]
     },
     "metadata": {},
     "output_type": "display_data"
    },
    {
     "data": {
      "text/html": [
       "<pre>Training ranking_factorization_recommender for recommendations.</pre>"
      ],
      "text/plain": [
       "Training ranking_factorization_recommender for recommendations."
      ]
     },
     "metadata": {},
     "output_type": "display_data"
    },
    {
     "data": {
      "text/html": [
       "<pre>+------------------------------+--------------------------------------------------+----------+</pre>"
      ],
      "text/plain": [
       "+------------------------------+--------------------------------------------------+----------+"
      ]
     },
     "metadata": {},
     "output_type": "display_data"
    },
    {
     "data": {
      "text/html": [
       "<pre>| Parameter                    | Description                                      | Value    |</pre>"
      ],
      "text/plain": [
       "| Parameter                    | Description                                      | Value    |"
      ]
     },
     "metadata": {},
     "output_type": "display_data"
    },
    {
     "data": {
      "text/html": [
       "<pre>+------------------------------+--------------------------------------------------+----------+</pre>"
      ],
      "text/plain": [
       "+------------------------------+--------------------------------------------------+----------+"
      ]
     },
     "metadata": {},
     "output_type": "display_data"
    },
    {
     "data": {
      "text/html": [
       "<pre>| num_factors                  | Factor Dimension                                 | 110      |</pre>"
      ],
      "text/plain": [
       "| num_factors                  | Factor Dimension                                 | 110      |"
      ]
     },
     "metadata": {},
     "output_type": "display_data"
    },
    {
     "data": {
      "text/html": [
       "<pre>| regularization               | L2 Regularization on Factors                     | 1e-09    |</pre>"
      ],
      "text/plain": [
       "| regularization               | L2 Regularization on Factors                     | 1e-09    |"
      ]
     },
     "metadata": {},
     "output_type": "display_data"
    },
    {
     "data": {
      "text/html": [
       "<pre>| max_iterations               | Maximum Number of Iterations                     | 25       |</pre>"
      ],
      "text/plain": [
       "| max_iterations               | Maximum Number of Iterations                     | 25       |"
      ]
     },
     "metadata": {},
     "output_type": "display_data"
    },
    {
     "data": {
      "text/html": [
       "<pre>| solver                       | Solver used for training                         | ials     |</pre>"
      ],
      "text/plain": [
       "| solver                       | Solver used for training                         | ials     |"
      ]
     },
     "metadata": {},
     "output_type": "display_data"
    },
    {
     "data": {
      "text/html": [
       "<pre>+------------------------------+--------------------------------------------------+----------+</pre>"
      ],
      "text/plain": [
       "+------------------------------+--------------------------------------------------+----------+"
      ]
     },
     "metadata": {},
     "output_type": "display_data"
    },
    {
     "data": {
      "text/html": [
       "<pre>+---------+--------------+---------------------------+</pre>"
      ],
      "text/plain": [
       "+---------+--------------+---------------------------+"
      ]
     },
     "metadata": {},
     "output_type": "display_data"
    },
    {
     "data": {
      "text/html": [
       "<pre>| Iter.   | Elapsed time | Estimated Objective Value |</pre>"
      ],
      "text/plain": [
       "| Iter.   | Elapsed time | Estimated Objective Value |"
      ]
     },
     "metadata": {},
     "output_type": "display_data"
    },
    {
     "data": {
      "text/html": [
       "<pre>+---------+--------------+---------------------------+</pre>"
      ],
      "text/plain": [
       "+---------+--------------+---------------------------+"
      ]
     },
     "metadata": {},
     "output_type": "display_data"
    },
    {
     "data": {
      "text/html": [
       "<pre>| Initial | 115us        | NA                        |</pre>"
      ],
      "text/plain": [
       "| Initial | 115us        | NA                        |"
      ]
     },
     "metadata": {},
     "output_type": "display_data"
    },
    {
     "data": {
      "text/html": [
       "<pre>+---------+--------------+---------------------------+</pre>"
      ],
      "text/plain": [
       "+---------+--------------+---------------------------+"
      ]
     },
     "metadata": {},
     "output_type": "display_data"
    },
    {
     "data": {
      "text/html": [
       "<pre>| 0       | 1.96s        | 0.949968                  |</pre>"
      ],
      "text/plain": [
       "| 0       | 1.96s        | 0.949968                  |"
      ]
     },
     "metadata": {},
     "output_type": "display_data"
    },
    {
     "data": {
      "text/html": [
       "<pre>| 1       | 3.59s        | 0.882976                  |</pre>"
      ],
      "text/plain": [
       "| 1       | 3.59s        | 0.882976                  |"
      ]
     },
     "metadata": {},
     "output_type": "display_data"
    },
    {
     "data": {
      "text/html": [
       "<pre>| 2       | 5.19s        | 0.872896                  |</pre>"
      ],
      "text/plain": [
       "| 2       | 5.19s        | 0.872896                  |"
      ]
     },
     "metadata": {},
     "output_type": "display_data"
    },
    {
     "data": {
      "text/html": [
       "<pre>| 3       | 6.86s        | 0.869283                  |</pre>"
      ],
      "text/plain": [
       "| 3       | 6.86s        | 0.869283                  |"
      ]
     },
     "metadata": {},
     "output_type": "display_data"
    },
    {
     "data": {
      "text/html": [
       "<pre>| 4       | 8.75s        | 0.867406                  |</pre>"
      ],
      "text/plain": [
       "| 4       | 8.75s        | 0.867406                  |"
      ]
     },
     "metadata": {},
     "output_type": "display_data"
    },
    {
     "data": {
      "text/html": [
       "<pre>| 5       | 10.43s       | 0.866262                  |</pre>"
      ],
      "text/plain": [
       "| 5       | 10.43s       | 0.866262                  |"
      ]
     },
     "metadata": {},
     "output_type": "display_data"
    },
    {
     "data": {
      "text/html": [
       "<pre>| 6       | 12.04s       | 0.865504                  |</pre>"
      ],
      "text/plain": [
       "| 6       | 12.04s       | 0.865504                  |"
      ]
     },
     "metadata": {},
     "output_type": "display_data"
    },
    {
     "data": {
      "text/html": [
       "<pre>| 7       | 13.65s       | 0.864974                  |</pre>"
      ],
      "text/plain": [
       "| 7       | 13.65s       | 0.864974                  |"
      ]
     },
     "metadata": {},
     "output_type": "display_data"
    },
    {
     "data": {
      "text/html": [
       "<pre>| 8       | 15.30s       | 0.864588                  |</pre>"
      ],
      "text/plain": [
       "| 8       | 15.30s       | 0.864588                  |"
      ]
     },
     "metadata": {},
     "output_type": "display_data"
    },
    {
     "data": {
      "text/html": [
       "<pre>| 9       | 16.91s       | 0.864298                  |</pre>"
      ],
      "text/plain": [
       "| 9       | 16.91s       | 0.864298                  |"
      ]
     },
     "metadata": {},
     "output_type": "display_data"
    },
    {
     "data": {
      "text/html": [
       "<pre>| 10      | 18.52s       | 0.864075                  |</pre>"
      ],
      "text/plain": [
       "| 10      | 18.52s       | 0.864075                  |"
      ]
     },
     "metadata": {},
     "output_type": "display_data"
    },
    {
     "data": {
      "text/html": [
       "<pre>| 11      | 20.17s       | 0.863898                  |</pre>"
      ],
      "text/plain": [
       "| 11      | 20.17s       | 0.863898                  |"
      ]
     },
     "metadata": {},
     "output_type": "display_data"
    },
    {
     "data": {
      "text/html": [
       "<pre>| 12      | 22.02s       | 0.863756                  |</pre>"
      ],
      "text/plain": [
       "| 12      | 22.02s       | 0.863756                  |"
      ]
     },
     "metadata": {},
     "output_type": "display_data"
    },
    {
     "data": {
      "text/html": [
       "<pre>| 13      | 23.98s       | 0.863639                  |</pre>"
      ],
      "text/plain": [
       "| 13      | 23.98s       | 0.863639                  |"
      ]
     },
     "metadata": {},
     "output_type": "display_data"
    },
    {
     "data": {
      "text/html": [
       "<pre>| 14      | 25.88s       | 0.863542                  |</pre>"
      ],
      "text/plain": [
       "| 14      | 25.88s       | 0.863542                  |"
      ]
     },
     "metadata": {},
     "output_type": "display_data"
    },
    {
     "data": {
      "text/html": [
       "<pre>| 15      | 27.58s       | 0.86346                   |</pre>"
      ],
      "text/plain": [
       "| 15      | 27.58s       | 0.86346                   |"
      ]
     },
     "metadata": {},
     "output_type": "display_data"
    },
    {
     "data": {
      "text/html": [
       "<pre>| 16      | 29.31s       | 0.863391                  |</pre>"
      ],
      "text/plain": [
       "| 16      | 29.31s       | 0.863391                  |"
      ]
     },
     "metadata": {},
     "output_type": "display_data"
    },
    {
     "data": {
      "text/html": [
       "<pre>| 17      | 31.08s       | 0.863331                  |</pre>"
      ],
      "text/plain": [
       "| 17      | 31.08s       | 0.863331                  |"
      ]
     },
     "metadata": {},
     "output_type": "display_data"
    },
    {
     "data": {
      "text/html": [
       "<pre>| 18      | 32.94s       | 0.863279                  |</pre>"
      ],
      "text/plain": [
       "| 18      | 32.94s       | 0.863279                  |"
      ]
     },
     "metadata": {},
     "output_type": "display_data"
    },
    {
     "data": {
      "text/html": [
       "<pre>| 19      | 34.80s       | 0.863234                  |</pre>"
      ],
      "text/plain": [
       "| 19      | 34.80s       | 0.863234                  |"
      ]
     },
     "metadata": {},
     "output_type": "display_data"
    },
    {
     "data": {
      "text/html": [
       "<pre>| 20      | 36.53s       | 0.863194                  |</pre>"
      ],
      "text/plain": [
       "| 20      | 36.53s       | 0.863194                  |"
      ]
     },
     "metadata": {},
     "output_type": "display_data"
    },
    {
     "data": {
      "text/html": [
       "<pre>| 21      | 38.41s       | 0.86316                   |</pre>"
      ],
      "text/plain": [
       "| 21      | 38.41s       | 0.86316                   |"
      ]
     },
     "metadata": {},
     "output_type": "display_data"
    },
    {
     "data": {
      "text/html": [
       "<pre>| 22      | 40.15s       | 0.863129                  |</pre>"
      ],
      "text/plain": [
       "| 22      | 40.15s       | 0.863129                  |"
      ]
     },
     "metadata": {},
     "output_type": "display_data"
    },
    {
     "data": {
      "text/html": [
       "<pre>| 23      | 42.02s       | 0.863101                  |</pre>"
      ],
      "text/plain": [
       "| 23      | 42.02s       | 0.863101                  |"
      ]
     },
     "metadata": {},
     "output_type": "display_data"
    },
    {
     "data": {
      "text/html": [
       "<pre>| 24      | 43.88s       | 0.863076                  |</pre>"
      ],
      "text/plain": [
       "| 24      | 43.88s       | 0.863076                  |"
      ]
     },
     "metadata": {},
     "output_type": "display_data"
    },
    {
     "data": {
      "text/html": [
       "<pre>| FINAL   | 43.88s       | 0.863076                  |</pre>"
      ],
      "text/plain": [
       "| FINAL   | 43.88s       | 0.863076                  |"
      ]
     },
     "metadata": {},
     "output_type": "display_data"
    },
    {
     "data": {
      "text/html": [
       "<pre>+---------+--------------+---------------------------+</pre>"
      ],
      "text/plain": [
       "+---------+--------------+---------------------------+"
      ]
     },
     "metadata": {},
     "output_type": "display_data"
    },
    {
     "data": {
      "text/html": [
       "<pre>Optimization Complete: Iteration limit reached.</pre>"
      ],
      "text/plain": [
       "Optimization Complete: Iteration limit reached."
      ]
     },
     "metadata": {},
     "output_type": "display_data"
    },
    {
     "name": "stdout",
     "output_type": "stream",
     "text": [
      "PROGRESS: Evaluate model M0\n"
     ]
    },
    {
     "data": {
      "text/html": [
       "<pre>recommendations finished on 1000/9672 queries. users per second: 2801.18</pre>"
      ],
      "text/plain": [
       "recommendations finished on 1000/9672 queries. users per second: 2801.18"
      ]
     },
     "metadata": {},
     "output_type": "display_data"
    },
    {
     "data": {
      "text/html": [
       "<pre>recommendations finished on 2000/9672 queries. users per second: 2774.34</pre>"
      ],
      "text/plain": [
       "recommendations finished on 2000/9672 queries. users per second: 2774.34"
      ]
     },
     "metadata": {},
     "output_type": "display_data"
    },
    {
     "data": {
      "text/html": [
       "<pre>recommendations finished on 3000/9672 queries. users per second: 2614.02</pre>"
      ],
      "text/plain": [
       "recommendations finished on 3000/9672 queries. users per second: 2614.02"
      ]
     },
     "metadata": {},
     "output_type": "display_data"
    },
    {
     "data": {
      "text/html": [
       "<pre>recommendations finished on 4000/9672 queries. users per second: 2626.21</pre>"
      ],
      "text/plain": [
       "recommendations finished on 4000/9672 queries. users per second: 2626.21"
      ]
     },
     "metadata": {},
     "output_type": "display_data"
    },
    {
     "data": {
      "text/html": [
       "<pre>recommendations finished on 5000/9672 queries. users per second: 2575.76</pre>"
      ],
      "text/plain": [
       "recommendations finished on 5000/9672 queries. users per second: 2575.76"
      ]
     },
     "metadata": {},
     "output_type": "display_data"
    },
    {
     "data": {
      "text/html": [
       "<pre>recommendations finished on 6000/9672 queries. users per second: 2585.24</pre>"
      ],
      "text/plain": [
       "recommendations finished on 6000/9672 queries. users per second: 2585.24"
      ]
     },
     "metadata": {},
     "output_type": "display_data"
    },
    {
     "data": {
      "text/html": [
       "<pre>recommendations finished on 7000/9672 queries. users per second: 2593.12</pre>"
      ],
      "text/plain": [
       "recommendations finished on 7000/9672 queries. users per second: 2593.12"
      ]
     },
     "metadata": {},
     "output_type": "display_data"
    },
    {
     "data": {
      "text/html": [
       "<pre>recommendations finished on 8000/9672 queries. users per second: 2596.96</pre>"
      ],
      "text/plain": [
       "recommendations finished on 8000/9672 queries. users per second: 2596.96"
      ]
     },
     "metadata": {},
     "output_type": "display_data"
    },
    {
     "data": {
      "text/html": [
       "<pre>recommendations finished on 9000/9672 queries. users per second: 2584.24</pre>"
      ],
      "text/plain": [
       "recommendations finished on 9000/9672 queries. users per second: 2584.24"
      ]
     },
     "metadata": {},
     "output_type": "display_data"
    },
    {
     "name": "stdout",
     "output_type": "stream",
     "text": [
      "\n",
      "Precision and recall summary statistics by cutoff\n",
      "+--------+---------------------+---------------------+\n",
      "| cutoff |    mean_precision   |     mean_recall     |\n",
      "+--------+---------------------+---------------------+\n",
      "|   1    |  0.850909842845326  | 0.09514518786163217 |\n",
      "|   2    |  0.7669561621174522 | 0.16656619238664996 |\n",
      "|   3    |  0.6884477529638818 |  0.2186705950679969 |\n",
      "|   4    |  0.6212262200165414 |  0.2576342868468722 |\n",
      "|   5    |  0.5626964433416061 |  0.286541561299401  |\n",
      "|   6    |  0.5123035566583956 | 0.30841365738990595 |\n",
      "|   7    | 0.46979498995628105 |  0.3259485940567166 |\n",
      "|   8    | 0.43364867659222506 |  0.3405051034099052 |\n",
      "|   9    |  0.4025480194835036 |  0.352935924191537  |\n",
      "|   10   |  0.3759098428453264 |  0.3638289542535422 |\n",
      "+--------+---------------------+---------------------+\n",
      "[10 rows x 3 columns]\n",
      "\n",
      "\n",
      "Overall RMSE: 0.8630764116229531\n",
      "\n",
      "Per User RMSE (best)\n",
      "+-----------+---------------------+-------+\n",
      "|  user_id  |         rmse        | count |\n",
      "+-----------+---------------------+-------+\n",
      "| 422362293 | 0.17245583667340464 |   2   |\n",
      "+-----------+---------------------+-------+\n",
      "[1 rows x 3 columns]\n",
      "\n",
      "\n",
      "Per User RMSE (worst)\n",
      "+-----------+-------------------+-------+\n",
      "|  user_id  |        rmse       | count |\n",
      "+-----------+-------------------+-------+\n",
      "| 562421519 | 2.757686514550095 |   9   |\n",
      "+-----------+-------------------+-------+\n",
      "[1 rows x 3 columns]\n",
      "\n",
      "\n",
      "Per Item RMSE (best)\n",
      "+------------+---------------------+-------+\n",
      "| product_id |         rmse        | count |\n",
      "+------------+---------------------+-------+\n",
      "|  5833325   | 0.15865401680078778 |  374  |\n",
      "+------------+---------------------+-------+\n",
      "[1 rows x 3 columns]\n",
      "\n",
      "\n",
      "Per Item RMSE (worst)\n",
      "+------------+--------------------+-------+\n",
      "| product_id |        rmse        | count |\n",
      "+------------+--------------------+-------+\n",
      "|  5835153   | 2.9999521961763094 |   1   |\n",
      "+------------+--------------------+-------+\n",
      "[1 rows x 3 columns]\n",
      "\n",
      "PROGRESS: Evaluate model m1\n",
      "\n",
      "Overall RMSE: 1.0248911259261562\n",
      "\n",
      "Per User RMSE (best)\n",
      "+-----------+---------------------+-------+\n",
      "|  user_id  |         rmse        | count |\n",
      "+-----------+---------------------+-------+\n",
      "| 521199852 | 0.33296871185302734 |   1   |\n",
      "+-----------+---------------------+-------+\n",
      "[1 rows x 3 columns]\n",
      "\n",
      "\n",
      "Per User RMSE (worst)\n",
      "+-----------+-------------------+-------+\n",
      "|  user_id  |        rmse       | count |\n",
      "+-----------+-------------------+-------+\n",
      "| 475568506 | 5.932664521038532 |   1   |\n",
      "+-----------+-------------------+-------+\n",
      "[1 rows x 3 columns]\n",
      "\n",
      "\n",
      "Per Item RMSE (best)\n",
      "+------------+--------------------+-------+\n",
      "| product_id |        rmse        | count |\n",
      "+------------+--------------------+-------+\n",
      "|  5770030   | 0.6368235051631927 |   1   |\n",
      "+------------+--------------------+-------+\n",
      "[1 rows x 3 columns]\n",
      "\n",
      "\n",
      "Per Item RMSE (worst)\n",
      "+------------+-------------------+-------+\n",
      "| product_id |        rmse       | count |\n",
      "+------------+-------------------+-------+\n",
      "|  5739900   | 3.007523501291871 |   1   |\n",
      "+------------+-------------------+-------+\n",
      "[1 rows x 3 columns]\n",
      "\n"
     ]
    },
    {
     "data": {
      "text/html": [
       "<pre>Preparing data set.</pre>"
      ],
      "text/plain": [
       "Preparing data set."
      ]
     },
     "metadata": {},
     "output_type": "display_data"
    },
    {
     "data": {
      "text/html": [
       "<pre>    Data has 108626 observations with 9672 users and 14105 items.</pre>"
      ],
      "text/plain": [
       "    Data has 108626 observations with 9672 users and 14105 items."
      ]
     },
     "metadata": {},
     "output_type": "display_data"
    },
    {
     "data": {
      "text/html": [
       "<pre>    Data prepared in: 0.092467s</pre>"
      ],
      "text/plain": [
       "    Data prepared in: 0.092467s"
      ]
     },
     "metadata": {},
     "output_type": "display_data"
    },
    {
     "data": {
      "text/html": [
       "<pre>Training ranking_factorization_recommender for recommendations.</pre>"
      ],
      "text/plain": [
       "Training ranking_factorization_recommender for recommendations."
      ]
     },
     "metadata": {},
     "output_type": "display_data"
    },
    {
     "data": {
      "text/html": [
       "<pre>+------------------------------+--------------------------------------------------+----------+</pre>"
      ],
      "text/plain": [
       "+------------------------------+--------------------------------------------------+----------+"
      ]
     },
     "metadata": {},
     "output_type": "display_data"
    },
    {
     "data": {
      "text/html": [
       "<pre>| Parameter                    | Description                                      | Value    |</pre>"
      ],
      "text/plain": [
       "| Parameter                    | Description                                      | Value    |"
      ]
     },
     "metadata": {},
     "output_type": "display_data"
    },
    {
     "data": {
      "text/html": [
       "<pre>+------------------------------+--------------------------------------------------+----------+</pre>"
      ],
      "text/plain": [
       "+------------------------------+--------------------------------------------------+----------+"
      ]
     },
     "metadata": {},
     "output_type": "display_data"
    },
    {
     "data": {
      "text/html": [
       "<pre>| num_factors                  | Factor Dimension                                 | 130      |</pre>"
      ],
      "text/plain": [
       "| num_factors                  | Factor Dimension                                 | 130      |"
      ]
     },
     "metadata": {},
     "output_type": "display_data"
    },
    {
     "data": {
      "text/html": [
       "<pre>| regularization               | L2 Regularization on Factors                     | 1e-09    |</pre>"
      ],
      "text/plain": [
       "| regularization               | L2 Regularization on Factors                     | 1e-09    |"
      ]
     },
     "metadata": {},
     "output_type": "display_data"
    },
    {
     "data": {
      "text/html": [
       "<pre>| max_iterations               | Maximum Number of Iterations                     | 25       |</pre>"
      ],
      "text/plain": [
       "| max_iterations               | Maximum Number of Iterations                     | 25       |"
      ]
     },
     "metadata": {},
     "output_type": "display_data"
    },
    {
     "data": {
      "text/html": [
       "<pre>| solver                       | Solver used for training                         | ials     |</pre>"
      ],
      "text/plain": [
       "| solver                       | Solver used for training                         | ials     |"
      ]
     },
     "metadata": {},
     "output_type": "display_data"
    },
    {
     "data": {
      "text/html": [
       "<pre>+------------------------------+--------------------------------------------------+----------+</pre>"
      ],
      "text/plain": [
       "+------------------------------+--------------------------------------------------+----------+"
      ]
     },
     "metadata": {},
     "output_type": "display_data"
    },
    {
     "data": {
      "text/html": [
       "<pre>+---------+--------------+---------------------------+</pre>"
      ],
      "text/plain": [
       "+---------+--------------+---------------------------+"
      ]
     },
     "metadata": {},
     "output_type": "display_data"
    },
    {
     "data": {
      "text/html": [
       "<pre>| Iter.   | Elapsed time | Estimated Objective Value |</pre>"
      ],
      "text/plain": [
       "| Iter.   | Elapsed time | Estimated Objective Value |"
      ]
     },
     "metadata": {},
     "output_type": "display_data"
    },
    {
     "data": {
      "text/html": [
       "<pre>+---------+--------------+---------------------------+</pre>"
      ],
      "text/plain": [
       "+---------+--------------+---------------------------+"
      ]
     },
     "metadata": {},
     "output_type": "display_data"
    },
    {
     "data": {
      "text/html": [
       "<pre>| Initial | 100us        | NA                        |</pre>"
      ],
      "text/plain": [
       "| Initial | 100us        | NA                        |"
      ]
     },
     "metadata": {},
     "output_type": "display_data"
    },
    {
     "data": {
      "text/html": [
       "<pre>+---------+--------------+---------------------------+</pre>"
      ],
      "text/plain": [
       "+---------+--------------+---------------------------+"
      ]
     },
     "metadata": {},
     "output_type": "display_data"
    },
    {
     "data": {
      "text/html": [
       "<pre>| 0       | 2.71s        | 0.93199                   |</pre>"
      ],
      "text/plain": [
       "| 0       | 2.71s        | 0.93199                   |"
      ]
     },
     "metadata": {},
     "output_type": "display_data"
    },
    {
     "data": {
      "text/html": [
       "<pre>| 1       | 5.22s        | 0.865389                  |</pre>"
      ],
      "text/plain": [
       "| 1       | 5.22s        | 0.865389                  |"
      ]
     },
     "metadata": {},
     "output_type": "display_data"
    },
    {
     "data": {
      "text/html": [
       "<pre>| 2       | 7.62s        | 0.855038                  |</pre>"
      ],
      "text/plain": [
       "| 2       | 7.62s        | 0.855038                  |"
      ]
     },
     "metadata": {},
     "output_type": "display_data"
    },
    {
     "data": {
      "text/html": [
       "<pre>| 3       | 10.17s       | 0.851365                  |</pre>"
      ],
      "text/plain": [
       "| 3       | 10.17s       | 0.851365                  |"
      ]
     },
     "metadata": {},
     "output_type": "display_data"
    },
    {
     "data": {
      "text/html": [
       "<pre>| 4       | 12.59s       | 0.849464                  |</pre>"
      ],
      "text/plain": [
       "| 4       | 12.59s       | 0.849464                  |"
      ]
     },
     "metadata": {},
     "output_type": "display_data"
    },
    {
     "data": {
      "text/html": [
       "<pre>| 5       | 14.97s       | 0.848301                  |</pre>"
      ],
      "text/plain": [
       "| 5       | 14.97s       | 0.848301                  |"
      ]
     },
     "metadata": {},
     "output_type": "display_data"
    },
    {
     "data": {
      "text/html": [
       "<pre>| 6       | 17.48s       | 0.847526                  |</pre>"
      ],
      "text/plain": [
       "| 6       | 17.48s       | 0.847526                  |"
      ]
     },
     "metadata": {},
     "output_type": "display_data"
    },
    {
     "data": {
      "text/html": [
       "<pre>| 7       | 19.89s       | 0.846978                  |</pre>"
      ],
      "text/plain": [
       "| 7       | 19.89s       | 0.846978                  |"
      ]
     },
     "metadata": {},
     "output_type": "display_data"
    },
    {
     "data": {
      "text/html": [
       "<pre>| 8       | 22.21s       | 0.846575                  |</pre>"
      ],
      "text/plain": [
       "| 8       | 22.21s       | 0.846575                  |"
      ]
     },
     "metadata": {},
     "output_type": "display_data"
    },
    {
     "data": {
      "text/html": [
       "<pre>| 9       | 24.56s       | 0.846268                  |</pre>"
      ],
      "text/plain": [
       "| 9       | 24.56s       | 0.846268                  |"
      ]
     },
     "metadata": {},
     "output_type": "display_data"
    },
    {
     "data": {
      "text/html": [
       "<pre>| 10      | 26.92s       | 0.846029                  |</pre>"
      ],
      "text/plain": [
       "| 10      | 26.92s       | 0.846029                  |"
      ]
     },
     "metadata": {},
     "output_type": "display_data"
    },
    {
     "data": {
      "text/html": [
       "<pre>| 11      | 29.21s       | 0.845839                  |</pre>"
      ],
      "text/plain": [
       "| 11      | 29.21s       | 0.845839                  |"
      ]
     },
     "metadata": {},
     "output_type": "display_data"
    },
    {
     "data": {
      "text/html": [
       "<pre>| 12      | 31.56s       | 0.845686                  |</pre>"
      ],
      "text/plain": [
       "| 12      | 31.56s       | 0.845686                  |"
      ]
     },
     "metadata": {},
     "output_type": "display_data"
    },
    {
     "data": {
      "text/html": [
       "<pre>| 13      | 34.18s       | 0.84556                   |</pre>"
      ],
      "text/plain": [
       "| 13      | 34.18s       | 0.84556                   |"
      ]
     },
     "metadata": {},
     "output_type": "display_data"
    },
    {
     "data": {
      "text/html": [
       "<pre>| 14      | 36.73s       | 0.845455                  |</pre>"
      ],
      "text/plain": [
       "| 14      | 36.73s       | 0.845455                  |"
      ]
     },
     "metadata": {},
     "output_type": "display_data"
    },
    {
     "data": {
      "text/html": [
       "<pre>| 15      | 39.09s       | 0.845368                  |</pre>"
      ],
      "text/plain": [
       "| 15      | 39.09s       | 0.845368                  |"
      ]
     },
     "metadata": {},
     "output_type": "display_data"
    },
    {
     "data": {
      "text/html": [
       "<pre>| 16      | 41.53s       | 0.845293                  |</pre>"
      ],
      "text/plain": [
       "| 16      | 41.53s       | 0.845293                  |"
      ]
     },
     "metadata": {},
     "output_type": "display_data"
    },
    {
     "data": {
      "text/html": [
       "<pre>| 17      | 43.98s       | 0.84523                   |</pre>"
      ],
      "text/plain": [
       "| 17      | 43.98s       | 0.84523                   |"
      ]
     },
     "metadata": {},
     "output_type": "display_data"
    },
    {
     "data": {
      "text/html": [
       "<pre>| 18      | 46.49s       | 0.845176                  |</pre>"
      ],
      "text/plain": [
       "| 18      | 46.49s       | 0.845176                  |"
      ]
     },
     "metadata": {},
     "output_type": "display_data"
    },
    {
     "data": {
      "text/html": [
       "<pre>| 19      | 49.11s       | 0.845129                  |</pre>"
      ],
      "text/plain": [
       "| 19      | 49.11s       | 0.845129                  |"
      ]
     },
     "metadata": {},
     "output_type": "display_data"
    },
    {
     "data": {
      "text/html": [
       "<pre>| 20      | 51.59s       | 0.845089                  |</pre>"
      ],
      "text/plain": [
       "| 20      | 51.59s       | 0.845089                  |"
      ]
     },
     "metadata": {},
     "output_type": "display_data"
    },
    {
     "data": {
      "text/html": [
       "<pre>| 21      | 54.01s       | 0.845053                  |</pre>"
      ],
      "text/plain": [
       "| 21      | 54.01s       | 0.845053                  |"
      ]
     },
     "metadata": {},
     "output_type": "display_data"
    },
    {
     "data": {
      "text/html": [
       "<pre>| 22      | 56.56s       | 0.845022                  |</pre>"
      ],
      "text/plain": [
       "| 22      | 56.56s       | 0.845022                  |"
      ]
     },
     "metadata": {},
     "output_type": "display_data"
    },
    {
     "data": {
      "text/html": [
       "<pre>| 23      | 59.06s       | 0.844995                  |</pre>"
      ],
      "text/plain": [
       "| 23      | 59.06s       | 0.844995                  |"
      ]
     },
     "metadata": {},
     "output_type": "display_data"
    },
    {
     "data": {
      "text/html": [
       "<pre>| 24      | 1m 1s        | 0.84497                   |</pre>"
      ],
      "text/plain": [
       "| 24      | 1m 1s        | 0.84497                   |"
      ]
     },
     "metadata": {},
     "output_type": "display_data"
    },
    {
     "data": {
      "text/html": [
       "<pre>| FINAL   | 1m 1s        | 0.84497                   |</pre>"
      ],
      "text/plain": [
       "| FINAL   | 1m 1s        | 0.84497                   |"
      ]
     },
     "metadata": {},
     "output_type": "display_data"
    },
    {
     "data": {
      "text/html": [
       "<pre>+---------+--------------+---------------------------+</pre>"
      ],
      "text/plain": [
       "+---------+--------------+---------------------------+"
      ]
     },
     "metadata": {},
     "output_type": "display_data"
    },
    {
     "data": {
      "text/html": [
       "<pre>Optimization Complete: Iteration limit reached.</pre>"
      ],
      "text/plain": [
       "Optimization Complete: Iteration limit reached."
      ]
     },
     "metadata": {},
     "output_type": "display_data"
    },
    {
     "name": "stdout",
     "output_type": "stream",
     "text": [
      "PROGRESS: Evaluate model M0\n"
     ]
    },
    {
     "data": {
      "text/html": [
       "<pre>recommendations finished on 1000/9672 queries. users per second: 1974.39</pre>"
      ],
      "text/plain": [
       "recommendations finished on 1000/9672 queries. users per second: 1974.39"
      ]
     },
     "metadata": {},
     "output_type": "display_data"
    },
    {
     "data": {
      "text/html": [
       "<pre>recommendations finished on 2000/9672 queries. users per second: 2104.38</pre>"
      ],
      "text/plain": [
       "recommendations finished on 2000/9672 queries. users per second: 2104.38"
      ]
     },
     "metadata": {},
     "output_type": "display_data"
    },
    {
     "data": {
      "text/html": [
       "<pre>recommendations finished on 3000/9672 queries. users per second: 2031.96</pre>"
      ],
      "text/plain": [
       "recommendations finished on 3000/9672 queries. users per second: 2031.96"
      ]
     },
     "metadata": {},
     "output_type": "display_data"
    },
    {
     "data": {
      "text/html": [
       "<pre>recommendations finished on 4000/9672 queries. users per second: 2104.62</pre>"
      ],
      "text/plain": [
       "recommendations finished on 4000/9672 queries. users per second: 2104.62"
      ]
     },
     "metadata": {},
     "output_type": "display_data"
    },
    {
     "data": {
      "text/html": [
       "<pre>recommendations finished on 5000/9672 queries. users per second: 2140.02</pre>"
      ],
      "text/plain": [
       "recommendations finished on 5000/9672 queries. users per second: 2140.02"
      ]
     },
     "metadata": {},
     "output_type": "display_data"
    },
    {
     "data": {
      "text/html": [
       "<pre>recommendations finished on 6000/9672 queries. users per second: 2190.59</pre>"
      ],
      "text/plain": [
       "recommendations finished on 6000/9672 queries. users per second: 2190.59"
      ]
     },
     "metadata": {},
     "output_type": "display_data"
    },
    {
     "data": {
      "text/html": [
       "<pre>recommendations finished on 7000/9672 queries. users per second: 2238.24</pre>"
      ],
      "text/plain": [
       "recommendations finished on 7000/9672 queries. users per second: 2238.24"
      ]
     },
     "metadata": {},
     "output_type": "display_data"
    },
    {
     "data": {
      "text/html": [
       "<pre>recommendations finished on 8000/9672 queries. users per second: 2269.59</pre>"
      ],
      "text/plain": [
       "recommendations finished on 8000/9672 queries. users per second: 2269.59"
      ]
     },
     "metadata": {},
     "output_type": "display_data"
    },
    {
     "data": {
      "text/html": [
       "<pre>recommendations finished on 9000/9672 queries. users per second: 2294.17</pre>"
      ],
      "text/plain": [
       "recommendations finished on 9000/9672 queries. users per second: 2294.17"
      ]
     },
     "metadata": {},
     "output_type": "display_data"
    },
    {
     "name": "stdout",
     "output_type": "stream",
     "text": [
      "\n",
      "Precision and recall summary statistics by cutoff\n",
      "+--------+---------------------+---------------------+\n",
      "| cutoff |    mean_precision   |     mean_recall     |\n",
      "+--------+---------------------+---------------------+\n",
      "|   1    |  0.8766542597187759 | 0.09853614104151673 |\n",
      "|   2    |  0.8006617038875096 | 0.17528331363894448 |\n",
      "|   3    |  0.728184449958644  | 0.23305929364146072 |\n",
      "|   4    |  0.6624276261373027 |  0.2766769389849912 |\n",
      "|   5    |  0.6019851116625291 | 0.30809417510453757 |\n",
      "|   6    |  0.5511958919216983 | 0.33320724179449707 |\n",
      "|   7    |  0.5078281933120654 |  0.3535180142385451 |\n",
      "|   8    | 0.46962882547559964 |  0.3695304503901086 |\n",
      "|   9    |  0.4369198603069565 |  0.3833438175297397 |\n",
      "|   10   | 0.40852977667493806 | 0.39545520081973135 |\n",
      "+--------+---------------------+---------------------+\n",
      "[10 rows x 3 columns]\n",
      "\n",
      "\n",
      "Overall RMSE: 0.8449702268695719\n",
      "\n",
      "Per User RMSE (best)\n",
      "+-----------+--------------------+-------+\n",
      "|  user_id  |        rmse        | count |\n",
      "+-----------+--------------------+-------+\n",
      "| 422362293 | 0.1545149100779722 |   2   |\n",
      "+-----------+--------------------+-------+\n",
      "[1 rows x 3 columns]\n",
      "\n",
      "\n",
      "Per User RMSE (worst)\n",
      "+-----------+--------------------+-------+\n",
      "|  user_id  |        rmse        | count |\n",
      "+-----------+--------------------+-------+\n",
      "| 562421519 | 2.7271758718745907 |   9   |\n",
      "+-----------+--------------------+-------+\n",
      "[1 rows x 3 columns]\n",
      "\n",
      "\n",
      "Per Item RMSE (best)\n",
      "+------------+--------------------+-------+\n",
      "| product_id |        rmse        | count |\n",
      "+------------+--------------------+-------+\n",
      "|  5833325   | 0.1546514818121248 |  374  |\n",
      "+------------+--------------------+-------+\n",
      "[1 rows x 3 columns]\n",
      "\n",
      "\n",
      "Per Item RMSE (worst)\n",
      "+------------+-------------------+-------+\n",
      "| product_id |        rmse       | count |\n",
      "+------------+-------------------+-------+\n",
      "|  5835153   | 2.999929241479549 |   1   |\n",
      "+------------+-------------------+-------+\n",
      "[1 rows x 3 columns]\n",
      "\n",
      "PROGRESS: Evaluate model m1\n",
      "\n",
      "Overall RMSE: 1.0248398052292538\n",
      "\n",
      "Per User RMSE (best)\n",
      "+-----------+---------------------+-------+\n",
      "|  user_id  |         rmse        | count |\n",
      "+-----------+---------------------+-------+\n",
      "| 521199852 | 0.35599035024642944 |   1   |\n",
      "+-----------+---------------------+-------+\n",
      "[1 rows x 3 columns]\n",
      "\n",
      "\n",
      "Per User RMSE (worst)\n",
      "+-----------+-------------------+-------+\n",
      "|  user_id  |        rmse       | count |\n",
      "+-----------+-------------------+-------+\n",
      "| 475568506 | 5.941301271319389 |   1   |\n",
      "+-----------+-------------------+-------+\n",
      "[1 rows x 3 columns]\n",
      "\n",
      "\n",
      "Per Item RMSE (best)\n",
      "+------------+--------------------+-------+\n",
      "| product_id |        rmse        | count |\n",
      "+------------+--------------------+-------+\n",
      "|  5770030   | 0.5891869366168976 |   1   |\n",
      "+------------+--------------------+-------+\n",
      "[1 rows x 3 columns]\n",
      "\n",
      "\n",
      "Per Item RMSE (worst)\n",
      "+------------+--------------------+-------+\n",
      "| product_id |        rmse        | count |\n",
      "+------------+--------------------+-------+\n",
      "|  5739900   | 3.0034113947767764 |   1   |\n",
      "+------------+--------------------+-------+\n",
      "[1 rows x 3 columns]\n",
      "\n"
     ]
    },
    {
     "data": {
      "text/html": [
       "<pre>Preparing data set.</pre>"
      ],
      "text/plain": [
       "Preparing data set."
      ]
     },
     "metadata": {},
     "output_type": "display_data"
    },
    {
     "data": {
      "text/html": [
       "<pre>    Data has 108626 observations with 9672 users and 14105 items.</pre>"
      ],
      "text/plain": [
       "    Data has 108626 observations with 9672 users and 14105 items."
      ]
     },
     "metadata": {},
     "output_type": "display_data"
    },
    {
     "data": {
      "text/html": [
       "<pre>    Data prepared in: 0.102919s</pre>"
      ],
      "text/plain": [
       "    Data prepared in: 0.102919s"
      ]
     },
     "metadata": {},
     "output_type": "display_data"
    },
    {
     "data": {
      "text/html": [
       "<pre>Training ranking_factorization_recommender for recommendations.</pre>"
      ],
      "text/plain": [
       "Training ranking_factorization_recommender for recommendations."
      ]
     },
     "metadata": {},
     "output_type": "display_data"
    },
    {
     "data": {
      "text/html": [
       "<pre>+------------------------------+--------------------------------------------------+----------+</pre>"
      ],
      "text/plain": [
       "+------------------------------+--------------------------------------------------+----------+"
      ]
     },
     "metadata": {},
     "output_type": "display_data"
    },
    {
     "data": {
      "text/html": [
       "<pre>| Parameter                    | Description                                      | Value    |</pre>"
      ],
      "text/plain": [
       "| Parameter                    | Description                                      | Value    |"
      ]
     },
     "metadata": {},
     "output_type": "display_data"
    },
    {
     "data": {
      "text/html": [
       "<pre>+------------------------------+--------------------------------------------------+----------+</pre>"
      ],
      "text/plain": [
       "+------------------------------+--------------------------------------------------+----------+"
      ]
     },
     "metadata": {},
     "output_type": "display_data"
    },
    {
     "data": {
      "text/html": [
       "<pre>| num_factors                  | Factor Dimension                                 | 150      |</pre>"
      ],
      "text/plain": [
       "| num_factors                  | Factor Dimension                                 | 150      |"
      ]
     },
     "metadata": {},
     "output_type": "display_data"
    },
    {
     "data": {
      "text/html": [
       "<pre>| regularization               | L2 Regularization on Factors                     | 1e-09    |</pre>"
      ],
      "text/plain": [
       "| regularization               | L2 Regularization on Factors                     | 1e-09    |"
      ]
     },
     "metadata": {},
     "output_type": "display_data"
    },
    {
     "data": {
      "text/html": [
       "<pre>| max_iterations               | Maximum Number of Iterations                     | 25       |</pre>"
      ],
      "text/plain": [
       "| max_iterations               | Maximum Number of Iterations                     | 25       |"
      ]
     },
     "metadata": {},
     "output_type": "display_data"
    },
    {
     "data": {
      "text/html": [
       "<pre>| solver                       | Solver used for training                         | ials     |</pre>"
      ],
      "text/plain": [
       "| solver                       | Solver used for training                         | ials     |"
      ]
     },
     "metadata": {},
     "output_type": "display_data"
    },
    {
     "data": {
      "text/html": [
       "<pre>+------------------------------+--------------------------------------------------+----------+</pre>"
      ],
      "text/plain": [
       "+------------------------------+--------------------------------------------------+----------+"
      ]
     },
     "metadata": {},
     "output_type": "display_data"
    },
    {
     "data": {
      "text/html": [
       "<pre>+---------+--------------+---------------------------+</pre>"
      ],
      "text/plain": [
       "+---------+--------------+---------------------------+"
      ]
     },
     "metadata": {},
     "output_type": "display_data"
    },
    {
     "data": {
      "text/html": [
       "<pre>| Iter.   | Elapsed time | Estimated Objective Value |</pre>"
      ],
      "text/plain": [
       "| Iter.   | Elapsed time | Estimated Objective Value |"
      ]
     },
     "metadata": {},
     "output_type": "display_data"
    },
    {
     "data": {
      "text/html": [
       "<pre>+---------+--------------+---------------------------+</pre>"
      ],
      "text/plain": [
       "+---------+--------------+---------------------------+"
      ]
     },
     "metadata": {},
     "output_type": "display_data"
    },
    {
     "data": {
      "text/html": [
       "<pre>| Initial | 112us        | NA                        |</pre>"
      ],
      "text/plain": [
       "| Initial | 112us        | NA                        |"
      ]
     },
     "metadata": {},
     "output_type": "display_data"
    },
    {
     "data": {
      "text/html": [
       "<pre>+---------+--------------+---------------------------+</pre>"
      ],
      "text/plain": [
       "+---------+--------------+---------------------------+"
      ]
     },
     "metadata": {},
     "output_type": "display_data"
    },
    {
     "data": {
      "text/html": [
       "<pre>| 0       | 3.55s        | 0.919627                  |</pre>"
      ],
      "text/plain": [
       "| 0       | 3.55s        | 0.919627                  |"
      ]
     },
     "metadata": {},
     "output_type": "display_data"
    },
    {
     "data": {
      "text/html": [
       "<pre>| 1       | 6.84s        | 0.84932                   |</pre>"
      ],
      "text/plain": [
       "| 1       | 6.84s        | 0.84932                   |"
      ]
     },
     "metadata": {},
     "output_type": "display_data"
    },
    {
     "data": {
      "text/html": [
       "<pre>| 2       | 10.13s       | 0.838711                  |</pre>"
      ],
      "text/plain": [
       "| 2       | 10.13s       | 0.838711                  |"
      ]
     },
     "metadata": {},
     "output_type": "display_data"
    },
    {
     "data": {
      "text/html": [
       "<pre>| 3       | 13.30s       | 0.834853                  |</pre>"
      ],
      "text/plain": [
       "| 3       | 13.30s       | 0.834853                  |"
      ]
     },
     "metadata": {},
     "output_type": "display_data"
    },
    {
     "data": {
      "text/html": [
       "<pre>| 4       | 16.60s       | 0.832836                  |</pre>"
      ],
      "text/plain": [
       "| 4       | 16.60s       | 0.832836                  |"
      ]
     },
     "metadata": {},
     "output_type": "display_data"
    },
    {
     "data": {
      "text/html": [
       "<pre>| 5       | 19.98s       | 0.831604                  |</pre>"
      ],
      "text/plain": [
       "| 5       | 19.98s       | 0.831604                  |"
      ]
     },
     "metadata": {},
     "output_type": "display_data"
    },
    {
     "data": {
      "text/html": [
       "<pre>| 6       | 23.37s       | 0.830787                  |</pre>"
      ],
      "text/plain": [
       "| 6       | 23.37s       | 0.830787                  |"
      ]
     },
     "metadata": {},
     "output_type": "display_data"
    },
    {
     "data": {
      "text/html": [
       "<pre>| 7       | 26.97s       | 0.830214                  |</pre>"
      ],
      "text/plain": [
       "| 7       | 26.97s       | 0.830214                  |"
      ]
     },
     "metadata": {},
     "output_type": "display_data"
    },
    {
     "data": {
      "text/html": [
       "<pre>| 8       | 30.44s       | 0.829798                  |</pre>"
      ],
      "text/plain": [
       "| 8       | 30.44s       | 0.829798                  |"
      ]
     },
     "metadata": {},
     "output_type": "display_data"
    }
   ],
   "source": [
    "ials_k, ials_train_k, ials_val_k = test_k_vals() "
   ]
  },
  {
   "cell_type": "code",
   "execution_count": null,
   "metadata": {},
   "outputs": [],
   "source": [
    "\n",
    "plt.plot(ials_k, ials_train_k, color= 'r' ,label='train rmse' )\n",
    "plt.plot(ials_k,  ials_val_k, color= 'b',label='validation rmse' )\n",
    "plt.xlabel('number of factors ')\n",
    "plt.ylabel('RMSE')\n",
    "plt.title('Matrix Factorization(ials): rmse vs number of features')\n",
    "plt.legend()\n",
    "plt.show()"
   ]
  },
  {
   "cell_type": "code",
   "execution_count": null,
   "metadata": {},
   "outputs": [],
   "source": [
    "\n",
    "num_scales = np.arange(1,200,2)\n",
    "def test_scale_vals():\n",
    "    scale_list = []\n",
    "    train = []\n",
    "    val = []\n",
    "    for loc, scale in enumerate(num_scales):\n",
    "        model = tc.ranking_factorization_recommender.create(train_val,item_id = item_id, target = target,\\\n",
    "                                                                   user_id = user_id, binary_target = False,\\\n",
    "                                                                   solver = 'ials',num_factors = 70,\\\n",
    "                                                                   ials_confidence_scaling_factor = scale)\n",
    "        rmse_train = tc.recommender.util.compare_models(train_val, [model],exclude_known_for_precision_recall=False)\n",
    "        rmse_train = rmse_train[0]['rmse_overall']\n",
    "        scale_list.append(scale)\n",
    "        train.append(rmse_train)\n",
    "        rmse_val = tc.recommender.util.compare_models(validation, [model], model_names=[\"m1\"], metric='rmse')\n",
    "        rmse_val = rmse_val[0]['rmse_overall']\n",
    "        val.append(rmse_val)\n",
    "    return scale_list,train,val"
   ]
  },
  {
   "cell_type": "code",
   "execution_count": null,
   "metadata": {},
   "outputs": [],
   "source": [
    "ials_scale, ials_train_scale, ials_val_scale = test_scale_vals() "
   ]
  },
  {
   "cell_type": "code",
   "execution_count": null,
   "metadata": {},
   "outputs": [],
   "source": [
    "\n",
    "plt.plot(ials_scale, ials_train_scale, color= 'r' ,label='train rmse' )\n",
    "plt.plot(ials_scale,  ials_val_scale, color= 'b',label='validation rmse' )\n",
    "plt.xlabel('ials_confidence_scaling_factor ')\n",
    "plt.ylabel('RMSE')\n",
    "plt.title('Matrix Factorization(iALS): rmse vs confidence scaling factor')\n",
    "plt.legend()\n",
    "plt.show()"
   ]
  },
  {
   "cell_type": "code",
   "execution_count": null,
   "metadata": {},
   "outputs": [],
   "source": [
    "\n",
    "reg = np.logspace(-10, -1, 10)\n",
    "def test_reg_vals():\n",
    "    reg_list = []\n",
    "    train = []\n",
    "    val = []\n",
    "    for loc, R in enumerate(reg):\n",
    "        model = tc.ranking_factorization_recommender.create(train_val,item_id = item_id, target = target,\\\n",
    "                                                                   user_id = user_id, binary_target = False,\\\n",
    "                                                                   solver = 'ials', num_factors = 70, regularization = R,\\\n",
    "                                                                   ials_confidence_scaling_factor = 50 )\n",
    "        rmse_train = tc.recommender.util.compare_models(train_val, [model],exclude_known_for_precision_recall=False)\n",
    "        rmse_train = rmse_train[0]['rmse_overall']\n",
    "        reg_list.append(np.log10(R))\n",
    "        train.append(rmse_train)\n",
    "        rmse_val = tc.recommender.util.compare_models(validation, [model], model_names=[\"m1\"], metric='rmse')\n",
    "        rmse_val = rmse_val[0]['rmse_overall']\n",
    "        val.append(rmse_val)\n",
    "    return reg_list,train,val"
   ]
  },
  {
   "cell_type": "code",
   "execution_count": null,
   "metadata": {},
   "outputs": [],
   "source": [
    "ials_reg, ials_train_reg, ials_val_reg = test_reg_vals()"
   ]
  },
  {
   "cell_type": "code",
   "execution_count": null,
   "metadata": {},
   "outputs": [],
   "source": [
    "\n",
    "plt.plot(ials_reg, ials_train_reg, color= 'r' ,label='train rmse' )\n",
    "plt.plot(ials_reg,  ials_val_reg, color= 'b',label='validation rmse' )\n",
    "plt.xlabel('regularization(log scale)')\n",
    "plt.ylabel('RMSE')\n",
    "plt.title('Matrix Factorization(iALS): rmse vs regularization')\n",
    "plt.legend()\n",
    "plt.show()"
   ]
  },
  {
   "cell_type": "code",
   "execution_count": null,
   "metadata": {},
   "outputs": [],
   "source": [
    "\n",
    "maxIter = np.arange(10,100, 10)\n",
    "def test_iter_vals():\n",
    "    maxIter_list = []\n",
    "    train = []\n",
    "    val = []\n",
    "    for loc, iter_num in enumerate(maxIter):\n",
    "        model = tc.ranking_factorization_recommender.create(train_val,item_id = item_id, target = target,\\\n",
    "                                                            user_id = user_id, binary_target = False,\\\n",
    "                                                            solver = 'ials', num_factors = 70, regularization = 1e-4,\\\n",
    "                                                            ials_confidence_scaling_factor = 50 ,\\\n",
    "                                                            max_iterations = iter_num\n",
    "                                                           )\n",
    "        rmse_train = tc.recommender.util.compare_models(train_val, [model],exclude_known_for_precision_recall=False)\n",
    "        rmse_train = rmse_train[0]['rmse_overall']\n",
    "        maxIter_list.append(iter_num)\n",
    "        train.append(rmse_train)\n",
    "        rmse_val = tc.recommender.util.compare_models(validation, [model], model_names=[\"m1\"], metric='rmse')\n",
    "        rmse_val = rmse_val[0]['rmse_overall']\n",
    "        val.append(rmse_val)\n",
    "    return maxIter_list,train,val"
   ]
  },
  {
   "cell_type": "code",
   "execution_count": null,
   "metadata": {},
   "outputs": [],
   "source": [
    "ials_iter, ials_train_iter, ials_val_iter = test_iter_vals() "
   ]
  },
  {
   "cell_type": "code",
   "execution_count": null,
   "metadata": {},
   "outputs": [],
   "source": [
    "plt.plot(ials_iter,  ials_train_iter, color= 'r',label='train rmse' )\n",
    "plt.plot(ials_iter,  ials_val_iter, color= 'b',label='validation rmse' )\n",
    "plt.xlabel('number of Max Iterations')\n",
    "plt.ylabel('RMSE')\n",
    "plt.title('Matrix Factorization(ials): rmse vs MaxIter')\n",
    "plt.legend()\n",
    "plt.show()"
   ]
  },
  {
   "cell_type": "code",
   "execution_count": null,
   "metadata": {},
   "outputs": [],
   "source": [
    "IALS_model = tc.ranking_factorization_recommender.create(train_data,item_id = item_id, target = target,\\\n",
    "                                                            user_id = user_id, binary_target = False,\\\n",
    "                                                            solver = 'ials', num_factors = 70,\\\n",
    "                                                            regularization = 1e-4,\\\n",
    "                                                            ials_confidence_scaling_factor = 50 ,\\\n",
    "                                                            max_iterations = 30)"
   ]
  },
  {
   "cell_type": "code",
   "execution_count": null,
   "metadata": {},
   "outputs": [],
   "source": []
  },
  {
   "cell_type": "code",
   "execution_count": null,
   "metadata": {},
   "outputs": [],
   "source": [
    "IALS_evaluation = IALS_model.evaluate_precision_recall(test,cutoffs = list(range(1, 11)))"
   ]
  },
  {
   "cell_type": "code",
   "execution_count": null,
   "metadata": {},
   "outputs": [],
   "source": [
    "col_names =  ['cutoff', 'precision', 'recall'] \n",
    "IALS_results  = pd.DataFrame(columns = col_names)\n",
    "IALS_results['cutoff'] = np.array(IALS_evaluation['precision_recall_overall']['cutoff'])\n",
    "IALS_results['precision'] = np.array(IALS_evaluation['precision_recall_overall']['precision'])\n",
    "IALS_results['recall'] = np.array(IALS_evaluation['precision_recall_overall']['recall'])"
   ]
  },
  {
   "cell_type": "code",
   "execution_count": null,
   "metadata": {},
   "outputs": [],
   "source": [
    "plt.plot(IALS_results['cutoff'],IALS_results['precision'] )\n",
    "plt.title('precision_at_cutoff_k - Matrix Factorization(iALS)')\n",
    "plt.xlabel('k')\n",
    "plt.ylabel('precision_at_cutoff_k')\n",
    "plt.show()"
   ]
  }
 ],
 "metadata": {
  "kernelspec": {
   "display_name": "Python 3",
   "language": "python",
   "name": "python3"
  },
  "language_info": {
   "codemirror_mode": {
    "name": "ipython",
    "version": 3
   },
   "file_extension": ".py",
   "mimetype": "text/x-python",
   "name": "python",
   "nbconvert_exporter": "python",
   "pygments_lexer": "ipython3",
   "version": "3.6.9"
  }
 },
 "nbformat": 4,
 "nbformat_minor": 4
}
